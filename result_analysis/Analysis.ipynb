{
 "cells": [
  {
   "cell_type": "code",
   "execution_count": 4,
   "metadata": {},
   "outputs": [],
   "source": [
    "import networkx as nx\n",
    "import matplotlib.pyplot as plt\n",
    "import tarfile\n",
    "import pandas as pd\n",
    "import numpy as np\n",
    "import igraph as ig\n",
    "import torch\n",
    "import numpy as np\n",
    "import dgl\n",
    "import tqdm\n",
    "import sklearn.metrics"
   ]
  },
  {
   "cell_type": "code",
   "execution_count": 38,
   "metadata": {},
   "outputs": [],
   "source": [
    "df = pd.read_csv(\"pokec-df-processed2.csv\", index_col=0)"
   ]
  },
  {
   "cell_type": "code",
   "execution_count": 6,
   "metadata": {},
   "outputs": [],
   "source": [
    "edges = pd.read_csv(\"pokec-edges-processed2.csv\", index_col=0)"
   ]
  },
  {
   "cell_type": "code",
   "execution_count": 39,
   "metadata": {},
   "outputs": [],
   "source": [
    "# фичи и возраст\n",
    "node_features = df.loc[:, df.columns != 'AGE'].values\n",
    "node_labels = df.loc[:, df.columns == 'AGE'].values.flatten()\n",
    "node_features = torch.FloatTensor(node_features)\n",
    "node_labels = torch.LongTensor(node_labels)"
   ]
  },
  {
   "cell_type": "code",
   "execution_count": 40,
   "metadata": {},
   "outputs": [],
   "source": [
    "num_features = node_features.shape[1]\n",
    "num_classes = (node_labels.max() + 1).item()"
   ]
  },
  {
   "cell_type": "code",
   "execution_count": 41,
   "metadata": {},
   "outputs": [],
   "source": [
    "graph = dgl.graph((edges.values[:, 0], edges.values[:, 1]))"
   ]
  },
  {
   "cell_type": "code",
   "execution_count": 7,
   "metadata": {},
   "outputs": [],
   "source": [
    "with open('train2.txt', 'r') as file:\n",
    "    train_nids = [int(x) for x in file]\n",
    "with open('test2.txt', 'r') as file:\n",
    "    test_nids = [int(x) for x in file]"
   ]
  },
  {
   "cell_type": "code",
   "execution_count": 8,
   "metadata": {},
   "outputs": [],
   "source": [
    "import torch.nn as nn\n",
    "import torch.nn.functional as F\n",
    "import dgl.nn as dglnn\n",
    "\n",
    "class SAGE(nn.Module):\n",
    "    def __init__(self, in_feats, n_hidden, n_classes, n_layers):\n",
    "        super().__init__()\n",
    "        self.n_layers = n_layers\n",
    "        self.n_hidden = n_hidden\n",
    "        self.n_classes = n_classes\n",
    "        self.layers = nn.ModuleList()\n",
    "        self.layers.append(dglnn.SAGEConv(in_feats, n_hidden, 'mean'))\n",
    "        for i in range(1, n_layers - 1):\n",
    "            self.layers.append(dglnn.SAGEConv(n_hidden, n_hidden, 'mean'))\n",
    "        self.layers.append(dglnn.SAGEConv(n_hidden, n_classes, 'mean'))\n",
    "        \n",
    "    def forward(self, bipartites, x):\n",
    "        for l, (layer, bipartite) in enumerate(zip(self.layers, bipartites)):\n",
    "            x = layer(bipartite, x)\n",
    "            if l != self.n_layers - 1:\n",
    "                x = F.relu(x)\n",
    "        return x"
   ]
  },
  {
   "cell_type": "code",
   "execution_count": 11,
   "metadata": {},
   "outputs": [
    {
     "data": {
      "text/plain": [
       "<All keys matched successfully>"
      ]
     },
     "execution_count": 11,
     "metadata": {},
     "output_type": "execute_result"
    }
   ],
   "source": [
    "model = SAGE(num_features, 9, num_classes, 2)\n",
    "model.load_state_dict(torch.load(\"GraphSAGE_model.pt\"))"
   ]
  },
  {
   "cell_type": "code",
   "execution_count": 12,
   "metadata": {},
   "outputs": [],
   "source": [
    "def inference(model, graph, input_features, batch_size):\n",
    "    nodes = torch.arange(graph.number_of_nodes())\n",
    "    sampler = dgl.dataloading.MultiLayerFullNeighborSampler(1)\n",
    "    dataloader = dgl.dataloading.DataLoader(\n",
    "        graph, nodes, sampler,\n",
    "        batch_size=batch_size,\n",
    "        shuffle=False,\n",
    "        drop_last=False,\n",
    "        num_workers=0)\n",
    "    \n",
    "    with torch.no_grad():\n",
    "        for l, layer in enumerate(model.layers):\n",
    "            output_features = torch.zeros(\n",
    "                graph.number_of_nodes(), model.n_hidden if l != model.n_layers - 1 else model.n_classes)\n",
    "\n",
    "            for input_nodes, output_nodes, bipartites in tqdm.tqdm(dataloader):\n",
    "                bipartite = bipartites[0]\n",
    "\n",
    "                x = input_features[input_nodes]\n",
    "\n",
    "                x = layer(bipartite, x)\n",
    "                if l != model.n_layers - 1:\n",
    "                    x = F.relu(x)\n",
    "\n",
    "                output_features[output_nodes] = x.cpu()\n",
    "            input_features = output_features\n",
    "    return output_features"
   ]
  },
  {
   "cell_type": "code",
   "execution_count": 14,
   "metadata": {},
   "outputs": [
    {
     "name": "stderr",
     "output_type": "stream",
     "text": [
      "100%|██████████| 139/139 [00:01<00:00, 89.63it/s] \n",
      "100%|██████████| 139/139 [00:01<00:00, 96.69it/s] "
     ]
    },
    {
     "name": "stdout",
     "output_type": "stream",
     "text": [
      "Test MAE: 5.778828559363784\n"
     ]
    },
    {
     "name": "stderr",
     "output_type": "stream",
     "text": [
      "\n"
     ]
    }
   ],
   "source": [
    "all_predictions = inference(model, graph, node_features, 8192)\n",
    "test_predictions = all_predictions[test_nids].argmax(1)\n",
    "test_labels = node_labels[test_nids]\n",
    "test_mae = sklearn.metrics.mean_absolute_error(test_predictions.numpy(), test_labels.numpy())\n",
    "print('Test MAE:', test_mae)"
   ]
  },
  {
   "cell_type": "markdown",
   "metadata": {},
   "source": [
    "Анализ результатов"
   ]
  },
  {
   "cell_type": "code",
   "execution_count": 42,
   "metadata": {},
   "outputs": [],
   "source": [
    "result = pd.DataFrame([[int(x) for x in abs(test_predictions - test_labels)], [int(x) for x in test_predictions], [int(x) for x in test_labels]]).T\n",
    "result.columns = ['abs', 'predict', 'test']"
   ]
  },
  {
   "cell_type": "code",
   "execution_count": 43,
   "metadata": {},
   "outputs": [],
   "source": [
    "result.index = test_nids"
   ]
  },
  {
   "cell_type": "code",
   "execution_count": 44,
   "metadata": {},
   "outputs": [],
   "source": [
    "for c in ['completion_percentage', 'gender', 'region', 'last_login', 'completed_level_of_education', 'hight', 'weight']:\n",
    "    result[c] = df.loc[test_nids][c]"
   ]
  },
  {
   "cell_type": "code",
   "execution_count": 45,
   "metadata": {},
   "outputs": [],
   "source": [
    "result.sort_values(\"abs\", ascending=False, inplace=True)"
   ]
  },
  {
   "cell_type": "code",
   "execution_count": 46,
   "metadata": {},
   "outputs": [],
   "source": [
    "result[\"in_degree\"] = list(result.index.map(lambda x : graph.in_degrees(x)))\n",
    "result[\"out_degree\"] = list(result.index.map(lambda x : graph.out_degrees(x)))"
   ]
  },
  {
   "cell_type": "code",
   "execution_count": 48,
   "metadata": {},
   "outputs": [
    {
     "data": {
      "text/html": [
       "<div>\n",
       "<style scoped>\n",
       "    .dataframe tbody tr th:only-of-type {\n",
       "        vertical-align: middle;\n",
       "    }\n",
       "\n",
       "    .dataframe tbody tr th {\n",
       "        vertical-align: top;\n",
       "    }\n",
       "\n",
       "    .dataframe thead th {\n",
       "        text-align: right;\n",
       "    }\n",
       "</style>\n",
       "<table border=\"1\" class=\"dataframe\">\n",
       "  <thead>\n",
       "    <tr style=\"text-align: right;\">\n",
       "      <th></th>\n",
       "      <th>abs</th>\n",
       "      <th>predict</th>\n",
       "      <th>test</th>\n",
       "      <th>completion_percentage</th>\n",
       "      <th>gender</th>\n",
       "      <th>region</th>\n",
       "      <th>last_login</th>\n",
       "      <th>completed_level_of_education</th>\n",
       "      <th>hight</th>\n",
       "      <th>weight</th>\n",
       "      <th>in_degree</th>\n",
       "      <th>out_degree</th>\n",
       "    </tr>\n",
       "  </thead>\n",
       "  <tbody>\n",
       "    <tr>\n",
       "      <th>661585</th>\n",
       "      <td>81</td>\n",
       "      <td>18</td>\n",
       "      <td>99</td>\n",
       "      <td>12</td>\n",
       "      <td>1.0</td>\n",
       "      <td>4</td>\n",
       "      <td>0.000937</td>\n",
       "      <td>0</td>\n",
       "      <td>0</td>\n",
       "      <td>0</td>\n",
       "      <td>1</td>\n",
       "      <td>0</td>\n",
       "    </tr>\n",
       "    <tr>\n",
       "      <th>368120</th>\n",
       "      <td>81</td>\n",
       "      <td>16</td>\n",
       "      <td>97</td>\n",
       "      <td>12</td>\n",
       "      <td>1.0</td>\n",
       "      <td>1</td>\n",
       "      <td>0.000930</td>\n",
       "      <td>0</td>\n",
       "      <td>0</td>\n",
       "      <td>0</td>\n",
       "      <td>2</td>\n",
       "      <td>4</td>\n",
       "    </tr>\n",
       "    <tr>\n",
       "      <th>1064525</th>\n",
       "      <td>81</td>\n",
       "      <td>18</td>\n",
       "      <td>99</td>\n",
       "      <td>12</td>\n",
       "      <td>0.0</td>\n",
       "      <td>164</td>\n",
       "      <td>0.000942</td>\n",
       "      <td>0</td>\n",
       "      <td>0</td>\n",
       "      <td>0</td>\n",
       "      <td>1</td>\n",
       "      <td>0</td>\n",
       "    </tr>\n",
       "    <tr>\n",
       "      <th>417129</th>\n",
       "      <td>81</td>\n",
       "      <td>18</td>\n",
       "      <td>99</td>\n",
       "      <td>62</td>\n",
       "      <td>1.0</td>\n",
       "      <td>67</td>\n",
       "      <td>0.000941</td>\n",
       "      <td>1</td>\n",
       "      <td>0</td>\n",
       "      <td>0</td>\n",
       "      <td>23</td>\n",
       "      <td>39</td>\n",
       "    </tr>\n",
       "    <tr>\n",
       "      <th>631102</th>\n",
       "      <td>81</td>\n",
       "      <td>18</td>\n",
       "      <td>99</td>\n",
       "      <td>71</td>\n",
       "      <td>0.0</td>\n",
       "      <td>0</td>\n",
       "      <td>0.000942</td>\n",
       "      <td>1</td>\n",
       "      <td>150</td>\n",
       "      <td>42</td>\n",
       "      <td>7</td>\n",
       "      <td>15</td>\n",
       "    </tr>\n",
       "    <tr>\n",
       "      <th>156447</th>\n",
       "      <td>80</td>\n",
       "      <td>18</td>\n",
       "      <td>98</td>\n",
       "      <td>12</td>\n",
       "      <td>1.0</td>\n",
       "      <td>184</td>\n",
       "      <td>0.000932</td>\n",
       "      <td>0</td>\n",
       "      <td>0</td>\n",
       "      <td>0</td>\n",
       "      <td>3</td>\n",
       "      <td>3</td>\n",
       "    </tr>\n",
       "    <tr>\n",
       "      <th>145205</th>\n",
       "      <td>80</td>\n",
       "      <td>18</td>\n",
       "      <td>98</td>\n",
       "      <td>55</td>\n",
       "      <td>1.0</td>\n",
       "      <td>133</td>\n",
       "      <td>0.000941</td>\n",
       "      <td>1</td>\n",
       "      <td>180</td>\n",
       "      <td>70</td>\n",
       "      <td>18</td>\n",
       "      <td>19</td>\n",
       "    </tr>\n",
       "    <tr>\n",
       "      <th>717906</th>\n",
       "      <td>78</td>\n",
       "      <td>19</td>\n",
       "      <td>97</td>\n",
       "      <td>12</td>\n",
       "      <td>1.0</td>\n",
       "      <td>75</td>\n",
       "      <td>0.000940</td>\n",
       "      <td>0</td>\n",
       "      <td>0</td>\n",
       "      <td>0</td>\n",
       "      <td>1</td>\n",
       "      <td>0</td>\n",
       "    </tr>\n",
       "    <tr>\n",
       "      <th>601393</th>\n",
       "      <td>77</td>\n",
       "      <td>20</td>\n",
       "      <td>97</td>\n",
       "      <td>71</td>\n",
       "      <td>1.0</td>\n",
       "      <td>80</td>\n",
       "      <td>0.000939</td>\n",
       "      <td>2</td>\n",
       "      <td>175</td>\n",
       "      <td>82</td>\n",
       "      <td>4</td>\n",
       "      <td>9</td>\n",
       "    </tr>\n",
       "    <tr>\n",
       "      <th>1044916</th>\n",
       "      <td>76</td>\n",
       "      <td>16</td>\n",
       "      <td>92</td>\n",
       "      <td>12</td>\n",
       "      <td>0.0</td>\n",
       "      <td>105</td>\n",
       "      <td>0.000942</td>\n",
       "      <td>0</td>\n",
       "      <td>0</td>\n",
       "      <td>0</td>\n",
       "      <td>2</td>\n",
       "      <td>2</td>\n",
       "    </tr>\n",
       "    <tr>\n",
       "      <th>283699</th>\n",
       "      <td>76</td>\n",
       "      <td>16</td>\n",
       "      <td>92</td>\n",
       "      <td>14</td>\n",
       "      <td>0.0</td>\n",
       "      <td>4</td>\n",
       "      <td>0.000941</td>\n",
       "      <td>0</td>\n",
       "      <td>0</td>\n",
       "      <td>0</td>\n",
       "      <td>0</td>\n",
       "      <td>2</td>\n",
       "    </tr>\n",
       "    <tr>\n",
       "      <th>1076459</th>\n",
       "      <td>76</td>\n",
       "      <td>23</td>\n",
       "      <td>99</td>\n",
       "      <td>40</td>\n",
       "      <td>0.0</td>\n",
       "      <td>34</td>\n",
       "      <td>0.000942</td>\n",
       "      <td>0</td>\n",
       "      <td>0</td>\n",
       "      <td>0</td>\n",
       "      <td>5</td>\n",
       "      <td>2</td>\n",
       "    </tr>\n",
       "    <tr>\n",
       "      <th>806042</th>\n",
       "      <td>75</td>\n",
       "      <td>14</td>\n",
       "      <td>89</td>\n",
       "      <td>12</td>\n",
       "      <td>1.0</td>\n",
       "      <td>9</td>\n",
       "      <td>0.000941</td>\n",
       "      <td>0</td>\n",
       "      <td>0</td>\n",
       "      <td>0</td>\n",
       "      <td>1</td>\n",
       "      <td>0</td>\n",
       "    </tr>\n",
       "    <tr>\n",
       "      <th>481282</th>\n",
       "      <td>74</td>\n",
       "      <td>25</td>\n",
       "      <td>99</td>\n",
       "      <td>14</td>\n",
       "      <td>1.0</td>\n",
       "      <td>151</td>\n",
       "      <td>0.000942</td>\n",
       "      <td>0</td>\n",
       "      <td>0</td>\n",
       "      <td>0</td>\n",
       "      <td>4</td>\n",
       "      <td>4</td>\n",
       "    </tr>\n",
       "    <tr>\n",
       "      <th>1031165</th>\n",
       "      <td>74</td>\n",
       "      <td>16</td>\n",
       "      <td>90</td>\n",
       "      <td>12</td>\n",
       "      <td>1.0</td>\n",
       "      <td>164</td>\n",
       "      <td>0.000940</td>\n",
       "      <td>0</td>\n",
       "      <td>0</td>\n",
       "      <td>0</td>\n",
       "      <td>0</td>\n",
       "      <td>0</td>\n",
       "    </tr>\n",
       "    <tr>\n",
       "      <th>721199</th>\n",
       "      <td>74</td>\n",
       "      <td>16</td>\n",
       "      <td>90</td>\n",
       "      <td>24</td>\n",
       "      <td>1.0</td>\n",
       "      <td>29</td>\n",
       "      <td>0.000940</td>\n",
       "      <td>0</td>\n",
       "      <td>0</td>\n",
       "      <td>0</td>\n",
       "      <td>2</td>\n",
       "      <td>0</td>\n",
       "    </tr>\n",
       "    <tr>\n",
       "      <th>18080</th>\n",
       "      <td>73</td>\n",
       "      <td>18</td>\n",
       "      <td>91</td>\n",
       "      <td>14</td>\n",
       "      <td>1.0</td>\n",
       "      <td>181</td>\n",
       "      <td>0.000942</td>\n",
       "      <td>0</td>\n",
       "      <td>0</td>\n",
       "      <td>0</td>\n",
       "      <td>6</td>\n",
       "      <td>15</td>\n",
       "    </tr>\n",
       "    <tr>\n",
       "      <th>114035</th>\n",
       "      <td>73</td>\n",
       "      <td>20</td>\n",
       "      <td>93</td>\n",
       "      <td>14</td>\n",
       "      <td>1.0</td>\n",
       "      <td>164</td>\n",
       "      <td>0.000938</td>\n",
       "      <td>0</td>\n",
       "      <td>0</td>\n",
       "      <td>0</td>\n",
       "      <td>1</td>\n",
       "      <td>3</td>\n",
       "    </tr>\n",
       "    <tr>\n",
       "      <th>1031144</th>\n",
       "      <td>73</td>\n",
       "      <td>18</td>\n",
       "      <td>91</td>\n",
       "      <td>12</td>\n",
       "      <td>1.0</td>\n",
       "      <td>22</td>\n",
       "      <td>0.000935</td>\n",
       "      <td>0</td>\n",
       "      <td>0</td>\n",
       "      <td>0</td>\n",
       "      <td>1</td>\n",
       "      <td>0</td>\n",
       "    </tr>\n",
       "    <tr>\n",
       "      <th>692716</th>\n",
       "      <td>73</td>\n",
       "      <td>20</td>\n",
       "      <td>93</td>\n",
       "      <td>48</td>\n",
       "      <td>1.0</td>\n",
       "      <td>29</td>\n",
       "      <td>0.000938</td>\n",
       "      <td>1</td>\n",
       "      <td>178</td>\n",
       "      <td>78</td>\n",
       "      <td>2</td>\n",
       "      <td>4</td>\n",
       "    </tr>\n",
       "  </tbody>\n",
       "</table>\n",
       "</div>"
      ],
      "text/plain": [
       "         abs  predict  test  completion_percentage  gender  region  \\\n",
       "661585    81       18    99                     12     1.0       4   \n",
       "368120    81       16    97                     12     1.0       1   \n",
       "1064525   81       18    99                     12     0.0     164   \n",
       "417129    81       18    99                     62     1.0      67   \n",
       "631102    81       18    99                     71     0.0       0   \n",
       "156447    80       18    98                     12     1.0     184   \n",
       "145205    80       18    98                     55     1.0     133   \n",
       "717906    78       19    97                     12     1.0      75   \n",
       "601393    77       20    97                     71     1.0      80   \n",
       "1044916   76       16    92                     12     0.0     105   \n",
       "283699    76       16    92                     14     0.0       4   \n",
       "1076459   76       23    99                     40     0.0      34   \n",
       "806042    75       14    89                     12     1.0       9   \n",
       "481282    74       25    99                     14     1.0     151   \n",
       "1031165   74       16    90                     12     1.0     164   \n",
       "721199    74       16    90                     24     1.0      29   \n",
       "18080     73       18    91                     14     1.0     181   \n",
       "114035    73       20    93                     14     1.0     164   \n",
       "1031144   73       18    91                     12     1.0      22   \n",
       "692716    73       20    93                     48     1.0      29   \n",
       "\n",
       "         last_login  completed_level_of_education  hight  weight  in_degree  \\\n",
       "661585     0.000937                             0      0       0          1   \n",
       "368120     0.000930                             0      0       0          2   \n",
       "1064525    0.000942                             0      0       0          1   \n",
       "417129     0.000941                             1      0       0         23   \n",
       "631102     0.000942                             1    150      42          7   \n",
       "156447     0.000932                             0      0       0          3   \n",
       "145205     0.000941                             1    180      70         18   \n",
       "717906     0.000940                             0      0       0          1   \n",
       "601393     0.000939                             2    175      82          4   \n",
       "1044916    0.000942                             0      0       0          2   \n",
       "283699     0.000941                             0      0       0          0   \n",
       "1076459    0.000942                             0      0       0          5   \n",
       "806042     0.000941                             0      0       0          1   \n",
       "481282     0.000942                             0      0       0          4   \n",
       "1031165    0.000940                             0      0       0          0   \n",
       "721199     0.000940                             0      0       0          2   \n",
       "18080      0.000942                             0      0       0          6   \n",
       "114035     0.000938                             0      0       0          1   \n",
       "1031144    0.000935                             0      0       0          1   \n",
       "692716     0.000938                             1    178      78          2   \n",
       "\n",
       "         out_degree  \n",
       "661585            0  \n",
       "368120            4  \n",
       "1064525           0  \n",
       "417129           39  \n",
       "631102           15  \n",
       "156447            3  \n",
       "145205           19  \n",
       "717906            0  \n",
       "601393            9  \n",
       "1044916           2  \n",
       "283699            2  \n",
       "1076459           2  \n",
       "806042            0  \n",
       "481282            4  \n",
       "1031165           0  \n",
       "721199            0  \n",
       "18080            15  \n",
       "114035            3  \n",
       "1031144           0  \n",
       "692716            4  "
      ]
     },
     "execution_count": 48,
     "metadata": {},
     "output_type": "execute_result"
    }
   ],
   "source": [
    "result.head(20)"
   ]
  },
  {
   "cell_type": "markdown",
   "metadata": {},
   "source": [
    "### Предсказание поколения"
   ]
  },
  {
   "cell_type": "code",
   "execution_count": 49,
   "metadata": {},
   "outputs": [],
   "source": [
    "def return_generation(age):\n",
    "    if 2012 - age < 1967:\n",
    "        return 0 # Поколение беби-бумеров\n",
    "    if 2012 - age < 1984:\n",
    "        return 1 # Поколение X\n",
    "    if 2012 - age < 2000:\n",
    "        return 2 # Поколение Y, или миллениалы\n",
    "    if 2012 - age < 2011:\n",
    "        return 3 # Поколение Z, или зумеры\n",
    "    else:\n",
    "        return 4 # Поколение A, или альфа"
   ]
  },
  {
   "cell_type": "code",
   "execution_count": 50,
   "metadata": {},
   "outputs": [],
   "source": [
    "result[\"predict_generation\"] = result[\"predict\"].apply(lambda x : return_generation(x))"
   ]
  },
  {
   "cell_type": "code",
   "execution_count": 52,
   "metadata": {},
   "outputs": [
    {
     "data": {
      "text/plain": [
       "<Axes: xlabel='predict_generation'>"
      ]
     },
     "execution_count": 52,
     "metadata": {},
     "output_type": "execute_result"
    },
    {
     "data": {
      "image/png": "[encoded data removed]",
      "text/plain": [
       "<Figure size 640x480 with 1 Axes>"
      ]
     },
     "metadata": {},
     "output_type": "display_data"
    }
   ],
   "source": [
    "result[\"predict_generation\"].value_counts().plot(kind='bar')"
   ]
  },
  {
   "cell_type": "code",
   "execution_count": 53,
   "metadata": {},
   "outputs": [],
   "source": [
    "result[\"test_generation\"] = result[\"test\"].apply(lambda x : return_generation(x))"
   ]
  },
  {
   "cell_type": "code",
   "execution_count": 55,
   "metadata": {},
   "outputs": [
    {
     "data": {
      "text/plain": [
       "<Axes: xlabel='test_generation'>"
      ]
     },
     "execution_count": 55,
     "metadata": {},
     "output_type": "execute_result"
    },
    {
     "data": {
      "image/png": "[encoded data removed]",
      "text/plain": [
       "<Figure size 640x480 with 1 Axes>"
      ]
     },
     "metadata": {},
     "output_type": "display_data"
    }
   ],
   "source": [
    "result[\"test_generation\"].value_counts().plot(kind='bar')"
   ]
  },
  {
   "cell_type": "code",
   "execution_count": 58,
   "metadata": {},
   "outputs": [
    {
     "name": "stdout",
     "output_type": "stream",
     "text": [
      "MAE =  0.34645295235414175\n"
     ]
    }
   ],
   "source": [
    "print(\"MAE = \", sklearn.metrics.mean_absolute_error(result[\"test_generation\"], result[\"predict_generation\"]))"
   ]
  },
  {
   "cell_type": "code",
   "execution_count": 59,
   "metadata": {},
   "outputs": [
    {
     "name": "stdout",
     "output_type": "stream",
     "text": [
      "Accuracy =  0.6834928566401577\n"
     ]
    }
   ],
   "source": [
    "print(\"Accuracy = \", sklearn.metrics.accuracy_score(result[\"test_generation\"], result[\"predict_generation\"]))"
   ]
  },
  {
   "cell_type": "markdown",
   "metadata": {},
   "source": [
    "\"Портреты\" людей, на которых модель ошиблась сильнее"
   ]
  },
  {
   "cell_type": "markdown",
   "metadata": {},
   "source": [
    "большая доля - мужчины"
   ]
  },
  {
   "cell_type": "code",
   "execution_count": 68,
   "metadata": {},
   "outputs": [
    {
     "data": {
      "text/plain": [
       "<Axes: ylabel='count'>"
      ]
     },
     "execution_count": 68,
     "metadata": {},
     "output_type": "execute_result"
    },
    {
     "data": {
      "image/png": "[encoded data removed]",
      "text/plain": [
       "<Figure size 640x480 with 1 Axes>"
      ]
     },
     "metadata": {},
     "output_type": "display_data"
    }
   ],
   "source": [
    "result.iloc[0:50][\"gender\"].value_counts().plot(kind='pie')"
   ]
  },
  {
   "cell_type": "markdown",
   "metadata": {},
   "source": [
    "Распределение количество входящих и исходящих ребер"
   ]
  },
  {
   "cell_type": "code",
   "execution_count": 74,
   "metadata": {},
   "outputs": [
    {
     "data": {
      "text/plain": [
       "<Axes: xlabel='in_degree'>"
      ]
     },
     "execution_count": 74,
     "metadata": {},
     "output_type": "execute_result"
    },
    {
     "data": {
      "image/png": "[encoded data removed]",
      "text/plain": [
       "<Figure size 640x480 with 1 Axes>"
      ]
     },
     "metadata": {},
     "output_type": "display_data"
    }
   ],
   "source": [
    "result.iloc[0:50][\"in_degree\"].value_counts().plot(kind='bar')"
   ]
  },
  {
   "cell_type": "code",
   "execution_count": 76,
   "metadata": {},
   "outputs": [
    {
     "data": {
      "text/plain": [
       "<Axes: xlabel='out_degree'>"
      ]
     },
     "execution_count": 76,
     "metadata": {},
     "output_type": "execute_result"
    },
    {
     "data": {
      "image/png": "[encoded data removed]",
      "text/plain": [
       "<Figure size 640x480 with 1 Axes>"
      ]
     },
     "metadata": {},
     "output_type": "display_data"
    }
   ],
   "source": [
    "result.iloc[0:50][\"out_degree\"].value_counts().plot(kind='bar')"
   ]
  },
  {
   "cell_type": "markdown",
   "metadata": {},
   "source": [
    "Уроверь образования"
   ]
  },
  {
   "cell_type": "code",
   "execution_count": 78,
   "metadata": {},
   "outputs": [
    {
     "data": {
      "text/plain": [
       "<Axes: xlabel='completed_level_of_education'>"
      ]
     },
     "execution_count": 78,
     "metadata": {},
     "output_type": "execute_result"
    },
    {
     "data": {
      "image/png": "[encoded data removed]",
      "text/plain": [
       "<Figure size 640x480 with 1 Axes>"
      ]
     },
     "metadata": {},
     "output_type": "display_data"
    }
   ],
   "source": [
    "result.iloc[0:50][\"completed_level_of_education\"].value_counts().plot(kind='bar')"
   ]
  },
  {
   "cell_type": "markdown",
   "metadata": {},
   "source": [
    "Ошибки в предсказаниях поколений"
   ]
  },
  {
   "cell_type": "code",
   "execution_count": 82,
   "metadata": {},
   "outputs": [],
   "source": [
    "result[\"abs_generation\"]= [int(x) for x in abs(result[\"test_generation\"] - result[\"predict_generation\"])]"
   ]
  },
  {
   "cell_type": "code",
   "execution_count": 88,
   "metadata": {},
   "outputs": [
    {
     "data": {
      "text/html": [
       "<div>\n",
       "<style scoped>\n",
       "    .dataframe tbody tr th:only-of-type {\n",
       "        vertical-align: middle;\n",
       "    }\n",
       "\n",
       "    .dataframe tbody tr th {\n",
       "        vertical-align: top;\n",
       "    }\n",
       "\n",
       "    .dataframe thead th {\n",
       "        text-align: right;\n",
       "    }\n",
       "</style>\n",
       "<table border=\"1\" class=\"dataframe\">\n",
       "  <thead>\n",
       "    <tr style=\"text-align: right;\">\n",
       "      <th></th>\n",
       "      <th>abs</th>\n",
       "      <th>predict</th>\n",
       "      <th>test</th>\n",
       "      <th>completion_percentage</th>\n",
       "      <th>gender</th>\n",
       "      <th>region</th>\n",
       "      <th>last_login</th>\n",
       "      <th>completed_level_of_education</th>\n",
       "      <th>hight</th>\n",
       "      <th>weight</th>\n",
       "      <th>in_degree</th>\n",
       "      <th>out_degree</th>\n",
       "      <th>predict_generation</th>\n",
       "      <th>test_generation</th>\n",
       "      <th>abs_generation</th>\n",
       "    </tr>\n",
       "  </thead>\n",
       "  <tbody>\n",
       "    <tr>\n",
       "      <th>875998</th>\n",
       "      <td>42</td>\n",
       "      <td>12</td>\n",
       "      <td>54</td>\n",
       "      <td>26</td>\n",
       "      <td>0.0</td>\n",
       "      <td>100</td>\n",
       "      <td>0.000941</td>\n",
       "      <td>0</td>\n",
       "      <td>0</td>\n",
       "      <td>0</td>\n",
       "      <td>5</td>\n",
       "      <td>7</td>\n",
       "      <td>3</td>\n",
       "      <td>0</td>\n",
       "      <td>3</td>\n",
       "    </tr>\n",
       "    <tr>\n",
       "      <th>1117044</th>\n",
       "      <td>36</td>\n",
       "      <td>12</td>\n",
       "      <td>48</td>\n",
       "      <td>14</td>\n",
       "      <td>1.0</td>\n",
       "      <td>93</td>\n",
       "      <td>0.000942</td>\n",
       "      <td>0</td>\n",
       "      <td>0</td>\n",
       "      <td>0</td>\n",
       "      <td>2</td>\n",
       "      <td>0</td>\n",
       "      <td>3</td>\n",
       "      <td>0</td>\n",
       "      <td>3</td>\n",
       "    </tr>\n",
       "    <tr>\n",
       "      <th>326416</th>\n",
       "      <td>38</td>\n",
       "      <td>12</td>\n",
       "      <td>50</td>\n",
       "      <td>14</td>\n",
       "      <td>1.0</td>\n",
       "      <td>29</td>\n",
       "      <td>0.000942</td>\n",
       "      <td>0</td>\n",
       "      <td>0</td>\n",
       "      <td>0</td>\n",
       "      <td>1</td>\n",
       "      <td>0</td>\n",
       "      <td>3</td>\n",
       "      <td>0</td>\n",
       "      <td>3</td>\n",
       "    </tr>\n",
       "    <tr>\n",
       "      <th>1080443</th>\n",
       "      <td>34</td>\n",
       "      <td>12</td>\n",
       "      <td>46</td>\n",
       "      <td>12</td>\n",
       "      <td>1.0</td>\n",
       "      <td>87</td>\n",
       "      <td>0.000942</td>\n",
       "      <td>0</td>\n",
       "      <td>0</td>\n",
       "      <td>0</td>\n",
       "      <td>1</td>\n",
       "      <td>0</td>\n",
       "      <td>3</td>\n",
       "      <td>0</td>\n",
       "      <td>3</td>\n",
       "    </tr>\n",
       "    <tr>\n",
       "      <th>857385</th>\n",
       "      <td>43</td>\n",
       "      <td>12</td>\n",
       "      <td>55</td>\n",
       "      <td>12</td>\n",
       "      <td>1.0</td>\n",
       "      <td>90</td>\n",
       "      <td>0.000935</td>\n",
       "      <td>0</td>\n",
       "      <td>0</td>\n",
       "      <td>0</td>\n",
       "      <td>1</td>\n",
       "      <td>1</td>\n",
       "      <td>3</td>\n",
       "      <td>0</td>\n",
       "      <td>3</td>\n",
       "    </tr>\n",
       "    <tr>\n",
       "      <th>1054175</th>\n",
       "      <td>28</td>\n",
       "      <td>29</td>\n",
       "      <td>1</td>\n",
       "      <td>12</td>\n",
       "      <td>1.0</td>\n",
       "      <td>22</td>\n",
       "      <td>0.000937</td>\n",
       "      <td>0</td>\n",
       "      <td>0</td>\n",
       "      <td>0</td>\n",
       "      <td>0</td>\n",
       "      <td>1</td>\n",
       "      <td>1</td>\n",
       "      <td>4</td>\n",
       "      <td>3</td>\n",
       "    </tr>\n",
       "    <tr>\n",
       "      <th>849640</th>\n",
       "      <td>28</td>\n",
       "      <td>29</td>\n",
       "      <td>1</td>\n",
       "      <td>12</td>\n",
       "      <td>1.0</td>\n",
       "      <td>28</td>\n",
       "      <td>0.000940</td>\n",
       "      <td>0</td>\n",
       "      <td>0</td>\n",
       "      <td>0</td>\n",
       "      <td>0</td>\n",
       "      <td>1</td>\n",
       "      <td>1</td>\n",
       "      <td>4</td>\n",
       "      <td>3</td>\n",
       "    </tr>\n",
       "    <tr>\n",
       "      <th>1136110</th>\n",
       "      <td>51</td>\n",
       "      <td>12</td>\n",
       "      <td>63</td>\n",
       "      <td>66</td>\n",
       "      <td>0.0</td>\n",
       "      <td>62</td>\n",
       "      <td>0.000942</td>\n",
       "      <td>1</td>\n",
       "      <td>0</td>\n",
       "      <td>0</td>\n",
       "      <td>1</td>\n",
       "      <td>2</td>\n",
       "      <td>3</td>\n",
       "      <td>0</td>\n",
       "      <td>3</td>\n",
       "    </tr>\n",
       "    <tr>\n",
       "      <th>628432</th>\n",
       "      <td>28</td>\n",
       "      <td>29</td>\n",
       "      <td>1</td>\n",
       "      <td>12</td>\n",
       "      <td>1.0</td>\n",
       "      <td>107</td>\n",
       "      <td>0.000937</td>\n",
       "      <td>0</td>\n",
       "      <td>0</td>\n",
       "      <td>0</td>\n",
       "      <td>1</td>\n",
       "      <td>0</td>\n",
       "      <td>1</td>\n",
       "      <td>4</td>\n",
       "      <td>3</td>\n",
       "    </tr>\n",
       "    <tr>\n",
       "      <th>936388</th>\n",
       "      <td>28</td>\n",
       "      <td>29</td>\n",
       "      <td>1</td>\n",
       "      <td>12</td>\n",
       "      <td>1.0</td>\n",
       "      <td>7</td>\n",
       "      <td>0.000938</td>\n",
       "      <td>0</td>\n",
       "      <td>0</td>\n",
       "      <td>0</td>\n",
       "      <td>0</td>\n",
       "      <td>14</td>\n",
       "      <td>1</td>\n",
       "      <td>4</td>\n",
       "      <td>3</td>\n",
       "    </tr>\n",
       "    <tr>\n",
       "      <th>1053564</th>\n",
       "      <td>28</td>\n",
       "      <td>29</td>\n",
       "      <td>1</td>\n",
       "      <td>12</td>\n",
       "      <td>1.0</td>\n",
       "      <td>4</td>\n",
       "      <td>0.000927</td>\n",
       "      <td>0</td>\n",
       "      <td>0</td>\n",
       "      <td>0</td>\n",
       "      <td>0</td>\n",
       "      <td>0</td>\n",
       "      <td>1</td>\n",
       "      <td>4</td>\n",
       "      <td>3</td>\n",
       "    </tr>\n",
       "    <tr>\n",
       "      <th>1016084</th>\n",
       "      <td>34</td>\n",
       "      <td>12</td>\n",
       "      <td>46</td>\n",
       "      <td>12</td>\n",
       "      <td>1.0</td>\n",
       "      <td>136</td>\n",
       "      <td>0.000941</td>\n",
       "      <td>0</td>\n",
       "      <td>0</td>\n",
       "      <td>0</td>\n",
       "      <td>3</td>\n",
       "      <td>0</td>\n",
       "      <td>3</td>\n",
       "      <td>0</td>\n",
       "      <td>3</td>\n",
       "    </tr>\n",
       "    <tr>\n",
       "      <th>1109076</th>\n",
       "      <td>28</td>\n",
       "      <td>29</td>\n",
       "      <td>1</td>\n",
       "      <td>12</td>\n",
       "      <td>1.0</td>\n",
       "      <td>41</td>\n",
       "      <td>0.000931</td>\n",
       "      <td>0</td>\n",
       "      <td>0</td>\n",
       "      <td>0</td>\n",
       "      <td>0</td>\n",
       "      <td>1</td>\n",
       "      <td>1</td>\n",
       "      <td>4</td>\n",
       "      <td>3</td>\n",
       "    </tr>\n",
       "    <tr>\n",
       "      <th>882763</th>\n",
       "      <td>28</td>\n",
       "      <td>29</td>\n",
       "      <td>1</td>\n",
       "      <td>12</td>\n",
       "      <td>1.0</td>\n",
       "      <td>11</td>\n",
       "      <td>0.000939</td>\n",
       "      <td>0</td>\n",
       "      <td>0</td>\n",
       "      <td>0</td>\n",
       "      <td>0</td>\n",
       "      <td>1</td>\n",
       "      <td>1</td>\n",
       "      <td>4</td>\n",
       "      <td>3</td>\n",
       "    </tr>\n",
       "    <tr>\n",
       "      <th>1031059</th>\n",
       "      <td>28</td>\n",
       "      <td>29</td>\n",
       "      <td>1</td>\n",
       "      <td>12</td>\n",
       "      <td>1.0</td>\n",
       "      <td>2</td>\n",
       "      <td>0.000938</td>\n",
       "      <td>0</td>\n",
       "      <td>0</td>\n",
       "      <td>0</td>\n",
       "      <td>0</td>\n",
       "      <td>1</td>\n",
       "      <td>1</td>\n",
       "      <td>4</td>\n",
       "      <td>3</td>\n",
       "    </tr>\n",
       "    <tr>\n",
       "      <th>708917</th>\n",
       "      <td>37</td>\n",
       "      <td>12</td>\n",
       "      <td>49</td>\n",
       "      <td>71</td>\n",
       "      <td>1.0</td>\n",
       "      <td>53</td>\n",
       "      <td>0.000939</td>\n",
       "      <td>0</td>\n",
       "      <td>0</td>\n",
       "      <td>0</td>\n",
       "      <td>1</td>\n",
       "      <td>5</td>\n",
       "      <td>3</td>\n",
       "      <td>0</td>\n",
       "      <td>3</td>\n",
       "    </tr>\n",
       "    <tr>\n",
       "      <th>878844</th>\n",
       "      <td>28</td>\n",
       "      <td>29</td>\n",
       "      <td>1</td>\n",
       "      <td>60</td>\n",
       "      <td>1.0</td>\n",
       "      <td>33</td>\n",
       "      <td>0.000942</td>\n",
       "      <td>1</td>\n",
       "      <td>167</td>\n",
       "      <td>69</td>\n",
       "      <td>4</td>\n",
       "      <td>23</td>\n",
       "      <td>1</td>\n",
       "      <td>4</td>\n",
       "      <td>3</td>\n",
       "    </tr>\n",
       "    <tr>\n",
       "      <th>1015861</th>\n",
       "      <td>37</td>\n",
       "      <td>12</td>\n",
       "      <td>49</td>\n",
       "      <td>12</td>\n",
       "      <td>1.0</td>\n",
       "      <td>118</td>\n",
       "      <td>0.000940</td>\n",
       "      <td>0</td>\n",
       "      <td>0</td>\n",
       "      <td>0</td>\n",
       "      <td>1</td>\n",
       "      <td>2</td>\n",
       "      <td>3</td>\n",
       "      <td>0</td>\n",
       "      <td>3</td>\n",
       "    </tr>\n",
       "    <tr>\n",
       "      <th>127614</th>\n",
       "      <td>28</td>\n",
       "      <td>29</td>\n",
       "      <td>1</td>\n",
       "      <td>16</td>\n",
       "      <td>0.0</td>\n",
       "      <td>27</td>\n",
       "      <td>0.000942</td>\n",
       "      <td>0</td>\n",
       "      <td>0</td>\n",
       "      <td>0</td>\n",
       "      <td>1</td>\n",
       "      <td>1</td>\n",
       "      <td>1</td>\n",
       "      <td>4</td>\n",
       "      <td>3</td>\n",
       "    </tr>\n",
       "    <tr>\n",
       "      <th>606859</th>\n",
       "      <td>52</td>\n",
       "      <td>63</td>\n",
       "      <td>11</td>\n",
       "      <td>36</td>\n",
       "      <td>1.0</td>\n",
       "      <td>162</td>\n",
       "      <td>0.000939</td>\n",
       "      <td>2</td>\n",
       "      <td>8888</td>\n",
       "      <td>5555</td>\n",
       "      <td>4</td>\n",
       "      <td>3</td>\n",
       "      <td>0</td>\n",
       "      <td>3</td>\n",
       "      <td>3</td>\n",
       "    </tr>\n",
       "  </tbody>\n",
       "</table>\n",
       "</div>"
      ],
      "text/plain": [
       "         abs  predict  test  completion_percentage  gender  region  \\\n",
       "875998    42       12    54                     26     0.0     100   \n",
       "1117044   36       12    48                     14     1.0      93   \n",
       "326416    38       12    50                     14     1.0      29   \n",
       "1080443   34       12    46                     12     1.0      87   \n",
       "857385    43       12    55                     12     1.0      90   \n",
       "1054175   28       29     1                     12     1.0      22   \n",
       "849640    28       29     1                     12     1.0      28   \n",
       "1136110   51       12    63                     66     0.0      62   \n",
       "628432    28       29     1                     12     1.0     107   \n",
       "936388    28       29     1                     12     1.0       7   \n",
       "1053564   28       29     1                     12     1.0       4   \n",
       "1016084   34       12    46                     12     1.0     136   \n",
       "1109076   28       29     1                     12     1.0      41   \n",
       "882763    28       29     1                     12     1.0      11   \n",
       "1031059   28       29     1                     12     1.0       2   \n",
       "708917    37       12    49                     71     1.0      53   \n",
       "878844    28       29     1                     60     1.0      33   \n",
       "1015861   37       12    49                     12     1.0     118   \n",
       "127614    28       29     1                     16     0.0      27   \n",
       "606859    52       63    11                     36     1.0     162   \n",
       "\n",
       "         last_login  completed_level_of_education  hight  weight  in_degree  \\\n",
       "875998     0.000941                             0      0       0          5   \n",
       "1117044    0.000942                             0      0       0          2   \n",
       "326416     0.000942                             0      0       0          1   \n",
       "1080443    0.000942                             0      0       0          1   \n",
       "857385     0.000935                             0      0       0          1   \n",
       "1054175    0.000937                             0      0       0          0   \n",
       "849640     0.000940                             0      0       0          0   \n",
       "1136110    0.000942                             1      0       0          1   \n",
       "628432     0.000937                             0      0       0          1   \n",
       "936388     0.000938                             0      0       0          0   \n",
       "1053564    0.000927                             0      0       0          0   \n",
       "1016084    0.000941                             0      0       0          3   \n",
       "1109076    0.000931                             0      0       0          0   \n",
       "882763     0.000939                             0      0       0          0   \n",
       "1031059    0.000938                             0      0       0          0   \n",
       "708917     0.000939                             0      0       0          1   \n",
       "878844     0.000942                             1    167      69          4   \n",
       "1015861    0.000940                             0      0       0          1   \n",
       "127614     0.000942                             0      0       0          1   \n",
       "606859     0.000939                             2   8888    5555          4   \n",
       "\n",
       "         out_degree  predict_generation  test_generation  abs_generation  \n",
       "875998            7                   3                0               3  \n",
       "1117044           0                   3                0               3  \n",
       "326416            0                   3                0               3  \n",
       "1080443           0                   3                0               3  \n",
       "857385            1                   3                0               3  \n",
       "1054175           1                   1                4               3  \n",
       "849640            1                   1                4               3  \n",
       "1136110           2                   3                0               3  \n",
       "628432            0                   1                4               3  \n",
       "936388           14                   1                4               3  \n",
       "1053564           0                   1                4               3  \n",
       "1016084           0                   3                0               3  \n",
       "1109076           1                   1                4               3  \n",
       "882763            1                   1                4               3  \n",
       "1031059           1                   1                4               3  \n",
       "708917            5                   3                0               3  \n",
       "878844           23                   1                4               3  \n",
       "1015861           2                   3                0               3  \n",
       "127614            1                   1                4               3  \n",
       "606859            3                   0                3               3  "
      ]
     },
     "execution_count": 88,
     "metadata": {},
     "output_type": "execute_result"
    }
   ],
   "source": [
    "result.sort_values(\"abs_generation\", ascending=False, inplace=False).head(20)"
   ]
  },
  {
   "cell_type": "markdown",
   "metadata": {},
   "source": [
    "Абсолютное значение ошибок предсказания и теста:"
   ]
  },
  {
   "cell_type": "code",
   "execution_count": 145,
   "metadata": {},
   "outputs": [
    {
     "data": {
      "text/plain": [
       "test_generation  predict_generation\n",
       "2                2                     72424\n",
       "1                2                     21605\n",
       "3                2                      5158\n",
       "1                1                      4796\n",
       "2                1                      4228\n",
       "0                2                      2741\n",
       "                 1                       819\n",
       "2                3                       788\n",
       "3                3                       474\n",
       "                 1                       335\n",
       "1                3                       207\n",
       "4                2                        70\n",
       "0                3                        14\n",
       "4                1                        10\n",
       "2                0                         1\n",
       "3                0                         1\n",
       "4                3                         1\n",
       "Name: count, dtype: int64"
      ]
     },
     "execution_count": 145,
     "metadata": {},
     "output_type": "execute_result"
    }
   ],
   "source": [
    "result[[\"test_generation\", \"predict_generation\"]].value_counts()"
   ]
  },
  {
   "cell_type": "markdown",
   "metadata": {},
   "source": [
    "Относительное:"
   ]
  },
  {
   "cell_type": "code",
   "execution_count": 143,
   "metadata": {},
   "outputs": [],
   "source": [
    "x = result[[\"test_generation\", \"predict_generation\"]].value_counts()"
   ]
  },
  {
   "cell_type": "code",
   "execution_count": 164,
   "metadata": {},
   "outputs": [],
   "source": [
    "res_generation = []\n",
    "for test_i in range(5):\n",
    "    for pred_i in range(len(x[test_i].keys())):\n",
    "        res_generation.append([test_i, x[test_i].keys()[pred_i], x[pred_i].values[pred_i] / result[\"test_generation\"].value_counts()[test_i]])"
   ]
  },
  {
   "cell_type": "code",
   "execution_count": 168,
   "metadata": {},
   "outputs": [
    {
     "data": {
      "text/html": [
       "<div>\n",
       "<style scoped>\n",
       "    .dataframe tbody tr th:only-of-type {\n",
       "        vertical-align: middle;\n",
       "    }\n",
       "\n",
       "    .dataframe tbody tr th {\n",
       "        vertical-align: top;\n",
       "    }\n",
       "\n",
       "    .dataframe thead th {\n",
       "        text-align: right;\n",
       "    }\n",
       "</style>\n",
       "<table border=\"1\" class=\"dataframe\">\n",
       "  <thead>\n",
       "    <tr style=\"text-align: right;\">\n",
       "      <th></th>\n",
       "      <th>test_g</th>\n",
       "      <th>pred_g</th>\n",
       "      <th>cnt_norm</th>\n",
       "    </tr>\n",
       "  </thead>\n",
       "  <tbody>\n",
       "    <tr>\n",
       "      <th>15</th>\n",
       "      <td>4</td>\n",
       "      <td>1</td>\n",
       "      <td>59.209877</td>\n",
       "    </tr>\n",
       "    <tr>\n",
       "      <th>14</th>\n",
       "      <td>4</td>\n",
       "      <td>2</td>\n",
       "      <td>33.839506</td>\n",
       "    </tr>\n",
       "    <tr>\n",
       "      <th>16</th>\n",
       "      <td>4</td>\n",
       "      <td>3</td>\n",
       "      <td>9.728395</td>\n",
       "    </tr>\n",
       "    <tr>\n",
       "      <th>1</th>\n",
       "      <td>0</td>\n",
       "      <td>1</td>\n",
       "      <td>1.341914</td>\n",
       "    </tr>\n",
       "    <tr>\n",
       "      <th>11</th>\n",
       "      <td>3</td>\n",
       "      <td>3</td>\n",
       "      <td>0.803619</td>\n",
       "    </tr>\n",
       "    <tr>\n",
       "      <th>0</th>\n",
       "      <td>0</td>\n",
       "      <td>2</td>\n",
       "      <td>0.766928</td>\n",
       "    </tr>\n",
       "    <tr>\n",
       "      <th>10</th>\n",
       "      <td>3</td>\n",
       "      <td>2</td>\n",
       "      <td>0.459283</td>\n",
       "    </tr>\n",
       "    <tr>\n",
       "      <th>2</th>\n",
       "      <td>0</td>\n",
       "      <td>3</td>\n",
       "      <td>0.220481</td>\n",
       "    </tr>\n",
       "    <tr>\n",
       "      <th>4</th>\n",
       "      <td>1</td>\n",
       "      <td>1</td>\n",
       "      <td>0.180247</td>\n",
       "    </tr>\n",
       "    <tr>\n",
       "      <th>12</th>\n",
       "      <td>3</td>\n",
       "      <td>1</td>\n",
       "      <td>0.132038</td>\n",
       "    </tr>\n",
       "    <tr>\n",
       "      <th>3</th>\n",
       "      <td>1</td>\n",
       "      <td>2</td>\n",
       "      <td>0.103014</td>\n",
       "    </tr>\n",
       "    <tr>\n",
       "      <th>7</th>\n",
       "      <td>2</td>\n",
       "      <td>1</td>\n",
       "      <td>0.061931</td>\n",
       "    </tr>\n",
       "    <tr>\n",
       "      <th>6</th>\n",
       "      <td>2</td>\n",
       "      <td>2</td>\n",
       "      <td>0.035395</td>\n",
       "    </tr>\n",
       "    <tr>\n",
       "      <th>5</th>\n",
       "      <td>1</td>\n",
       "      <td>3</td>\n",
       "      <td>0.029615</td>\n",
       "    </tr>\n",
       "    <tr>\n",
       "      <th>8</th>\n",
       "      <td>2</td>\n",
       "      <td>3</td>\n",
       "      <td>0.010175</td>\n",
       "    </tr>\n",
       "    <tr>\n",
       "      <th>13</th>\n",
       "      <td>3</td>\n",
       "      <td>0</td>\n",
       "      <td>0.000168</td>\n",
       "    </tr>\n",
       "    <tr>\n",
       "      <th>9</th>\n",
       "      <td>2</td>\n",
       "      <td>0</td>\n",
       "      <td>0.000013</td>\n",
       "    </tr>\n",
       "  </tbody>\n",
       "</table>\n",
       "</div>"
      ],
      "text/plain": [
       "    test_g  pred_g   cnt_norm\n",
       "15       4       1  59.209877\n",
       "14       4       2  33.839506\n",
       "16       4       3   9.728395\n",
       "1        0       1   1.341914\n",
       "11       3       3   0.803619\n",
       "0        0       2   0.766928\n",
       "10       3       2   0.459283\n",
       "2        0       3   0.220481\n",
       "4        1       1   0.180247\n",
       "12       3       1   0.132038\n",
       "3        1       2   0.103014\n",
       "7        2       1   0.061931\n",
       "6        2       2   0.035395\n",
       "5        1       3   0.029615\n",
       "8        2       3   0.010175\n",
       "13       3       0   0.000168\n",
       "9        2       0   0.000013"
      ]
     },
     "execution_count": 168,
     "metadata": {},
     "output_type": "execute_result"
    }
   ],
   "source": [
    "pd.DataFrame(res_generation, columns=[\"test_g\", \"pred_g\", \"cnt_norm\"]).sort_values(\"cnt_norm\", ascending=False, inplace=False)"
   ]
  },
  {
   "cell_type": "markdown",
   "metadata": {},
   "source": [
    "Наиболее сильно ошибки модели проявляются между людьми 70+ и ~16"
   ]
  },
  {
   "cell_type": "markdown",
   "metadata": {},
   "source": [
    "А среди поколений в относительной шкале (относительно количесва наблюдений в тестовой выборке для каждого поколения) -  Поколение альфа с Поколением X, миллениалов и зумеров"
   ]
  }
 ],
 "metadata": {
  "kernelspec": {
   "display_name": "sna_env",
   "language": "python",
   "name": "python3"
  },
  "language_info": {
   "codemirror_mode": {
    "name": "ipython",
    "version": 3
   },
   "file_extension": ".py",
   "mimetype": "text/x-python",
   "name": "python",
   "nbconvert_exporter": "python",
   "pygments_lexer": "ipython3",
   "version": "3.9.6"
  }
 },
 "nbformat": 4,
 "nbformat_minor": 2
}
