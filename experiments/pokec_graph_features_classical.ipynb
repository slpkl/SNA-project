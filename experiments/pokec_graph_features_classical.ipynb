{
  "cells": [
    {
      "cell_type": "code",
      "execution_count": 5,
      "metadata": {
        "id": "4ConxdRxhbfv"
      },
      "outputs": [],
      "source": [
        "import networkx as nx\n",
        "import matplotlib.pyplot as plt\n",
        "import tarfile\n",
        "import pandas as pd\n",
        "import numpy as np\n",
        "import torch\n",
        "import numpy as np\n",
        "from tqdm.auto import tqdm\n",
        "from catboost import CatBoostRegressor, Pool"
      ]
    },
    {
      "cell_type": "markdown",
      "source": [
        "# Data processing"
      ],
      "metadata": {
        "id": "gQACVUgh31sq"
      }
    },
    {
      "cell_type": "code",
      "execution_count": null,
      "metadata": {
        "colab": {
          "base_uri": "https://localhost:8080/"
        },
        "id": "MpgD8EX0zVtB",
        "outputId": "f5f5fcad-7753-4ab7-b5ee-eb4508a13398"
      },
      "outputs": [
        {
          "name": "stdout",
          "output_type": "stream",
          "text": [
            "--2024-12-24 16:07:57--  https://snap.stanford.edu/data/soc-pokec-profiles.txt.gz\n",
            "Resolving snap.stanford.edu (snap.stanford.edu)... 171.64.75.80\n",
            "Connecting to snap.stanford.edu (snap.stanford.edu)|171.64.75.80|:443... connected.\n",
            "HTTP request sent, awaiting response... 200 OK\n",
            "Length: 435512787 (415M) [application/x-gzip]\n",
            "Saving to: ‘soc-pokec-profiles.txt.gz.1’\n",
            "\n",
            "pokec-profiles.txt.   0%[                    ]   4.01M  1.19MB/s    eta 10m 52s^C\n"
          ]
        }
      ],
      "source": [
        "! wget https://snap.stanford.edu/data/soc-pokec-profiles.txt.gz"
      ]
    },
    {
      "cell_type": "code",
      "execution_count": null,
      "metadata": {
        "id": "tgjHaLpU3HDp",
        "outputId": "e9ef1715-9356-4650-8409-d3088e68f983"
      },
      "outputs": [
        {
          "name": "stdout",
          "output_type": "stream",
          "text": [
            "Downloading...\n",
            "From (original): https://drive.google.com/uc?id=1Ln6S652bPn3S6YT8fycIa8f2iE65_44E\n",
            "From (redirected): https://drive.google.com/uc?id=1Ln6S652bPn3S6YT8fycIa8f2iE65_44E&confirm=t&uuid=a62b5f32-9be8-4fd6-a562-774254680290\n",
            "To: /workspace-SR003.nfs2/mera_dev/lm-evaluation-harness/auto_tests/graph.edgelist\n",
            "100%|█████████████████████████████████████████| 179M/179M [00:01<00:00, 106MB/s]\n"
          ]
        }
      ],
      "source": [
        "!gdown 1Ln6S652bPn3S6YT8fycIa8f2iE65_44E"
      ]
    },
    {
      "cell_type": "code",
      "execution_count": null,
      "metadata": {
        "id": "6o5cPgW9qH95"
      },
      "outputs": [],
      "source": [
        "#G = nx.read_edgelist(\"soc-pokec-relationships.txt.gz\", create_using = nx.DiGraph())\n",
        "G = nx.read_edgelist(\"graph.edgelist\")"
      ]
    },
    {
      "cell_type": "code",
      "execution_count": null,
      "metadata": {
        "id": "QHIrftFm6-VH"
      },
      "outputs": [],
      "source": [
        "def preprocess_nodes(X, ego_net):\n",
        "    # Собрать уникальные номера вершин из X\n",
        "    unique_nodes = pd.concat([X['u'], X['v']]).unique()\n",
        "\n",
        "    # Создать отображение узлов в индексы\n",
        "    node_to_index = {node: idx for idx, node in enumerate(unique_nodes)}\n",
        "\n",
        "    # Преобразовать u и v в индексы\n",
        "    X['u'] = X['u'].map(node_to_index)\n",
        "    X['v'] = X['v'].map(node_to_index)\n",
        "\n",
        "    return X, node_to_index\n",
        "\n",
        "def build_X(X, ego_net):\n",
        "    # Количество узлов и рёбер в эго-графе\n",
        "    vertex_cnt = ego_net.number_of_nodes()\n",
        "    edge_cnt = ego_net.number_of_edges()\n",
        "\n",
        "    # Добавляем метрики в X для всех узлов эго-графа\n",
        "    X['vertex_cnt'] = vertex_cnt\n",
        "    X['edge_cnt'] = edge_cnt\n",
        "    X['edge-vertex_cnt'] = edge_cnt - vertex_cnt\n",
        "    X['density'] = 2 * edge_cnt / vertex_cnt / (vertex_cnt - 1) if vertex_cnt > 1 else 0\n",
        "\n",
        "    # Сортируем вершины и создаем матрицу смежности для эго-графа\n",
        "    nodes = sorted(ego_net.nodes())\n",
        "    g = nx.to_numpy_array(ego_net, nodelist=nodes)\n",
        "\n",
        "    # Степени вершин\n",
        "    degree = g.sum(axis=1)\n",
        "\n",
        "    # Для каждого эго-графа (каждой вершины) считаем метрики\n",
        "    ego_data = pd.DataFrame({'node': nodes})\n",
        "\n",
        "    # Метрики по вершинам (агрегат по эго-графу)\n",
        "    ego_data['neighbour_cnt'] = degree  # Количество соседей (степень вершины)\n",
        "\n",
        "    # SC (структурная связность)\n",
        "    sc = g.dot(g.T)  # Это матрица структурной связности\n",
        "    ego_data['SC'] = sc.diagonal()  # Получаем значения только на диагонали (для каждой вершины)\n",
        "\n",
        "    # Метрика AA (Adamic-Adar)\n",
        "    degree_with_self = 1 + degree.reshape((-1, 1))  # Избегаем деления на 0\n",
        "    aa = (g / degree_with_self).dot(g.T)\n",
        "    ego_data['AA'] = aa.diagonal()  # Значения только на диагонали (для каждой вершины)\n",
        "\n",
        "    # Теперь агрегация по всем меткам эго-графа (среднее значение для всех соседей)\n",
        "    # Мы будем использовать данные для первой вершины (или центра эго-сети)\n",
        "    # Для одного эго-графа вернем агрегированные метрики\n",
        "    ego_data_aggregated = pd.DataFrame({\n",
        "        'neighbour_cnt_mean': ego_data['neighbour_cnt'].mean(),\n",
        "        'SC_mean': ego_data['SC'].mean(),\n",
        "        'AA_mean': ego_data['AA'].mean(),\n",
        "        'vertex_cnt': vertex_cnt,\n",
        "        'edge_cnt': edge_cnt,\n",
        "        'edge-vertex_cnt': edge_cnt - vertex_cnt,\n",
        "        'density': 2 * edge_cnt / vertex_cnt / (vertex_cnt - 1) if vertex_cnt > 1 else 0\n",
        "    }, index=[0])\n",
        "\n",
        "    return ego_data_aggregated"
      ]
    },
    {
      "cell_type": "code",
      "execution_count": null,
      "metadata": {
        "colab": {
          "base_uri": "https://localhost:8080/",
          "height": 666,
          "referenced_widgets": [
            "9718f0c3d5c64b65aa62268830731966",
            "6cc0d93005994319b5313423b76c5749",
            "70d80c0b576f42fd95eb1bbae3eb6037",
            "a749f675ab444029a4e3670b9ca66de0",
            "a11baad9db88477781c34ee58720c850",
            "9b292e7b88be45b2ba457b7ae687d6ee",
            "e76677397acf4be49d029bf5e6508e97",
            "4d8371979cae49298a014963f67cd01a",
            "9dcaad65d08d4e77983bbe3150bc3924",
            "d7c40694a2904695972b1a9f6321af79",
            "f2a4a4691f9643c682226bdf4cbe8d7f",
            "839ae49f5a484382b8b07976ac27f8e0"
          ]
        },
        "id": "ENE4h3ydsnPS",
        "outputId": "a0db8b1d-f412-4b4c-c132-fe8ab1c34c24"
      },
      "outputs": [
        {
          "data": {
            "application/vnd.jupyter.widget-view+json": {
              "model_id": "839ae49f5a484382b8b07976ac27f8e0",
              "version_major": 2,
              "version_minor": 0
            },
            "text/plain": [
              "  0%|          | 0/1099121 [00:00<?, ?it/s]"
            ]
          },
          "metadata": {},
          "output_type": "display_data"
        },
        {
          "name": "stdout",
          "output_type": "stream",
          "text": [
            "         neighbour_cnt_mean   SC_mean   AA_mean  vertex_cnt  edge_cnt  \\\n",
            "0                  1.833333  1.833333  0.534722          12        11   \n",
            "1                  9.421053  9.421053  0.816157          38       179   \n",
            "2                  2.000000  2.000000  0.554422          14        14   \n",
            "3                  1.500000  1.500000  0.562500           4         3   \n",
            "4                  1.000000  1.000000  0.500000           2         1   \n",
            "...                     ...       ...       ...         ...       ...   \n",
            "1099116            1.000000  1.000000  0.500000           2         1   \n",
            "1099117            1.000000  1.000000  0.500000           2         1   \n",
            "1099118            1.000000  1.000000  0.500000           2         1   \n",
            "1099119            1.000000  1.000000  0.500000           2         1   \n",
            "1099120            1.000000  1.000000  0.500000           2         1   \n",
            "\n",
            "         edge-vertex_cnt   density  \n",
            "0                     -1  0.166667  \n",
            "1                    141  0.254623  \n",
            "2                      0  0.153846  \n",
            "3                     -1  0.500000  \n",
            "4                     -1  1.000000  \n",
            "...                  ...       ...  \n",
            "1099116               -1  1.000000  \n",
            "1099117               -1  1.000000  \n",
            "1099118               -1  1.000000  \n",
            "1099119               -1  1.000000  \n",
            "1099120               -1  1.000000  \n",
            "\n",
            "[1099121 rows x 7 columns]\n"
          ]
        }
      ],
      "source": [
        "df_graph = []\n",
        "\n",
        "# Список всех вершин графа\n",
        "nodes = list(G.nodes())\n",
        "\n",
        "# Обрабатываем каждую вершину как эго\n",
        "for ego_id in tqdm(nodes):\n",
        "    # Извлекаем эго-сеть\n",
        "    ego_net = nx.ego_graph(G, ego_id, radius=1, center=True)\n",
        "\n",
        "    # Подготовка данных для текущей эго-сети\n",
        "    X = pd.DataFrame({\n",
        "        'u': [int(edge[0]) for edge in ego_net.edges()],\n",
        "        'v': [int(edge[1]) for edge in ego_net.edges()]\n",
        "    })\n",
        "\n",
        "    # Подготовка данных\n",
        "    X, node_to_index = preprocess_nodes(X, ego_net)\n",
        "\n",
        "    # Строим признаки для эго-графа\n",
        "    X_aggregated = build_X(X, ego_net)\n",
        "\n",
        "    # Сохраняем результат для каждого эго-графа\n",
        "    df_graph.append(X_aggregated)\n",
        "\n",
        "# Собираем всё в единый DataFrame\n",
        "df_graph = pd.concat(df_graph, ignore_index=True)\n",
        "\n",
        "# Печатаем итоговый DataFrame\n",
        "print(df_graph)"
      ]
    },
    {
      "cell_type": "code",
      "execution_count": null,
      "metadata": {
        "id": "Rk_dO472zjaA"
      },
      "outputs": [],
      "source": [
        "columns = [\n",
        "            \"public\",\n",
        "            \"completion_percentage\",\n",
        "            \"gender\",\n",
        "            \"region\",\n",
        "            \"last_login\",\n",
        "            \"registration\",\n",
        "            \"AGE\",\n",
        "            \"body\",\n",
        "            \"I_am_working_in_field\",\n",
        "            \"spoken_languages\",\n",
        "            \"hobbies\",\n",
        "            \"I_most_enjoy_good_food\",\n",
        "            \"pets\",\n",
        "            \"body_type\",\n",
        "            \"my_eyesight\",\n",
        "            \"eye_color\",\n",
        "            \"hair_color\",\n",
        "            \"hair_type\",\n",
        "            \"completed_level_of_education\",\n",
        "            \"favourite_color\",\n",
        "            \"relation_to_smoking\",\n",
        "            \"relation_to_alcohol\",\n",
        "            \"sign_in_zodiac\",\n",
        "            \"on_pokec_i_am_looking_for\",\n",
        "            \"love_is_for_me\",\n",
        "            \"relation_to_casual_sex\",\n",
        "            \"my_partner_should_be\",\n",
        "            \"marital_status\",\n",
        "            \"children\",\n",
        "            \"relation_to_children\",\n",
        "            \"I_like_movies\",\n",
        "            \"I_like_watching_movie\",\n",
        "            \"I_like_music\",\n",
        "            \"I_mostly_like_listening_to_music\",\n",
        "            \"the_idea_of_good_evening\",\n",
        "            \"I_like_specialties_from_kitchen\",\n",
        "            \"fun\",\n",
        "            \"I_am_going_to_concerts\",\n",
        "            \"my_active_sports\",\n",
        "            \"my_passive_sports\",\n",
        "            \"profession\",\n",
        "            \"I_like_books\",\n",
        "            \"life_style\",\n",
        "            \"music\",\n",
        "            \"cars\",\n",
        "            \"politics\",\n",
        "            \"relationships\",\n",
        "            \"art_culture\",\n",
        "            \"hobbies_interests\",\n",
        "            \"science_technologies\",\n",
        "            \"computers_internet\",\n",
        "            \"education\",\n",
        "            \"sport\",\n",
        "            \"movies\",\n",
        "            \"travelling\",\n",
        "            \"health\",\n",
        "            \"companies_brands\",\n",
        "            \"more\",\n",
        "            \"\"\n",
        "        ]"
      ]
    },
    {
      "cell_type": "code",
      "execution_count": null,
      "metadata": {
        "id": "qKSWPTuGzl6v"
      },
      "outputs": [],
      "source": [
        "df_all = pd.read_csv('soc-pokec-profiles.txt.gz', compression='gzip', sep='\\t', names=columns, encoding='utf-8', on_bad_lines='skip', index_col=None)"
      ]
    },
    {
      "cell_type": "code",
      "execution_count": null,
      "metadata": {
        "colab": {
          "base_uri": "https://localhost:8080/",
          "height": 464
        },
        "id": "D07UEYfkzn6E",
        "outputId": "1df64afc-7268-4fc7-aa11-2026fbd40a67"
      },
      "outputs": [
        {
          "data": {
            "text/html": [
              "<div>\n",
              "<style scoped>\n",
              "    .dataframe tbody tr th:only-of-type {\n",
              "        vertical-align: middle;\n",
              "    }\n",
              "\n",
              "    .dataframe tbody tr th {\n",
              "        vertical-align: top;\n",
              "    }\n",
              "\n",
              "    .dataframe thead th {\n",
              "        text-align: right;\n",
              "    }\n",
              "</style>\n",
              "<table border=\"1\" class=\"dataframe\">\n",
              "  <thead>\n",
              "    <tr style=\"text-align: right;\">\n",
              "      <th></th>\n",
              "      <th>public</th>\n",
              "      <th>completion_percentage</th>\n",
              "      <th>gender</th>\n",
              "      <th>region</th>\n",
              "      <th>last_login</th>\n",
              "      <th>registration</th>\n",
              "      <th>AGE</th>\n",
              "      <th>body</th>\n",
              "      <th>I_am_working_in_field</th>\n",
              "      <th>spoken_languages</th>\n",
              "      <th>...</th>\n",
              "      <th>science_technologies</th>\n",
              "      <th>computers_internet</th>\n",
              "      <th>education</th>\n",
              "      <th>sport</th>\n",
              "      <th>movies</th>\n",
              "      <th>travelling</th>\n",
              "      <th>health</th>\n",
              "      <th>companies_brands</th>\n",
              "      <th>more</th>\n",
              "      <th></th>\n",
              "    </tr>\n",
              "  </thead>\n",
              "  <tbody>\n",
              "    <tr>\n",
              "      <th>1</th>\n",
              "      <td>1</td>\n",
              "      <td>14</td>\n",
              "      <td>1.0</td>\n",
              "      <td>zilinsky kraj, zilina</td>\n",
              "      <td>2012-05-25 11:20:00.0</td>\n",
              "      <td>2005-04-03 00:00:00.0</td>\n",
              "      <td>26.0</td>\n",
              "      <td>185 cm, 90 kg</td>\n",
              "      <td>it</td>\n",
              "      <td>anglicky</td>\n",
              "      <td>...</td>\n",
              "      <td>NaN</td>\n",
              "      <td>NaN</td>\n",
              "      <td>NaN</td>\n",
              "      <td>NaN</td>\n",
              "      <td>NaN</td>\n",
              "      <td>NaN</td>\n",
              "      <td>NaN</td>\n",
              "      <td>NaN</td>\n",
              "      <td>NaN</td>\n",
              "      <td>NaN</td>\n",
              "    </tr>\n",
              "    <tr>\n",
              "      <th>2</th>\n",
              "      <td>1</td>\n",
              "      <td>62</td>\n",
              "      <td>0.0</td>\n",
              "      <td>zilinsky kraj, kysucke nove mesto</td>\n",
              "      <td>2012-05-25 23:08:00.0</td>\n",
              "      <td>2007-11-30 00:00:00.0</td>\n",
              "      <td>0.0</td>\n",
              "      <td>166 cm, 58 kg</td>\n",
              "      <td>NaN</td>\n",
              "      <td>nemecky</td>\n",
              "      <td>...</td>\n",
              "      <td>NaN</td>\n",
              "      <td>NaN</td>\n",
              "      <td>NaN</td>\n",
              "      <td>NaN</td>\n",
              "      <td>NaN</td>\n",
              "      <td>NaN</td>\n",
              "      <td>NaN</td>\n",
              "      <td>NaN</td>\n",
              "      <td>NaN</td>\n",
              "      <td>NaN</td>\n",
              "    </tr>\n",
              "    <tr>\n",
              "      <th>16</th>\n",
              "      <td>1</td>\n",
              "      <td>64</td>\n",
              "      <td>1.0</td>\n",
              "      <td>zilinsky kraj, kysucke nove mesto</td>\n",
              "      <td>2012-05-25 23:19:40.0</td>\n",
              "      <td>2008-05-18 00:00:00.0</td>\n",
              "      <td>23.0</td>\n",
              "      <td>173 cm, 70 kg</td>\n",
              "      <td>najvatcsej firme na svete urad prace</td>\n",
              "      <td>no predsa svoj :d a najlepsie druhy</td>\n",
              "      <td>...</td>\n",
              "      <td>NaN</td>\n",
              "      <td>NaN</td>\n",
              "      <td>NaN</td>\n",
              "      <td>NaN</td>\n",
              "      <td>NaN</td>\n",
              "      <td>NaN</td>\n",
              "      <td>NaN</td>\n",
              "      <td>NaN</td>\n",
              "      <td>NaN</td>\n",
              "      <td>NaN</td>\n",
              "    </tr>\n",
              "    <tr>\n",
              "      <th>3</th>\n",
              "      <td>0</td>\n",
              "      <td>38</td>\n",
              "      <td>1.0</td>\n",
              "      <td>bratislavsky kraj, bratislava - karlova ves</td>\n",
              "      <td>2012-05-10 18:05:00.0</td>\n",
              "      <td>2010-05-23 00:00:00.0</td>\n",
              "      <td>29.0</td>\n",
              "      <td>NaN</td>\n",
              "      <td>reklamy a medii, sluzieb a obchodu</td>\n",
              "      <td>anglicky, nemecky</td>\n",
              "      <td>...</td>\n",
              "      <td>NaN</td>\n",
              "      <td>NaN</td>\n",
              "      <td>NaN</td>\n",
              "      <td>NaN</td>\n",
              "      <td>NaN</td>\n",
              "      <td>NaN</td>\n",
              "      <td>NaN</td>\n",
              "      <td>NaN</td>\n",
              "      <td>NaN</td>\n",
              "      <td>NaN</td>\n",
              "    </tr>\n",
              "    <tr>\n",
              "      <th>4</th>\n",
              "      <td>1</td>\n",
              "      <td>12</td>\n",
              "      <td>0.0</td>\n",
              "      <td>banskobystricky kraj, brezno</td>\n",
              "      <td>2011-12-29 12:25:00.0</td>\n",
              "      <td>2011-12-29 00:00:00.0</td>\n",
              "      <td>26.0</td>\n",
              "      <td>NaN</td>\n",
              "      <td>NaN</td>\n",
              "      <td>NaN</td>\n",
              "      <td>...</td>\n",
              "      <td>NaN</td>\n",
              "      <td>NaN</td>\n",
              "      <td>NaN</td>\n",
              "      <td>NaN</td>\n",
              "      <td>NaN</td>\n",
              "      <td>NaN</td>\n",
              "      <td>NaN</td>\n",
              "      <td>NaN</td>\n",
              "      <td>NaN</td>\n",
              "      <td>NaN</td>\n",
              "    </tr>\n",
              "  </tbody>\n",
              "</table>\n",
              "<p>5 rows × 59 columns</p>\n",
              "</div>"
            ],
            "text/plain": [
              "    public  completion_percentage  gender  \\\n",
              "1        1                     14     1.0   \n",
              "2        1                     62     0.0   \n",
              "16       1                     64     1.0   \n",
              "3        0                     38     1.0   \n",
              "4        1                     12     0.0   \n",
              "\n",
              "                                         region             last_login  \\\n",
              "1                         zilinsky kraj, zilina  2012-05-25 11:20:00.0   \n",
              "2             zilinsky kraj, kysucke nove mesto  2012-05-25 23:08:00.0   \n",
              "16            zilinsky kraj, kysucke nove mesto  2012-05-25 23:19:40.0   \n",
              "3   bratislavsky kraj, bratislava - karlova ves  2012-05-10 18:05:00.0   \n",
              "4                  banskobystricky kraj, brezno  2011-12-29 12:25:00.0   \n",
              "\n",
              "             registration   AGE           body  \\\n",
              "1   2005-04-03 00:00:00.0  26.0  185 cm, 90 kg   \n",
              "2   2007-11-30 00:00:00.0   0.0  166 cm, 58 kg   \n",
              "16  2008-05-18 00:00:00.0  23.0  173 cm, 70 kg   \n",
              "3   2010-05-23 00:00:00.0  29.0            NaN   \n",
              "4   2011-12-29 00:00:00.0  26.0            NaN   \n",
              "\n",
              "                   I_am_working_in_field                     spoken_languages  \\\n",
              "1                                     it                             anglicky   \n",
              "2                                    NaN                              nemecky   \n",
              "16  najvatcsej firme na svete urad prace  no predsa svoj :d a najlepsie druhy   \n",
              "3     reklamy a medii, sluzieb a obchodu                    anglicky, nemecky   \n",
              "4                                    NaN                                  NaN   \n",
              "\n",
              "    ... science_technologies computers_internet education sport movies  \\\n",
              "1   ...                  NaN                NaN       NaN   NaN    NaN   \n",
              "2   ...                  NaN                NaN       NaN   NaN    NaN   \n",
              "16  ...                  NaN                NaN       NaN   NaN    NaN   \n",
              "3   ...                  NaN                NaN       NaN   NaN    NaN   \n",
              "4   ...                  NaN                NaN       NaN   NaN    NaN   \n",
              "\n",
              "   travelling health companies_brands more      \n",
              "1         NaN    NaN              NaN  NaN NaN  \n",
              "2         NaN    NaN              NaN  NaN NaN  \n",
              "16        NaN    NaN              NaN  NaN NaN  \n",
              "3         NaN    NaN              NaN  NaN NaN  \n",
              "4         NaN    NaN              NaN  NaN NaN  \n",
              "\n",
              "[5 rows x 59 columns]"
            ]
          },
          "execution_count": 10,
          "metadata": {},
          "output_type": "execute_result"
        }
      ],
      "source": [
        "df_all.head()"
      ]
    },
    {
      "cell_type": "code",
      "execution_count": null,
      "metadata": {
        "id": "WTq7xlUjzp5G",
        "outputId": "9fc525d5-1dba-4fbe-9f41-72616f2c8d7e"
      },
      "outputs": [
        {
          "name": "stderr",
          "output_type": "stream",
          "text": [
            "/home/jovyan/.mlspace/envs/auto_tests/lib/python3.11/site-packages/pandas/core/indexing.py:1773: SettingWithCopyWarning: \n",
            "A value is trying to be set on a copy of a slice from a DataFrame.\n",
            "Try using .loc[row_indexer,col_indexer] = value instead\n",
            "\n",
            "See the caveats in the documentation: https://pandas.pydata.org/pandas-docs/stable/user_guide/indexing.html#returning-a-view-versus-a-copy\n",
            "  self._setitem_single_column(ilocs[0], value, pi)\n"
          ]
        }
      ],
      "source": [
        "from sklearn.preprocessing import LabelEncoder\n",
        "import string\n",
        "import math\n",
        "\n",
        "df_known = df_all.copy()\n",
        "df_known = df_known[~df_known.AGE.isnull()]\n",
        "df_known = df_known[df_known.AGE != 0]\n",
        "\n",
        "df_known.index = list(range(df_known.shape[0]))\n",
        "\n",
        "df = df_known[[\"public\", \"completion_percentage\", \"gender\", \"region\", \"AGE\", \"last_login\", \"completed_level_of_education\"]]\n",
        "\n",
        "le = LabelEncoder()\n",
        "df.loc[:, 'region'] = le.fit_transform(df['region'])\n",
        "df.loc[:, 'region'] = df['region'].apply(lambda x : int(x))\n",
        "\n",
        "translator = str.maketrans(string.punctuation, ' '*len(string.punctuation))\n",
        "\n",
        "def get_words(text):\n",
        "    res = text.translate(translator).split()\n",
        "    #res = re.sub('['+string.punctuation+']', ' ', text).split()\n",
        "    for i in range(0, len(res)):\n",
        "        res[i] = res[i].strip()\n",
        "    return res\n",
        "\n",
        "def transform(val, transformer):\n",
        "    if val is None or val == \" \" or (type(val) is float and math.isnan(val)):\n",
        "        return 0\n",
        "    return transformer(val)\n",
        "def relable_transformer(val, keywords, no_hit_to_null=True):\n",
        "    if val == 0:\n",
        "        return 0\n",
        "    val_clean = ' '.join(get_words(val))\n",
        "    for keyword, repl in keywords:\n",
        "        if keyword in val_clean:\n",
        "            return repl\n",
        "    if no_hit_to_null:\n",
        "        return 0\n",
        "    else:\n",
        "        return val"
      ]
    },
    {
      "cell_type": "code",
      "execution_count": null,
      "metadata": {
        "id": "gdBvXd8J0HDS"
      },
      "outputs": [],
      "source": [
        "edu_keywords = [('stredoskolske', 1), ('zakladne', 1), # среднее и основное образование\n",
        "                ('vysokoskolske', 2), # колледж\n",
        "                ('ucnovske', 3), # стажировка\n",
        "                ('studujem', 4), ('student', 3), # студент\n",
        "                ('pracuje', 5), # практика\n",
        "                ('bakalarske', 6)] # бакалавриат\n",
        "df.loc[:, 'completed_level_of_education'] = df['completed_level_of_education'].apply(lambda x: transform(x, lambda v: relable_transformer(v, edu_keywords)))"
      ]
    },
    {
      "cell_type": "code",
      "execution_count": null,
      "metadata": {
        "id": "gpX_VhKt0IRB"
      },
      "outputs": [],
      "source": [
        "import datetime\n",
        "df.loc[:, \"last_login\"] = df[\"last_login\"].apply(lambda x : int(datetime.datetime.strptime(x.split()[0],  '%Y-%m-%d').timestamp()))"
      ]
    },
    {
      "cell_type": "code",
      "execution_count": null,
      "metadata": {
        "id": "qtg4VGCt0RQk"
      },
      "outputs": [],
      "source": [
        "import re\n",
        "def transform_body(val):\n",
        "    if val is None or (type(val) is float and math.isnan(val)):\n",
        "        return 0, 0\n",
        "    height_program = re.compile(r\"[0-9]+(\\s*)cm\")\n",
        "    weight_program = re.compile(r\"[0-9]+(\\s*)kg\")\n",
        "    h = re.search(height_program, val)\n",
        "    if h is None:\n",
        "        h = 0\n",
        "    else:\n",
        "        h = re.sub(r'(\\s*)cm', '', h.group(0))\n",
        "    w = re.search(weight_program, val)\n",
        "    if w is None:\n",
        "        w = 0\n",
        "    else:\n",
        "        w = re.sub(r'(\\s*)kg', '', w.group(0))\n",
        "    if int(h) > 10000:\n",
        "        h = 0\n",
        "    if int(w) > 10000:\n",
        "        w = 0\n",
        "    return int(h), int(w)"
      ]
    },
    {
      "cell_type": "code",
      "execution_count": null,
      "metadata": {
        "colab": {
          "base_uri": "https://localhost:8080/"
        },
        "id": "bpOEmVeJ0Snf",
        "outputId": "c8dbe507-23d2-462b-bf8c-473d4d98d67d"
      },
      "outputs": [
        {
          "name": "stderr",
          "output_type": "stream",
          "text": [
            "/home/jovyan/.mlspace/envs/auto_tests/lib/python3.11/site-packages/pandas/core/indexing.py:1667: SettingWithCopyWarning: \n",
            "A value is trying to be set on a copy of a slice from a DataFrame.\n",
            "Try using .loc[row_indexer,col_indexer] = value instead\n",
            "\n",
            "See the caveats in the documentation: https://pandas.pydata.org/pandas-docs/stable/user_guide/indexing.html#returning-a-view-versus-a-copy\n",
            "  self.obj[key] = value\n"
          ]
        }
      ],
      "source": [
        "df.loc[:, \"hight\"] = df_known[\"body\"].apply(lambda x : transform_body(x)[0])\n",
        "df.loc[:, \"weight\"] = df_known[\"body\"].apply(lambda x : transform_body(x)[1])\n",
        "df = df.astype({'region': 'int64', 'completed_level_of_education': 'int64', 'hight' : 'int64', 'weight' : 'int64', 'last_login' : 'int64'})"
      ]
    },
    {
      "cell_type": "code",
      "execution_count": null,
      "metadata": {
        "colab": {
          "base_uri": "https://localhost:8080/",
          "height": 388,
          "referenced_widgets": [
            "d10b97e28da74b859c151aa509e9eb10",
            "276ce09ffa9f43489d45e8672ceaa107",
            "193006c5474949c69bbc0cca8d972a31",
            "59255daea6974a4d8c6ce4bd29ce2d45",
            "242636873a68452cbae9bbfa360a686d",
            "6e8429381ecf46ac9a3d4bb17ea47072",
            "ad72fe4889df43819713f2a0230aa06b",
            "859f367d1ad04fe39ecf97e5f0746df1",
            "e3f21d6adea74401b9752b4e9b7cb170",
            "143ac01666b24c9083b2333cc5f45fb2",
            "f1bef7d1e0d047fca23d06536eb1bb3f",
            "f338cab284434aaa9a77f5f0fc221c5b"
          ]
        },
        "id": "Ibl56CudP_z5",
        "outputId": "9c255970-bb3c-476d-a1f5-1c91e19d4853"
      },
      "outputs": [
        {
          "data": {
            "application/vnd.jupyter.widget-view+json": {
              "model_id": "f338cab284434aaa9a77f5f0fc221c5b",
              "version_major": 2,
              "version_minor": 0
            },
            "text/plain": [
              "  0%|          | 0/1099121 [00:00<?, ?it/s]"
            ]
          },
          "metadata": {},
          "output_type": "display_data"
        }
      ],
      "source": [
        "def calculate_mode(series):\n",
        "    return series.mode().iloc[0] if not series.empty else np.nan\n",
        "\n",
        "# Вычисление агрегатов по соседям для каждой вершины\n",
        "aggregates = []\n",
        "for node in tqdm(G.nodes):\n",
        "    neighbors = [int(neighbor) for neighbor in G.neighbors(node)]\n",
        "    if neighbors:\n",
        "        # Извлекаем признаки соседей\n",
        "        neighbor_features = df.loc[neighbors]\n",
        "\n",
        "        # Вычисляем агрегаты для каждого признака\n",
        "        aggregates.append({\n",
        "            'node': node,\n",
        "            'mean_public': neighbor_features['public'].mode().iloc[0],  # Мода для категориальных данных\n",
        "            'mean_completion_percentage': neighbor_features['completion_percentage'].mean(),  # Среднее для числовых данных\n",
        "            'mean_gender': neighbor_features['gender'].mode().iloc[0],\n",
        "            'mean_region': neighbor_features['region'].mode().iloc[0],\n",
        "            'mean_AGE': neighbor_features['AGE'].mean(),\n",
        "            'mean_last_login': neighbor_features['last_login'].mean(),\n",
        "            'mean_completed_level_of_education': neighbor_features['completed_level_of_education'].mode().iloc[0],\n",
        "            'mean_hight': neighbor_features['hight'].mean(),\n",
        "            'mean_weight': neighbor_features['weight'].mean(),\n",
        "            'min_completion_percentage': neighbor_features['completion_percentage'].min(),  # Мин для числовых данных\n",
        "            'max_completion_percentage': neighbor_features['completion_percentage'].max(),\n",
        "            'min_AGE': neighbor_features['AGE'].min(),\n",
        "            'max_AGE': neighbor_features['AGE'].max(),\n",
        "            'min_last_login': neighbor_features['last_login'].min(),\n",
        "            'max_last_login': neighbor_features['last_login'].max(),\n",
        "            'min_hight': neighbor_features['hight'].min(),\n",
        "            'max_hight': neighbor_features['hight'].max(),\n",
        "            'min_weight': neighbor_features['weight'].min(),\n",
        "            'max_weight': neighbor_features['weight'].max()\n",
        "        })\n",
        "    else:\n",
        "        # Если у вершины нет соседей, заполняем NaN\n",
        "        aggregates.append({\n",
        "            'node': node,\n",
        "            'mean_public': np.nan,\n",
        "            'mean_completion_percentage': np.nan,\n",
        "            'mean_gender': np.nan,\n",
        "            'mean_region': np.nan,\n",
        "            'mean_AGE': np.nan,\n",
        "            'mean_last_login': np.nan,\n",
        "            'mean_completed_level_of_education': np.nan,\n",
        "            'mean_hight': np.nan,\n",
        "            'mean_weight': np.nan,\n",
        "            'min_completion_percentage': np.nan,\n",
        "            'max_completion_percentage': np.nan,\n",
        "            'min_AGE': np.nan,\n",
        "            'max_AGE': np.nan,\n",
        "            'min_last_login': np.nan,\n",
        "            'max_last_login': np.nan,\n",
        "            'min_hight': np.nan,\n",
        "            'max_hight': np.nan,\n",
        "            'min_weight': np.nan,\n",
        "            'max_weight': np.nan\n",
        "        })"
      ]
    },
    {
      "cell_type": "code",
      "execution_count": null,
      "metadata": {
        "colab": {
          "base_uri": "https://localhost:8080/",
          "height": 444
        },
        "id": "dcrLuGynQd8B",
        "outputId": "6e5c7d1d-0b8a-4f9f-cbd6-41bf9661d59e"
      },
      "outputs": [
        {
          "data": {
            "text/html": [
              "<div>\n",
              "<style scoped>\n",
              "    .dataframe tbody tr th:only-of-type {\n",
              "        vertical-align: middle;\n",
              "    }\n",
              "\n",
              "    .dataframe tbody tr th {\n",
              "        vertical-align: top;\n",
              "    }\n",
              "\n",
              "    .dataframe thead th {\n",
              "        text-align: right;\n",
              "    }\n",
              "</style>\n",
              "<table border=\"1\" class=\"dataframe\">\n",
              "  <thead>\n",
              "    <tr style=\"text-align: right;\">\n",
              "      <th></th>\n",
              "      <th>node</th>\n",
              "      <th>mean_public</th>\n",
              "      <th>mean_completion_percentage</th>\n",
              "      <th>mean_gender</th>\n",
              "      <th>mean_region</th>\n",
              "      <th>mean_AGE</th>\n",
              "      <th>mean_last_login</th>\n",
              "      <th>mean_completed_level_of_education</th>\n",
              "      <th>mean_hight</th>\n",
              "      <th>mean_weight</th>\n",
              "      <th>min_completion_percentage</th>\n",
              "      <th>max_completion_percentage</th>\n",
              "      <th>min_AGE</th>\n",
              "      <th>max_AGE</th>\n",
              "      <th>min_last_login</th>\n",
              "      <th>max_last_login</th>\n",
              "      <th>min_hight</th>\n",
              "      <th>max_hight</th>\n",
              "      <th>min_weight</th>\n",
              "      <th>max_weight</th>\n",
              "    </tr>\n",
              "  </thead>\n",
              "  <tbody>\n",
              "    <tr>\n",
              "      <th>0</th>\n",
              "      <td>0</td>\n",
              "      <td>1</td>\n",
              "      <td>44.545455</td>\n",
              "      <td>1.0</td>\n",
              "      <td>171</td>\n",
              "      <td>24.818182</td>\n",
              "      <td>1.335549e+09</td>\n",
              "      <td>0</td>\n",
              "      <td>79.000000</td>\n",
              "      <td>38.454545</td>\n",
              "      <td>12</td>\n",
              "      <td>72</td>\n",
              "      <td>18.0</td>\n",
              "      <td>38.0</td>\n",
              "      <td>1325102400</td>\n",
              "      <td>1337889600</td>\n",
              "      <td>0</td>\n",
              "      <td>185</td>\n",
              "      <td>0</td>\n",
              "      <td>88</td>\n",
              "    </tr>\n",
              "    <tr>\n",
              "      <th>1</th>\n",
              "      <td>1</td>\n",
              "      <td>1</td>\n",
              "      <td>44.405405</td>\n",
              "      <td>0.0</td>\n",
              "      <td>2</td>\n",
              "      <td>21.729730</td>\n",
              "      <td>1.336054e+09</td>\n",
              "      <td>0</td>\n",
              "      <td>85.189189</td>\n",
              "      <td>19.837838</td>\n",
              "      <td>12</td>\n",
              "      <td>76</td>\n",
              "      <td>10.0</td>\n",
              "      <td>28.0</td>\n",
              "      <td>1316203200</td>\n",
              "      <td>1337889600</td>\n",
              "      <td>0</td>\n",
              "      <td>190</td>\n",
              "      <td>0</td>\n",
              "      <td>91</td>\n",
              "    </tr>\n",
              "    <tr>\n",
              "      <th>2</th>\n",
              "      <td>2</td>\n",
              "      <td>1</td>\n",
              "      <td>51.000000</td>\n",
              "      <td>1.0</td>\n",
              "      <td>171</td>\n",
              "      <td>23.000000</td>\n",
              "      <td>1.331662e+09</td>\n",
              "      <td>1</td>\n",
              "      <td>167.692308</td>\n",
              "      <td>53.461538</td>\n",
              "      <td>12</td>\n",
              "      <td>78</td>\n",
              "      <td>16.0</td>\n",
              "      <td>28.0</td>\n",
              "      <td>1312401600</td>\n",
              "      <td>1337889600</td>\n",
              "      <td>0</td>\n",
              "      <td>195</td>\n",
              "      <td>0</td>\n",
              "      <td>109</td>\n",
              "    </tr>\n",
              "    <tr>\n",
              "      <th>3</th>\n",
              "      <td>3</td>\n",
              "      <td>1</td>\n",
              "      <td>20.000000</td>\n",
              "      <td>1.0</td>\n",
              "      <td>69</td>\n",
              "      <td>24.333333</td>\n",
              "      <td>1.332072e+09</td>\n",
              "      <td>0</td>\n",
              "      <td>61.666667</td>\n",
              "      <td>30.000000</td>\n",
              "      <td>12</td>\n",
              "      <td>34</td>\n",
              "      <td>22.0</td>\n",
              "      <td>26.0</td>\n",
              "      <td>1328212800</td>\n",
              "      <td>1337889600</td>\n",
              "      <td>0</td>\n",
              "      <td>185</td>\n",
              "      <td>0</td>\n",
              "      <td>90</td>\n",
              "    </tr>\n",
              "    <tr>\n",
              "      <th>4</th>\n",
              "      <td>4</td>\n",
              "      <td>1</td>\n",
              "      <td>14.000000</td>\n",
              "      <td>1.0</td>\n",
              "      <td>184</td>\n",
              "      <td>26.000000</td>\n",
              "      <td>1.337890e+09</td>\n",
              "      <td>0</td>\n",
              "      <td>185.000000</td>\n",
              "      <td>90.000000</td>\n",
              "      <td>14</td>\n",
              "      <td>14</td>\n",
              "      <td>26.0</td>\n",
              "      <td>26.0</td>\n",
              "      <td>1337889600</td>\n",
              "      <td>1337889600</td>\n",
              "      <td>185</td>\n",
              "      <td>185</td>\n",
              "      <td>90</td>\n",
              "      <td>90</td>\n",
              "    </tr>\n",
              "    <tr>\n",
              "      <th>...</th>\n",
              "      <td>...</td>\n",
              "      <td>...</td>\n",
              "      <td>...</td>\n",
              "      <td>...</td>\n",
              "      <td>...</td>\n",
              "      <td>...</td>\n",
              "      <td>...</td>\n",
              "      <td>...</td>\n",
              "      <td>...</td>\n",
              "      <td>...</td>\n",
              "      <td>...</td>\n",
              "      <td>...</td>\n",
              "      <td>...</td>\n",
              "      <td>...</td>\n",
              "      <td>...</td>\n",
              "      <td>...</td>\n",
              "      <td>...</td>\n",
              "      <td>...</td>\n",
              "      <td>...</td>\n",
              "      <td>...</td>\n",
              "    </tr>\n",
              "    <tr>\n",
              "      <th>1099116</th>\n",
              "      <td>1099111</td>\n",
              "      <td>1</td>\n",
              "      <td>22.000000</td>\n",
              "      <td>1.0</td>\n",
              "      <td>119</td>\n",
              "      <td>39.000000</td>\n",
              "      <td>1.336766e+09</td>\n",
              "      <td>0</td>\n",
              "      <td>182.000000</td>\n",
              "      <td>89.000000</td>\n",
              "      <td>22</td>\n",
              "      <td>22</td>\n",
              "      <td>39.0</td>\n",
              "      <td>39.0</td>\n",
              "      <td>1336766400</td>\n",
              "      <td>1336766400</td>\n",
              "      <td>182</td>\n",
              "      <td>182</td>\n",
              "      <td>89</td>\n",
              "      <td>89</td>\n",
              "    </tr>\n",
              "    <tr>\n",
              "      <th>1099117</th>\n",
              "      <td>1099112</td>\n",
              "      <td>1</td>\n",
              "      <td>12.000000</td>\n",
              "      <td>0.0</td>\n",
              "      <td>15</td>\n",
              "      <td>22.000000</td>\n",
              "      <td>1.330546e+09</td>\n",
              "      <td>0</td>\n",
              "      <td>0.000000</td>\n",
              "      <td>0.000000</td>\n",
              "      <td>12</td>\n",
              "      <td>12</td>\n",
              "      <td>22.0</td>\n",
              "      <td>22.0</td>\n",
              "      <td>1330545600</td>\n",
              "      <td>1330545600</td>\n",
              "      <td>0</td>\n",
              "      <td>0</td>\n",
              "      <td>0</td>\n",
              "      <td>0</td>\n",
              "    </tr>\n",
              "    <tr>\n",
              "      <th>1099118</th>\n",
              "      <td>1099113</td>\n",
              "      <td>0</td>\n",
              "      <td>12.000000</td>\n",
              "      <td>1.0</td>\n",
              "      <td>11</td>\n",
              "      <td>11.000000</td>\n",
              "      <td>1.330546e+09</td>\n",
              "      <td>0</td>\n",
              "      <td>0.000000</td>\n",
              "      <td>0.000000</td>\n",
              "      <td>12</td>\n",
              "      <td>12</td>\n",
              "      <td>11.0</td>\n",
              "      <td>11.0</td>\n",
              "      <td>1330545600</td>\n",
              "      <td>1330545600</td>\n",
              "      <td>0</td>\n",
              "      <td>0</td>\n",
              "      <td>0</td>\n",
              "      <td>0</td>\n",
              "    </tr>\n",
              "    <tr>\n",
              "      <th>1099119</th>\n",
              "      <td>1099117</td>\n",
              "      <td>1</td>\n",
              "      <td>12.000000</td>\n",
              "      <td>0.0</td>\n",
              "      <td>2</td>\n",
              "      <td>14.000000</td>\n",
              "      <td>1.329595e+09</td>\n",
              "      <td>0</td>\n",
              "      <td>0.000000</td>\n",
              "      <td>0.000000</td>\n",
              "      <td>12</td>\n",
              "      <td>12</td>\n",
              "      <td>14.0</td>\n",
              "      <td>14.0</td>\n",
              "      <td>1329595200</td>\n",
              "      <td>1329595200</td>\n",
              "      <td>0</td>\n",
              "      <td>0</td>\n",
              "      <td>0</td>\n",
              "      <td>0</td>\n",
              "    </tr>\n",
              "    <tr>\n",
              "      <th>1099120</th>\n",
              "      <td>1099118</td>\n",
              "      <td>1</td>\n",
              "      <td>12.000000</td>\n",
              "      <td>0.0</td>\n",
              "      <td>2</td>\n",
              "      <td>14.000000</td>\n",
              "      <td>1.329595e+09</td>\n",
              "      <td>0</td>\n",
              "      <td>0.000000</td>\n",
              "      <td>0.000000</td>\n",
              "      <td>12</td>\n",
              "      <td>12</td>\n",
              "      <td>14.0</td>\n",
              "      <td>14.0</td>\n",
              "      <td>1329595200</td>\n",
              "      <td>1329595200</td>\n",
              "      <td>0</td>\n",
              "      <td>0</td>\n",
              "      <td>0</td>\n",
              "      <td>0</td>\n",
              "    </tr>\n",
              "  </tbody>\n",
              "</table>\n",
              "<p>1099121 rows × 20 columns</p>\n",
              "</div>"
            ],
            "text/plain": [
              "            node  mean_public  mean_completion_percentage  mean_gender  \\\n",
              "0              0            1                   44.545455          1.0   \n",
              "1              1            1                   44.405405          0.0   \n",
              "2              2            1                   51.000000          1.0   \n",
              "3              3            1                   20.000000          1.0   \n",
              "4              4            1                   14.000000          1.0   \n",
              "...          ...          ...                         ...          ...   \n",
              "1099116  1099111            1                   22.000000          1.0   \n",
              "1099117  1099112            1                   12.000000          0.0   \n",
              "1099118  1099113            0                   12.000000          1.0   \n",
              "1099119  1099117            1                   12.000000          0.0   \n",
              "1099120  1099118            1                   12.000000          0.0   \n",
              "\n",
              "         mean_region   mean_AGE  mean_last_login  \\\n",
              "0                171  24.818182     1.335549e+09   \n",
              "1                  2  21.729730     1.336054e+09   \n",
              "2                171  23.000000     1.331662e+09   \n",
              "3                 69  24.333333     1.332072e+09   \n",
              "4                184  26.000000     1.337890e+09   \n",
              "...              ...        ...              ...   \n",
              "1099116          119  39.000000     1.336766e+09   \n",
              "1099117           15  22.000000     1.330546e+09   \n",
              "1099118           11  11.000000     1.330546e+09   \n",
              "1099119            2  14.000000     1.329595e+09   \n",
              "1099120            2  14.000000     1.329595e+09   \n",
              "\n",
              "         mean_completed_level_of_education  mean_hight  mean_weight  \\\n",
              "0                                        0   79.000000    38.454545   \n",
              "1                                        0   85.189189    19.837838   \n",
              "2                                        1  167.692308    53.461538   \n",
              "3                                        0   61.666667    30.000000   \n",
              "4                                        0  185.000000    90.000000   \n",
              "...                                    ...         ...          ...   \n",
              "1099116                                  0  182.000000    89.000000   \n",
              "1099117                                  0    0.000000     0.000000   \n",
              "1099118                                  0    0.000000     0.000000   \n",
              "1099119                                  0    0.000000     0.000000   \n",
              "1099120                                  0    0.000000     0.000000   \n",
              "\n",
              "         min_completion_percentage  max_completion_percentage  min_AGE  \\\n",
              "0                               12                         72     18.0   \n",
              "1                               12                         76     10.0   \n",
              "2                               12                         78     16.0   \n",
              "3                               12                         34     22.0   \n",
              "4                               14                         14     26.0   \n",
              "...                            ...                        ...      ...   \n",
              "1099116                         22                         22     39.0   \n",
              "1099117                         12                         12     22.0   \n",
              "1099118                         12                         12     11.0   \n",
              "1099119                         12                         12     14.0   \n",
              "1099120                         12                         12     14.0   \n",
              "\n",
              "         max_AGE  min_last_login  max_last_login  min_hight  max_hight  \\\n",
              "0           38.0      1325102400      1337889600          0        185   \n",
              "1           28.0      1316203200      1337889600          0        190   \n",
              "2           28.0      1312401600      1337889600          0        195   \n",
              "3           26.0      1328212800      1337889600          0        185   \n",
              "4           26.0      1337889600      1337889600        185        185   \n",
              "...          ...             ...             ...        ...        ...   \n",
              "1099116     39.0      1336766400      1336766400        182        182   \n",
              "1099117     22.0      1330545600      1330545600          0          0   \n",
              "1099118     11.0      1330545600      1330545600          0          0   \n",
              "1099119     14.0      1329595200      1329595200          0          0   \n",
              "1099120     14.0      1329595200      1329595200          0          0   \n",
              "\n",
              "         min_weight  max_weight  \n",
              "0                 0          88  \n",
              "1                 0          91  \n",
              "2                 0         109  \n",
              "3                 0          90  \n",
              "4                90          90  \n",
              "...             ...         ...  \n",
              "1099116          89          89  \n",
              "1099117           0           0  \n",
              "1099118           0           0  \n",
              "1099119           0           0  \n",
              "1099120           0           0  \n",
              "\n",
              "[1099121 rows x 20 columns]"
            ]
          },
          "execution_count": 18,
          "metadata": {},
          "output_type": "execute_result"
        }
      ],
      "source": [
        "aggregates_df = pd.DataFrame(aggregates)\n",
        "aggregates_df['node'] = aggregates_df['node'].astype(int)\n",
        "aggregates_df"
      ]
    },
    {
      "cell_type": "code",
      "execution_count": null,
      "metadata": {
        "id": "332bg7Vl0gxE"
      },
      "outputs": [],
      "source": [
        "# df_final = pd.concat([node_features, df_graph], axis=1)\n",
        "df_final = pd.merge(aggregates_df, df_graph, left_on='node', right_index=True)\n",
        "df_final = pd.merge(df, df_final, left_index=True, right_index=True)"
      ]
    },
    {
      "cell_type": "code",
      "execution_count": null,
      "metadata": {
        "colab": {
          "base_uri": "https://localhost:8080/",
          "height": 461
        },
        "id": "ZqbiJQWBAAiw",
        "outputId": "5d64c551-4963-4458-8343-8609175c5e14"
      },
      "outputs": [
        {
          "data": {
            "text/html": [
              "<div>\n",
              "<style scoped>\n",
              "    .dataframe tbody tr th:only-of-type {\n",
              "        vertical-align: middle;\n",
              "    }\n",
              "\n",
              "    .dataframe tbody tr th {\n",
              "        vertical-align: top;\n",
              "    }\n",
              "\n",
              "    .dataframe thead th {\n",
              "        text-align: right;\n",
              "    }\n",
              "</style>\n",
              "<table border=\"1\" class=\"dataframe\">\n",
              "  <thead>\n",
              "    <tr style=\"text-align: right;\">\n",
              "      <th></th>\n",
              "      <th>public</th>\n",
              "      <th>completion_percentage</th>\n",
              "      <th>gender</th>\n",
              "      <th>region</th>\n",
              "      <th>AGE</th>\n",
              "      <th>last_login</th>\n",
              "      <th>completed_level_of_education</th>\n",
              "      <th>hight</th>\n",
              "      <th>weight</th>\n",
              "      <th>node</th>\n",
              "      <th>...</th>\n",
              "      <th>max_hight</th>\n",
              "      <th>min_weight</th>\n",
              "      <th>max_weight</th>\n",
              "      <th>neighbour_cnt_mean</th>\n",
              "      <th>SC_mean</th>\n",
              "      <th>AA_mean</th>\n",
              "      <th>vertex_cnt</th>\n",
              "      <th>edge_cnt</th>\n",
              "      <th>edge-vertex_cnt</th>\n",
              "      <th>density</th>\n",
              "    </tr>\n",
              "  </thead>\n",
              "  <tbody>\n",
              "    <tr>\n",
              "      <th>0</th>\n",
              "      <td>1</td>\n",
              "      <td>14</td>\n",
              "      <td>1.0</td>\n",
              "      <td>184</td>\n",
              "      <td>26.0</td>\n",
              "      <td>1337889600</td>\n",
              "      <td>0</td>\n",
              "      <td>185</td>\n",
              "      <td>90</td>\n",
              "      <td>0</td>\n",
              "      <td>...</td>\n",
              "      <td>185</td>\n",
              "      <td>0</td>\n",
              "      <td>88</td>\n",
              "      <td>1.833333</td>\n",
              "      <td>1.833333</td>\n",
              "      <td>0.534722</td>\n",
              "      <td>12</td>\n",
              "      <td>11</td>\n",
              "      <td>-1</td>\n",
              "      <td>0.166667</td>\n",
              "    </tr>\n",
              "    <tr>\n",
              "      <th>1</th>\n",
              "      <td>1</td>\n",
              "      <td>64</td>\n",
              "      <td>1.0</td>\n",
              "      <td>171</td>\n",
              "      <td>23.0</td>\n",
              "      <td>1337889600</td>\n",
              "      <td>0</td>\n",
              "      <td>173</td>\n",
              "      <td>70</td>\n",
              "      <td>1</td>\n",
              "      <td>...</td>\n",
              "      <td>190</td>\n",
              "      <td>0</td>\n",
              "      <td>91</td>\n",
              "      <td>9.421053</td>\n",
              "      <td>9.421053</td>\n",
              "      <td>0.816157</td>\n",
              "      <td>38</td>\n",
              "      <td>179</td>\n",
              "      <td>141</td>\n",
              "      <td>0.254623</td>\n",
              "    </tr>\n",
              "    <tr>\n",
              "      <th>2</th>\n",
              "      <td>0</td>\n",
              "      <td>38</td>\n",
              "      <td>1.0</td>\n",
              "      <td>26</td>\n",
              "      <td>29.0</td>\n",
              "      <td>1336593600</td>\n",
              "      <td>0</td>\n",
              "      <td>0</td>\n",
              "      <td>0</td>\n",
              "      <td>2</td>\n",
              "      <td>...</td>\n",
              "      <td>195</td>\n",
              "      <td>0</td>\n",
              "      <td>109</td>\n",
              "      <td>2.000000</td>\n",
              "      <td>2.000000</td>\n",
              "      <td>0.554422</td>\n",
              "      <td>14</td>\n",
              "      <td>14</td>\n",
              "      <td>0</td>\n",
              "      <td>0.153846</td>\n",
              "    </tr>\n",
              "    <tr>\n",
              "      <th>3</th>\n",
              "      <td>1</td>\n",
              "      <td>12</td>\n",
              "      <td>0.0</td>\n",
              "      <td>2</td>\n",
              "      <td>26.0</td>\n",
              "      <td>1325102400</td>\n",
              "      <td>0</td>\n",
              "      <td>0</td>\n",
              "      <td>0</td>\n",
              "      <td>3</td>\n",
              "      <td>...</td>\n",
              "      <td>185</td>\n",
              "      <td>0</td>\n",
              "      <td>90</td>\n",
              "      <td>1.500000</td>\n",
              "      <td>1.500000</td>\n",
              "      <td>0.562500</td>\n",
              "      <td>4</td>\n",
              "      <td>3</td>\n",
              "      <td>-1</td>\n",
              "      <td>0.500000</td>\n",
              "    </tr>\n",
              "    <tr>\n",
              "      <th>4</th>\n",
              "      <td>1</td>\n",
              "      <td>47</td>\n",
              "      <td>0.0</td>\n",
              "      <td>174</td>\n",
              "      <td>27.0</td>\n",
              "      <td>1337889600</td>\n",
              "      <td>2</td>\n",
              "      <td>162</td>\n",
              "      <td>60</td>\n",
              "      <td>4</td>\n",
              "      <td>...</td>\n",
              "      <td>185</td>\n",
              "      <td>90</td>\n",
              "      <td>90</td>\n",
              "      <td>1.000000</td>\n",
              "      <td>1.000000</td>\n",
              "      <td>0.500000</td>\n",
              "      <td>2</td>\n",
              "      <td>1</td>\n",
              "      <td>-1</td>\n",
              "      <td>1.000000</td>\n",
              "    </tr>\n",
              "    <tr>\n",
              "      <th>...</th>\n",
              "      <td>...</td>\n",
              "      <td>...</td>\n",
              "      <td>...</td>\n",
              "      <td>...</td>\n",
              "      <td>...</td>\n",
              "      <td>...</td>\n",
              "      <td>...</td>\n",
              "      <td>...</td>\n",
              "      <td>...</td>\n",
              "      <td>...</td>\n",
              "      <td>...</td>\n",
              "      <td>...</td>\n",
              "      <td>...</td>\n",
              "      <td>...</td>\n",
              "      <td>...</td>\n",
              "      <td>...</td>\n",
              "      <td>...</td>\n",
              "      <td>...</td>\n",
              "      <td>...</td>\n",
              "      <td>...</td>\n",
              "      <td>...</td>\n",
              "    </tr>\n",
              "    <tr>\n",
              "      <th>1099116</th>\n",
              "      <td>1</td>\n",
              "      <td>12</td>\n",
              "      <td>0.0</td>\n",
              "      <td>2</td>\n",
              "      <td>14.0</td>\n",
              "      <td>1329595200</td>\n",
              "      <td>0</td>\n",
              "      <td>0</td>\n",
              "      <td>0</td>\n",
              "      <td>1099111</td>\n",
              "      <td>...</td>\n",
              "      <td>182</td>\n",
              "      <td>89</td>\n",
              "      <td>89</td>\n",
              "      <td>1.000000</td>\n",
              "      <td>1.000000</td>\n",
              "      <td>0.500000</td>\n",
              "      <td>2</td>\n",
              "      <td>1</td>\n",
              "      <td>-1</td>\n",
              "      <td>1.000000</td>\n",
              "    </tr>\n",
              "    <tr>\n",
              "      <th>1099117</th>\n",
              "      <td>1</td>\n",
              "      <td>12</td>\n",
              "      <td>1.0</td>\n",
              "      <td>13</td>\n",
              "      <td>11.0</td>\n",
              "      <td>1329768000</td>\n",
              "      <td>0</td>\n",
              "      <td>0</td>\n",
              "      <td>0</td>\n",
              "      <td>1099112</td>\n",
              "      <td>...</td>\n",
              "      <td>0</td>\n",
              "      <td>0</td>\n",
              "      <td>0</td>\n",
              "      <td>1.000000</td>\n",
              "      <td>1.000000</td>\n",
              "      <td>0.500000</td>\n",
              "      <td>2</td>\n",
              "      <td>1</td>\n",
              "      <td>-1</td>\n",
              "      <td>1.000000</td>\n",
              "    </tr>\n",
              "    <tr>\n",
              "      <th>1099118</th>\n",
              "      <td>1</td>\n",
              "      <td>67</td>\n",
              "      <td>1.0</td>\n",
              "      <td>89</td>\n",
              "      <td>33.0</td>\n",
              "      <td>1337976000</td>\n",
              "      <td>1</td>\n",
              "      <td>185</td>\n",
              "      <td>90</td>\n",
              "      <td>1099113</td>\n",
              "      <td>...</td>\n",
              "      <td>0</td>\n",
              "      <td>0</td>\n",
              "      <td>0</td>\n",
              "      <td>1.000000</td>\n",
              "      <td>1.000000</td>\n",
              "      <td>0.500000</td>\n",
              "      <td>2</td>\n",
              "      <td>1</td>\n",
              "      <td>-1</td>\n",
              "      <td>1.000000</td>\n",
              "    </tr>\n",
              "    <tr>\n",
              "      <th>1099119</th>\n",
              "      <td>1</td>\n",
              "      <td>12</td>\n",
              "      <td>1.0</td>\n",
              "      <td>116</td>\n",
              "      <td>33.0</td>\n",
              "      <td>1337025600</td>\n",
              "      <td>0</td>\n",
              "      <td>0</td>\n",
              "      <td>0</td>\n",
              "      <td>1099117</td>\n",
              "      <td>...</td>\n",
              "      <td>0</td>\n",
              "      <td>0</td>\n",
              "      <td>0</td>\n",
              "      <td>1.000000</td>\n",
              "      <td>1.000000</td>\n",
              "      <td>0.500000</td>\n",
              "      <td>2</td>\n",
              "      <td>1</td>\n",
              "      <td>-1</td>\n",
              "      <td>1.000000</td>\n",
              "    </tr>\n",
              "    <tr>\n",
              "      <th>1099120</th>\n",
              "      <td>1</td>\n",
              "      <td>12</td>\n",
              "      <td>1.0</td>\n",
              "      <td>164</td>\n",
              "      <td>24.0</td>\n",
              "      <td>1336161600</td>\n",
              "      <td>0</td>\n",
              "      <td>0</td>\n",
              "      <td>0</td>\n",
              "      <td>1099118</td>\n",
              "      <td>...</td>\n",
              "      <td>0</td>\n",
              "      <td>0</td>\n",
              "      <td>0</td>\n",
              "      <td>1.000000</td>\n",
              "      <td>1.000000</td>\n",
              "      <td>0.500000</td>\n",
              "      <td>2</td>\n",
              "      <td>1</td>\n",
              "      <td>-1</td>\n",
              "      <td>1.000000</td>\n",
              "    </tr>\n",
              "  </tbody>\n",
              "</table>\n",
              "<p>1099121 rows × 36 columns</p>\n",
              "</div>"
            ],
            "text/plain": [
              "         public  completion_percentage  gender  region   AGE  last_login  \\\n",
              "0             1                     14     1.0     184  26.0  1337889600   \n",
              "1             1                     64     1.0     171  23.0  1337889600   \n",
              "2             0                     38     1.0      26  29.0  1336593600   \n",
              "3             1                     12     0.0       2  26.0  1325102400   \n",
              "4             1                     47     0.0     174  27.0  1337889600   \n",
              "...         ...                    ...     ...     ...   ...         ...   \n",
              "1099116       1                     12     0.0       2  14.0  1329595200   \n",
              "1099117       1                     12     1.0      13  11.0  1329768000   \n",
              "1099118       1                     67     1.0      89  33.0  1337976000   \n",
              "1099119       1                     12     1.0     116  33.0  1337025600   \n",
              "1099120       1                     12     1.0     164  24.0  1336161600   \n",
              "\n",
              "         completed_level_of_education  hight  weight     node  ...  max_hight  \\\n",
              "0                                   0    185      90        0  ...        185   \n",
              "1                                   0    173      70        1  ...        190   \n",
              "2                                   0      0       0        2  ...        195   \n",
              "3                                   0      0       0        3  ...        185   \n",
              "4                                   2    162      60        4  ...        185   \n",
              "...                               ...    ...     ...      ...  ...        ...   \n",
              "1099116                             0      0       0  1099111  ...        182   \n",
              "1099117                             0      0       0  1099112  ...          0   \n",
              "1099118                             1    185      90  1099113  ...          0   \n",
              "1099119                             0      0       0  1099117  ...          0   \n",
              "1099120                             0      0       0  1099118  ...          0   \n",
              "\n",
              "         min_weight  max_weight  neighbour_cnt_mean   SC_mean   AA_mean  \\\n",
              "0                 0          88            1.833333  1.833333  0.534722   \n",
              "1                 0          91            9.421053  9.421053  0.816157   \n",
              "2                 0         109            2.000000  2.000000  0.554422   \n",
              "3                 0          90            1.500000  1.500000  0.562500   \n",
              "4                90          90            1.000000  1.000000  0.500000   \n",
              "...             ...         ...                 ...       ...       ...   \n",
              "1099116          89          89            1.000000  1.000000  0.500000   \n",
              "1099117           0           0            1.000000  1.000000  0.500000   \n",
              "1099118           0           0            1.000000  1.000000  0.500000   \n",
              "1099119           0           0            1.000000  1.000000  0.500000   \n",
              "1099120           0           0            1.000000  1.000000  0.500000   \n",
              "\n",
              "         vertex_cnt  edge_cnt  edge-vertex_cnt   density  \n",
              "0                12        11               -1  0.166667  \n",
              "1                38       179              141  0.254623  \n",
              "2                14        14                0  0.153846  \n",
              "3                 4         3               -1  0.500000  \n",
              "4                 2         1               -1  1.000000  \n",
              "...             ...       ...              ...       ...  \n",
              "1099116           2         1               -1  1.000000  \n",
              "1099117           2         1               -1  1.000000  \n",
              "1099118           2         1               -1  1.000000  \n",
              "1099119           2         1               -1  1.000000  \n",
              "1099120           2         1               -1  1.000000  \n",
              "\n",
              "[1099121 rows x 36 columns]"
            ]
          },
          "execution_count": 52,
          "metadata": {},
          "output_type": "execute_result"
        }
      ],
      "source": [
        "df_final"
      ]
    },
    {
      "cell_type": "code",
      "execution_count": null,
      "metadata": {
        "id": "Ei4AsXSt3HDu"
      },
      "outputs": [],
      "source": [
        "import gc\n",
        "\n",
        "def reduce_mem_usage(df, int_cast=True, obj_to_category=False, subset=None):\n",
        "    \"\"\"\n",
        "    Iterate through all the columns of a dataframe and modify the data type to reduce memory usage.\n",
        "    :param df: dataframe to reduce (pd.DataFrame)\n",
        "    :param int_cast: indicate if columns should be tried to be casted to int (bool)\n",
        "    :param obj_to_category: convert non-datetime related objects to category dtype (bool)\n",
        "    :param subset: subset of columns to analyse (list)\n",
        "    :return: dataset with the column dtypes adjusted (pd.DataFrame)\n",
        "    \"\"\"\n",
        "    start_mem = df.memory_usage().sum() / 1024 ** 2;\n",
        "    gc.collect()\n",
        "    print('Memory usage of dataframe is {:.2f} MB'.format(start_mem))\n",
        "\n",
        "    cols = subset if subset is not None else df.columns.tolist()\n",
        "\n",
        "    for col in tqdm(cols):\n",
        "        col_type = df[col].dtype\n",
        "\n",
        "        if col_type != object and col_type.name != 'category' and 'datetime' not in col_type.name:\n",
        "            c_min = df[col].min()\n",
        "            c_max = df[col].max()\n",
        "\n",
        "            # test if column can be converted to an integer\n",
        "            treat_as_int = str(col_type)[:3] == 'int'\n",
        "            # if int_cast and not treat_as_int:\n",
        "            #     treat_as_int = check_if_integer(df[col])\n",
        "\n",
        "            if treat_as_int:\n",
        "                if c_min > np.iinfo(np.int8).min and c_max < np.iinfo(np.int8).max:\n",
        "                    df[col] = df[col].astype(np.int8)\n",
        "                elif c_min > np.iinfo(np.uint8).min and c_max < np.iinfo(np.uint8).max:\n",
        "                    df[col] = df[col].astype(np.uint8)\n",
        "                elif c_min > np.iinfo(np.int16).min and c_max < np.iinfo(np.int16).max:\n",
        "                    df[col] = df[col].astype(np.int16)\n",
        "                elif c_min > np.iinfo(np.uint16).min and c_max < np.iinfo(np.uint16).max:\n",
        "                    df[col] = df[col].astype(np.uint16)\n",
        "                elif c_min > np.iinfo(np.int32).min and c_max < np.iinfo(np.int32).max:\n",
        "                    df[col] = df[col].astype(np.int32)\n",
        "                elif c_min > np.iinfo(np.uint32).min and c_max < np.iinfo(np.uint32).max:\n",
        "                    df[col] = df[col].astype(np.uint32)\n",
        "                elif c_min > np.iinfo(np.int64).min and c_max < np.iinfo(np.int64).max:\n",
        "                    df[col] = df[col].astype(np.int64)\n",
        "                elif c_min > np.iinfo(np.uint64).min and c_max < np.iinfo(np.uint64).max:\n",
        "                    df[col] = df[col].astype(np.uint64)\n",
        "            else:\n",
        "                if c_min > np.finfo(np.float16).min and c_max < np.finfo(np.float16).max:\n",
        "                    df[col] = df[col].astype(np.float16)\n",
        "                elif c_min > np.finfo(np.float32).min and c_max < np.finfo(np.float32).max:\n",
        "                    df[col] = df[col].astype(np.float32)\n",
        "                else:\n",
        "                    df[col] = df[col].astype(np.float64)\n",
        "        elif 'datetime' not in col_type.name and obj_to_category:\n",
        "            df[col] = df[col].astype('category')\n",
        "    gc.collect()\n",
        "    end_mem = df.memory_usage().sum() / 1024 ** 2\n",
        "    print('Memory usage after optimization is: {:.3f} MB'.format(end_mem))\n",
        "    print('Decreased by {:.1f}%'.format(100 * (start_mem - end_mem) / start_mem))\n",
        "\n",
        "    return df"
      ]
    },
    {
      "cell_type": "code",
      "execution_count": null,
      "metadata": {
        "colab": {
          "referenced_widgets": [
            "352c608e43c34ec1862a267fd8a972b8"
          ]
        },
        "id": "tRCm_apd3HDv",
        "outputId": "2bf8571a-317d-4876-8dd1-b8bf80e26fbe"
      },
      "outputs": [
        {
          "name": "stdout",
          "output_type": "stream",
          "text": [
            "Memory usage of dataframe is 310.27 MB\n"
          ]
        },
        {
          "data": {
            "application/vnd.jupyter.widget-view+json": {
              "model_id": "352c608e43c34ec1862a267fd8a972b8",
              "version_major": 2,
              "version_minor": 0
            },
            "text/plain": [
              "  0%|          | 0/36 [00:00<?, ?it/s]"
            ]
          },
          "metadata": {},
          "output_type": "display_data"
        },
        {
          "name": "stdout",
          "output_type": "stream",
          "text": [
            "Memory usage after optimization is: 87.001 MB\n",
            "Decreased by 72.0%\n"
          ]
        }
      ],
      "source": [
        "df_final = reduce_mem_usage(df_final)"
      ]
    },
    {
      "cell_type": "code",
      "execution_count": null,
      "metadata": {
        "id": "zTAlH2vYDy8v"
      },
      "outputs": [],
      "source": [
        "df_final.to_parquet('df_final.parquet', engine='pyarrow', index=False)"
      ]
    },
    {
      "cell_type": "code",
      "source": [
        "# df_final = pd.read_parquet('df_final.parquet', engine='pyarrow')"
      ],
      "metadata": {
        "id": "iVgsxdqR6QK0"
      },
      "execution_count": null,
      "outputs": []
    },
    {
      "cell_type": "code",
      "execution_count": 8,
      "metadata": {
        "id": "YwdYI45FBcA0",
        "colab": {
          "base_uri": "https://localhost:8080/"
        },
        "outputId": "b8de2c96-b3a7-4836-b2d3-58acf5536e88"
      },
      "outputs": [
        {
          "output_type": "stream",
          "name": "stderr",
          "text": [
            "<ipython-input-8-098a9bed7b73>:3: SettingWithCopyWarning: \n",
            "A value is trying to be set on a copy of a slice from a DataFrame\n",
            "\n",
            "See the caveats in the documentation: https://pandas.pydata.org/pandas-docs/stable/user_guide/indexing.html#returning-a-view-versus-a-copy\n",
            "  df_final.drop(columns=[\"AGE\", 'node'], inplace=True)\n"
          ]
        }
      ],
      "source": [
        "df_final = df_final[df_final['AGE'] < 100]\n",
        "node_labels = df_final['AGE']\n",
        "df_final.drop(columns=[\"AGE\", 'node'], inplace=True)"
      ]
    },
    {
      "cell_type": "code",
      "execution_count": 9,
      "metadata": {
        "id": "OM7Pmcc21v1b"
      },
      "outputs": [],
      "source": [
        "ind = df_final.index.values\n",
        "np.random.shuffle(ind)\n",
        "train_nids = ind[0:int(len(ind)*0.75)]\n",
        "test_nids = ind[int(len(ind)*0.75):]"
      ]
    },
    {
      "cell_type": "code",
      "execution_count": 10,
      "metadata": {
        "id": "t7LyF2GG19oD"
      },
      "outputs": [],
      "source": [
        "train_df = df_final.loc[train_nids]\n",
        "val_df = df_final.loc[test_nids]\n",
        "train_labels = node_labels[train_nids]\n",
        "val_labels = node_labels[test_nids]"
      ]
    },
    {
      "cell_type": "markdown",
      "source": [
        "# Catboost"
      ],
      "metadata": {
        "id": "r3sFpv3G4BrP"
      }
    },
    {
      "cell_type": "code",
      "execution_count": null,
      "metadata": {
        "id": "AB1_LPhD1x4s"
      },
      "outputs": [],
      "source": [
        "train_pool = Pool(\n",
        "    data=train_df,\n",
        "    label=train_labels\n",
        ")\n",
        "\n",
        "val_pool = Pool(\n",
        "    data=val_df,\n",
        "    label=val_labels\n",
        ")"
      ]
    },
    {
      "cell_type": "code",
      "execution_count": null,
      "metadata": {
        "id": "9tO6d64B3HDw"
      },
      "outputs": [],
      "source": [
        "params = {\n",
        "    'task_type': 'CPU',              # Если есть GPU, можно поставить 'GPU'\n",
        "    'loss_function': 'RMSE',         # Или другая метрика, если нужна классификация/др.\n",
        "    'iterations': 1500,             # Можно поставить 1000-3000; дополнительно использовать раннюю остановку\n",
        "    'learning_rate': 0.03,          # Классический размер шага (обучение «не слишком быстрое, не слишком медленное»)\n",
        "    'depth': 6,                     # Глубина деревьев: 6-8 — хороший компромисс\n",
        "    'l2_leaf_reg': 3,               # Регуляризация; базовое значение — 3\n",
        "    'random_strength': 1,           # Сила случайности при расщеплениях\n",
        "    'bagging_temperature': 1,       # Для стекинга/бэггинга внутри CatBoost\n",
        "    'boosting_type': 'Plain',       # 'Ordered' может быть полезно при небольших датасетах\n",
        "    'grow_policy': 'SymmetricTree', # Альтернативы: 'Depthwise' (быстрее, но возможный оверфит), 'Lossguide'\n",
        "    'random_seed': 56,              # Для воспроизводимости\n",
        "    'thread_count': -1,             # Использовать все доступные ядра CPU\n",
        "    'od_type': 'Iter',              # early_stopping по количеству итераций\n",
        "    'od_wait': 50,                  # Количество итераций без улучшения на валидации, после которых обучение останавливается\n",
        "}\n"
      ]
    },
    {
      "cell_type": "code",
      "execution_count": null,
      "metadata": {
        "colab": {
          "base_uri": "https://localhost:8080/",
          "height": 34,
          "referenced_widgets": [
            "3def97596e854d8682f3229be2cf91c0"
          ]
        },
        "id": "7snXfWlu2RBT",
        "outputId": "5992ae43-ebc3-4513-fa38-3e636efc0e0d"
      },
      "outputs": [
        {
          "name": "stdout",
          "output_type": "stream",
          "text": [
            "0:\tlearn: 7.8645546\ttest: 11.8762397\tbest: 11.8762397 (0)\ttotal: 27.6ms\tremaining: 41.3s\n",
            "1:\tlearn: 7.8385629\ttest: 11.8525156\tbest: 11.8525156 (1)\ttotal: 51.6ms\tremaining: 38.6s\n",
            "2:\tlearn: 7.8139292\ttest: 11.8289731\tbest: 11.8289731 (2)\ttotal: 79.7ms\tremaining: 39.8s\n",
            "3:\tlearn: 7.7907052\ttest: 11.8068985\tbest: 11.8068985 (3)\ttotal: 104ms\tremaining: 38.8s\n",
            "4:\tlearn: 7.7685586\ttest: 11.7853463\tbest: 11.7853463 (4)\ttotal: 128ms\tremaining: 38.4s\n",
            "5:\tlearn: 7.7475747\ttest: 11.7655970\tbest: 11.7655970 (5)\ttotal: 153ms\tremaining: 38.2s\n",
            "6:\tlearn: 7.7275448\ttest: 11.7459552\tbest: 11.7459552 (6)\ttotal: 177ms\tremaining: 37.8s\n",
            "7:\tlearn: 7.7059699\ttest: 11.7257916\tbest: 11.7257916 (7)\ttotal: 202ms\tremaining: 37.7s\n",
            "8:\tlearn: 7.6878101\ttest: 11.7079582\tbest: 11.7079582 (8)\ttotal: 226ms\tremaining: 37.5s\n",
            "9:\tlearn: 7.6702504\ttest: 11.6897096\tbest: 11.6897096 (9)\ttotal: 250ms\tremaining: 37.3s\n",
            "10:\tlearn: 7.6496116\ttest: 11.6718135\tbest: 11.6718135 (10)\ttotal: 274ms\tremaining: 37.1s\n",
            "11:\tlearn: 7.6340385\ttest: 11.6504032\tbest: 11.6504032 (11)\ttotal: 299ms\tremaining: 37.1s\n",
            "12:\tlearn: 7.6194378\ttest: 11.6298586\tbest: 11.6298586 (12)\ttotal: 323ms\tremaining: 36.9s\n",
            "13:\tlearn: 7.5988030\ttest: 11.6093058\tbest: 11.6093058 (13)\ttotal: 350ms\tremaining: 37.1s\n",
            "14:\tlearn: 7.5849770\ttest: 11.5940310\tbest: 11.5940310 (14)\ttotal: 374ms\tremaining: 37s\n",
            "15:\tlearn: 7.5658179\ttest: 11.5746420\tbest: 11.5746420 (15)\ttotal: 400ms\tremaining: 37.1s\n",
            "16:\tlearn: 7.5518585\ttest: 11.5602461\tbest: 11.5602461 (16)\ttotal: 424ms\tremaining: 37s\n",
            "17:\tlearn: 7.5397747\ttest: 11.5471231\tbest: 11.5471231 (17)\ttotal: 449ms\tremaining: 37s\n",
            "18:\tlearn: 7.5227386\ttest: 11.5300948\tbest: 11.5300948 (18)\ttotal: 476ms\tremaining: 37.1s\n",
            "19:\tlearn: 7.5099300\ttest: 11.5161442\tbest: 11.5161442 (19)\ttotal: 502ms\tremaining: 37.1s\n",
            "20:\tlearn: 7.4936277\ttest: 11.4992982\tbest: 11.4992982 (20)\ttotal: 528ms\tremaining: 37.2s\n",
            "21:\tlearn: 7.4777563\ttest: 11.4836952\tbest: 11.4836952 (21)\ttotal: 555ms\tremaining: 37.3s\n",
            "22:\tlearn: 7.4674860\ttest: 11.4669905\tbest: 11.4669905 (22)\ttotal: 580ms\tremaining: 37.2s\n",
            "23:\tlearn: 7.4528373\ttest: 11.4516581\tbest: 11.4516581 (23)\ttotal: 608ms\tremaining: 37.4s\n",
            "24:\tlearn: 7.4390264\ttest: 11.4370242\tbest: 11.4370242 (24)\ttotal: 635ms\tremaining: 37.5s\n",
            "25:\tlearn: 7.4259076\ttest: 11.4233718\tbest: 11.4233718 (25)\ttotal: 662ms\tremaining: 37.5s\n",
            "26:\tlearn: 7.4131742\ttest: 11.4104123\tbest: 11.4104123 (26)\ttotal: 688ms\tremaining: 37.5s\n",
            "27:\tlearn: 7.4014148\ttest: 11.3978847\tbest: 11.3978847 (27)\ttotal: 716ms\tremaining: 37.6s\n",
            "28:\tlearn: 7.3928986\ttest: 11.3827430\tbest: 11.3827430 (28)\ttotal: 738ms\tremaining: 37.4s\n",
            "29:\tlearn: 7.3818240\ttest: 11.3712719\tbest: 11.3712719 (29)\ttotal: 763ms\tremaining: 37.4s\n",
            "30:\tlearn: 7.3710591\ttest: 11.3598347\tbest: 11.3598347 (30)\ttotal: 789ms\tremaining: 37.4s\n",
            "31:\tlearn: 7.3607768\ttest: 11.3481025\tbest: 11.3481025 (31)\ttotal: 816ms\tremaining: 37.5s\n",
            "32:\tlearn: 7.3535782\ttest: 11.3345547\tbest: 11.3345547 (32)\ttotal: 841ms\tremaining: 37.4s\n",
            "33:\tlearn: 7.3448244\ttest: 11.3236520\tbest: 11.3236520 (33)\ttotal: 868ms\tremaining: 37.4s\n",
            "34:\tlearn: 7.3360779\ttest: 11.3135761\tbest: 11.3135761 (34)\ttotal: 897ms\tremaining: 37.5s\n",
            "35:\tlearn: 7.3285754\ttest: 11.2998683\tbest: 11.2998683 (35)\ttotal: 923ms\tremaining: 37.5s\n",
            "36:\tlearn: 7.3199050\ttest: 11.2905860\tbest: 11.2905860 (36)\ttotal: 949ms\tremaining: 37.5s\n",
            "37:\tlearn: 7.3134083\ttest: 11.2779049\tbest: 11.2779049 (37)\ttotal: 973ms\tremaining: 37.4s\n",
            "38:\tlearn: 7.3070963\ttest: 11.2639537\tbest: 11.2639537 (38)\ttotal: 996ms\tremaining: 37.3s\n",
            "39:\tlearn: 7.3008050\ttest: 11.2524380\tbest: 11.2524380 (39)\ttotal: 1.02s\tremaining: 37.2s\n",
            "40:\tlearn: 7.2950343\ttest: 11.2413603\tbest: 11.2413603 (40)\ttotal: 1.04s\tremaining: 37.1s\n",
            "41:\tlearn: 7.2890964\ttest: 11.2304958\tbest: 11.2304958 (41)\ttotal: 1.07s\tremaining: 37.1s\n",
            "42:\tlearn: 7.2838224\ttest: 11.2180272\tbest: 11.2180272 (42)\ttotal: 1.09s\tremaining: 37s\n",
            "43:\tlearn: 7.2757927\ttest: 11.2086286\tbest: 11.2086286 (43)\ttotal: 1.12s\tremaining: 37.1s\n",
            "44:\tlearn: 7.2681588\ttest: 11.1999514\tbest: 11.1999514 (44)\ttotal: 1.15s\tremaining: 37.1s\n",
            "45:\tlearn: 7.2621549\ttest: 11.1917973\tbest: 11.1917973 (45)\ttotal: 1.17s\tremaining: 37s\n",
            "46:\tlearn: 7.2575460\ttest: 11.1789053\tbest: 11.1789053 (46)\ttotal: 1.2s\tremaining: 37s\n",
            "47:\tlearn: 7.2519487\ttest: 11.1712081\tbest: 11.1712081 (47)\ttotal: 1.22s\tremaining: 36.9s\n",
            "48:\tlearn: 7.2450330\ttest: 11.1631382\tbest: 11.1631382 (48)\ttotal: 1.25s\tremaining: 37s\n",
            "49:\tlearn: 7.2403971\ttest: 11.1526770\tbest: 11.1526770 (49)\ttotal: 1.27s\tremaining: 36.9s\n",
            "50:\tlearn: 7.2360253\ttest: 11.1420424\tbest: 11.1420424 (50)\ttotal: 1.29s\tremaining: 36.8s\n",
            "51:\tlearn: 7.2306650\ttest: 11.1352167\tbest: 11.1352167 (51)\ttotal: 1.32s\tremaining: 36.8s\n",
            "52:\tlearn: 7.2266029\ttest: 11.1271878\tbest: 11.1271878 (52)\ttotal: 1.35s\tremaining: 36.8s\n",
            "53:\tlearn: 7.2220375\ttest: 11.1183986\tbest: 11.1183986 (53)\ttotal: 1.37s\tremaining: 36.7s\n",
            "54:\tlearn: 7.2181472\ttest: 11.1117986\tbest: 11.1117986 (54)\ttotal: 1.39s\tremaining: 36.6s\n",
            "55:\tlearn: 7.2120751\ttest: 11.1046626\tbest: 11.1046626 (55)\ttotal: 1.42s\tremaining: 36.6s\n",
            "56:\tlearn: 7.2064202\ttest: 11.0952738\tbest: 11.0952738 (56)\ttotal: 1.45s\tremaining: 36.6s\n",
            "57:\tlearn: 7.2016135\ttest: 11.0866092\tbest: 11.0866092 (57)\ttotal: 1.47s\tremaining: 36.6s\n",
            "58:\tlearn: 7.1969615\ttest: 11.0799824\tbest: 11.0799824 (58)\ttotal: 1.5s\tremaining: 36.6s\n",
            "59:\tlearn: 7.1924044\ttest: 11.0733512\tbest: 11.0733512 (59)\ttotal: 1.52s\tremaining: 36.5s\n",
            "60:\tlearn: 7.1884609\ttest: 11.0643043\tbest: 11.0643043 (60)\ttotal: 1.54s\tremaining: 36.5s\n",
            "61:\tlearn: 7.1846710\ttest: 11.0555430\tbest: 11.0555430 (61)\ttotal: 1.57s\tremaining: 36.5s\n",
            "62:\tlearn: 7.1804787\ttest: 11.0459032\tbest: 11.0459032 (62)\ttotal: 1.6s\tremaining: 36.5s\n",
            "63:\tlearn: 7.1774895\ttest: 11.0367088\tbest: 11.0367088 (63)\ttotal: 1.62s\tremaining: 36.4s\n",
            "64:\tlearn: 7.1743929\ttest: 11.0264956\tbest: 11.0264956 (64)\ttotal: 1.64s\tremaining: 36.3s\n",
            "65:\tlearn: 7.1700536\ttest: 11.0190922\tbest: 11.0190922 (65)\ttotal: 1.67s\tremaining: 36.2s\n",
            "66:\tlearn: 7.1670739\ttest: 11.0108020\tbest: 11.0108020 (66)\ttotal: 1.69s\tremaining: 36.1s\n",
            "67:\tlearn: 7.1636736\ttest: 11.0012518\tbest: 11.0012518 (67)\ttotal: 1.71s\tremaining: 36s\n",
            "68:\tlearn: 7.1608438\ttest: 10.9925810\tbest: 10.9925810 (68)\ttotal: 1.74s\tremaining: 36s\n",
            "69:\tlearn: 7.1581667\ttest: 10.9873295\tbest: 10.9873295 (69)\ttotal: 1.76s\tremaining: 35.9s\n",
            "70:\tlearn: 7.1552657\ttest: 10.9807567\tbest: 10.9807567 (70)\ttotal: 1.78s\tremaining: 35.9s\n",
            "71:\tlearn: 7.1522306\ttest: 10.9764301\tbest: 10.9764301 (71)\ttotal: 1.81s\tremaining: 35.8s\n",
            "72:\tlearn: 7.1492074\ttest: 10.9682301\tbest: 10.9682301 (72)\ttotal: 1.83s\tremaining: 35.8s\n",
            "73:\tlearn: 7.1468107\ttest: 10.9610864\tbest: 10.9610864 (73)\ttotal: 1.86s\tremaining: 35.8s\n",
            "74:\tlearn: 7.1435002\ttest: 10.9561320\tbest: 10.9561320 (74)\ttotal: 1.88s\tremaining: 35.8s\n",
            "75:\tlearn: 7.1404113\ttest: 10.9483664\tbest: 10.9483664 (75)\ttotal: 1.91s\tremaining: 35.7s\n",
            "76:\tlearn: 7.1373389\ttest: 10.9438984\tbest: 10.9438984 (76)\ttotal: 1.93s\tremaining: 35.7s\n",
            "77:\tlearn: 7.1345639\ttest: 10.9406600\tbest: 10.9406600 (77)\ttotal: 1.95s\tremaining: 35.6s\n",
            "78:\tlearn: 7.1323756\ttest: 10.9344203\tbest: 10.9344203 (78)\ttotal: 1.98s\tremaining: 35.6s\n",
            "79:\tlearn: 7.1302530\ttest: 10.9272357\tbest: 10.9272357 (79)\ttotal: 2s\tremaining: 35.5s\n",
            "80:\tlearn: 7.1277485\ttest: 10.9217715\tbest: 10.9217715 (80)\ttotal: 2.02s\tremaining: 35.5s\n",
            "81:\tlearn: 7.1256723\ttest: 10.9157861\tbest: 10.9157861 (81)\ttotal: 2.05s\tremaining: 35.5s\n",
            "82:\tlearn: 7.1221638\ttest: 10.9106920\tbest: 10.9106920 (82)\ttotal: 2.08s\tremaining: 35.5s\n",
            "83:\tlearn: 7.1200009\ttest: 10.9041803\tbest: 10.9041803 (83)\ttotal: 2.1s\tremaining: 35.4s\n",
            "84:\tlearn: 7.1175349\ttest: 10.8991063\tbest: 10.8991063 (84)\ttotal: 2.13s\tremaining: 35.4s\n",
            "85:\tlearn: 7.1155077\ttest: 10.8926310\tbest: 10.8926310 (85)\ttotal: 2.15s\tremaining: 35.4s\n",
            "86:\tlearn: 7.1135440\ttest: 10.8867552\tbest: 10.8867552 (86)\ttotal: 2.18s\tremaining: 35.4s\n",
            "87:\tlearn: 7.1109783\ttest: 10.8810437\tbest: 10.8810437 (87)\ttotal: 2.21s\tremaining: 35.4s\n",
            "88:\tlearn: 7.1085021\ttest: 10.8755593\tbest: 10.8755593 (88)\ttotal: 2.23s\tremaining: 35.3s\n",
            "89:\tlearn: 7.1053072\ttest: 10.8677827\tbest: 10.8677827 (89)\ttotal: 2.26s\tremaining: 35.4s\n",
            "90:\tlearn: 7.1035723\ttest: 10.8623340\tbest: 10.8623340 (90)\ttotal: 2.28s\tremaining: 35.3s\n",
            "91:\tlearn: 7.1005243\ttest: 10.8574519\tbest: 10.8574519 (91)\ttotal: 2.3s\tremaining: 35.3s\n",
            "92:\tlearn: 7.0982141\ttest: 10.8522110\tbest: 10.8522110 (92)\ttotal: 2.33s\tremaining: 35.2s\n",
            "93:\tlearn: 7.0965138\ttest: 10.8465550\tbest: 10.8465550 (93)\ttotal: 2.35s\tremaining: 35.2s\n",
            "94:\tlearn: 7.0936340\ttest: 10.8422836\tbest: 10.8422836 (94)\ttotal: 2.38s\tremaining: 35.2s\n",
            "95:\tlearn: 7.0916832\ttest: 10.8373699\tbest: 10.8373699 (95)\ttotal: 2.4s\tremaining: 35.1s\n",
            "96:\tlearn: 7.0893696\ttest: 10.8337077\tbest: 10.8337077 (96)\ttotal: 2.43s\tremaining: 35.1s\n",
            "97:\tlearn: 7.0871318\ttest: 10.8278313\tbest: 10.8278313 (97)\ttotal: 2.46s\tremaining: 35.1s\n",
            "98:\tlearn: 7.0852727\ttest: 10.8247454\tbest: 10.8247454 (98)\ttotal: 2.48s\tremaining: 35.1s\n",
            "99:\tlearn: 7.0833656\ttest: 10.8204533\tbest: 10.8204533 (99)\ttotal: 2.5s\tremaining: 35.1s\n",
            "100:\tlearn: 7.0816976\ttest: 10.8151715\tbest: 10.8151715 (100)\ttotal: 2.53s\tremaining: 35s\n",
            "101:\tlearn: 7.0793412\ttest: 10.8085830\tbest: 10.8085830 (101)\ttotal: 2.56s\tremaining: 35s\n",
            "102:\tlearn: 7.0779186\ttest: 10.8039743\tbest: 10.8039743 (102)\ttotal: 2.58s\tremaining: 35s\n",
            "103:\tlearn: 7.0760604\ttest: 10.8001836\tbest: 10.8001836 (103)\ttotal: 2.61s\tremaining: 35s\n",
            "104:\tlearn: 7.0738563\ttest: 10.7965826\tbest: 10.7965826 (104)\ttotal: 2.63s\tremaining: 34.9s\n",
            "105:\tlearn: 7.0722141\ttest: 10.7939217\tbest: 10.7939217 (105)\ttotal: 2.65s\tremaining: 34.9s\n",
            "106:\tlearn: 7.0708852\ttest: 10.7912495\tbest: 10.7912495 (106)\ttotal: 2.67s\tremaining: 34.8s\n",
            "107:\tlearn: 7.0684130\ttest: 10.7875352\tbest: 10.7875352 (107)\ttotal: 2.7s\tremaining: 34.8s\n",
            "108:\tlearn: 7.0671336\ttest: 10.7845100\tbest: 10.7845100 (108)\ttotal: 2.72s\tremaining: 34.7s\n",
            "109:\tlearn: 7.0656886\ttest: 10.7806077\tbest: 10.7806077 (109)\ttotal: 2.75s\tremaining: 34.7s\n",
            "110:\tlearn: 7.0633859\ttest: 10.7773677\tbest: 10.7773677 (110)\ttotal: 2.77s\tremaining: 34.6s\n",
            "111:\tlearn: 7.0622911\ttest: 10.7709517\tbest: 10.7709517 (111)\ttotal: 2.79s\tremaining: 34.6s\n",
            "112:\tlearn: 7.0610382\ttest: 10.7690533\tbest: 10.7690533 (112)\ttotal: 2.81s\tremaining: 34.5s\n",
            "113:\tlearn: 7.0592794\ttest: 10.7646214\tbest: 10.7646214 (113)\ttotal: 2.84s\tremaining: 34.5s\n",
            "114:\tlearn: 7.0579193\ttest: 10.7608466\tbest: 10.7608466 (114)\ttotal: 2.87s\tremaining: 34.5s\n",
            "115:\tlearn: 7.0562328\ttest: 10.7578684\tbest: 10.7578684 (115)\ttotal: 2.89s\tremaining: 34.5s\n",
            "116:\tlearn: 7.0548281\ttest: 10.7532030\tbest: 10.7532030 (116)\ttotal: 2.91s\tremaining: 34.5s\n",
            "117:\tlearn: 7.0535023\ttest: 10.7494338\tbest: 10.7494338 (117)\ttotal: 2.94s\tremaining: 34.4s\n",
            "118:\tlearn: 7.0516916\ttest: 10.7466591\tbest: 10.7466591 (118)\ttotal: 2.96s\tremaining: 34.4s\n",
            "119:\tlearn: 7.0504588\ttest: 10.7419373\tbest: 10.7419373 (119)\ttotal: 2.99s\tremaining: 34.3s\n",
            "120:\tlearn: 7.0490054\ttest: 10.7372140\tbest: 10.7372140 (120)\ttotal: 3.01s\tremaining: 34.3s\n",
            "121:\tlearn: 7.0478389\ttest: 10.7330787\tbest: 10.7330787 (121)\ttotal: 3.04s\tremaining: 34.3s\n",
            "122:\tlearn: 7.0462753\ttest: 10.7305728\tbest: 10.7305728 (122)\ttotal: 3.06s\tremaining: 34.2s\n",
            "123:\tlearn: 7.0452659\ttest: 10.7278835\tbest: 10.7278835 (123)\ttotal: 3.08s\tremaining: 34.2s\n",
            "124:\tlearn: 7.0441071\ttest: 10.7242878\tbest: 10.7242878 (124)\ttotal: 3.11s\tremaining: 34.2s\n",
            "125:\tlearn: 7.0427994\ttest: 10.7191581\tbest: 10.7191581 (125)\ttotal: 3.13s\tremaining: 34.2s\n",
            "126:\tlearn: 7.0413927\ttest: 10.7170566\tbest: 10.7170566 (126)\ttotal: 3.15s\tremaining: 34.1s\n",
            "127:\tlearn: 7.0400973\ttest: 10.7140719\tbest: 10.7140719 (127)\ttotal: 3.18s\tremaining: 34.1s\n",
            "128:\tlearn: 7.0383301\ttest: 10.7105976\tbest: 10.7105976 (128)\ttotal: 3.2s\tremaining: 34s\n",
            "129:\tlearn: 7.0366482\ttest: 10.7052705\tbest: 10.7052705 (129)\ttotal: 3.23s\tremaining: 34s\n",
            "130:\tlearn: 7.0353456\ttest: 10.7002358\tbest: 10.7002358 (130)\ttotal: 3.26s\tremaining: 34.1s\n",
            "131:\tlearn: 7.0339332\ttest: 10.6978772\tbest: 10.6978772 (131)\ttotal: 3.28s\tremaining: 34s\n",
            "132:\tlearn: 7.0326493\ttest: 10.6938289\tbest: 10.6938289 (132)\ttotal: 3.3s\tremaining: 33.9s\n",
            "133:\tlearn: 7.0310429\ttest: 10.6898189\tbest: 10.6898189 (133)\ttotal: 3.33s\tremaining: 33.9s\n",
            "134:\tlearn: 7.0301604\ttest: 10.6874427\tbest: 10.6874427 (134)\ttotal: 3.35s\tremaining: 33.8s\n",
            "135:\tlearn: 7.0286589\ttest: 10.6838264\tbest: 10.6838264 (135)\ttotal: 3.37s\tremaining: 33.8s\n",
            "136:\tlearn: 7.0264259\ttest: 10.6806198\tbest: 10.6806198 (136)\ttotal: 3.4s\tremaining: 33.8s\n",
            "137:\tlearn: 7.0254777\ttest: 10.6793695\tbest: 10.6793695 (137)\ttotal: 3.42s\tremaining: 33.7s\n",
            "138:\tlearn: 7.0242838\ttest: 10.6747576\tbest: 10.6747576 (138)\ttotal: 3.44s\tremaining: 33.7s\n",
            "139:\tlearn: 7.0234881\ttest: 10.6713360\tbest: 10.6713360 (139)\ttotal: 3.47s\tremaining: 33.7s\n",
            "140:\tlearn: 7.0223565\ttest: 10.6690019\tbest: 10.6690019 (140)\ttotal: 3.49s\tremaining: 33.7s\n",
            "141:\tlearn: 7.0214022\ttest: 10.6658756\tbest: 10.6658756 (141)\ttotal: 3.52s\tremaining: 33.7s\n",
            "142:\tlearn: 7.0205159\ttest: 10.6615438\tbest: 10.6615438 (142)\ttotal: 3.54s\tremaining: 33.6s\n",
            "143:\tlearn: 7.0196634\ttest: 10.6601293\tbest: 10.6601293 (143)\ttotal: 3.57s\tremaining: 33.6s\n",
            "144:\tlearn: 7.0188762\ttest: 10.6571646\tbest: 10.6571646 (144)\ttotal: 3.59s\tremaining: 33.6s\n",
            "145:\tlearn: 7.0181284\ttest: 10.6536948\tbest: 10.6536948 (145)\ttotal: 3.62s\tremaining: 33.5s\n",
            "146:\tlearn: 7.0170422\ttest: 10.6522905\tbest: 10.6522905 (146)\ttotal: 3.64s\tremaining: 33.5s\n",
            "147:\tlearn: 7.0160100\ttest: 10.6502014\tbest: 10.6502014 (147)\ttotal: 3.66s\tremaining: 33.4s\n",
            "148:\tlearn: 7.0141178\ttest: 10.6474402\tbest: 10.6474402 (148)\ttotal: 3.69s\tremaining: 33.5s\n",
            "149:\tlearn: 7.0134218\ttest: 10.6436429\tbest: 10.6436429 (149)\ttotal: 3.71s\tremaining: 33.4s\n",
            "150:\tlearn: 7.0121792\ttest: 10.6414996\tbest: 10.6414996 (150)\ttotal: 3.73s\tremaining: 33.4s\n",
            "151:\tlearn: 7.0114370\ttest: 10.6387144\tbest: 10.6387144 (151)\ttotal: 3.75s\tremaining: 33.3s\n",
            "152:\tlearn: 7.0101848\ttest: 10.6363710\tbest: 10.6363710 (152)\ttotal: 3.78s\tremaining: 33.3s\n",
            "153:\tlearn: 7.0093597\ttest: 10.6335342\tbest: 10.6335342 (153)\ttotal: 3.81s\tremaining: 33.3s\n",
            "154:\tlearn: 7.0077365\ttest: 10.6309730\tbest: 10.6309730 (154)\ttotal: 3.83s\tremaining: 33.3s\n",
            "155:\tlearn: 7.0063205\ttest: 10.6285374\tbest: 10.6285374 (155)\ttotal: 3.86s\tremaining: 33.2s\n",
            "156:\tlearn: 7.0055680\ttest: 10.6265335\tbest: 10.6265335 (156)\ttotal: 3.88s\tremaining: 33.2s\n",
            "157:\tlearn: 7.0046114\ttest: 10.6239093\tbest: 10.6239093 (157)\ttotal: 3.91s\tremaining: 33.2s\n",
            "158:\tlearn: 7.0030953\ttest: 10.6214907\tbest: 10.6214907 (158)\ttotal: 3.94s\tremaining: 33.2s\n",
            "159:\tlearn: 7.0025375\ttest: 10.6187869\tbest: 10.6187869 (159)\ttotal: 3.96s\tremaining: 33.2s\n",
            "160:\tlearn: 7.0018092\ttest: 10.6158167\tbest: 10.6158167 (160)\ttotal: 3.98s\tremaining: 33.1s\n",
            "161:\tlearn: 7.0008568\ttest: 10.6130746\tbest: 10.6130746 (161)\ttotal: 4s\tremaining: 33.1s\n",
            "162:\tlearn: 6.9995419\ttest: 10.6103672\tbest: 10.6103672 (162)\ttotal: 4.03s\tremaining: 33s\n",
            "163:\tlearn: 6.9990085\ttest: 10.6075042\tbest: 10.6075042 (163)\ttotal: 4.05s\tremaining: 33s\n",
            "164:\tlearn: 6.9984316\ttest: 10.6046898\tbest: 10.6046898 (164)\ttotal: 4.07s\tremaining: 33s\n",
            "165:\tlearn: 6.9975097\ttest: 10.6017208\tbest: 10.6017208 (165)\ttotal: 4.1s\tremaining: 32.9s\n",
            "166:\tlearn: 6.9965519\ttest: 10.6006932\tbest: 10.6006932 (166)\ttotal: 4.12s\tremaining: 32.9s\n",
            "167:\tlearn: 6.9960256\ttest: 10.5976573\tbest: 10.5976573 (167)\ttotal: 4.14s\tremaining: 32.9s\n",
            "168:\tlearn: 6.9951052\ttest: 10.5961852\tbest: 10.5961852 (168)\ttotal: 4.17s\tremaining: 32.9s\n",
            "169:\tlearn: 6.9943052\ttest: 10.5932888\tbest: 10.5932888 (169)\ttotal: 4.19s\tremaining: 32.8s\n",
            "170:\tlearn: 6.9938051\ttest: 10.5906768\tbest: 10.5906768 (170)\ttotal: 4.22s\tremaining: 32.8s\n",
            "171:\tlearn: 6.9930218\ttest: 10.5868209\tbest: 10.5868209 (171)\ttotal: 4.24s\tremaining: 32.8s\n",
            "172:\tlearn: 6.9918296\ttest: 10.5845952\tbest: 10.5845952 (172)\ttotal: 4.27s\tremaining: 32.7s\n",
            "173:\tlearn: 6.9913610\ttest: 10.5812647\tbest: 10.5812647 (173)\ttotal: 4.29s\tremaining: 32.7s\n",
            "174:\tlearn: 6.9903700\ttest: 10.5795238\tbest: 10.5795238 (174)\ttotal: 4.31s\tremaining: 32.7s\n",
            "175:\tlearn: 6.9899134\ttest: 10.5770390\tbest: 10.5770390 (175)\ttotal: 4.34s\tremaining: 32.6s\n",
            "176:\tlearn: 6.9891281\ttest: 10.5755236\tbest: 10.5755236 (176)\ttotal: 4.36s\tremaining: 32.6s\n",
            "177:\tlearn: 6.9885076\ttest: 10.5735763\tbest: 10.5735763 (177)\ttotal: 4.39s\tremaining: 32.6s\n",
            "178:\tlearn: 6.9879343\ttest: 10.5723814\tbest: 10.5723814 (178)\ttotal: 4.41s\tremaining: 32.6s\n",
            "179:\tlearn: 6.9869659\ttest: 10.5708804\tbest: 10.5708804 (179)\ttotal: 4.43s\tremaining: 32.5s\n",
            "180:\tlearn: 6.9854397\ttest: 10.5685962\tbest: 10.5685962 (180)\ttotal: 4.46s\tremaining: 32.5s\n",
            "181:\tlearn: 6.9845855\ttest: 10.5647094\tbest: 10.5647094 (181)\ttotal: 4.49s\tremaining: 32.5s\n",
            "182:\tlearn: 6.9841644\ttest: 10.5626347\tbest: 10.5626347 (182)\ttotal: 4.51s\tremaining: 32.5s\n",
            "183:\tlearn: 6.9833943\ttest: 10.5596862\tbest: 10.5596862 (183)\ttotal: 4.54s\tremaining: 32.5s\n",
            "184:\tlearn: 6.9821487\ttest: 10.5574061\tbest: 10.5574061 (184)\ttotal: 4.57s\tremaining: 32.5s\n",
            "185:\tlearn: 6.9812915\ttest: 10.5552094\tbest: 10.5552094 (185)\ttotal: 4.59s\tremaining: 32.4s\n",
            "186:\tlearn: 6.9803442\ttest: 10.5527767\tbest: 10.5527767 (186)\ttotal: 4.62s\tremaining: 32.4s\n",
            "187:\tlearn: 6.9797980\ttest: 10.5512197\tbest: 10.5512197 (187)\ttotal: 4.64s\tremaining: 32.4s\n",
            "188:\tlearn: 6.9793602\ttest: 10.5488382\tbest: 10.5488382 (188)\ttotal: 4.66s\tremaining: 32.3s\n",
            "189:\tlearn: 6.9781717\ttest: 10.5471886\tbest: 10.5471886 (189)\ttotal: 4.68s\tremaining: 32.3s\n",
            "190:\tlearn: 6.9772848\ttest: 10.5458978\tbest: 10.5458978 (190)\ttotal: 4.71s\tremaining: 32.3s\n",
            "191:\tlearn: 6.9766517\ttest: 10.5435962\tbest: 10.5435962 (191)\ttotal: 4.74s\tremaining: 32.3s\n",
            "192:\tlearn: 6.9757124\ttest: 10.5417456\tbest: 10.5417456 (192)\ttotal: 4.76s\tremaining: 32.3s\n",
            "193:\tlearn: 6.9750885\ttest: 10.5392527\tbest: 10.5392527 (193)\ttotal: 4.79s\tremaining: 32.3s\n",
            "194:\tlearn: 6.9744960\ttest: 10.5375485\tbest: 10.5375485 (194)\ttotal: 4.81s\tremaining: 32.2s\n",
            "195:\tlearn: 6.9737352\ttest: 10.5340958\tbest: 10.5340958 (195)\ttotal: 4.84s\tremaining: 32.2s\n",
            "196:\tlearn: 6.9729689\ttest: 10.5323938\tbest: 10.5323938 (196)\ttotal: 4.86s\tremaining: 32.2s\n",
            "197:\tlearn: 6.9725004\ttest: 10.5313106\tbest: 10.5313106 (197)\ttotal: 4.89s\tremaining: 32.1s\n",
            "198:\tlearn: 6.9719596\ttest: 10.5300421\tbest: 10.5300421 (198)\ttotal: 4.91s\tremaining: 32.1s\n",
            "199:\tlearn: 6.9713626\ttest: 10.5292047\tbest: 10.5292047 (199)\ttotal: 4.93s\tremaining: 32.1s\n",
            "200:\tlearn: 6.9703826\ttest: 10.5278845\tbest: 10.5278845 (200)\ttotal: 4.96s\tremaining: 32s\n",
            "201:\tlearn: 6.9697184\ttest: 10.5253744\tbest: 10.5253744 (201)\ttotal: 4.98s\tremaining: 32s\n",
            "202:\tlearn: 6.9691122\ttest: 10.5244106\tbest: 10.5244106 (202)\ttotal: 5s\tremaining: 31.9s\n",
            "203:\tlearn: 6.9687298\ttest: 10.5236433\tbest: 10.5236433 (203)\ttotal: 5.02s\tremaining: 31.9s\n",
            "204:\tlearn: 6.9683894\ttest: 10.5210261\tbest: 10.5210261 (204)\ttotal: 5.04s\tremaining: 31.8s\n",
            "205:\tlearn: 6.9676874\ttest: 10.5197610\tbest: 10.5197610 (205)\ttotal: 5.06s\tremaining: 31.8s\n",
            "206:\tlearn: 6.9668936\ttest: 10.5178053\tbest: 10.5178053 (206)\ttotal: 5.08s\tremaining: 31.8s\n",
            "207:\tlearn: 6.9662989\ttest: 10.5153130\tbest: 10.5153130 (207)\ttotal: 5.11s\tremaining: 31.8s\n",
            "208:\tlearn: 6.9656107\ttest: 10.5137475\tbest: 10.5137475 (208)\ttotal: 5.14s\tremaining: 31.8s\n",
            "209:\tlearn: 6.9648475\ttest: 10.5122135\tbest: 10.5122135 (209)\ttotal: 5.16s\tremaining: 31.7s\n",
            "210:\tlearn: 6.9643648\ttest: 10.5099644\tbest: 10.5099644 (210)\ttotal: 5.19s\tremaining: 31.7s\n",
            "211:\tlearn: 6.9638541\ttest: 10.5090484\tbest: 10.5090484 (211)\ttotal: 5.21s\tremaining: 31.7s\n",
            "212:\tlearn: 6.9633896\ttest: 10.5075621\tbest: 10.5075621 (212)\ttotal: 5.24s\tremaining: 31.6s\n",
            "213:\tlearn: 6.9626747\ttest: 10.5050186\tbest: 10.5050186 (213)\ttotal: 5.26s\tremaining: 31.6s\n",
            "214:\tlearn: 6.9620648\ttest: 10.5040796\tbest: 10.5040796 (214)\ttotal: 5.28s\tremaining: 31.6s\n",
            "215:\tlearn: 6.9616394\ttest: 10.5034879\tbest: 10.5034879 (215)\ttotal: 5.3s\tremaining: 31.5s\n",
            "216:\tlearn: 6.9613249\ttest: 10.5014009\tbest: 10.5014009 (216)\ttotal: 5.33s\tremaining: 31.5s\n",
            "217:\tlearn: 6.9609749\ttest: 10.4993649\tbest: 10.4993649 (217)\ttotal: 5.35s\tremaining: 31.5s\n",
            "218:\tlearn: 6.9607062\ttest: 10.4974619\tbest: 10.4974619 (218)\ttotal: 5.37s\tremaining: 31.4s\n",
            "219:\tlearn: 6.9601687\ttest: 10.4954802\tbest: 10.4954802 (219)\ttotal: 5.39s\tremaining: 31.4s\n",
            "220:\tlearn: 6.9594993\ttest: 10.4943693\tbest: 10.4943693 (220)\ttotal: 5.42s\tremaining: 31.4s\n",
            "221:\tlearn: 6.9588722\ttest: 10.4930709\tbest: 10.4930709 (221)\ttotal: 5.44s\tremaining: 31.3s\n",
            "222:\tlearn: 6.9582170\ttest: 10.4919255\tbest: 10.4919255 (222)\ttotal: 5.47s\tremaining: 31.3s\n",
            "223:\tlearn: 6.9578251\ttest: 10.4910304\tbest: 10.4910304 (223)\ttotal: 5.5s\tremaining: 31.3s\n",
            "224:\tlearn: 6.9574063\ttest: 10.4896134\tbest: 10.4896134 (224)\ttotal: 5.52s\tremaining: 31.3s\n",
            "225:\tlearn: 6.9571444\ttest: 10.4877071\tbest: 10.4877071 (225)\ttotal: 5.54s\tremaining: 31.3s\n",
            "226:\tlearn: 6.9565192\ttest: 10.4864030\tbest: 10.4864030 (226)\ttotal: 5.57s\tremaining: 31.2s\n",
            "227:\tlearn: 6.9559824\ttest: 10.4848244\tbest: 10.4848244 (227)\ttotal: 5.59s\tremaining: 31.2s\n",
            "228:\tlearn: 6.9554881\ttest: 10.4835101\tbest: 10.4835101 (228)\ttotal: 5.62s\tremaining: 31.2s\n",
            "229:\tlearn: 6.9550966\ttest: 10.4816968\tbest: 10.4816968 (229)\ttotal: 5.65s\tremaining: 31.2s\n",
            "230:\tlearn: 6.9547301\ttest: 10.4803040\tbest: 10.4803040 (230)\ttotal: 5.67s\tremaining: 31.1s\n",
            "231:\tlearn: 6.9536729\ttest: 10.4784663\tbest: 10.4784663 (231)\ttotal: 5.69s\tremaining: 31.1s\n",
            "232:\tlearn: 6.9530868\ttest: 10.4774334\tbest: 10.4774334 (232)\ttotal: 5.72s\tremaining: 31.1s\n",
            "233:\tlearn: 6.9523868\ttest: 10.4756310\tbest: 10.4756310 (233)\ttotal: 5.74s\tremaining: 31.1s\n",
            "234:\tlearn: 6.9517635\ttest: 10.4746397\tbest: 10.4746397 (234)\ttotal: 5.77s\tremaining: 31.1s\n",
            "235:\tlearn: 6.9512631\ttest: 10.4732252\tbest: 10.4732252 (235)\ttotal: 5.79s\tremaining: 31s\n",
            "236:\tlearn: 6.9509289\ttest: 10.4718369\tbest: 10.4718369 (236)\ttotal: 5.81s\tremaining: 31s\n",
            "237:\tlearn: 6.9503746\ttest: 10.4712292\tbest: 10.4712292 (237)\ttotal: 5.84s\tremaining: 30.9s\n",
            "238:\tlearn: 6.9498833\ttest: 10.4696112\tbest: 10.4696112 (238)\ttotal: 5.86s\tremaining: 30.9s\n",
            "239:\tlearn: 6.9489692\ttest: 10.4682475\tbest: 10.4682475 (239)\ttotal: 5.88s\tremaining: 30.9s\n",
            "240:\tlearn: 6.9483212\ttest: 10.4667579\tbest: 10.4667579 (240)\ttotal: 5.91s\tremaining: 30.9s\n",
            "241:\tlearn: 6.9476873\ttest: 10.4654716\tbest: 10.4654716 (241)\ttotal: 5.94s\tremaining: 30.9s\n",
            "242:\tlearn: 6.9472908\ttest: 10.4647111\tbest: 10.4647111 (242)\ttotal: 5.96s\tremaining: 30.8s\n",
            "243:\tlearn: 6.9469088\ttest: 10.4637335\tbest: 10.4637335 (243)\ttotal: 5.98s\tremaining: 30.8s\n",
            "244:\tlearn: 6.9461580\ttest: 10.4618966\tbest: 10.4618966 (244)\ttotal: 6s\tremaining: 30.8s\n",
            "245:\tlearn: 6.9458673\ttest: 10.4603006\tbest: 10.4603006 (245)\ttotal: 6.03s\tremaining: 30.7s\n",
            "246:\tlearn: 6.9456742\ttest: 10.4585325\tbest: 10.4585325 (246)\ttotal: 6.05s\tremaining: 30.7s\n",
            "247:\tlearn: 6.9450188\ttest: 10.4575140\tbest: 10.4575140 (247)\ttotal: 6.08s\tremaining: 30.7s\n",
            "248:\tlearn: 6.9441937\ttest: 10.4560111\tbest: 10.4560111 (248)\ttotal: 6.1s\tremaining: 30.7s\n",
            "249:\tlearn: 6.9438494\ttest: 10.4547776\tbest: 10.4547776 (249)\ttotal: 6.13s\tremaining: 30.7s\n",
            "250:\tlearn: 6.9435023\ttest: 10.4542211\tbest: 10.4542211 (250)\ttotal: 6.15s\tremaining: 30.6s\n",
            "251:\tlearn: 6.9433299\ttest: 10.4527589\tbest: 10.4527589 (251)\ttotal: 6.17s\tremaining: 30.6s\n",
            "252:\tlearn: 6.9427343\ttest: 10.4521083\tbest: 10.4521083 (252)\ttotal: 6.19s\tremaining: 30.5s\n",
            "253:\tlearn: 6.9421331\ttest: 10.4508931\tbest: 10.4508931 (253)\ttotal: 6.22s\tremaining: 30.5s\n",
            "254:\tlearn: 6.9414731\ttest: 10.4497132\tbest: 10.4497132 (254)\ttotal: 6.24s\tremaining: 30.5s\n",
            "255:\tlearn: 6.9411541\ttest: 10.4491892\tbest: 10.4491892 (255)\ttotal: 6.27s\tremaining: 30.4s\n",
            "256:\tlearn: 6.9405035\ttest: 10.4481556\tbest: 10.4481556 (256)\ttotal: 6.29s\tremaining: 30.4s\n",
            "257:\tlearn: 6.9398812\ttest: 10.4462054\tbest: 10.4462054 (257)\ttotal: 6.31s\tremaining: 30.4s\n",
            "258:\tlearn: 6.9395720\ttest: 10.4448106\tbest: 10.4448106 (258)\ttotal: 6.34s\tremaining: 30.4s\n",
            "259:\tlearn: 6.9388763\ttest: 10.4436933\tbest: 10.4436933 (259)\ttotal: 6.37s\tremaining: 30.4s\n",
            "260:\tlearn: 6.9386064\ttest: 10.4428719\tbest: 10.4428719 (260)\ttotal: 6.39s\tremaining: 30.3s\n",
            "261:\tlearn: 6.9377603\ttest: 10.4414461\tbest: 10.4414461 (261)\ttotal: 6.42s\tremaining: 30.3s\n",
            "262:\tlearn: 6.9371559\ttest: 10.4400136\tbest: 10.4400136 (262)\ttotal: 6.44s\tremaining: 30.3s\n",
            "263:\tlearn: 6.9366677\ttest: 10.4389927\tbest: 10.4389927 (263)\ttotal: 6.47s\tremaining: 30.3s\n",
            "264:\tlearn: 6.9360044\ttest: 10.4375423\tbest: 10.4375423 (264)\ttotal: 6.5s\tremaining: 30.3s\n",
            "265:\tlearn: 6.9353145\ttest: 10.4364506\tbest: 10.4364506 (265)\ttotal: 6.52s\tremaining: 30.2s\n",
            "266:\tlearn: 6.9349532\ttest: 10.4353492\tbest: 10.4353492 (266)\ttotal: 6.54s\tremaining: 30.2s\n",
            "267:\tlearn: 6.9342520\ttest: 10.4341890\tbest: 10.4341890 (267)\ttotal: 6.57s\tremaining: 30.2s\n",
            "268:\tlearn: 6.9337069\ttest: 10.4330092\tbest: 10.4330092 (268)\ttotal: 6.59s\tremaining: 30.2s\n",
            "269:\tlearn: 6.9332801\ttest: 10.4322765\tbest: 10.4322765 (269)\ttotal: 6.62s\tremaining: 30.2s\n",
            "270:\tlearn: 6.9328841\ttest: 10.4310556\tbest: 10.4310556 (270)\ttotal: 6.64s\tremaining: 30.1s\n",
            "271:\tlearn: 6.9325770\ttest: 10.4286618\tbest: 10.4286618 (271)\ttotal: 6.67s\tremaining: 30.1s\n",
            "272:\tlearn: 6.9322296\ttest: 10.4277274\tbest: 10.4277274 (272)\ttotal: 6.69s\tremaining: 30.1s\n",
            "273:\tlearn: 6.9318933\ttest: 10.4269289\tbest: 10.4269289 (273)\ttotal: 6.71s\tremaining: 30s\n",
            "274:\tlearn: 6.9313657\ttest: 10.4260448\tbest: 10.4260448 (274)\ttotal: 6.74s\tremaining: 30s\n",
            "275:\tlearn: 6.9307706\ttest: 10.4247243\tbest: 10.4247243 (275)\ttotal: 6.77s\tremaining: 30s\n",
            "276:\tlearn: 6.9305112\ttest: 10.4239075\tbest: 10.4239075 (276)\ttotal: 6.79s\tremaining: 30s\n",
            "277:\tlearn: 6.9299824\ttest: 10.4227040\tbest: 10.4227040 (277)\ttotal: 6.82s\tremaining: 30s\n",
            "278:\tlearn: 6.9294963\ttest: 10.4213295\tbest: 10.4213295 (278)\ttotal: 6.85s\tremaining: 30s\n",
            "279:\tlearn: 6.9289445\ttest: 10.4206348\tbest: 10.4206348 (279)\ttotal: 6.87s\tremaining: 29.9s\n",
            "280:\tlearn: 6.9287339\ttest: 10.4194063\tbest: 10.4194063 (280)\ttotal: 6.89s\tremaining: 29.9s\n",
            "281:\tlearn: 6.9282190\ttest: 10.4183061\tbest: 10.4183061 (281)\ttotal: 6.92s\tremaining: 29.9s\n",
            "282:\tlearn: 6.9279730\ttest: 10.4175683\tbest: 10.4175683 (282)\ttotal: 6.94s\tremaining: 29.8s\n",
            "283:\tlearn: 6.9275085\ttest: 10.4164142\tbest: 10.4164142 (283)\ttotal: 6.96s\tremaining: 29.8s\n",
            "284:\tlearn: 6.9270721\ttest: 10.4155752\tbest: 10.4155752 (284)\ttotal: 6.98s\tremaining: 29.8s\n",
            "285:\tlearn: 6.9268419\ttest: 10.4140721\tbest: 10.4140721 (285)\ttotal: 7.01s\tremaining: 29.7s\n",
            "286:\tlearn: 6.9265342\ttest: 10.4124296\tbest: 10.4124296 (286)\ttotal: 7.03s\tremaining: 29.7s\n",
            "287:\tlearn: 6.9261440\ttest: 10.4115121\tbest: 10.4115121 (287)\ttotal: 7.05s\tremaining: 29.7s\n",
            "288:\tlearn: 6.9258635\ttest: 10.4110680\tbest: 10.4110680 (288)\ttotal: 7.08s\tremaining: 29.7s\n",
            "289:\tlearn: 6.9255154\ttest: 10.4104171\tbest: 10.4104171 (289)\ttotal: 7.11s\tremaining: 29.6s\n",
            "290:\tlearn: 6.9251069\ttest: 10.4095390\tbest: 10.4095390 (290)\ttotal: 7.13s\tremaining: 29.6s\n",
            "291:\tlearn: 6.9248880\ttest: 10.4079542\tbest: 10.4079542 (291)\ttotal: 7.16s\tremaining: 29.6s\n",
            "292:\tlearn: 6.9245110\ttest: 10.4076058\tbest: 10.4076058 (292)\ttotal: 7.18s\tremaining: 29.6s\n",
            "293:\tlearn: 6.9241738\ttest: 10.4070749\tbest: 10.4070749 (293)\ttotal: 7.2s\tremaining: 29.5s\n",
            "294:\tlearn: 6.9237873\ttest: 10.4064544\tbest: 10.4064544 (294)\ttotal: 7.23s\tremaining: 29.5s\n",
            "295:\tlearn: 6.9234039\ttest: 10.4053818\tbest: 10.4053818 (295)\ttotal: 7.26s\tremaining: 29.5s\n",
            "296:\tlearn: 6.9229687\ttest: 10.4045274\tbest: 10.4045274 (296)\ttotal: 7.28s\tremaining: 29.5s\n",
            "297:\tlearn: 6.9227910\ttest: 10.4036206\tbest: 10.4036206 (297)\ttotal: 7.3s\tremaining: 29.5s\n",
            "298:\tlearn: 6.9225750\ttest: 10.4018999\tbest: 10.4018999 (298)\ttotal: 7.33s\tremaining: 29.4s\n",
            "299:\tlearn: 6.9221598\ttest: 10.4011938\tbest: 10.4011938 (299)\ttotal: 7.35s\tremaining: 29.4s\n",
            "300:\tlearn: 6.9216941\ttest: 10.4001992\tbest: 10.4001992 (300)\ttotal: 7.37s\tremaining: 29.4s\n",
            "301:\tlearn: 6.9212558\ttest: 10.3990583\tbest: 10.3990583 (301)\ttotal: 7.4s\tremaining: 29.4s\n",
            "302:\tlearn: 6.9209320\ttest: 10.3984431\tbest: 10.3984431 (302)\ttotal: 7.42s\tremaining: 29.3s\n",
            "303:\tlearn: 6.9205508\ttest: 10.3979573\tbest: 10.3979573 (303)\ttotal: 7.45s\tremaining: 29.3s\n",
            "304:\tlearn: 6.9202809\ttest: 10.3968978\tbest: 10.3968978 (304)\ttotal: 7.47s\tremaining: 29.3s\n",
            "305:\tlearn: 6.9201351\ttest: 10.3955641\tbest: 10.3955641 (305)\ttotal: 7.49s\tremaining: 29.2s\n",
            "306:\tlearn: 6.9197971\ttest: 10.3942851\tbest: 10.3942851 (306)\ttotal: 7.52s\tremaining: 29.2s\n",
            "307:\tlearn: 6.9194434\ttest: 10.3935344\tbest: 10.3935344 (307)\ttotal: 7.54s\tremaining: 29.2s\n",
            "308:\tlearn: 6.9189852\ttest: 10.3927908\tbest: 10.3927908 (308)\ttotal: 7.57s\tremaining: 29.2s\n",
            "309:\tlearn: 6.9187616\ttest: 10.3921623\tbest: 10.3921623 (309)\ttotal: 7.59s\tremaining: 29.2s\n",
            "310:\tlearn: 6.9185004\ttest: 10.3909214\tbest: 10.3909214 (310)\ttotal: 7.62s\tremaining: 29.1s\n",
            "311:\tlearn: 6.9182596\ttest: 10.3899014\tbest: 10.3899014 (311)\ttotal: 7.64s\tremaining: 29.1s\n",
            "312:\tlearn: 6.9180689\ttest: 10.3894842\tbest: 10.3894842 (312)\ttotal: 7.66s\tremaining: 29.1s\n",
            "313:\tlearn: 6.9176002\ttest: 10.3883775\tbest: 10.3883775 (313)\ttotal: 7.69s\tremaining: 29s\n",
            "314:\tlearn: 6.9173247\ttest: 10.3877434\tbest: 10.3877434 (314)\ttotal: 7.71s\tremaining: 29s\n",
            "315:\tlearn: 6.9169003\ttest: 10.3868802\tbest: 10.3868802 (315)\ttotal: 7.74s\tremaining: 29s\n",
            "316:\tlearn: 6.9165083\ttest: 10.3861904\tbest: 10.3861904 (316)\ttotal: 7.77s\tremaining: 29s\n",
            "317:\tlearn: 6.9162677\ttest: 10.3855675\tbest: 10.3855675 (317)\ttotal: 7.79s\tremaining: 29s\n",
            "318:\tlearn: 6.9161290\ttest: 10.3849505\tbest: 10.3849505 (318)\ttotal: 7.81s\tremaining: 28.9s\n",
            "319:\tlearn: 6.9159137\ttest: 10.3841014\tbest: 10.3841014 (319)\ttotal: 7.84s\tremaining: 28.9s\n",
            "320:\tlearn: 6.9156978\ttest: 10.3837442\tbest: 10.3837442 (320)\ttotal: 7.86s\tremaining: 28.9s\n",
            "321:\tlearn: 6.9154403\ttest: 10.3826965\tbest: 10.3826965 (321)\ttotal: 7.88s\tremaining: 28.8s\n",
            "322:\tlearn: 6.9152502\ttest: 10.3811430\tbest: 10.3811430 (322)\ttotal: 7.91s\tremaining: 28.8s\n",
            "323:\tlearn: 6.9150698\ttest: 10.3800022\tbest: 10.3800022 (323)\ttotal: 7.93s\tremaining: 28.8s\n",
            "324:\tlearn: 6.9148346\ttest: 10.3795358\tbest: 10.3795358 (324)\ttotal: 7.96s\tremaining: 28.8s\n",
            "325:\tlearn: 6.9146524\ttest: 10.3786879\tbest: 10.3786879 (325)\ttotal: 7.98s\tremaining: 28.8s\n",
            "326:\tlearn: 6.9144628\ttest: 10.3777322\tbest: 10.3777322 (326)\ttotal: 8.01s\tremaining: 28.7s\n",
            "327:\tlearn: 6.9140520\ttest: 10.3772514\tbest: 10.3772514 (327)\ttotal: 8.03s\tremaining: 28.7s\n",
            "328:\tlearn: 6.9138652\ttest: 10.3762366\tbest: 10.3762366 (328)\ttotal: 8.05s\tremaining: 28.7s\n",
            "329:\tlearn: 6.9133756\ttest: 10.3753485\tbest: 10.3753485 (329)\ttotal: 8.08s\tremaining: 28.7s\n",
            "330:\tlearn: 6.9130840\ttest: 10.3747670\tbest: 10.3747670 (330)\ttotal: 8.1s\tremaining: 28.6s\n",
            "331:\tlearn: 6.9128903\ttest: 10.3742169\tbest: 10.3742169 (331)\ttotal: 8.13s\tremaining: 28.6s\n",
            "332:\tlearn: 6.9125561\ttest: 10.3735813\tbest: 10.3735813 (332)\ttotal: 8.15s\tremaining: 28.6s\n",
            "333:\tlearn: 6.9123114\ttest: 10.3731511\tbest: 10.3731511 (333)\ttotal: 8.18s\tremaining: 28.5s\n",
            "334:\tlearn: 6.9120301\ttest: 10.3726479\tbest: 10.3726479 (334)\ttotal: 8.2s\tremaining: 28.5s\n",
            "335:\tlearn: 6.9118431\ttest: 10.3716904\tbest: 10.3716904 (335)\ttotal: 8.23s\tremaining: 28.5s\n",
            "336:\tlearn: 6.9116854\ttest: 10.3708336\tbest: 10.3708336 (336)\ttotal: 8.25s\tremaining: 28.5s\n",
            "337:\tlearn: 6.9114910\ttest: 10.3695353\tbest: 10.3695353 (337)\ttotal: 8.28s\tremaining: 28.5s\n",
            "338:\tlearn: 6.9111386\ttest: 10.3687567\tbest: 10.3687567 (338)\ttotal: 8.3s\tremaining: 28.4s\n",
            "339:\tlearn: 6.9108863\ttest: 10.3682177\tbest: 10.3682177 (339)\ttotal: 8.32s\tremaining: 28.4s\n",
            "340:\tlearn: 6.9106142\ttest: 10.3676384\tbest: 10.3676384 (340)\ttotal: 8.35s\tremaining: 28.4s\n",
            "341:\tlearn: 6.9104326\ttest: 10.3670394\tbest: 10.3670394 (341)\ttotal: 8.37s\tremaining: 28.3s\n",
            "342:\tlearn: 6.9102537\ttest: 10.3662488\tbest: 10.3662488 (342)\ttotal: 8.39s\tremaining: 28.3s\n",
            "343:\tlearn: 6.9100399\ttest: 10.3647624\tbest: 10.3647624 (343)\ttotal: 8.41s\tremaining: 28.3s\n",
            "344:\tlearn: 6.9098272\ttest: 10.3641979\tbest: 10.3641979 (344)\ttotal: 8.44s\tremaining: 28.3s\n",
            "345:\tlearn: 6.9096221\ttest: 10.3637741\tbest: 10.3637741 (345)\ttotal: 8.46s\tremaining: 28.2s\n",
            "346:\tlearn: 6.9092063\ttest: 10.3633236\tbest: 10.3633236 (346)\ttotal: 8.49s\tremaining: 28.2s\n",
            "347:\tlearn: 6.9090217\ttest: 10.3619774\tbest: 10.3619774 (347)\ttotal: 8.51s\tremaining: 28.2s\n",
            "348:\tlearn: 6.9087217\ttest: 10.3613726\tbest: 10.3613726 (348)\ttotal: 8.54s\tremaining: 28.2s\n",
            "349:\tlearn: 6.9085331\ttest: 10.3602781\tbest: 10.3602781 (349)\ttotal: 8.56s\tremaining: 28.1s\n",
            "350:\tlearn: 6.9081559\ttest: 10.3593787\tbest: 10.3593787 (350)\ttotal: 8.59s\tremaining: 28.1s\n",
            "351:\tlearn: 6.9079322\ttest: 10.3588587\tbest: 10.3588587 (351)\ttotal: 8.61s\tremaining: 28.1s\n",
            "352:\tlearn: 6.9076614\ttest: 10.3583255\tbest: 10.3583255 (352)\ttotal: 8.64s\tremaining: 28.1s\n",
            "353:\tlearn: 6.9075481\ttest: 10.3579202\tbest: 10.3579202 (353)\ttotal: 8.66s\tremaining: 28s\n",
            "354:\tlearn: 6.9071780\ttest: 10.3573146\tbest: 10.3573146 (354)\ttotal: 8.68s\tremaining: 28s\n",
            "355:\tlearn: 6.9070750\ttest: 10.3565395\tbest: 10.3565395 (355)\ttotal: 8.71s\tremaining: 28s\n",
            "356:\tlearn: 6.9068330\ttest: 10.3559319\tbest: 10.3559319 (356)\ttotal: 8.74s\tremaining: 28s\n",
            "357:\tlearn: 6.9066789\ttest: 10.3554662\tbest: 10.3554662 (357)\ttotal: 8.76s\tremaining: 27.9s\n",
            "358:\tlearn: 6.9063735\ttest: 10.3543981\tbest: 10.3543981 (358)\ttotal: 8.79s\tremaining: 27.9s\n",
            "359:\tlearn: 6.9061700\ttest: 10.3538247\tbest: 10.3538247 (359)\ttotal: 8.81s\tremaining: 27.9s\n",
            "360:\tlearn: 6.9058198\ttest: 10.3532762\tbest: 10.3532762 (360)\ttotal: 8.84s\tremaining: 27.9s\n",
            "361:\tlearn: 6.9056724\ttest: 10.3524516\tbest: 10.3524516 (361)\ttotal: 8.86s\tremaining: 27.8s\n",
            "362:\tlearn: 6.9052704\ttest: 10.3517709\tbest: 10.3517709 (362)\ttotal: 8.88s\tremaining: 27.8s\n",
            "363:\tlearn: 6.9051257\ttest: 10.3515231\tbest: 10.3515231 (363)\ttotal: 8.91s\tremaining: 27.8s\n",
            "364:\tlearn: 6.9049551\ttest: 10.3512227\tbest: 10.3512227 (364)\ttotal: 8.93s\tremaining: 27.8s\n",
            "365:\tlearn: 6.9048133\ttest: 10.3506101\tbest: 10.3506101 (365)\ttotal: 8.95s\tremaining: 27.7s\n",
            "366:\tlearn: 6.9047069\ttest: 10.3502175\tbest: 10.3502175 (366)\ttotal: 8.97s\tremaining: 27.7s\n",
            "367:\tlearn: 6.9044794\ttest: 10.3493067\tbest: 10.3493067 (367)\ttotal: 9s\tremaining: 27.7s\n",
            "368:\tlearn: 6.9043499\ttest: 10.3488388\tbest: 10.3488388 (368)\ttotal: 9.02s\tremaining: 27.6s\n",
            "369:\tlearn: 6.9041732\ttest: 10.3485669\tbest: 10.3485669 (369)\ttotal: 9.04s\tremaining: 27.6s\n",
            "370:\tlearn: 6.9040064\ttest: 10.3478942\tbest: 10.3478942 (370)\ttotal: 9.07s\tremaining: 27.6s\n",
            "371:\tlearn: 6.9038360\ttest: 10.3470863\tbest: 10.3470863 (371)\ttotal: 9.09s\tremaining: 27.6s\n",
            "372:\tlearn: 6.9036638\ttest: 10.3461878\tbest: 10.3461878 (372)\ttotal: 9.11s\tremaining: 27.5s\n",
            "373:\tlearn: 6.9035169\ttest: 10.3452126\tbest: 10.3452126 (373)\ttotal: 9.14s\tremaining: 27.5s\n",
            "374:\tlearn: 6.9032402\ttest: 10.3447259\tbest: 10.3447259 (374)\ttotal: 9.16s\tremaining: 27.5s\n",
            "375:\tlearn: 6.9029051\ttest: 10.3442158\tbest: 10.3442158 (375)\ttotal: 9.19s\tremaining: 27.5s\n",
            "376:\tlearn: 6.9027680\ttest: 10.3435553\tbest: 10.3435553 (376)\ttotal: 9.21s\tremaining: 27.4s\n",
            "377:\tlearn: 6.9024629\ttest: 10.3432020\tbest: 10.3432020 (377)\ttotal: 9.24s\tremaining: 27.4s\n",
            "378:\tlearn: 6.9022897\ttest: 10.3429391\tbest: 10.3429391 (378)\ttotal: 9.26s\tremaining: 27.4s\n",
            "379:\tlearn: 6.9020314\ttest: 10.3423948\tbest: 10.3423948 (379)\ttotal: 9.28s\tremaining: 27.4s\n",
            "380:\tlearn: 6.9019252\ttest: 10.3417722\tbest: 10.3417722 (380)\ttotal: 9.3s\tremaining: 27.3s\n",
            "381:\tlearn: 6.9016934\ttest: 10.3412458\tbest: 10.3412458 (381)\ttotal: 9.33s\tremaining: 27.3s\n",
            "382:\tlearn: 6.9016038\ttest: 10.3407991\tbest: 10.3407991 (382)\ttotal: 9.35s\tremaining: 27.3s\n",
            "383:\tlearn: 6.9013813\ttest: 10.3399919\tbest: 10.3399919 (383)\ttotal: 9.38s\tremaining: 27.3s\n",
            "384:\tlearn: 6.9010287\ttest: 10.3395702\tbest: 10.3395702 (384)\ttotal: 9.4s\tremaining: 27.2s\n",
            "385:\tlearn: 6.9008298\ttest: 10.3391579\tbest: 10.3391579 (385)\ttotal: 9.43s\tremaining: 27.2s\n",
            "386:\tlearn: 6.9006977\ttest: 10.3386595\tbest: 10.3386595 (386)\ttotal: 9.45s\tremaining: 27.2s\n",
            "387:\tlearn: 6.9005431\ttest: 10.3381410\tbest: 10.3381410 (387)\ttotal: 9.47s\tremaining: 27.2s\n",
            "388:\tlearn: 6.9003086\ttest: 10.3376699\tbest: 10.3376699 (388)\ttotal: 9.5s\tremaining: 27.1s\n",
            "389:\tlearn: 6.9000956\ttest: 10.3370801\tbest: 10.3370801 (389)\ttotal: 9.53s\tremaining: 27.1s\n",
            "390:\tlearn: 6.8999467\ttest: 10.3362128\tbest: 10.3362128 (390)\ttotal: 9.55s\tremaining: 27.1s\n",
            "391:\tlearn: 6.8996789\ttest: 10.3352354\tbest: 10.3352354 (391)\ttotal: 9.58s\tremaining: 27.1s\n",
            "392:\tlearn: 6.8995296\ttest: 10.3347444\tbest: 10.3347444 (392)\ttotal: 9.6s\tremaining: 27s\n",
            "393:\tlearn: 6.8993518\ttest: 10.3343414\tbest: 10.3343414 (393)\ttotal: 9.62s\tremaining: 27s\n",
            "394:\tlearn: 6.8992403\ttest: 10.3337186\tbest: 10.3337186 (394)\ttotal: 9.65s\tremaining: 27s\n",
            "395:\tlearn: 6.8990241\ttest: 10.3331316\tbest: 10.3331316 (395)\ttotal: 9.67s\tremaining: 27s\n",
            "396:\tlearn: 6.8988999\ttest: 10.3324026\tbest: 10.3324026 (396)\ttotal: 9.7s\tremaining: 26.9s\n",
            "397:\tlearn: 6.8984607\ttest: 10.3317757\tbest: 10.3317757 (397)\ttotal: 9.73s\tremaining: 26.9s\n",
            "398:\tlearn: 6.8982272\ttest: 10.3313821\tbest: 10.3313821 (398)\ttotal: 9.75s\tremaining: 26.9s\n",
            "399:\tlearn: 6.8980086\ttest: 10.3310612\tbest: 10.3310612 (399)\ttotal: 9.78s\tremaining: 26.9s\n",
            "400:\tlearn: 6.8978971\ttest: 10.3307543\tbest: 10.3307543 (400)\ttotal: 9.8s\tremaining: 26.9s\n",
            "401:\tlearn: 6.8977936\ttest: 10.3300437\tbest: 10.3300437 (401)\ttotal: 9.82s\tremaining: 26.8s\n",
            "402:\tlearn: 6.8975013\ttest: 10.3291518\tbest: 10.3291518 (402)\ttotal: 9.85s\tremaining: 26.8s\n",
            "403:\tlearn: 6.8972298\ttest: 10.3288574\tbest: 10.3288574 (403)\ttotal: 9.87s\tremaining: 26.8s\n",
            "404:\tlearn: 6.8969844\ttest: 10.3280712\tbest: 10.3280712 (404)\ttotal: 9.9s\tremaining: 26.8s\n",
            "405:\tlearn: 6.8966907\ttest: 10.3271596\tbest: 10.3271596 (405)\ttotal: 9.92s\tremaining: 26.7s\n",
            "406:\tlearn: 6.8965143\ttest: 10.3268267\tbest: 10.3268267 (406)\ttotal: 9.95s\tremaining: 26.7s\n",
            "407:\tlearn: 6.8964141\ttest: 10.3265680\tbest: 10.3265680 (407)\ttotal: 9.97s\tremaining: 26.7s\n",
            "408:\tlearn: 6.8962589\ttest: 10.3263261\tbest: 10.3263261 (408)\ttotal: 9.99s\tremaining: 26.7s\n",
            "409:\tlearn: 6.8961072\ttest: 10.3256634\tbest: 10.3256634 (409)\ttotal: 10s\tremaining: 26.6s\n",
            "410:\tlearn: 6.8959353\ttest: 10.3250428\tbest: 10.3250428 (410)\ttotal: 10s\tremaining: 26.6s\n",
            "411:\tlearn: 6.8958260\ttest: 10.3245510\tbest: 10.3245510 (411)\ttotal: 10.1s\tremaining: 26.6s\n",
            "412:\tlearn: 6.8956498\ttest: 10.3241610\tbest: 10.3241610 (412)\ttotal: 10.1s\tremaining: 26.5s\n",
            "413:\tlearn: 6.8954522\ttest: 10.3236328\tbest: 10.3236328 (413)\ttotal: 10.1s\tremaining: 26.5s\n",
            "414:\tlearn: 6.8952301\ttest: 10.3231621\tbest: 10.3231621 (414)\ttotal: 10.1s\tremaining: 26.5s\n",
            "415:\tlearn: 6.8949047\ttest: 10.3225459\tbest: 10.3225459 (415)\ttotal: 10.2s\tremaining: 26.5s\n",
            "416:\tlearn: 6.8947596\ttest: 10.3219825\tbest: 10.3219825 (416)\ttotal: 10.2s\tremaining: 26.5s\n",
            "417:\tlearn: 6.8944731\ttest: 10.3214079\tbest: 10.3214079 (417)\ttotal: 10.2s\tremaining: 26.4s\n",
            "418:\tlearn: 6.8943614\ttest: 10.3208917\tbest: 10.3208917 (418)\ttotal: 10.2s\tremaining: 26.4s\n",
            "419:\tlearn: 6.8942338\ttest: 10.3204324\tbest: 10.3204324 (419)\ttotal: 10.3s\tremaining: 26.4s\n",
            "420:\tlearn: 6.8939415\ttest: 10.3197400\tbest: 10.3197400 (420)\ttotal: 10.3s\tremaining: 26.4s\n",
            "421:\tlearn: 6.8936682\ttest: 10.3192349\tbest: 10.3192349 (421)\ttotal: 10.3s\tremaining: 26.3s\n",
            "422:\tlearn: 6.8935550\ttest: 10.3179856\tbest: 10.3179856 (422)\ttotal: 10.3s\tremaining: 26.3s\n",
            "423:\tlearn: 6.8934594\ttest: 10.3175923\tbest: 10.3175923 (423)\ttotal: 10.4s\tremaining: 26.3s\n",
            "424:\tlearn: 6.8933356\ttest: 10.3173536\tbest: 10.3173536 (424)\ttotal: 10.4s\tremaining: 26.3s\n",
            "425:\tlearn: 6.8931057\ttest: 10.3168825\tbest: 10.3168825 (425)\ttotal: 10.4s\tremaining: 26.2s\n",
            "426:\tlearn: 6.8929426\ttest: 10.3167560\tbest: 10.3167560 (426)\ttotal: 10.4s\tremaining: 26.2s\n",
            "427:\tlearn: 6.8928212\ttest: 10.3165038\tbest: 10.3165038 (427)\ttotal: 10.5s\tremaining: 26.2s\n",
            "428:\tlearn: 6.8926311\ttest: 10.3162785\tbest: 10.3162785 (428)\ttotal: 10.5s\tremaining: 26.2s\n",
            "429:\tlearn: 6.8924384\ttest: 10.3160148\tbest: 10.3160148 (429)\ttotal: 10.5s\tremaining: 26.1s\n",
            "430:\tlearn: 6.8921893\ttest: 10.3152699\tbest: 10.3152699 (430)\ttotal: 10.5s\tremaining: 26.1s\n",
            "431:\tlearn: 6.8920402\ttest: 10.3149240\tbest: 10.3149240 (431)\ttotal: 10.6s\tremaining: 26.1s\n",
            "432:\tlearn: 6.8919436\ttest: 10.3145315\tbest: 10.3145315 (432)\ttotal: 10.6s\tremaining: 26.1s\n",
            "433:\tlearn: 6.8918170\ttest: 10.3139098\tbest: 10.3139098 (433)\ttotal: 10.6s\tremaining: 26s\n",
            "434:\tlearn: 6.8916148\ttest: 10.3133682\tbest: 10.3133682 (434)\ttotal: 10.6s\tremaining: 26s\n",
            "435:\tlearn: 6.8914505\ttest: 10.3130936\tbest: 10.3130936 (435)\ttotal: 10.7s\tremaining: 26s\n",
            "436:\tlearn: 6.8912978\ttest: 10.3126001\tbest: 10.3126001 (436)\ttotal: 10.7s\tremaining: 26s\n",
            "437:\tlearn: 6.8911067\ttest: 10.3121433\tbest: 10.3121433 (437)\ttotal: 10.7s\tremaining: 25.9s\n",
            "438:\tlearn: 6.8909903\ttest: 10.3112877\tbest: 10.3112877 (438)\ttotal: 10.7s\tremaining: 25.9s\n",
            "439:\tlearn: 6.8908159\ttest: 10.3106163\tbest: 10.3106163 (439)\ttotal: 10.8s\tremaining: 25.9s\n",
            "440:\tlearn: 6.8906712\ttest: 10.3103001\tbest: 10.3103001 (440)\ttotal: 10.8s\tremaining: 25.9s\n",
            "441:\tlearn: 6.8905424\ttest: 10.3101211\tbest: 10.3101211 (441)\ttotal: 10.8s\tremaining: 25.8s\n",
            "442:\tlearn: 6.8903699\ttest: 10.3097186\tbest: 10.3097186 (442)\ttotal: 10.8s\tremaining: 25.8s\n",
            "443:\tlearn: 6.8902509\ttest: 10.3093559\tbest: 10.3093559 (443)\ttotal: 10.8s\tremaining: 25.8s\n",
            "444:\tlearn: 6.8900226\ttest: 10.3080633\tbest: 10.3080633 (444)\ttotal: 10.9s\tremaining: 25.8s\n",
            "445:\tlearn: 6.8896229\ttest: 10.3077432\tbest: 10.3077432 (445)\ttotal: 10.9s\tremaining: 25.8s\n",
            "446:\tlearn: 6.8895163\ttest: 10.3074611\tbest: 10.3074611 (446)\ttotal: 10.9s\tremaining: 25.7s\n",
            "447:\tlearn: 6.8893993\ttest: 10.3070946\tbest: 10.3070946 (447)\ttotal: 10.9s\tremaining: 25.7s\n",
            "448:\tlearn: 6.8893138\ttest: 10.3068155\tbest: 10.3068155 (448)\ttotal: 11s\tremaining: 25.7s\n",
            "449:\tlearn: 6.8891249\ttest: 10.3064186\tbest: 10.3064186 (449)\ttotal: 11s\tremaining: 25.7s\n",
            "450:\tlearn: 6.8889551\ttest: 10.3059517\tbest: 10.3059517 (450)\ttotal: 11s\tremaining: 25.6s\n",
            "451:\tlearn: 6.8887001\ttest: 10.3055484\tbest: 10.3055484 (451)\ttotal: 11s\tremaining: 25.6s\n",
            "452:\tlearn: 6.8884900\ttest: 10.3052295\tbest: 10.3052295 (452)\ttotal: 11.1s\tremaining: 25.6s\n",
            "453:\tlearn: 6.8883129\ttest: 10.3048335\tbest: 10.3048335 (453)\ttotal: 11.1s\tremaining: 25.6s\n",
            "454:\tlearn: 6.8881196\ttest: 10.3042635\tbest: 10.3042635 (454)\ttotal: 11.1s\tremaining: 25.5s\n",
            "455:\tlearn: 6.8879390\ttest: 10.3036727\tbest: 10.3036727 (455)\ttotal: 11.2s\tremaining: 25.5s\n",
            "456:\tlearn: 6.8877512\ttest: 10.3032808\tbest: 10.3032808 (456)\ttotal: 11.2s\tremaining: 25.5s\n",
            "457:\tlearn: 6.8876504\ttest: 10.3028439\tbest: 10.3028439 (457)\ttotal: 11.2s\tremaining: 25.5s\n",
            "458:\tlearn: 6.8874073\ttest: 10.3023969\tbest: 10.3023969 (458)\ttotal: 11.2s\tremaining: 25.5s\n",
            "459:\tlearn: 6.8872597\ttest: 10.3021047\tbest: 10.3021047 (459)\ttotal: 11.2s\tremaining: 25.4s\n",
            "460:\tlearn: 6.8871029\ttest: 10.3016941\tbest: 10.3016941 (460)\ttotal: 11.3s\tremaining: 25.4s\n",
            "461:\tlearn: 6.8868594\ttest: 10.3012506\tbest: 10.3012506 (461)\ttotal: 11.3s\tremaining: 25.4s\n",
            "462:\tlearn: 6.8866835\ttest: 10.3010367\tbest: 10.3010367 (462)\ttotal: 11.3s\tremaining: 25.4s\n",
            "463:\tlearn: 6.8865026\ttest: 10.3006223\tbest: 10.3006223 (463)\ttotal: 11.3s\tremaining: 25.3s\n",
            "464:\tlearn: 6.8861299\ttest: 10.2999079\tbest: 10.2999079 (464)\ttotal: 11.4s\tremaining: 25.3s\n",
            "465:\tlearn: 6.8858579\ttest: 10.2993527\tbest: 10.2993527 (465)\ttotal: 11.4s\tremaining: 25.3s\n",
            "466:\tlearn: 6.8857783\ttest: 10.2988583\tbest: 10.2988583 (466)\ttotal: 11.4s\tremaining: 25.3s\n",
            "467:\tlearn: 6.8856299\ttest: 10.2981525\tbest: 10.2981525 (467)\ttotal: 11.4s\tremaining: 25.2s\n",
            "468:\tlearn: 6.8854456\ttest: 10.2978663\tbest: 10.2978663 (468)\ttotal: 11.5s\tremaining: 25.2s\n",
            "469:\tlearn: 6.8853346\ttest: 10.2975003\tbest: 10.2975003 (469)\ttotal: 11.5s\tremaining: 25.2s\n",
            "470:\tlearn: 6.8852293\ttest: 10.2972761\tbest: 10.2972761 (470)\ttotal: 11.5s\tremaining: 25.1s\n",
            "471:\tlearn: 6.8850590\ttest: 10.2964345\tbest: 10.2964345 (471)\ttotal: 11.5s\tremaining: 25.1s\n",
            "472:\tlearn: 6.8848965\ttest: 10.2959837\tbest: 10.2959837 (472)\ttotal: 11.6s\tremaining: 25.1s\n",
            "473:\tlearn: 6.8847838\ttest: 10.2958308\tbest: 10.2958308 (473)\ttotal: 11.6s\tremaining: 25.1s\n",
            "474:\tlearn: 6.8846818\ttest: 10.2955357\tbest: 10.2955357 (474)\ttotal: 11.6s\tremaining: 25s\n",
            "475:\tlearn: 6.8845599\ttest: 10.2953697\tbest: 10.2953697 (475)\ttotal: 11.6s\tremaining: 25s\n",
            "476:\tlearn: 6.8844413\ttest: 10.2951957\tbest: 10.2951957 (476)\ttotal: 11.7s\tremaining: 25s\n",
            "477:\tlearn: 6.8843258\ttest: 10.2947663\tbest: 10.2947663 (477)\ttotal: 11.7s\tremaining: 25s\n",
            "478:\tlearn: 6.8841568\ttest: 10.2943893\tbest: 10.2943893 (478)\ttotal: 11.7s\tremaining: 24.9s\n",
            "479:\tlearn: 6.8838145\ttest: 10.2937956\tbest: 10.2937956 (479)\ttotal: 11.7s\tremaining: 24.9s\n",
            "480:\tlearn: 6.8834728\ttest: 10.2935190\tbest: 10.2935190 (480)\ttotal: 11.8s\tremaining: 24.9s\n",
            "481:\tlearn: 6.8832939\ttest: 10.2926498\tbest: 10.2926498 (481)\ttotal: 11.8s\tremaining: 24.9s\n",
            "482:\tlearn: 6.8830858\ttest: 10.2923127\tbest: 10.2923127 (482)\ttotal: 11.8s\tremaining: 24.9s\n",
            "483:\tlearn: 6.8829287\ttest: 10.2919736\tbest: 10.2919736 (483)\ttotal: 11.8s\tremaining: 24.8s\n",
            "484:\tlearn: 6.8826398\ttest: 10.2914440\tbest: 10.2914440 (484)\ttotal: 11.9s\tremaining: 24.8s\n",
            "485:\tlearn: 6.8824324\ttest: 10.2907454\tbest: 10.2907454 (485)\ttotal: 11.9s\tremaining: 24.8s\n",
            "486:\tlearn: 6.8822092\ttest: 10.2903178\tbest: 10.2903178 (486)\ttotal: 11.9s\tremaining: 24.8s\n",
            "487:\tlearn: 6.8818823\ttest: 10.2896915\tbest: 10.2896915 (487)\ttotal: 11.9s\tremaining: 24.8s\n",
            "488:\tlearn: 6.8816626\ttest: 10.2892209\tbest: 10.2892209 (488)\ttotal: 12s\tremaining: 24.7s\n",
            "489:\tlearn: 6.8814702\ttest: 10.2887517\tbest: 10.2887517 (489)\ttotal: 12s\tremaining: 24.7s\n",
            "490:\tlearn: 6.8813129\ttest: 10.2882966\tbest: 10.2882966 (490)\ttotal: 12s\tremaining: 24.7s\n",
            "491:\tlearn: 6.8812386\ttest: 10.2875905\tbest: 10.2875905 (491)\ttotal: 12s\tremaining: 24.7s\n",
            "492:\tlearn: 6.8810582\ttest: 10.2873558\tbest: 10.2873558 (492)\ttotal: 12.1s\tremaining: 24.6s\n",
            "493:\tlearn: 6.8809065\ttest: 10.2870645\tbest: 10.2870645 (493)\ttotal: 12.1s\tremaining: 24.6s\n",
            "494:\tlearn: 6.8808236\ttest: 10.2865882\tbest: 10.2865882 (494)\ttotal: 12.1s\tremaining: 24.6s\n",
            "495:\tlearn: 6.8806128\ttest: 10.2856040\tbest: 10.2856040 (495)\ttotal: 12.1s\tremaining: 24.6s\n",
            "496:\tlearn: 6.8805205\ttest: 10.2853712\tbest: 10.2853712 (496)\ttotal: 12.2s\tremaining: 24.5s\n",
            "497:\tlearn: 6.8803386\ttest: 10.2849618\tbest: 10.2849618 (497)\ttotal: 12.2s\tremaining: 24.5s\n",
            "498:\tlearn: 6.8801894\ttest: 10.2838484\tbest: 10.2838484 (498)\ttotal: 12.2s\tremaining: 24.5s\n",
            "499:\tlearn: 6.8800781\ttest: 10.2834321\tbest: 10.2834321 (499)\ttotal: 12.2s\tremaining: 24.5s\n",
            "500:\tlearn: 6.8798064\ttest: 10.2825528\tbest: 10.2825528 (500)\ttotal: 12.3s\tremaining: 24.4s\n",
            "501:\tlearn: 6.8797344\ttest: 10.2821442\tbest: 10.2821442 (501)\ttotal: 12.3s\tremaining: 24.4s\n",
            "502:\tlearn: 6.8795728\ttest: 10.2818741\tbest: 10.2818741 (502)\ttotal: 12.3s\tremaining: 24.4s\n",
            "503:\tlearn: 6.8794912\ttest: 10.2813174\tbest: 10.2813174 (503)\ttotal: 12.3s\tremaining: 24.4s\n",
            "504:\tlearn: 6.8793137\ttest: 10.2809223\tbest: 10.2809223 (504)\ttotal: 12.4s\tremaining: 24.3s\n",
            "505:\tlearn: 6.8791956\ttest: 10.2807828\tbest: 10.2807828 (505)\ttotal: 12.4s\tremaining: 24.3s\n",
            "506:\tlearn: 6.8790373\ttest: 10.2805149\tbest: 10.2805149 (506)\ttotal: 12.4s\tremaining: 24.3s\n",
            "507:\tlearn: 6.8788773\ttest: 10.2801582\tbest: 10.2801582 (507)\ttotal: 12.4s\tremaining: 24.3s\n",
            "508:\tlearn: 6.8787894\ttest: 10.2795099\tbest: 10.2795099 (508)\ttotal: 12.5s\tremaining: 24.2s\n",
            "509:\tlearn: 6.8786326\ttest: 10.2792995\tbest: 10.2792995 (509)\ttotal: 12.5s\tremaining: 24.2s\n",
            "510:\tlearn: 6.8785405\ttest: 10.2791817\tbest: 10.2791817 (510)\ttotal: 12.5s\tremaining: 24.2s\n",
            "511:\tlearn: 6.8784409\ttest: 10.2788022\tbest: 10.2788022 (511)\ttotal: 12.5s\tremaining: 24.2s\n",
            "512:\tlearn: 6.8783602\ttest: 10.2785417\tbest: 10.2785417 (512)\ttotal: 12.5s\tremaining: 24.1s\n",
            "513:\tlearn: 6.8782275\ttest: 10.2779934\tbest: 10.2779934 (513)\ttotal: 12.6s\tremaining: 24.1s\n",
            "514:\tlearn: 6.8781050\ttest: 10.2777708\tbest: 10.2777708 (514)\ttotal: 12.6s\tremaining: 24.1s\n",
            "515:\tlearn: 6.8778964\ttest: 10.2774841\tbest: 10.2774841 (515)\ttotal: 12.6s\tremaining: 24.1s\n",
            "516:\tlearn: 6.8777524\ttest: 10.2773654\tbest: 10.2773654 (516)\ttotal: 12.6s\tremaining: 24s\n",
            "517:\tlearn: 6.8776615\ttest: 10.2772450\tbest: 10.2772450 (517)\ttotal: 12.7s\tremaining: 24s\n",
            "518:\tlearn: 6.8775069\ttest: 10.2768938\tbest: 10.2768938 (518)\ttotal: 12.7s\tremaining: 24s\n",
            "519:\tlearn: 6.8772833\ttest: 10.2762800\tbest: 10.2762800 (519)\ttotal: 12.7s\tremaining: 24s\n",
            "520:\tlearn: 6.8771898\ttest: 10.2756191\tbest: 10.2756191 (520)\ttotal: 12.7s\tremaining: 24s\n",
            "521:\tlearn: 6.8770945\ttest: 10.2754158\tbest: 10.2754158 (521)\ttotal: 12.8s\tremaining: 23.9s\n",
            "522:\tlearn: 6.8769598\ttest: 10.2748813\tbest: 10.2748813 (522)\ttotal: 12.8s\tremaining: 23.9s\n",
            "523:\tlearn: 6.8768332\ttest: 10.2747452\tbest: 10.2747452 (523)\ttotal: 12.8s\tremaining: 23.9s\n",
            "524:\tlearn: 6.8766379\ttest: 10.2744349\tbest: 10.2744349 (524)\ttotal: 12.8s\tremaining: 23.9s\n",
            "525:\tlearn: 6.8765126\ttest: 10.2742167\tbest: 10.2742167 (525)\ttotal: 12.9s\tremaining: 23.8s\n",
            "526:\tlearn: 6.8763936\ttest: 10.2734890\tbest: 10.2734890 (526)\ttotal: 12.9s\tremaining: 23.8s\n",
            "527:\tlearn: 6.8762113\ttest: 10.2731945\tbest: 10.2731945 (527)\ttotal: 12.9s\tremaining: 23.8s\n",
            "528:\tlearn: 6.8761188\ttest: 10.2726521\tbest: 10.2726521 (528)\ttotal: 12.9s\tremaining: 23.8s\n",
            "529:\tlearn: 6.8759894\ttest: 10.2722824\tbest: 10.2722824 (529)\ttotal: 13s\tremaining: 23.7s\n",
            "530:\tlearn: 6.8758148\ttest: 10.2719041\tbest: 10.2719041 (530)\ttotal: 13s\tremaining: 23.7s\n",
            "531:\tlearn: 6.8756727\ttest: 10.2716193\tbest: 10.2716193 (531)\ttotal: 13s\tremaining: 23.7s\n",
            "532:\tlearn: 6.8755676\ttest: 10.2710233\tbest: 10.2710233 (532)\ttotal: 13s\tremaining: 23.7s\n",
            "533:\tlearn: 6.8754884\ttest: 10.2703779\tbest: 10.2703779 (533)\ttotal: 13.1s\tremaining: 23.6s\n",
            "534:\tlearn: 6.8753078\ttest: 10.2701012\tbest: 10.2701012 (534)\ttotal: 13.1s\tremaining: 23.6s\n",
            "535:\tlearn: 6.8752107\ttest: 10.2698509\tbest: 10.2698509 (535)\ttotal: 13.1s\tremaining: 23.6s\n",
            "536:\tlearn: 6.8749687\ttest: 10.2693706\tbest: 10.2693706 (536)\ttotal: 13.1s\tremaining: 23.6s\n",
            "537:\tlearn: 6.8747300\ttest: 10.2689750\tbest: 10.2689750 (537)\ttotal: 13.2s\tremaining: 23.5s\n",
            "538:\tlearn: 6.8746370\ttest: 10.2685898\tbest: 10.2685898 (538)\ttotal: 13.2s\tremaining: 23.5s\n",
            "539:\tlearn: 6.8744431\ttest: 10.2680860\tbest: 10.2680860 (539)\ttotal: 13.2s\tremaining: 23.5s\n",
            "540:\tlearn: 6.8743176\ttest: 10.2677448\tbest: 10.2677448 (540)\ttotal: 13.2s\tremaining: 23.5s\n",
            "541:\tlearn: 6.8741664\ttest: 10.2672412\tbest: 10.2672412 (541)\ttotal: 13.3s\tremaining: 23.4s\n",
            "542:\tlearn: 6.8741019\ttest: 10.2670724\tbest: 10.2670724 (542)\ttotal: 13.3s\tremaining: 23.4s\n",
            "543:\tlearn: 6.8739122\ttest: 10.2663335\tbest: 10.2663335 (543)\ttotal: 13.3s\tremaining: 23.4s\n",
            "544:\tlearn: 6.8738229\ttest: 10.2658083\tbest: 10.2658083 (544)\ttotal: 13.3s\tremaining: 23.4s\n",
            "545:\tlearn: 6.8736493\ttest: 10.2656161\tbest: 10.2656161 (545)\ttotal: 13.4s\tremaining: 23.3s\n",
            "546:\tlearn: 6.8735339\ttest: 10.2652484\tbest: 10.2652484 (546)\ttotal: 13.4s\tremaining: 23.3s\n",
            "547:\tlearn: 6.8734498\ttest: 10.2648978\tbest: 10.2648978 (547)\ttotal: 13.4s\tremaining: 23.3s\n",
            "548:\tlearn: 6.8733692\ttest: 10.2647480\tbest: 10.2647480 (548)\ttotal: 13.4s\tremaining: 23.3s\n",
            "549:\tlearn: 6.8732165\ttest: 10.2644924\tbest: 10.2644924 (549)\ttotal: 13.5s\tremaining: 23.2s\n",
            "550:\tlearn: 6.8730598\ttest: 10.2643027\tbest: 10.2643027 (550)\ttotal: 13.5s\tremaining: 23.2s\n",
            "551:\tlearn: 6.8729247\ttest: 10.2640028\tbest: 10.2640028 (551)\ttotal: 13.5s\tremaining: 23.2s\n",
            "552:\tlearn: 6.8727202\ttest: 10.2636529\tbest: 10.2636529 (552)\ttotal: 13.5s\tremaining: 23.2s\n",
            "553:\tlearn: 6.8725637\ttest: 10.2625807\tbest: 10.2625807 (553)\ttotal: 13.6s\tremaining: 23.2s\n",
            "554:\tlearn: 6.8724230\ttest: 10.2623388\tbest: 10.2623388 (554)\ttotal: 13.6s\tremaining: 23.1s\n",
            "555:\tlearn: 6.8723643\ttest: 10.2617329\tbest: 10.2617329 (555)\ttotal: 13.6s\tremaining: 23.1s\n",
            "556:\tlearn: 6.8722565\ttest: 10.2613793\tbest: 10.2613793 (556)\ttotal: 13.6s\tremaining: 23.1s\n",
            "557:\tlearn: 6.8720831\ttest: 10.2610607\tbest: 10.2610607 (557)\ttotal: 13.7s\tremaining: 23.1s\n",
            "558:\tlearn: 6.8720247\ttest: 10.2610370\tbest: 10.2610370 (558)\ttotal: 13.7s\tremaining: 23s\n",
            "559:\tlearn: 6.8719226\ttest: 10.2604679\tbest: 10.2604679 (559)\ttotal: 13.7s\tremaining: 23s\n",
            "560:\tlearn: 6.8718414\ttest: 10.2603450\tbest: 10.2603450 (560)\ttotal: 13.7s\tremaining: 23s\n",
            "561:\tlearn: 6.8717625\ttest: 10.2602111\tbest: 10.2602111 (561)\ttotal: 13.8s\tremaining: 23s\n",
            "562:\tlearn: 6.8716622\ttest: 10.2599544\tbest: 10.2599544 (562)\ttotal: 13.8s\tremaining: 22.9s\n",
            "563:\tlearn: 6.8715461\ttest: 10.2596565\tbest: 10.2596565 (563)\ttotal: 13.8s\tremaining: 22.9s\n",
            "564:\tlearn: 6.8714015\ttest: 10.2592486\tbest: 10.2592486 (564)\ttotal: 13.8s\tremaining: 22.9s\n",
            "565:\tlearn: 6.8712794\ttest: 10.2590312\tbest: 10.2590312 (565)\ttotal: 13.9s\tremaining: 22.9s\n",
            "566:\tlearn: 6.8710807\ttest: 10.2587178\tbest: 10.2587178 (566)\ttotal: 13.9s\tremaining: 22.8s\n",
            "567:\tlearn: 6.8709938\ttest: 10.2584842\tbest: 10.2584842 (567)\ttotal: 13.9s\tremaining: 22.8s\n",
            "568:\tlearn: 6.8708412\ttest: 10.2581655\tbest: 10.2581655 (568)\ttotal: 13.9s\tremaining: 22.8s\n",
            "569:\tlearn: 6.8707671\ttest: 10.2577918\tbest: 10.2577918 (569)\ttotal: 14s\tremaining: 22.8s\n",
            "570:\tlearn: 6.8706777\ttest: 10.2574156\tbest: 10.2574156 (570)\ttotal: 14s\tremaining: 22.7s\n",
            "571:\tlearn: 6.8706000\ttest: 10.2571121\tbest: 10.2571121 (571)\ttotal: 14s\tremaining: 22.7s\n",
            "572:\tlearn: 6.8705337\ttest: 10.2566618\tbest: 10.2566618 (572)\ttotal: 14s\tremaining: 22.7s\n",
            "573:\tlearn: 6.8704479\ttest: 10.2568117\tbest: 10.2566618 (572)\ttotal: 14.1s\tremaining: 22.7s\n",
            "574:\tlearn: 6.8703700\ttest: 10.2562439\tbest: 10.2562439 (574)\ttotal: 14.1s\tremaining: 22.6s\n",
            "575:\tlearn: 6.8703088\ttest: 10.2562127\tbest: 10.2562127 (575)\ttotal: 14.1s\tremaining: 22.6s\n",
            "576:\tlearn: 6.8702558\ttest: 10.2557269\tbest: 10.2557269 (576)\ttotal: 14.1s\tremaining: 22.6s\n",
            "577:\tlearn: 6.8701616\ttest: 10.2556794\tbest: 10.2556794 (577)\ttotal: 14.1s\tremaining: 22.6s\n",
            "578:\tlearn: 6.8699956\ttest: 10.2552297\tbest: 10.2552297 (578)\ttotal: 14.2s\tremaining: 22.5s\n",
            "579:\tlearn: 6.8697675\ttest: 10.2547168\tbest: 10.2547168 (579)\ttotal: 14.2s\tremaining: 22.5s\n",
            "580:\tlearn: 6.8696861\ttest: 10.2547499\tbest: 10.2547168 (579)\ttotal: 14.2s\tremaining: 22.5s\n",
            "581:\tlearn: 6.8695276\ttest: 10.2544162\tbest: 10.2544162 (581)\ttotal: 14.2s\tremaining: 22.5s\n",
            "582:\tlearn: 6.8694726\ttest: 10.2540858\tbest: 10.2540858 (582)\ttotal: 14.3s\tremaining: 22.4s\n",
            "583:\tlearn: 6.8694199\ttest: 10.2538955\tbest: 10.2538955 (583)\ttotal: 14.3s\tremaining: 22.4s\n",
            "584:\tlearn: 6.8693375\ttest: 10.2537000\tbest: 10.2537000 (584)\ttotal: 14.3s\tremaining: 22.4s\n",
            "585:\tlearn: 6.8692220\ttest: 10.2534273\tbest: 10.2534273 (585)\ttotal: 14.3s\tremaining: 22.4s\n",
            "586:\tlearn: 6.8691112\ttest: 10.2529117\tbest: 10.2529117 (586)\ttotal: 14.4s\tremaining: 22.3s\n",
            "587:\tlearn: 6.8690140\ttest: 10.2523168\tbest: 10.2523168 (587)\ttotal: 14.4s\tremaining: 22.3s\n",
            "588:\tlearn: 6.8688720\ttest: 10.2519664\tbest: 10.2519664 (588)\ttotal: 14.4s\tremaining: 22.3s\n",
            "589:\tlearn: 6.8687488\ttest: 10.2517567\tbest: 10.2517567 (589)\ttotal: 14.4s\tremaining: 22.3s\n",
            "590:\tlearn: 6.8686205\ttest: 10.2515020\tbest: 10.2515020 (590)\ttotal: 14.5s\tremaining: 22.2s\n",
            "591:\tlearn: 6.8685570\ttest: 10.2514654\tbest: 10.2514654 (591)\ttotal: 14.5s\tremaining: 22.2s\n",
            "592:\tlearn: 6.8684468\ttest: 10.2512068\tbest: 10.2512068 (592)\ttotal: 14.5s\tremaining: 22.2s\n",
            "593:\tlearn: 6.8683975\ttest: 10.2509269\tbest: 10.2509269 (593)\ttotal: 14.5s\tremaining: 22.2s\n",
            "594:\tlearn: 6.8682989\ttest: 10.2506585\tbest: 10.2506585 (594)\ttotal: 14.5s\tremaining: 22.1s\n",
            "595:\tlearn: 6.8682056\ttest: 10.2504643\tbest: 10.2504643 (595)\ttotal: 14.6s\tremaining: 22.1s\n",
            "596:\tlearn: 6.8680988\ttest: 10.2502998\tbest: 10.2502998 (596)\ttotal: 14.6s\tremaining: 22.1s\n",
            "597:\tlearn: 6.8679569\ttest: 10.2500882\tbest: 10.2500882 (597)\ttotal: 14.6s\tremaining: 22s\n",
            "598:\tlearn: 6.8678086\ttest: 10.2498774\tbest: 10.2498774 (598)\ttotal: 14.6s\tremaining: 22s\n",
            "599:\tlearn: 6.8676962\ttest: 10.2495978\tbest: 10.2495978 (599)\ttotal: 14.7s\tremaining: 22s\n",
            "600:\tlearn: 6.8676234\ttest: 10.2495539\tbest: 10.2495539 (600)\ttotal: 14.7s\tremaining: 22s\n",
            "601:\tlearn: 6.8674527\ttest: 10.2492529\tbest: 10.2492529 (601)\ttotal: 14.7s\tremaining: 21.9s\n",
            "602:\tlearn: 6.8673042\ttest: 10.2488150\tbest: 10.2488150 (602)\ttotal: 14.7s\tremaining: 21.9s\n",
            "603:\tlearn: 6.8672284\ttest: 10.2489664\tbest: 10.2488150 (602)\ttotal: 14.8s\tremaining: 21.9s\n",
            "604:\tlearn: 6.8670468\ttest: 10.2485812\tbest: 10.2485812 (604)\ttotal: 14.8s\tremaining: 21.9s\n",
            "605:\tlearn: 6.8669678\ttest: 10.2481632\tbest: 10.2481632 (605)\ttotal: 14.8s\tremaining: 21.8s\n",
            "606:\tlearn: 6.8668339\ttest: 10.2478233\tbest: 10.2478233 (606)\ttotal: 14.8s\tremaining: 21.8s\n",
            "607:\tlearn: 6.8666861\ttest: 10.2474860\tbest: 10.2474860 (607)\ttotal: 14.9s\tremaining: 21.8s\n",
            "608:\tlearn: 6.8665793\ttest: 10.2472281\tbest: 10.2472281 (608)\ttotal: 14.9s\tremaining: 21.8s\n",
            "609:\tlearn: 6.8665200\ttest: 10.2471548\tbest: 10.2471548 (609)\ttotal: 14.9s\tremaining: 21.7s\n",
            "610:\tlearn: 6.8664064\ttest: 10.2469553\tbest: 10.2469553 (610)\ttotal: 14.9s\tremaining: 21.7s\n",
            "611:\tlearn: 6.8663211\ttest: 10.2465508\tbest: 10.2465508 (611)\ttotal: 14.9s\tremaining: 21.7s\n",
            "612:\tlearn: 6.8662689\ttest: 10.2465290\tbest: 10.2465290 (612)\ttotal: 15s\tremaining: 21.6s\n",
            "613:\tlearn: 6.8661289\ttest: 10.2461129\tbest: 10.2461129 (613)\ttotal: 15s\tremaining: 21.6s\n",
            "614:\tlearn: 6.8660783\ttest: 10.2455459\tbest: 10.2455459 (614)\ttotal: 15s\tremaining: 21.6s\n",
            "615:\tlearn: 6.8659758\ttest: 10.2450691\tbest: 10.2450691 (615)\ttotal: 15s\tremaining: 21.6s\n",
            "616:\tlearn: 6.8659197\ttest: 10.2450177\tbest: 10.2450177 (616)\ttotal: 15.1s\tremaining: 21.5s\n",
            "617:\tlearn: 6.8658647\ttest: 10.2449330\tbest: 10.2449330 (617)\ttotal: 15.1s\tremaining: 21.5s\n",
            "618:\tlearn: 6.8657724\ttest: 10.2445722\tbest: 10.2445722 (618)\ttotal: 15.1s\tremaining: 21.5s\n",
            "619:\tlearn: 6.8657044\ttest: 10.2443875\tbest: 10.2443875 (619)\ttotal: 15.1s\tremaining: 21.5s\n",
            "620:\tlearn: 6.8654697\ttest: 10.2438280\tbest: 10.2438280 (620)\ttotal: 15.1s\tremaining: 21.4s\n",
            "621:\tlearn: 6.8654102\ttest: 10.2438032\tbest: 10.2438032 (621)\ttotal: 15.2s\tremaining: 21.4s\n",
            "622:\tlearn: 6.8652485\ttest: 10.2433271\tbest: 10.2433271 (622)\ttotal: 15.2s\tremaining: 21.4s\n",
            "623:\tlearn: 6.8651561\ttest: 10.2430400\tbest: 10.2430400 (623)\ttotal: 15.2s\tremaining: 21.4s\n",
            "624:\tlearn: 6.8649657\ttest: 10.2427226\tbest: 10.2427226 (624)\ttotal: 15.2s\tremaining: 21.3s\n",
            "625:\tlearn: 6.8647757\ttest: 10.2425739\tbest: 10.2425739 (625)\ttotal: 15.3s\tremaining: 21.3s\n",
            "626:\tlearn: 6.8646937\ttest: 10.2425547\tbest: 10.2425547 (626)\ttotal: 15.3s\tremaining: 21.3s\n",
            "627:\tlearn: 6.8645506\ttest: 10.2423181\tbest: 10.2423181 (627)\ttotal: 15.3s\tremaining: 21.3s\n",
            "628:\tlearn: 6.8644867\ttest: 10.2421405\tbest: 10.2421405 (628)\ttotal: 15.3s\tremaining: 21.2s\n",
            "629:\tlearn: 6.8644094\ttest: 10.2421324\tbest: 10.2421324 (629)\ttotal: 15.4s\tremaining: 21.2s\n",
            "630:\tlearn: 6.8643077\ttest: 10.2414180\tbest: 10.2414180 (630)\ttotal: 15.4s\tremaining: 21.2s\n",
            "631:\tlearn: 6.8642698\ttest: 10.2413119\tbest: 10.2413119 (631)\ttotal: 15.4s\tremaining: 21.2s\n",
            "632:\tlearn: 6.8642070\ttest: 10.2407195\tbest: 10.2407195 (632)\ttotal: 15.4s\tremaining: 21.1s\n",
            "633:\tlearn: 6.8640742\ttest: 10.2404308\tbest: 10.2404308 (633)\ttotal: 15.5s\tremaining: 21.1s\n",
            "634:\tlearn: 6.8639875\ttest: 10.2402006\tbest: 10.2402006 (634)\ttotal: 15.5s\tremaining: 21.1s\n",
            "635:\tlearn: 6.8638664\ttest: 10.2399997\tbest: 10.2399997 (635)\ttotal: 15.5s\tremaining: 21.1s\n",
            "636:\tlearn: 6.8637295\ttest: 10.2396163\tbest: 10.2396163 (636)\ttotal: 15.5s\tremaining: 21.1s\n",
            "637:\tlearn: 6.8635121\ttest: 10.2390138\tbest: 10.2390138 (637)\ttotal: 15.6s\tremaining: 21s\n",
            "638:\tlearn: 6.8634129\ttest: 10.2388297\tbest: 10.2388297 (638)\ttotal: 15.6s\tremaining: 21s\n",
            "639:\tlearn: 6.8633255\ttest: 10.2387873\tbest: 10.2387873 (639)\ttotal: 15.6s\tremaining: 21s\n",
            "640:\tlearn: 6.8632081\ttest: 10.2384476\tbest: 10.2384476 (640)\ttotal: 15.6s\tremaining: 21s\n",
            "641:\tlearn: 6.8630171\ttest: 10.2380024\tbest: 10.2380024 (641)\ttotal: 15.7s\tremaining: 20.9s\n",
            "642:\tlearn: 6.8629429\ttest: 10.2379975\tbest: 10.2379975 (642)\ttotal: 15.7s\tremaining: 20.9s\n",
            "643:\tlearn: 6.8628207\ttest: 10.2376757\tbest: 10.2376757 (643)\ttotal: 15.7s\tremaining: 20.9s\n",
            "644:\tlearn: 6.8627232\ttest: 10.2374376\tbest: 10.2374376 (644)\ttotal: 15.7s\tremaining: 20.9s\n",
            "645:\tlearn: 6.8625037\ttest: 10.2372116\tbest: 10.2372116 (645)\ttotal: 15.8s\tremaining: 20.8s\n",
            "646:\tlearn: 6.8623530\ttest: 10.2369504\tbest: 10.2369504 (646)\ttotal: 15.8s\tremaining: 20.8s\n",
            "647:\tlearn: 6.8622920\ttest: 10.2369937\tbest: 10.2369504 (646)\ttotal: 15.8s\tremaining: 20.8s\n",
            "648:\tlearn: 6.8622408\ttest: 10.2369792\tbest: 10.2369504 (646)\ttotal: 15.8s\tremaining: 20.8s\n",
            "649:\tlearn: 6.8621451\ttest: 10.2368579\tbest: 10.2368579 (649)\ttotal: 15.9s\tremaining: 20.7s\n",
            "650:\tlearn: 6.8620941\ttest: 10.2366834\tbest: 10.2366834 (650)\ttotal: 15.9s\tremaining: 20.7s\n",
            "651:\tlearn: 6.8620524\ttest: 10.2363731\tbest: 10.2363731 (651)\ttotal: 15.9s\tremaining: 20.7s\n",
            "652:\tlearn: 6.8619879\ttest: 10.2364193\tbest: 10.2363731 (651)\ttotal: 15.9s\tremaining: 20.7s\n",
            "653:\tlearn: 6.8619094\ttest: 10.2364289\tbest: 10.2363731 (651)\ttotal: 15.9s\tremaining: 20.6s\n",
            "654:\tlearn: 6.8617679\ttest: 10.2357593\tbest: 10.2357593 (654)\ttotal: 16s\tremaining: 20.6s\n",
            "655:\tlearn: 6.8615735\ttest: 10.2351989\tbest: 10.2351989 (655)\ttotal: 16s\tremaining: 20.6s\n",
            "656:\tlearn: 6.8615324\ttest: 10.2350231\tbest: 10.2350231 (656)\ttotal: 16s\tremaining: 20.6s\n",
            "657:\tlearn: 6.8614433\ttest: 10.2348393\tbest: 10.2348393 (657)\ttotal: 16s\tremaining: 20.5s\n",
            "658:\tlearn: 6.8613038\ttest: 10.2346381\tbest: 10.2346381 (658)\ttotal: 16.1s\tremaining: 20.5s\n",
            "659:\tlearn: 6.8612403\ttest: 10.2343617\tbest: 10.2343617 (659)\ttotal: 16.1s\tremaining: 20.5s\n",
            "660:\tlearn: 6.8612103\ttest: 10.2342805\tbest: 10.2342805 (660)\ttotal: 16.1s\tremaining: 20.4s\n",
            "661:\tlearn: 6.8610906\ttest: 10.2336922\tbest: 10.2336922 (661)\ttotal: 16.1s\tremaining: 20.4s\n",
            "662:\tlearn: 6.8610043\ttest: 10.2335358\tbest: 10.2335358 (662)\ttotal: 16.2s\tremaining: 20.4s\n",
            "663:\tlearn: 6.8609352\ttest: 10.2330902\tbest: 10.2330902 (663)\ttotal: 16.2s\tremaining: 20.4s\n",
            "664:\tlearn: 6.8607851\ttest: 10.2326465\tbest: 10.2326465 (664)\ttotal: 16.2s\tremaining: 20.3s\n",
            "665:\tlearn: 6.8607018\ttest: 10.2323759\tbest: 10.2323759 (665)\ttotal: 16.2s\tremaining: 20.3s\n",
            "666:\tlearn: 6.8605838\ttest: 10.2322718\tbest: 10.2322718 (666)\ttotal: 16.3s\tremaining: 20.3s\n",
            "667:\tlearn: 6.8605157\ttest: 10.2318961\tbest: 10.2318961 (667)\ttotal: 16.3s\tremaining: 20.3s\n",
            "668:\tlearn: 6.8604005\ttest: 10.2315311\tbest: 10.2315311 (668)\ttotal: 16.3s\tremaining: 20.2s\n",
            "669:\tlearn: 6.8603215\ttest: 10.2313197\tbest: 10.2313197 (669)\ttotal: 16.3s\tremaining: 20.2s\n",
            "670:\tlearn: 6.8602010\ttest: 10.2309845\tbest: 10.2309845 (670)\ttotal: 16.4s\tremaining: 20.2s\n",
            "671:\tlearn: 6.8601504\ttest: 10.2304957\tbest: 10.2304957 (671)\ttotal: 16.4s\tremaining: 20.2s\n",
            "672:\tlearn: 6.8600816\ttest: 10.2303392\tbest: 10.2303392 (672)\ttotal: 16.4s\tremaining: 20.1s\n",
            "673:\tlearn: 6.8600384\ttest: 10.2299709\tbest: 10.2299709 (673)\ttotal: 16.4s\tremaining: 20.1s\n",
            "674:\tlearn: 6.8599830\ttest: 10.2297843\tbest: 10.2297843 (674)\ttotal: 16.4s\tremaining: 20.1s\n",
            "675:\tlearn: 6.8599241\ttest: 10.2295971\tbest: 10.2295971 (675)\ttotal: 16.5s\tremaining: 20.1s\n",
            "676:\tlearn: 6.8597835\ttest: 10.2290931\tbest: 10.2290931 (676)\ttotal: 16.5s\tremaining: 20s\n",
            "677:\tlearn: 6.8596878\ttest: 10.2287659\tbest: 10.2287659 (677)\ttotal: 16.5s\tremaining: 20s\n",
            "678:\tlearn: 6.8595224\ttest: 10.2286652\tbest: 10.2286652 (678)\ttotal: 16.5s\tremaining: 20s\n",
            "679:\tlearn: 6.8594276\ttest: 10.2284874\tbest: 10.2284874 (679)\ttotal: 16.6s\tremaining: 20s\n",
            "680:\tlearn: 6.8593060\ttest: 10.2282828\tbest: 10.2282828 (680)\ttotal: 16.6s\tremaining: 19.9s\n",
            "681:\tlearn: 6.8592596\ttest: 10.2282021\tbest: 10.2282021 (681)\ttotal: 16.6s\tremaining: 19.9s\n",
            "682:\tlearn: 6.8591275\ttest: 10.2279857\tbest: 10.2279857 (682)\ttotal: 16.6s\tremaining: 19.9s\n",
            "683:\tlearn: 6.8590455\ttest: 10.2277634\tbest: 10.2277634 (683)\ttotal: 16.7s\tremaining: 19.9s\n",
            "684:\tlearn: 6.8589402\ttest: 10.2274575\tbest: 10.2274575 (684)\ttotal: 16.7s\tremaining: 19.9s\n",
            "685:\tlearn: 6.8588257\ttest: 10.2272605\tbest: 10.2272605 (685)\ttotal: 16.7s\tremaining: 19.8s\n",
            "686:\tlearn: 6.8586241\ttest: 10.2271171\tbest: 10.2271171 (686)\ttotal: 16.7s\tremaining: 19.8s\n",
            "687:\tlearn: 6.8585196\ttest: 10.2270026\tbest: 10.2270026 (687)\ttotal: 16.8s\tremaining: 19.8s\n",
            "688:\tlearn: 6.8584594\ttest: 10.2268343\tbest: 10.2268343 (688)\ttotal: 16.8s\tremaining: 19.8s\n",
            "689:\tlearn: 6.8583407\ttest: 10.2266500\tbest: 10.2266500 (689)\ttotal: 16.8s\tremaining: 19.7s\n",
            "690:\tlearn: 6.8582888\ttest: 10.2263667\tbest: 10.2263667 (690)\ttotal: 16.8s\tremaining: 19.7s\n",
            "691:\tlearn: 6.8581881\ttest: 10.2260903\tbest: 10.2260903 (691)\ttotal: 16.9s\tremaining: 19.7s\n",
            "692:\tlearn: 6.8581300\ttest: 10.2262009\tbest: 10.2260903 (691)\ttotal: 16.9s\tremaining: 19.7s\n",
            "693:\tlearn: 6.8580675\ttest: 10.2260439\tbest: 10.2260439 (693)\ttotal: 16.9s\tremaining: 19.6s\n",
            "694:\tlearn: 6.8579876\ttest: 10.2256650\tbest: 10.2256650 (694)\ttotal: 16.9s\tremaining: 19.6s\n",
            "695:\tlearn: 6.8578023\ttest: 10.2253486\tbest: 10.2253486 (695)\ttotal: 17s\tremaining: 19.6s\n",
            "696:\tlearn: 6.8577470\ttest: 10.2249957\tbest: 10.2249957 (696)\ttotal: 17s\tremaining: 19.6s\n",
            "697:\tlearn: 6.8576699\ttest: 10.2248220\tbest: 10.2248220 (697)\ttotal: 17s\tremaining: 19.5s\n",
            "698:\tlearn: 6.8576059\ttest: 10.2247267\tbest: 10.2247267 (698)\ttotal: 17s\tremaining: 19.5s\n",
            "699:\tlearn: 6.8574877\ttest: 10.2245472\tbest: 10.2245472 (699)\ttotal: 17.1s\tremaining: 19.5s\n",
            "700:\tlearn: 6.8574116\ttest: 10.2243402\tbest: 10.2243402 (700)\ttotal: 17.1s\tremaining: 19.5s\n",
            "701:\tlearn: 6.8572507\ttest: 10.2238644\tbest: 10.2238644 (701)\ttotal: 17.1s\tremaining: 19.5s\n",
            "702:\tlearn: 6.8572004\ttest: 10.2233381\tbest: 10.2233381 (702)\ttotal: 17.1s\tremaining: 19.4s\n",
            "703:\tlearn: 6.8570780\ttest: 10.2231577\tbest: 10.2231577 (703)\ttotal: 17.2s\tremaining: 19.4s\n",
            "704:\tlearn: 6.8569668\ttest: 10.2230666\tbest: 10.2230666 (704)\ttotal: 17.2s\tremaining: 19.4s\n",
            "705:\tlearn: 6.8569180\ttest: 10.2228677\tbest: 10.2228677 (705)\ttotal: 17.2s\tremaining: 19.4s\n",
            "706:\tlearn: 6.8568681\ttest: 10.2228273\tbest: 10.2228273 (706)\ttotal: 17.2s\tremaining: 19.3s\n",
            "707:\tlearn: 6.8568101\ttest: 10.2226885\tbest: 10.2226885 (707)\ttotal: 17.3s\tremaining: 19.3s\n",
            "708:\tlearn: 6.8567609\ttest: 10.2226481\tbest: 10.2226481 (708)\ttotal: 17.3s\tremaining: 19.3s\n",
            "709:\tlearn: 6.8565809\ttest: 10.2224328\tbest: 10.2224328 (709)\ttotal: 17.3s\tremaining: 19.3s\n",
            "710:\tlearn: 6.8565282\ttest: 10.2223189\tbest: 10.2223189 (710)\ttotal: 17.3s\tremaining: 19.2s\n",
            "711:\tlearn: 6.8564468\ttest: 10.2221136\tbest: 10.2221136 (711)\ttotal: 17.3s\tremaining: 19.2s\n",
            "712:\tlearn: 6.8563573\ttest: 10.2219213\tbest: 10.2219213 (712)\ttotal: 17.4s\tremaining: 19.2s\n",
            "713:\tlearn: 6.8563106\ttest: 10.2219632\tbest: 10.2219213 (712)\ttotal: 17.4s\tremaining: 19.1s\n",
            "714:\tlearn: 6.8562593\ttest: 10.2218156\tbest: 10.2218156 (714)\ttotal: 17.4s\tremaining: 19.1s\n",
            "715:\tlearn: 6.8561490\ttest: 10.2212295\tbest: 10.2212295 (715)\ttotal: 17.4s\tremaining: 19.1s\n",
            "716:\tlearn: 6.8561071\ttest: 10.2210432\tbest: 10.2210432 (716)\ttotal: 17.5s\tremaining: 19.1s\n",
            "717:\tlearn: 6.8559463\ttest: 10.2207366\tbest: 10.2207366 (717)\ttotal: 17.5s\tremaining: 19.1s\n",
            "718:\tlearn: 6.8559100\ttest: 10.2205450\tbest: 10.2205450 (718)\ttotal: 17.5s\tremaining: 19s\n",
            "719:\tlearn: 6.8558505\ttest: 10.2203736\tbest: 10.2203736 (719)\ttotal: 17.5s\tremaining: 19s\n",
            "720:\tlearn: 6.8557855\ttest: 10.2203401\tbest: 10.2203401 (720)\ttotal: 17.6s\tremaining: 19s\n",
            "721:\tlearn: 6.8556297\ttest: 10.2201074\tbest: 10.2201074 (721)\ttotal: 17.6s\tremaining: 18.9s\n",
            "722:\tlearn: 6.8555799\ttest: 10.2199719\tbest: 10.2199719 (722)\ttotal: 17.6s\tremaining: 18.9s\n",
            "723:\tlearn: 6.8555067\ttest: 10.2195772\tbest: 10.2195772 (723)\ttotal: 17.6s\tremaining: 18.9s\n",
            "724:\tlearn: 6.8554558\ttest: 10.2193816\tbest: 10.2193816 (724)\ttotal: 17.7s\tremaining: 18.9s\n",
            "725:\tlearn: 6.8554032\ttest: 10.2188240\tbest: 10.2188240 (725)\ttotal: 17.7s\tremaining: 18.8s\n",
            "726:\tlearn: 6.8553415\ttest: 10.2187437\tbest: 10.2187437 (726)\ttotal: 17.7s\tremaining: 18.8s\n",
            "727:\tlearn: 6.8552561\ttest: 10.2185974\tbest: 10.2185974 (727)\ttotal: 17.7s\tremaining: 18.8s\n",
            "728:\tlearn: 6.8551731\ttest: 10.2184278\tbest: 10.2184278 (728)\ttotal: 17.7s\tremaining: 18.8s\n",
            "729:\tlearn: 6.8550371\ttest: 10.2183235\tbest: 10.2183235 (729)\ttotal: 17.8s\tremaining: 18.7s\n",
            "730:\tlearn: 6.8549261\ttest: 10.2180734\tbest: 10.2180734 (730)\ttotal: 17.8s\tremaining: 18.7s\n",
            "731:\tlearn: 6.8548264\ttest: 10.2177773\tbest: 10.2177773 (731)\ttotal: 17.8s\tremaining: 18.7s\n",
            "732:\tlearn: 6.8547211\ttest: 10.2176605\tbest: 10.2176605 (732)\ttotal: 17.9s\tremaining: 18.7s\n",
            "733:\tlearn: 6.8546743\ttest: 10.2175664\tbest: 10.2175664 (733)\ttotal: 17.9s\tremaining: 18.7s\n",
            "734:\tlearn: 6.8545165\ttest: 10.2173593\tbest: 10.2173593 (734)\ttotal: 17.9s\tremaining: 18.7s\n",
            "735:\tlearn: 6.8543990\ttest: 10.2171174\tbest: 10.2171174 (735)\ttotal: 17.9s\tremaining: 18.6s\n",
            "736:\tlearn: 6.8542973\ttest: 10.2169485\tbest: 10.2169485 (736)\ttotal: 18s\tremaining: 18.6s\n",
            "737:\tlearn: 6.8541386\ttest: 10.2164793\tbest: 10.2164793 (737)\ttotal: 18s\tremaining: 18.6s\n",
            "738:\tlearn: 6.8540876\ttest: 10.2165003\tbest: 10.2164793 (737)\ttotal: 18s\tremaining: 18.6s\n",
            "739:\tlearn: 6.8539777\ttest: 10.2162687\tbest: 10.2162687 (739)\ttotal: 18s\tremaining: 18.5s\n",
            "740:\tlearn: 6.8539232\ttest: 10.2161382\tbest: 10.2161382 (740)\ttotal: 18.1s\tremaining: 18.5s\n",
            "741:\tlearn: 6.8538670\ttest: 10.2159293\tbest: 10.2159293 (741)\ttotal: 18.1s\tremaining: 18.5s\n",
            "742:\tlearn: 6.8537487\ttest: 10.2156576\tbest: 10.2156576 (742)\ttotal: 18.1s\tremaining: 18.5s\n",
            "743:\tlearn: 6.8536857\ttest: 10.2155707\tbest: 10.2155707 (743)\ttotal: 18.1s\tremaining: 18.4s\n",
            "744:\tlearn: 6.8535419\ttest: 10.2154859\tbest: 10.2154859 (744)\ttotal: 18.2s\tremaining: 18.4s\n",
            "745:\tlearn: 6.8534467\ttest: 10.2150817\tbest: 10.2150817 (745)\ttotal: 18.2s\tremaining: 18.4s\n",
            "746:\tlearn: 6.8533815\ttest: 10.2149141\tbest: 10.2149141 (746)\ttotal: 18.2s\tremaining: 18.4s\n",
            "747:\tlearn: 6.8533381\ttest: 10.2146484\tbest: 10.2146484 (747)\ttotal: 18.2s\tremaining: 18.3s\n",
            "748:\tlearn: 6.8532035\ttest: 10.2145228\tbest: 10.2145228 (748)\ttotal: 18.3s\tremaining: 18.3s\n",
            "749:\tlearn: 6.8530799\ttest: 10.2138465\tbest: 10.2138465 (749)\ttotal: 18.3s\tremaining: 18.3s\n",
            "750:\tlearn: 6.8530410\ttest: 10.2135349\tbest: 10.2135349 (750)\ttotal: 18.3s\tremaining: 18.3s\n",
            "751:\tlearn: 6.8530010\ttest: 10.2135990\tbest: 10.2135349 (750)\ttotal: 18.3s\tremaining: 18.2s\n",
            "752:\tlearn: 6.8529313\ttest: 10.2133303\tbest: 10.2133303 (752)\ttotal: 18.4s\tremaining: 18.2s\n",
            "753:\tlearn: 6.8528963\ttest: 10.2130927\tbest: 10.2130927 (753)\ttotal: 18.4s\tremaining: 18.2s\n",
            "754:\tlearn: 6.8528517\ttest: 10.2130619\tbest: 10.2130619 (754)\ttotal: 18.4s\tremaining: 18.2s\n",
            "755:\tlearn: 6.8527225\ttest: 10.2127541\tbest: 10.2127541 (755)\ttotal: 18.4s\tremaining: 18.1s\n",
            "756:\tlearn: 6.8526787\ttest: 10.2126420\tbest: 10.2126420 (756)\ttotal: 18.5s\tremaining: 18.1s\n",
            "757:\tlearn: 6.8526139\ttest: 10.2122846\tbest: 10.2122846 (757)\ttotal: 18.5s\tremaining: 18.1s\n",
            "758:\tlearn: 6.8525513\ttest: 10.2116358\tbest: 10.2116358 (758)\ttotal: 18.5s\tremaining: 18.1s\n",
            "759:\tlearn: 6.8524872\ttest: 10.2115203\tbest: 10.2115203 (759)\ttotal: 18.5s\tremaining: 18s\n",
            "760:\tlearn: 6.8523789\ttest: 10.2113813\tbest: 10.2113813 (760)\ttotal: 18.5s\tremaining: 18s\n",
            "761:\tlearn: 6.8522476\ttest: 10.2112785\tbest: 10.2112785 (761)\ttotal: 18.6s\tremaining: 18s\n",
            "762:\tlearn: 6.8521737\ttest: 10.2111257\tbest: 10.2111257 (762)\ttotal: 18.6s\tremaining: 18s\n",
            "763:\tlearn: 6.8520946\ttest: 10.2110038\tbest: 10.2110038 (763)\ttotal: 18.6s\tremaining: 17.9s\n",
            "764:\tlearn: 6.8520367\ttest: 10.2109214\tbest: 10.2109214 (764)\ttotal: 18.6s\tremaining: 17.9s\n",
            "765:\tlearn: 6.8519846\ttest: 10.2108720\tbest: 10.2108720 (765)\ttotal: 18.7s\tremaining: 17.9s\n",
            "766:\tlearn: 6.8519125\ttest: 10.2106319\tbest: 10.2106319 (766)\ttotal: 18.7s\tremaining: 17.9s\n",
            "767:\tlearn: 6.8518635\ttest: 10.2105633\tbest: 10.2105633 (767)\ttotal: 18.7s\tremaining: 17.8s\n",
            "768:\tlearn: 6.8518104\ttest: 10.2104228\tbest: 10.2104228 (768)\ttotal: 18.7s\tremaining: 17.8s\n",
            "769:\tlearn: 6.8517197\ttest: 10.2102382\tbest: 10.2102382 (769)\ttotal: 18.8s\tremaining: 17.8s\n",
            "770:\tlearn: 6.8516382\ttest: 10.2101766\tbest: 10.2101766 (770)\ttotal: 18.8s\tremaining: 17.8s\n",
            "771:\tlearn: 6.8515987\ttest: 10.2100409\tbest: 10.2100409 (771)\ttotal: 18.8s\tremaining: 17.7s\n",
            "772:\tlearn: 6.8515416\ttest: 10.2098822\tbest: 10.2098822 (772)\ttotal: 18.8s\tremaining: 17.7s\n",
            "773:\tlearn: 6.8514843\ttest: 10.2097141\tbest: 10.2097141 (773)\ttotal: 18.9s\tremaining: 17.7s\n",
            "774:\tlearn: 6.8513826\ttest: 10.2093422\tbest: 10.2093422 (774)\ttotal: 18.9s\tremaining: 17.7s\n",
            "775:\tlearn: 6.8512771\ttest: 10.2090901\tbest: 10.2090901 (775)\ttotal: 18.9s\tremaining: 17.6s\n",
            "776:\tlearn: 6.8512103\ttest: 10.2088262\tbest: 10.2088262 (776)\ttotal: 18.9s\tremaining: 17.6s\n",
            "777:\tlearn: 6.8510979\ttest: 10.2086974\tbest: 10.2086974 (777)\ttotal: 19s\tremaining: 17.6s\n",
            "778:\tlearn: 6.8510537\ttest: 10.2087065\tbest: 10.2086974 (777)\ttotal: 19s\tremaining: 17.6s\n",
            "779:\tlearn: 6.8510151\ttest: 10.2084424\tbest: 10.2084424 (779)\ttotal: 19s\tremaining: 17.5s\n",
            "780:\tlearn: 6.8509527\ttest: 10.2082604\tbest: 10.2082604 (780)\ttotal: 19s\tremaining: 17.5s\n",
            "781:\tlearn: 6.8509060\ttest: 10.2079251\tbest: 10.2079251 (781)\ttotal: 19.1s\tremaining: 17.5s\n",
            "782:\tlearn: 6.8508522\ttest: 10.2080511\tbest: 10.2079251 (781)\ttotal: 19.1s\tremaining: 17.5s\n",
            "783:\tlearn: 6.8507837\ttest: 10.2078455\tbest: 10.2078455 (783)\ttotal: 19.1s\tremaining: 17.4s\n",
            "784:\tlearn: 6.8506135\ttest: 10.2077200\tbest: 10.2077200 (784)\ttotal: 19.1s\tremaining: 17.4s\n",
            "785:\tlearn: 6.8504905\ttest: 10.2074889\tbest: 10.2074889 (785)\ttotal: 19.2s\tremaining: 17.4s\n",
            "786:\tlearn: 6.8504510\ttest: 10.2072110\tbest: 10.2072110 (786)\ttotal: 19.2s\tremaining: 17.4s\n",
            "787:\tlearn: 6.8504119\ttest: 10.2072537\tbest: 10.2072110 (786)\ttotal: 19.2s\tremaining: 17.3s\n",
            "788:\tlearn: 6.8503440\ttest: 10.2070973\tbest: 10.2070973 (788)\ttotal: 19.2s\tremaining: 17.3s\n",
            "789:\tlearn: 6.8502268\ttest: 10.2068337\tbest: 10.2068337 (789)\ttotal: 19.2s\tremaining: 17.3s\n",
            "790:\tlearn: 6.8501737\ttest: 10.2066090\tbest: 10.2066090 (790)\ttotal: 19.3s\tremaining: 17.3s\n",
            "791:\tlearn: 6.8500513\ttest: 10.2065754\tbest: 10.2065754 (791)\ttotal: 19.3s\tremaining: 17.2s\n",
            "792:\tlearn: 6.8499596\ttest: 10.2064925\tbest: 10.2064925 (792)\ttotal: 19.3s\tremaining: 17.2s\n",
            "793:\tlearn: 6.8498806\ttest: 10.2063123\tbest: 10.2063123 (793)\ttotal: 19.3s\tremaining: 17.2s\n",
            "794:\tlearn: 6.8498277\ttest: 10.2061703\tbest: 10.2061703 (794)\ttotal: 19.4s\tremaining: 17.2s\n",
            "795:\tlearn: 6.8497183\ttest: 10.2058500\tbest: 10.2058500 (795)\ttotal: 19.4s\tremaining: 17.1s\n",
            "796:\tlearn: 6.8496383\ttest: 10.2055999\tbest: 10.2055999 (796)\ttotal: 19.4s\tremaining: 17.1s\n",
            "797:\tlearn: 6.8494873\ttest: 10.2052046\tbest: 10.2052046 (797)\ttotal: 19.4s\tremaining: 17.1s\n",
            "798:\tlearn: 6.8494261\ttest: 10.2052844\tbest: 10.2052046 (797)\ttotal: 19.5s\tremaining: 17.1s\n",
            "799:\tlearn: 6.8493437\ttest: 10.2052672\tbest: 10.2052046 (797)\ttotal: 19.5s\tremaining: 17.1s\n",
            "800:\tlearn: 6.8493014\ttest: 10.2053204\tbest: 10.2052046 (797)\ttotal: 19.5s\tremaining: 17s\n",
            "801:\tlearn: 6.8491786\ttest: 10.2049715\tbest: 10.2049715 (801)\ttotal: 19.5s\tremaining: 17s\n",
            "802:\tlearn: 6.8491343\ttest: 10.2047066\tbest: 10.2047066 (802)\ttotal: 19.6s\tremaining: 17s\n",
            "803:\tlearn: 6.8490123\ttest: 10.2044432\tbest: 10.2044432 (803)\ttotal: 19.6s\tremaining: 17s\n",
            "804:\tlearn: 6.8489583\ttest: 10.2042817\tbest: 10.2042817 (804)\ttotal: 19.6s\tremaining: 16.9s\n",
            "805:\tlearn: 6.8488750\ttest: 10.2040327\tbest: 10.2040327 (805)\ttotal: 19.6s\tremaining: 16.9s\n",
            "806:\tlearn: 6.8487486\ttest: 10.2038592\tbest: 10.2038592 (806)\ttotal: 19.7s\tremaining: 16.9s\n",
            "807:\tlearn: 6.8486975\ttest: 10.2038276\tbest: 10.2038276 (807)\ttotal: 19.7s\tremaining: 16.9s\n",
            "808:\tlearn: 6.8485837\ttest: 10.2035590\tbest: 10.2035590 (808)\ttotal: 19.7s\tremaining: 16.8s\n",
            "809:\tlearn: 6.8485100\ttest: 10.2034255\tbest: 10.2034255 (809)\ttotal: 19.7s\tremaining: 16.8s\n",
            "810:\tlearn: 6.8484508\ttest: 10.2032127\tbest: 10.2032127 (810)\ttotal: 19.8s\tremaining: 16.8s\n",
            "811:\tlearn: 6.8483311\ttest: 10.2030055\tbest: 10.2030055 (811)\ttotal: 19.8s\tremaining: 16.8s\n",
            "812:\tlearn: 6.8482910\ttest: 10.2030755\tbest: 10.2030055 (811)\ttotal: 19.8s\tremaining: 16.7s\n",
            "813:\tlearn: 6.8482418\ttest: 10.2027756\tbest: 10.2027756 (813)\ttotal: 19.8s\tremaining: 16.7s\n",
            "814:\tlearn: 6.8481889\ttest: 10.2027337\tbest: 10.2027337 (814)\ttotal: 19.9s\tremaining: 16.7s\n",
            "815:\tlearn: 6.8481338\ttest: 10.2026994\tbest: 10.2026994 (815)\ttotal: 19.9s\tremaining: 16.7s\n",
            "816:\tlearn: 6.8480764\ttest: 10.2025491\tbest: 10.2025491 (816)\ttotal: 19.9s\tremaining: 16.6s\n",
            "817:\tlearn: 6.8479312\ttest: 10.2022611\tbest: 10.2022611 (817)\ttotal: 19.9s\tremaining: 16.6s\n",
            "818:\tlearn: 6.8478968\ttest: 10.2020044\tbest: 10.2020044 (818)\ttotal: 19.9s\tremaining: 16.6s\n",
            "819:\tlearn: 6.8478203\ttest: 10.2013956\tbest: 10.2013956 (819)\ttotal: 20s\tremaining: 16.6s\n",
            "820:\tlearn: 6.8477824\ttest: 10.2013622\tbest: 10.2013622 (820)\ttotal: 20s\tremaining: 16.5s\n",
            "821:\tlearn: 6.8477253\ttest: 10.2012433\tbest: 10.2012433 (821)\ttotal: 20s\tremaining: 16.5s\n",
            "822:\tlearn: 6.8476895\ttest: 10.2011889\tbest: 10.2011889 (822)\ttotal: 20s\tremaining: 16.5s\n",
            "823:\tlearn: 6.8476136\ttest: 10.2010342\tbest: 10.2010342 (823)\ttotal: 20.1s\tremaining: 16.5s\n",
            "824:\tlearn: 6.8475268\ttest: 10.2007854\tbest: 10.2007854 (824)\ttotal: 20.1s\tremaining: 16.4s\n",
            "825:\tlearn: 6.8474820\ttest: 10.2005655\tbest: 10.2005655 (825)\ttotal: 20.1s\tremaining: 16.4s\n",
            "826:\tlearn: 6.8474343\ttest: 10.2005016\tbest: 10.2005016 (826)\ttotal: 20.1s\tremaining: 16.4s\n",
            "827:\tlearn: 6.8473920\ttest: 10.2004904\tbest: 10.2004904 (827)\ttotal: 20.2s\tremaining: 16.4s\n",
            "828:\tlearn: 6.8473163\ttest: 10.2003699\tbest: 10.2003699 (828)\ttotal: 20.2s\tremaining: 16.3s\n",
            "829:\tlearn: 6.8471658\ttest: 10.1999984\tbest: 10.1999984 (829)\ttotal: 20.2s\tremaining: 16.3s\n",
            "830:\tlearn: 6.8470426\ttest: 10.1997713\tbest: 10.1997713 (830)\ttotal: 20.2s\tremaining: 16.3s\n",
            "831:\tlearn: 6.8470028\ttest: 10.1996393\tbest: 10.1996393 (831)\ttotal: 20.3s\tremaining: 16.3s\n",
            "832:\tlearn: 6.8469200\ttest: 10.1994936\tbest: 10.1994936 (832)\ttotal: 20.3s\tremaining: 16.2s\n",
            "833:\tlearn: 6.8468573\ttest: 10.1991884\tbest: 10.1991884 (833)\ttotal: 20.3s\tremaining: 16.2s\n",
            "834:\tlearn: 6.8467545\ttest: 10.1988069\tbest: 10.1988069 (834)\ttotal: 20.3s\tremaining: 16.2s\n",
            "835:\tlearn: 6.8466519\ttest: 10.1982481\tbest: 10.1982481 (835)\ttotal: 20.4s\tremaining: 16.2s\n",
            "836:\tlearn: 6.8465662\ttest: 10.1980679\tbest: 10.1980679 (836)\ttotal: 20.4s\tremaining: 16.1s\n",
            "837:\tlearn: 6.8465117\ttest: 10.1979099\tbest: 10.1979099 (837)\ttotal: 20.4s\tremaining: 16.1s\n",
            "838:\tlearn: 6.8464135\ttest: 10.1976880\tbest: 10.1976880 (838)\ttotal: 20.4s\tremaining: 16.1s\n",
            "839:\tlearn: 6.8463309\ttest: 10.1974697\tbest: 10.1974697 (839)\ttotal: 20.5s\tremaining: 16.1s\n",
            "840:\tlearn: 6.8462861\ttest: 10.1974580\tbest: 10.1974580 (840)\ttotal: 20.5s\tremaining: 16.1s\n",
            "841:\tlearn: 6.8462460\ttest: 10.1972642\tbest: 10.1972642 (841)\ttotal: 20.5s\tremaining: 16s\n",
            "842:\tlearn: 6.8462204\ttest: 10.1972298\tbest: 10.1972298 (842)\ttotal: 20.5s\tremaining: 16s\n",
            "843:\tlearn: 6.8460844\ttest: 10.1970839\tbest: 10.1970839 (843)\ttotal: 20.6s\tremaining: 16s\n",
            "844:\tlearn: 6.8460174\ttest: 10.1968794\tbest: 10.1968794 (844)\ttotal: 20.6s\tremaining: 16s\n",
            "845:\tlearn: 6.8459195\ttest: 10.1967016\tbest: 10.1967016 (845)\ttotal: 20.6s\tremaining: 15.9s\n",
            "846:\tlearn: 6.8458529\ttest: 10.1966334\tbest: 10.1966334 (846)\ttotal: 20.6s\tremaining: 15.9s\n",
            "847:\tlearn: 6.8458049\ttest: 10.1967389\tbest: 10.1966334 (846)\ttotal: 20.7s\tremaining: 15.9s\n",
            "848:\tlearn: 6.8457451\ttest: 10.1967104\tbest: 10.1966334 (846)\ttotal: 20.7s\tremaining: 15.9s\n",
            "849:\tlearn: 6.8456331\ttest: 10.1966670\tbest: 10.1966334 (846)\ttotal: 20.7s\tremaining: 15.8s\n",
            "850:\tlearn: 6.8455474\ttest: 10.1966514\tbest: 10.1966334 (846)\ttotal: 20.7s\tremaining: 15.8s\n",
            "851:\tlearn: 6.8455016\ttest: 10.1963785\tbest: 10.1963785 (851)\ttotal: 20.8s\tremaining: 15.8s\n",
            "852:\tlearn: 6.8454414\ttest: 10.1960664\tbest: 10.1960664 (852)\ttotal: 20.8s\tremaining: 15.8s\n",
            "853:\tlearn: 6.8453897\ttest: 10.1959508\tbest: 10.1959508 (853)\ttotal: 20.8s\tremaining: 15.7s\n",
            "854:\tlearn: 6.8452632\ttest: 10.1956904\tbest: 10.1956904 (854)\ttotal: 20.8s\tremaining: 15.7s\n",
            "855:\tlearn: 6.8452285\ttest: 10.1956788\tbest: 10.1956788 (855)\ttotal: 20.8s\tremaining: 15.7s\n",
            "856:\tlearn: 6.8451625\ttest: 10.1956997\tbest: 10.1956788 (855)\ttotal: 20.9s\tremaining: 15.7s\n",
            "857:\tlearn: 6.8451175\ttest: 10.1956274\tbest: 10.1956274 (857)\ttotal: 20.9s\tremaining: 15.6s\n",
            "858:\tlearn: 6.8450483\ttest: 10.1955193\tbest: 10.1955193 (858)\ttotal: 20.9s\tremaining: 15.6s\n",
            "859:\tlearn: 6.8450155\ttest: 10.1955666\tbest: 10.1955193 (858)\ttotal: 20.9s\tremaining: 15.6s\n",
            "860:\tlearn: 6.8449702\ttest: 10.1955108\tbest: 10.1955108 (860)\ttotal: 21s\tremaining: 15.6s\n",
            "861:\tlearn: 6.8449102\ttest: 10.1953943\tbest: 10.1953943 (861)\ttotal: 21s\tremaining: 15.5s\n",
            "862:\tlearn: 6.8448449\ttest: 10.1951923\tbest: 10.1951923 (862)\ttotal: 21s\tremaining: 15.5s\n",
            "863:\tlearn: 6.8448033\ttest: 10.1950230\tbest: 10.1950230 (863)\ttotal: 21s\tremaining: 15.5s\n",
            "864:\tlearn: 6.8447738\ttest: 10.1948446\tbest: 10.1948446 (864)\ttotal: 21.1s\tremaining: 15.5s\n",
            "865:\tlearn: 6.8446492\ttest: 10.1944077\tbest: 10.1944077 (865)\ttotal: 21.1s\tremaining: 15.4s\n",
            "866:\tlearn: 6.8445503\ttest: 10.1944029\tbest: 10.1944029 (866)\ttotal: 21.1s\tremaining: 15.4s\n",
            "867:\tlearn: 6.8445112\ttest: 10.1942757\tbest: 10.1942757 (867)\ttotal: 21.1s\tremaining: 15.4s\n",
            "868:\tlearn: 6.8443962\ttest: 10.1940542\tbest: 10.1940542 (868)\ttotal: 21.1s\tremaining: 15.4s\n",
            "869:\tlearn: 6.8442906\ttest: 10.1939948\tbest: 10.1939948 (869)\ttotal: 21.2s\tremaining: 15.3s\n",
            "870:\tlearn: 6.8442236\ttest: 10.1938659\tbest: 10.1938659 (870)\ttotal: 21.2s\tremaining: 15.3s\n",
            "871:\tlearn: 6.8441826\ttest: 10.1937543\tbest: 10.1937543 (871)\ttotal: 21.2s\tremaining: 15.3s\n",
            "872:\tlearn: 6.8441259\ttest: 10.1937186\tbest: 10.1937186 (872)\ttotal: 21.2s\tremaining: 15.3s\n",
            "873:\tlearn: 6.8440330\ttest: 10.1935415\tbest: 10.1935415 (873)\ttotal: 21.3s\tremaining: 15.2s\n",
            "874:\tlearn: 6.8439359\ttest: 10.1933865\tbest: 10.1933865 (874)\ttotal: 21.3s\tremaining: 15.2s\n",
            "875:\tlearn: 6.8438400\ttest: 10.1932287\tbest: 10.1932287 (875)\ttotal: 21.3s\tremaining: 15.2s\n",
            "876:\tlearn: 6.8438018\ttest: 10.1931317\tbest: 10.1931317 (876)\ttotal: 21.3s\tremaining: 15.2s\n",
            "877:\tlearn: 6.8437377\ttest: 10.1930979\tbest: 10.1930979 (877)\ttotal: 21.4s\tremaining: 15.1s\n",
            "878:\tlearn: 6.8436923\ttest: 10.1929638\tbest: 10.1929638 (878)\ttotal: 21.4s\tremaining: 15.1s\n",
            "879:\tlearn: 6.8436428\ttest: 10.1929024\tbest: 10.1929024 (879)\ttotal: 21.4s\tremaining: 15.1s\n",
            "880:\tlearn: 6.8435710\ttest: 10.1928114\tbest: 10.1928114 (880)\ttotal: 21.4s\tremaining: 15.1s\n",
            "881:\tlearn: 6.8434995\ttest: 10.1927601\tbest: 10.1927601 (881)\ttotal: 21.5s\tremaining: 15s\n",
            "882:\tlearn: 6.8433998\ttest: 10.1925600\tbest: 10.1925600 (882)\ttotal: 21.5s\tremaining: 15s\n",
            "883:\tlearn: 6.8433046\ttest: 10.1924259\tbest: 10.1924259 (883)\ttotal: 21.5s\tremaining: 15s\n",
            "884:\tlearn: 6.8432515\ttest: 10.1925119\tbest: 10.1924259 (883)\ttotal: 21.5s\tremaining: 15s\n",
            "885:\tlearn: 6.8432127\ttest: 10.1923501\tbest: 10.1923501 (885)\ttotal: 21.6s\tremaining: 14.9s\n",
            "886:\tlearn: 6.8430797\ttest: 10.1919025\tbest: 10.1919025 (886)\ttotal: 21.6s\tremaining: 14.9s\n",
            "887:\tlearn: 6.8429793\ttest: 10.1918146\tbest: 10.1918146 (887)\ttotal: 21.6s\tremaining: 14.9s\n",
            "888:\tlearn: 6.8429245\ttest: 10.1915208\tbest: 10.1915208 (888)\ttotal: 21.6s\tremaining: 14.9s\n",
            "889:\tlearn: 6.8428276\ttest: 10.1912954\tbest: 10.1912954 (889)\ttotal: 21.7s\tremaining: 14.8s\n",
            "890:\tlearn: 6.8427701\ttest: 10.1911265\tbest: 10.1911265 (890)\ttotal: 21.7s\tremaining: 14.8s\n",
            "891:\tlearn: 6.8427089\ttest: 10.1909210\tbest: 10.1909210 (891)\ttotal: 21.7s\tremaining: 14.8s\n",
            "892:\tlearn: 6.8426702\ttest: 10.1906934\tbest: 10.1906934 (892)\ttotal: 21.7s\tremaining: 14.8s\n",
            "893:\tlearn: 6.8426057\ttest: 10.1906084\tbest: 10.1906084 (893)\ttotal: 21.8s\tremaining: 14.7s\n",
            "894:\tlearn: 6.8425650\ttest: 10.1905144\tbest: 10.1905144 (894)\ttotal: 21.8s\tremaining: 14.7s\n",
            "895:\tlearn: 6.8425231\ttest: 10.1903165\tbest: 10.1903165 (895)\ttotal: 21.8s\tremaining: 14.7s\n",
            "896:\tlearn: 6.8424446\ttest: 10.1902185\tbest: 10.1902185 (896)\ttotal: 21.8s\tremaining: 14.7s\n",
            "897:\tlearn: 6.8424124\ttest: 10.1901062\tbest: 10.1901062 (897)\ttotal: 21.8s\tremaining: 14.6s\n",
            "898:\tlearn: 6.8423631\ttest: 10.1899343\tbest: 10.1899343 (898)\ttotal: 21.9s\tremaining: 14.6s\n",
            "899:\tlearn: 6.8423228\ttest: 10.1898509\tbest: 10.1898509 (899)\ttotal: 21.9s\tremaining: 14.6s\n",
            "900:\tlearn: 6.8422856\ttest: 10.1896814\tbest: 10.1896814 (900)\ttotal: 21.9s\tremaining: 14.6s\n",
            "901:\tlearn: 6.8422410\ttest: 10.1897626\tbest: 10.1896814 (900)\ttotal: 21.9s\tremaining: 14.6s\n",
            "902:\tlearn: 6.8421069\ttest: 10.1895966\tbest: 10.1895966 (902)\ttotal: 22s\tremaining: 14.5s\n",
            "903:\tlearn: 6.8420642\ttest: 10.1895026\tbest: 10.1895026 (903)\ttotal: 22s\tremaining: 14.5s\n",
            "904:\tlearn: 6.8420361\ttest: 10.1897201\tbest: 10.1895026 (903)\ttotal: 22s\tremaining: 14.5s\n",
            "905:\tlearn: 6.8419477\ttest: 10.1895381\tbest: 10.1895026 (903)\ttotal: 22s\tremaining: 14.5s\n",
            "906:\tlearn: 6.8418323\ttest: 10.1894124\tbest: 10.1894124 (906)\ttotal: 22.1s\tremaining: 14.4s\n",
            "907:\tlearn: 6.8417656\ttest: 10.1892589\tbest: 10.1892589 (907)\ttotal: 22.1s\tremaining: 14.4s\n",
            "908:\tlearn: 6.8417113\ttest: 10.1891725\tbest: 10.1891725 (908)\ttotal: 22.1s\tremaining: 14.4s\n",
            "909:\tlearn: 6.8416410\ttest: 10.1890257\tbest: 10.1890257 (909)\ttotal: 22.1s\tremaining: 14.4s\n",
            "910:\tlearn: 6.8415361\ttest: 10.1886697\tbest: 10.1886697 (910)\ttotal: 22.2s\tremaining: 14.3s\n",
            "911:\tlearn: 6.8414935\ttest: 10.1886998\tbest: 10.1886697 (910)\ttotal: 22.2s\tremaining: 14.3s\n",
            "912:\tlearn: 6.8414529\ttest: 10.1885651\tbest: 10.1885651 (912)\ttotal: 22.2s\tremaining: 14.3s\n",
            "913:\tlearn: 6.8414183\ttest: 10.1884379\tbest: 10.1884379 (913)\ttotal: 22.2s\tremaining: 14.3s\n",
            "914:\tlearn: 6.8413854\ttest: 10.1882232\tbest: 10.1882232 (914)\ttotal: 22.3s\tremaining: 14.2s\n",
            "915:\tlearn: 6.8413423\ttest: 10.1881589\tbest: 10.1881589 (915)\ttotal: 22.3s\tremaining: 14.2s\n",
            "916:\tlearn: 6.8412467\ttest: 10.1880708\tbest: 10.1880708 (916)\ttotal: 22.3s\tremaining: 14.2s\n",
            "917:\tlearn: 6.8412052\ttest: 10.1881532\tbest: 10.1880708 (916)\ttotal: 22.3s\tremaining: 14.2s\n",
            "918:\tlearn: 6.8411248\ttest: 10.1881667\tbest: 10.1880708 (916)\ttotal: 22.4s\tremaining: 14.1s\n",
            "919:\tlearn: 6.8410855\ttest: 10.1881251\tbest: 10.1880708 (916)\ttotal: 22.4s\tremaining: 14.1s\n",
            "920:\tlearn: 6.8409665\ttest: 10.1879795\tbest: 10.1879795 (920)\ttotal: 22.4s\tremaining: 14.1s\n",
            "921:\tlearn: 6.8409300\ttest: 10.1878206\tbest: 10.1878206 (921)\ttotal: 22.4s\tremaining: 14.1s\n",
            "922:\tlearn: 6.8408483\ttest: 10.1876024\tbest: 10.1876024 (922)\ttotal: 22.5s\tremaining: 14s\n",
            "923:\tlearn: 6.8407875\ttest: 10.1875015\tbest: 10.1875015 (923)\ttotal: 22.5s\tremaining: 14s\n",
            "924:\tlearn: 6.8407301\ttest: 10.1873182\tbest: 10.1873182 (924)\ttotal: 22.5s\tremaining: 14s\n",
            "925:\tlearn: 6.8406731\ttest: 10.1871259\tbest: 10.1871259 (925)\ttotal: 22.5s\tremaining: 14s\n",
            "926:\tlearn: 6.8405891\ttest: 10.1870603\tbest: 10.1870603 (926)\ttotal: 22.6s\tremaining: 13.9s\n",
            "927:\tlearn: 6.8405258\ttest: 10.1869671\tbest: 10.1869671 (927)\ttotal: 22.6s\tremaining: 13.9s\n",
            "928:\tlearn: 6.8404787\ttest: 10.1869687\tbest: 10.1869671 (927)\ttotal: 22.6s\tremaining: 13.9s\n",
            "929:\tlearn: 6.8404356\ttest: 10.1870149\tbest: 10.1869671 (927)\ttotal: 22.6s\tremaining: 13.9s\n",
            "930:\tlearn: 6.8403628\ttest: 10.1868484\tbest: 10.1868484 (930)\ttotal: 22.7s\tremaining: 13.8s\n",
            "931:\tlearn: 6.8403322\ttest: 10.1867303\tbest: 10.1867303 (931)\ttotal: 22.7s\tremaining: 13.8s\n",
            "932:\tlearn: 6.8402502\ttest: 10.1865797\tbest: 10.1865797 (932)\ttotal: 22.7s\tremaining: 13.8s\n",
            "933:\tlearn: 6.8402108\ttest: 10.1865487\tbest: 10.1865487 (933)\ttotal: 22.7s\tremaining: 13.8s\n",
            "934:\tlearn: 6.8401313\ttest: 10.1864286\tbest: 10.1864286 (934)\ttotal: 22.8s\tremaining: 13.7s\n",
            "935:\tlearn: 6.8400996\ttest: 10.1864654\tbest: 10.1864286 (934)\ttotal: 22.8s\tremaining: 13.7s\n",
            "936:\tlearn: 6.8400089\ttest: 10.1864592\tbest: 10.1864286 (934)\ttotal: 22.8s\tremaining: 13.7s\n",
            "937:\tlearn: 6.8399108\ttest: 10.1863298\tbest: 10.1863298 (937)\ttotal: 22.8s\tremaining: 13.7s\n",
            "938:\tlearn: 6.8398481\ttest: 10.1862494\tbest: 10.1862494 (938)\ttotal: 22.8s\tremaining: 13.7s\n",
            "939:\tlearn: 6.8397805\ttest: 10.1862795\tbest: 10.1862494 (938)\ttotal: 22.9s\tremaining: 13.6s\n",
            "940:\tlearn: 6.8397294\ttest: 10.1861907\tbest: 10.1861907 (940)\ttotal: 22.9s\tremaining: 13.6s\n",
            "941:\tlearn: 6.8397005\ttest: 10.1862347\tbest: 10.1861907 (940)\ttotal: 22.9s\tremaining: 13.6s\n",
            "942:\tlearn: 6.8396607\ttest: 10.1861563\tbest: 10.1861563 (942)\ttotal: 22.9s\tremaining: 13.6s\n",
            "943:\tlearn: 6.8395887\ttest: 10.1859852\tbest: 10.1859852 (943)\ttotal: 23s\tremaining: 13.5s\n",
            "944:\tlearn: 6.8395508\ttest: 10.1858839\tbest: 10.1858839 (944)\ttotal: 23s\tremaining: 13.5s\n",
            "945:\tlearn: 6.8394886\ttest: 10.1856751\tbest: 10.1856751 (945)\ttotal: 23s\tremaining: 13.5s\n",
            "946:\tlearn: 6.8393809\ttest: 10.1853034\tbest: 10.1853034 (946)\ttotal: 23s\tremaining: 13.5s\n",
            "947:\tlearn: 6.8392875\ttest: 10.1851906\tbest: 10.1851906 (947)\ttotal: 23.1s\tremaining: 13.4s\n",
            "948:\tlearn: 6.8392451\ttest: 10.1851287\tbest: 10.1851287 (948)\ttotal: 23.1s\tremaining: 13.4s\n",
            "949:\tlearn: 6.8391514\ttest: 10.1849805\tbest: 10.1849805 (949)\ttotal: 23.1s\tremaining: 13.4s\n",
            "950:\tlearn: 6.8390497\ttest: 10.1846389\tbest: 10.1846389 (950)\ttotal: 23.1s\tremaining: 13.4s\n",
            "951:\tlearn: 6.8389735\ttest: 10.1845240\tbest: 10.1845240 (951)\ttotal: 23.2s\tremaining: 13.3s\n",
            "952:\tlearn: 6.8389315\ttest: 10.1845164\tbest: 10.1845164 (952)\ttotal: 23.2s\tremaining: 13.3s\n",
            "953:\tlearn: 6.8388518\ttest: 10.1842925\tbest: 10.1842925 (953)\ttotal: 23.2s\tremaining: 13.3s\n",
            "954:\tlearn: 6.8387842\ttest: 10.1841297\tbest: 10.1841297 (954)\ttotal: 23.2s\tremaining: 13.3s\n",
            "955:\tlearn: 6.8387419\ttest: 10.1840043\tbest: 10.1840043 (955)\ttotal: 23.3s\tremaining: 13.2s\n",
            "956:\tlearn: 6.8386661\ttest: 10.1837956\tbest: 10.1837956 (956)\ttotal: 23.3s\tremaining: 13.2s\n",
            "957:\tlearn: 6.8386353\ttest: 10.1838651\tbest: 10.1837956 (956)\ttotal: 23.3s\tremaining: 13.2s\n",
            "958:\tlearn: 6.8385734\ttest: 10.1836505\tbest: 10.1836505 (958)\ttotal: 23.3s\tremaining: 13.2s\n",
            "959:\tlearn: 6.8385286\ttest: 10.1833690\tbest: 10.1833690 (959)\ttotal: 23.4s\tremaining: 13.1s\n",
            "960:\tlearn: 6.8384649\ttest: 10.1832773\tbest: 10.1832773 (960)\ttotal: 23.4s\tremaining: 13.1s\n",
            "961:\tlearn: 6.8384171\ttest: 10.1834952\tbest: 10.1832773 (960)\ttotal: 23.4s\tremaining: 13.1s\n",
            "962:\tlearn: 6.8383766\ttest: 10.1835086\tbest: 10.1832773 (960)\ttotal: 23.4s\tremaining: 13.1s\n",
            "963:\tlearn: 6.8383276\ttest: 10.1834546\tbest: 10.1832773 (960)\ttotal: 23.5s\tremaining: 13s\n",
            "964:\tlearn: 6.8382517\ttest: 10.1832304\tbest: 10.1832304 (964)\ttotal: 23.5s\tremaining: 13s\n",
            "965:\tlearn: 6.8382054\ttest: 10.1831912\tbest: 10.1831912 (965)\ttotal: 23.5s\tremaining: 13s\n",
            "966:\tlearn: 6.8381323\ttest: 10.1829963\tbest: 10.1829963 (966)\ttotal: 23.5s\tremaining: 13s\n",
            "967:\tlearn: 6.8380825\ttest: 10.1828730\tbest: 10.1828730 (967)\ttotal: 23.6s\tremaining: 13s\n",
            "968:\tlearn: 6.8380524\ttest: 10.1828618\tbest: 10.1828618 (968)\ttotal: 23.6s\tremaining: 12.9s\n",
            "969:\tlearn: 6.8379848\ttest: 10.1826470\tbest: 10.1826470 (969)\ttotal: 23.6s\tremaining: 12.9s\n",
            "970:\tlearn: 6.8379414\ttest: 10.1824590\tbest: 10.1824590 (970)\ttotal: 23.7s\tremaining: 12.9s\n",
            "971:\tlearn: 6.8378743\ttest: 10.1822993\tbest: 10.1822993 (971)\ttotal: 23.7s\tremaining: 12.9s\n",
            "972:\tlearn: 6.8378323\ttest: 10.1821219\tbest: 10.1821219 (972)\ttotal: 23.7s\tremaining: 12.8s\n",
            "973:\tlearn: 6.8377984\ttest: 10.1821037\tbest: 10.1821037 (973)\ttotal: 23.7s\tremaining: 12.8s\n",
            "974:\tlearn: 6.8377402\ttest: 10.1819573\tbest: 10.1819573 (974)\ttotal: 23.8s\tremaining: 12.8s\n",
            "975:\tlearn: 6.8375712\ttest: 10.1818516\tbest: 10.1818516 (975)\ttotal: 23.8s\tremaining: 12.8s\n",
            "976:\tlearn: 6.8374328\ttest: 10.1818029\tbest: 10.1818029 (976)\ttotal: 23.8s\tremaining: 12.7s\n",
            "977:\tlearn: 6.8373919\ttest: 10.1817974\tbest: 10.1817974 (977)\ttotal: 23.8s\tremaining: 12.7s\n",
            "978:\tlearn: 6.8373091\ttest: 10.1817523\tbest: 10.1817523 (978)\ttotal: 23.9s\tremaining: 12.7s\n",
            "979:\tlearn: 6.8372693\ttest: 10.1818082\tbest: 10.1817523 (978)\ttotal: 23.9s\tremaining: 12.7s\n",
            "980:\tlearn: 6.8372129\ttest: 10.1818951\tbest: 10.1817523 (978)\ttotal: 23.9s\tremaining: 12.6s\n",
            "981:\tlearn: 6.8371069\ttest: 10.1815959\tbest: 10.1815959 (981)\ttotal: 23.9s\tremaining: 12.6s\n",
            "982:\tlearn: 6.8370629\ttest: 10.1813575\tbest: 10.1813575 (982)\ttotal: 23.9s\tremaining: 12.6s\n",
            "983:\tlearn: 6.8369940\ttest: 10.1812589\tbest: 10.1812589 (983)\ttotal: 24s\tremaining: 12.6s\n",
            "984:\tlearn: 6.8369573\ttest: 10.1812692\tbest: 10.1812589 (983)\ttotal: 24s\tremaining: 12.6s\n",
            "985:\tlearn: 6.8368953\ttest: 10.1812135\tbest: 10.1812135 (985)\ttotal: 24s\tremaining: 12.5s\n",
            "986:\tlearn: 6.8368427\ttest: 10.1810966\tbest: 10.1810966 (986)\ttotal: 24.1s\tremaining: 12.5s\n",
            "987:\tlearn: 6.8368172\ttest: 10.1810362\tbest: 10.1810362 (987)\ttotal: 24.1s\tremaining: 12.5s\n",
            "988:\tlearn: 6.8367707\ttest: 10.1808537\tbest: 10.1808537 (988)\ttotal: 24.1s\tremaining: 12.5s\n",
            "989:\tlearn: 6.8367119\ttest: 10.1808595\tbest: 10.1808537 (988)\ttotal: 24.1s\tremaining: 12.4s\n",
            "990:\tlearn: 6.8366454\ttest: 10.1806805\tbest: 10.1806805 (990)\ttotal: 24.2s\tremaining: 12.4s\n",
            "991:\tlearn: 6.8365517\ttest: 10.1805841\tbest: 10.1805841 (991)\ttotal: 24.2s\tremaining: 12.4s\n",
            "992:\tlearn: 6.8364923\ttest: 10.1804175\tbest: 10.1804175 (992)\ttotal: 24.2s\tremaining: 12.4s\n",
            "993:\tlearn: 6.8364442\ttest: 10.1804185\tbest: 10.1804175 (992)\ttotal: 24.2s\tremaining: 12.3s\n",
            "994:\tlearn: 6.8363843\ttest: 10.1803450\tbest: 10.1803450 (994)\ttotal: 24.3s\tremaining: 12.3s\n",
            "995:\tlearn: 6.8363409\ttest: 10.1803882\tbest: 10.1803450 (994)\ttotal: 24.3s\tremaining: 12.3s\n",
            "996:\tlearn: 6.8363016\ttest: 10.1801658\tbest: 10.1801658 (996)\ttotal: 24.3s\tremaining: 12.3s\n",
            "997:\tlearn: 6.8361691\ttest: 10.1798308\tbest: 10.1798308 (997)\ttotal: 24.3s\tremaining: 12.2s\n",
            "998:\tlearn: 6.8361184\ttest: 10.1798465\tbest: 10.1798308 (997)\ttotal: 24.4s\tremaining: 12.2s\n",
            "999:\tlearn: 6.8360744\ttest: 10.1799706\tbest: 10.1798308 (997)\ttotal: 24.4s\tremaining: 12.2s\n",
            "1000:\tlearn: 6.8360403\ttest: 10.1797165\tbest: 10.1797165 (1000)\ttotal: 24.4s\tremaining: 12.2s\n",
            "1001:\tlearn: 6.8360079\ttest: 10.1793809\tbest: 10.1793809 (1001)\ttotal: 24.4s\tremaining: 12.1s\n",
            "1002:\tlearn: 6.8359556\ttest: 10.1794529\tbest: 10.1793809 (1001)\ttotal: 24.5s\tremaining: 12.1s\n",
            "1003:\tlearn: 6.8359339\ttest: 10.1795594\tbest: 10.1793809 (1001)\ttotal: 24.5s\tremaining: 12.1s\n",
            "1004:\tlearn: 6.8359032\ttest: 10.1795454\tbest: 10.1793809 (1001)\ttotal: 24.5s\tremaining: 12.1s\n",
            "1005:\tlearn: 6.8358602\ttest: 10.1793535\tbest: 10.1793535 (1005)\ttotal: 24.5s\tremaining: 12s\n",
            "1006:\tlearn: 6.8358303\ttest: 10.1792549\tbest: 10.1792549 (1006)\ttotal: 24.5s\tremaining: 12s\n",
            "1007:\tlearn: 6.8357323\ttest: 10.1790779\tbest: 10.1790779 (1007)\ttotal: 24.6s\tremaining: 12s\n",
            "1008:\tlearn: 6.8357076\ttest: 10.1789344\tbest: 10.1789344 (1008)\ttotal: 24.6s\tremaining: 12s\n",
            "1009:\tlearn: 6.8356548\ttest: 10.1788741\tbest: 10.1788741 (1009)\ttotal: 24.6s\tremaining: 11.9s\n",
            "1010:\tlearn: 6.8356225\ttest: 10.1787999\tbest: 10.1787999 (1010)\ttotal: 24.6s\tremaining: 11.9s\n",
            "1011:\tlearn: 6.8355873\ttest: 10.1787620\tbest: 10.1787620 (1011)\ttotal: 24.7s\tremaining: 11.9s\n",
            "1012:\tlearn: 6.8355461\ttest: 10.1786978\tbest: 10.1786978 (1012)\ttotal: 24.7s\tremaining: 11.9s\n",
            "1013:\tlearn: 6.8355168\ttest: 10.1787515\tbest: 10.1786978 (1012)\ttotal: 24.7s\tremaining: 11.8s\n",
            "1014:\tlearn: 6.8354251\ttest: 10.1784617\tbest: 10.1784617 (1014)\ttotal: 24.7s\tremaining: 11.8s\n",
            "1015:\tlearn: 6.8353019\ttest: 10.1783148\tbest: 10.1783148 (1015)\ttotal: 24.8s\tremaining: 11.8s\n",
            "1016:\tlearn: 6.8352656\ttest: 10.1782334\tbest: 10.1782334 (1016)\ttotal: 24.8s\tremaining: 11.8s\n",
            "1017:\tlearn: 6.8351862\ttest: 10.1781008\tbest: 10.1781008 (1017)\ttotal: 24.8s\tremaining: 11.8s\n",
            "1018:\tlearn: 6.8350939\ttest: 10.1778851\tbest: 10.1778851 (1018)\ttotal: 24.8s\tremaining: 11.7s\n",
            "1019:\tlearn: 6.8350517\ttest: 10.1776988\tbest: 10.1776988 (1019)\ttotal: 24.9s\tremaining: 11.7s\n",
            "1020:\tlearn: 6.8349472\ttest: 10.1774846\tbest: 10.1774846 (1020)\ttotal: 24.9s\tremaining: 11.7s\n",
            "1021:\tlearn: 6.8348454\ttest: 10.1773519\tbest: 10.1773519 (1021)\ttotal: 24.9s\tremaining: 11.7s\n",
            "1022:\tlearn: 6.8348054\ttest: 10.1771588\tbest: 10.1771588 (1022)\ttotal: 25s\tremaining: 11.6s\n",
            "1023:\tlearn: 6.8347686\ttest: 10.1770310\tbest: 10.1770310 (1023)\ttotal: 25s\tremaining: 11.6s\n",
            "1024:\tlearn: 6.8347107\ttest: 10.1769322\tbest: 10.1769322 (1024)\ttotal: 25s\tremaining: 11.6s\n",
            "1025:\tlearn: 6.8346721\ttest: 10.1769639\tbest: 10.1769322 (1024)\ttotal: 25s\tremaining: 11.6s\n",
            "1026:\tlearn: 6.8345935\ttest: 10.1769641\tbest: 10.1769322 (1024)\ttotal: 25.1s\tremaining: 11.5s\n",
            "1027:\tlearn: 6.8345385\ttest: 10.1767765\tbest: 10.1767765 (1027)\ttotal: 25.1s\tremaining: 11.5s\n",
            "1028:\tlearn: 6.8344944\ttest: 10.1767221\tbest: 10.1767221 (1028)\ttotal: 25.1s\tremaining: 11.5s\n",
            "1029:\tlearn: 6.8343701\ttest: 10.1764170\tbest: 10.1764170 (1029)\ttotal: 25.1s\tremaining: 11.5s\n",
            "1030:\tlearn: 6.8343362\ttest: 10.1763201\tbest: 10.1763201 (1030)\ttotal: 25.1s\tremaining: 11.4s\n",
            "1031:\tlearn: 6.8342705\ttest: 10.1760735\tbest: 10.1760735 (1031)\ttotal: 25.2s\tremaining: 11.4s\n",
            "1032:\tlearn: 6.8342292\ttest: 10.1760207\tbest: 10.1760207 (1032)\ttotal: 25.2s\tremaining: 11.4s\n",
            "1033:\tlearn: 6.8341512\ttest: 10.1759121\tbest: 10.1759121 (1033)\ttotal: 25.2s\tremaining: 11.4s\n",
            "1034:\tlearn: 6.8340770\ttest: 10.1758080\tbest: 10.1758080 (1034)\ttotal: 25.3s\tremaining: 11.3s\n",
            "1035:\tlearn: 6.8340448\ttest: 10.1756865\tbest: 10.1756865 (1035)\ttotal: 25.3s\tremaining: 11.3s\n",
            "1036:\tlearn: 6.8340142\ttest: 10.1756269\tbest: 10.1756269 (1036)\ttotal: 25.3s\tremaining: 11.3s\n",
            "1037:\tlearn: 6.8339839\ttest: 10.1755282\tbest: 10.1755282 (1037)\ttotal: 25.3s\tremaining: 11.3s\n",
            "1038:\tlearn: 6.8339256\ttest: 10.1755447\tbest: 10.1755282 (1037)\ttotal: 25.3s\tremaining: 11.2s\n",
            "1039:\tlearn: 6.8338166\ttest: 10.1752718\tbest: 10.1752718 (1039)\ttotal: 25.4s\tremaining: 11.2s\n",
            "1040:\tlearn: 6.8337677\ttest: 10.1753477\tbest: 10.1752718 (1039)\ttotal: 25.4s\tremaining: 11.2s\n",
            "1041:\tlearn: 6.8336964\ttest: 10.1751508\tbest: 10.1751508 (1041)\ttotal: 25.4s\tremaining: 11.2s\n",
            "1042:\tlearn: 6.8336305\ttest: 10.1750505\tbest: 10.1750505 (1042)\ttotal: 25.4s\tremaining: 11.2s\n",
            "1043:\tlearn: 6.8335950\ttest: 10.1751037\tbest: 10.1750505 (1042)\ttotal: 25.5s\tremaining: 11.1s\n",
            "1044:\tlearn: 6.8335537\ttest: 10.1749415\tbest: 10.1749415 (1044)\ttotal: 25.5s\tremaining: 11.1s\n",
            "1045:\tlearn: 6.8335241\ttest: 10.1748097\tbest: 10.1748097 (1045)\ttotal: 25.5s\tremaining: 11.1s\n",
            "1046:\tlearn: 6.8334756\ttest: 10.1748791\tbest: 10.1748097 (1045)\ttotal: 25.5s\tremaining: 11.1s\n",
            "1047:\tlearn: 6.8334499\ttest: 10.1747618\tbest: 10.1747618 (1047)\ttotal: 25.6s\tremaining: 11s\n",
            "1048:\tlearn: 6.8333811\ttest: 10.1744553\tbest: 10.1744553 (1048)\ttotal: 25.6s\tremaining: 11s\n",
            "1049:\tlearn: 6.8333443\ttest: 10.1744583\tbest: 10.1744553 (1048)\ttotal: 25.6s\tremaining: 11s\n",
            "1050:\tlearn: 6.8333105\ttest: 10.1743457\tbest: 10.1743457 (1050)\ttotal: 25.6s\tremaining: 11s\n",
            "1051:\tlearn: 6.8332670\ttest: 10.1741216\tbest: 10.1741216 (1051)\ttotal: 25.7s\tremaining: 10.9s\n",
            "1052:\tlearn: 6.8331940\ttest: 10.1740807\tbest: 10.1740807 (1052)\ttotal: 25.7s\tremaining: 10.9s\n",
            "1053:\tlearn: 6.8331746\ttest: 10.1740514\tbest: 10.1740514 (1053)\ttotal: 25.7s\tremaining: 10.9s\n",
            "1054:\tlearn: 6.8331188\ttest: 10.1740704\tbest: 10.1740514 (1053)\ttotal: 25.7s\tremaining: 10.9s\n",
            "1055:\tlearn: 6.8330754\ttest: 10.1740936\tbest: 10.1740514 (1053)\ttotal: 25.8s\tremaining: 10.8s\n",
            "1056:\tlearn: 6.8330294\ttest: 10.1738033\tbest: 10.1738033 (1056)\ttotal: 25.8s\tremaining: 10.8s\n",
            "1057:\tlearn: 6.8329753\ttest: 10.1738589\tbest: 10.1738033 (1056)\ttotal: 25.8s\tremaining: 10.8s\n",
            "1058:\tlearn: 6.8329408\ttest: 10.1738489\tbest: 10.1738033 (1056)\ttotal: 25.8s\tremaining: 10.8s\n",
            "1059:\tlearn: 6.8328222\ttest: 10.1737666\tbest: 10.1737666 (1059)\ttotal: 25.9s\tremaining: 10.7s\n",
            "1060:\tlearn: 6.8327796\ttest: 10.1739420\tbest: 10.1737666 (1059)\ttotal: 25.9s\tremaining: 10.7s\n",
            "1061:\tlearn: 6.8327286\ttest: 10.1738582\tbest: 10.1737666 (1059)\ttotal: 25.9s\tremaining: 10.7s\n",
            "1062:\tlearn: 6.8326883\ttest: 10.1737301\tbest: 10.1737301 (1062)\ttotal: 25.9s\tremaining: 10.7s\n",
            "1063:\tlearn: 6.8326519\ttest: 10.1737925\tbest: 10.1737301 (1062)\ttotal: 26s\tremaining: 10.6s\n",
            "1064:\tlearn: 6.8326054\ttest: 10.1736486\tbest: 10.1736486 (1064)\ttotal: 26s\tremaining: 10.6s\n",
            "1065:\tlearn: 6.8325290\ttest: 10.1735191\tbest: 10.1735191 (1065)\ttotal: 26s\tremaining: 10.6s\n",
            "1066:\tlearn: 6.8325113\ttest: 10.1734132\tbest: 10.1734132 (1066)\ttotal: 26s\tremaining: 10.6s\n",
            "1067:\tlearn: 6.8324610\ttest: 10.1733054\tbest: 10.1733054 (1067)\ttotal: 26s\tremaining: 10.5s\n",
            "1068:\tlearn: 6.8324318\ttest: 10.1733146\tbest: 10.1733054 (1067)\ttotal: 26.1s\tremaining: 10.5s\n",
            "1069:\tlearn: 6.8324156\ttest: 10.1733214\tbest: 10.1733054 (1067)\ttotal: 26.1s\tremaining: 10.5s\n",
            "1070:\tlearn: 6.8323634\ttest: 10.1733140\tbest: 10.1733054 (1067)\ttotal: 26.1s\tremaining: 10.5s\n",
            "1071:\tlearn: 6.8323291\ttest: 10.1732400\tbest: 10.1732400 (1071)\ttotal: 26.1s\tremaining: 10.4s\n",
            "1072:\tlearn: 6.8322874\ttest: 10.1730236\tbest: 10.1730236 (1072)\ttotal: 26.2s\tremaining: 10.4s\n",
            "1073:\tlearn: 6.8322257\ttest: 10.1728782\tbest: 10.1728782 (1073)\ttotal: 26.2s\tremaining: 10.4s\n",
            "1074:\tlearn: 6.8321744\ttest: 10.1726829\tbest: 10.1726829 (1074)\ttotal: 26.2s\tremaining: 10.4s\n",
            "1075:\tlearn: 6.8321105\ttest: 10.1725833\tbest: 10.1725833 (1075)\ttotal: 26.2s\tremaining: 10.3s\n",
            "1076:\tlearn: 6.8320634\ttest: 10.1725958\tbest: 10.1725833 (1075)\ttotal: 26.3s\tremaining: 10.3s\n",
            "1077:\tlearn: 6.8320221\ttest: 10.1724076\tbest: 10.1724076 (1077)\ttotal: 26.3s\tremaining: 10.3s\n",
            "1078:\tlearn: 6.8319595\ttest: 10.1722846\tbest: 10.1722846 (1078)\ttotal: 26.3s\tremaining: 10.3s\n",
            "1079:\tlearn: 6.8319249\ttest: 10.1723005\tbest: 10.1722846 (1078)\ttotal: 26.3s\tremaining: 10.2s\n",
            "1080:\tlearn: 6.8318721\ttest: 10.1723020\tbest: 10.1722846 (1078)\ttotal: 26.3s\tremaining: 10.2s\n",
            "1081:\tlearn: 6.8318352\ttest: 10.1722930\tbest: 10.1722846 (1078)\ttotal: 26.4s\tremaining: 10.2s\n",
            "1082:\tlearn: 6.8317939\ttest: 10.1722765\tbest: 10.1722765 (1082)\ttotal: 26.4s\tremaining: 10.2s\n",
            "1083:\tlearn: 6.8317299\ttest: 10.1720765\tbest: 10.1720765 (1083)\ttotal: 26.4s\tremaining: 10.1s\n",
            "1084:\tlearn: 6.8317071\ttest: 10.1720503\tbest: 10.1720503 (1084)\ttotal: 26.4s\tremaining: 10.1s\n",
            "1085:\tlearn: 6.8316635\ttest: 10.1719466\tbest: 10.1719466 (1085)\ttotal: 26.5s\tremaining: 10.1s\n",
            "1086:\tlearn: 6.8316192\ttest: 10.1719033\tbest: 10.1719033 (1086)\ttotal: 26.5s\tremaining: 10.1s\n",
            "1087:\tlearn: 6.8315823\ttest: 10.1719042\tbest: 10.1719033 (1086)\ttotal: 26.5s\tremaining: 10s\n",
            "1088:\tlearn: 6.8315357\ttest: 10.1719163\tbest: 10.1719033 (1086)\ttotal: 26.5s\tremaining: 10s\n",
            "1089:\tlearn: 6.8314965\ttest: 10.1718536\tbest: 10.1718536 (1089)\ttotal: 26.6s\tremaining: 9.99s\n",
            "1090:\tlearn: 6.8314047\ttest: 10.1715513\tbest: 10.1715513 (1090)\ttotal: 26.6s\tremaining: 9.97s\n",
            "1091:\tlearn: 6.8313599\ttest: 10.1713800\tbest: 10.1713800 (1091)\ttotal: 26.6s\tremaining: 9.94s\n",
            "1092:\tlearn: 6.8312942\ttest: 10.1712439\tbest: 10.1712439 (1092)\ttotal: 26.6s\tremaining: 9.92s\n",
            "1093:\tlearn: 6.8312771\ttest: 10.1713333\tbest: 10.1712439 (1092)\ttotal: 26.7s\tremaining: 9.89s\n",
            "1094:\tlearn: 6.8312533\ttest: 10.1713552\tbest: 10.1712439 (1092)\ttotal: 26.7s\tremaining: 9.87s\n",
            "1095:\tlearn: 6.8311737\ttest: 10.1711043\tbest: 10.1711043 (1095)\ttotal: 26.7s\tremaining: 9.84s\n",
            "1096:\tlearn: 6.8311474\ttest: 10.1710460\tbest: 10.1710460 (1096)\ttotal: 26.7s\tremaining: 9.82s\n",
            "1097:\tlearn: 6.8311086\ttest: 10.1708654\tbest: 10.1708654 (1097)\ttotal: 26.7s\tremaining: 9.79s\n",
            "1098:\tlearn: 6.8310617\ttest: 10.1710409\tbest: 10.1708654 (1097)\ttotal: 26.8s\tremaining: 9.77s\n",
            "1099:\tlearn: 6.8310081\ttest: 10.1708592\tbest: 10.1708592 (1099)\ttotal: 26.8s\tremaining: 9.74s\n",
            "1100:\tlearn: 6.8309689\ttest: 10.1710448\tbest: 10.1708592 (1099)\ttotal: 26.8s\tremaining: 9.72s\n",
            "1101:\tlearn: 6.8308702\ttest: 10.1708640\tbest: 10.1708592 (1099)\ttotal: 26.8s\tremaining: 9.7s\n",
            "1102:\tlearn: 6.8308445\ttest: 10.1707205\tbest: 10.1707205 (1102)\ttotal: 26.9s\tremaining: 9.67s\n",
            "1103:\tlearn: 6.8308199\ttest: 10.1705988\tbest: 10.1705988 (1103)\ttotal: 26.9s\tremaining: 9.64s\n",
            "1104:\tlearn: 6.8307820\ttest: 10.1704704\tbest: 10.1704704 (1104)\ttotal: 26.9s\tremaining: 9.62s\n",
            "1105:\tlearn: 6.8307287\ttest: 10.1703735\tbest: 10.1703735 (1105)\ttotal: 26.9s\tremaining: 9.6s\n",
            "1106:\tlearn: 6.8306813\ttest: 10.1702639\tbest: 10.1702639 (1106)\ttotal: 27s\tremaining: 9.57s\n",
            "1107:\tlearn: 6.8306048\ttest: 10.1700049\tbest: 10.1700049 (1107)\ttotal: 27s\tremaining: 9.55s\n",
            "1108:\tlearn: 6.8305582\ttest: 10.1699641\tbest: 10.1699641 (1108)\ttotal: 27s\tremaining: 9.52s\n",
            "1109:\tlearn: 6.8304501\ttest: 10.1696939\tbest: 10.1696939 (1109)\ttotal: 27s\tremaining: 9.5s\n",
            "1110:\tlearn: 6.8303791\ttest: 10.1696311\tbest: 10.1696311 (1110)\ttotal: 27.1s\tremaining: 9.48s\n",
            "1111:\tlearn: 6.8303473\ttest: 10.1697195\tbest: 10.1696311 (1110)\ttotal: 27.1s\tremaining: 9.45s\n",
            "1112:\tlearn: 6.8302913\ttest: 10.1697449\tbest: 10.1696311 (1110)\ttotal: 27.1s\tremaining: 9.43s\n",
            "1113:\tlearn: 6.8302287\ttest: 10.1696101\tbest: 10.1696101 (1113)\ttotal: 27.1s\tremaining: 9.4s\n",
            "1114:\tlearn: 6.8301893\ttest: 10.1695068\tbest: 10.1695068 (1114)\ttotal: 27.2s\tremaining: 9.38s\n",
            "1115:\tlearn: 6.8301382\ttest: 10.1695517\tbest: 10.1695068 (1114)\ttotal: 27.2s\tremaining: 9.35s\n",
            "1116:\tlearn: 6.8300977\ttest: 10.1693654\tbest: 10.1693654 (1116)\ttotal: 27.2s\tremaining: 9.33s\n",
            "1117:\tlearn: 6.8300480\ttest: 10.1692428\tbest: 10.1692428 (1117)\ttotal: 27.2s\tremaining: 9.3s\n",
            "1118:\tlearn: 6.8300140\ttest: 10.1692278\tbest: 10.1692278 (1118)\ttotal: 27.3s\tremaining: 9.28s\n",
            "1119:\tlearn: 6.8299883\ttest: 10.1693984\tbest: 10.1692278 (1118)\ttotal: 27.3s\tremaining: 9.26s\n",
            "1120:\tlearn: 6.8299511\ttest: 10.1691854\tbest: 10.1691854 (1120)\ttotal: 27.3s\tremaining: 9.23s\n",
            "1121:\tlearn: 6.8298642\ttest: 10.1690361\tbest: 10.1690361 (1121)\ttotal: 27.3s\tremaining: 9.21s\n",
            "1122:\tlearn: 6.8298265\ttest: 10.1686026\tbest: 10.1686026 (1122)\ttotal: 27.4s\tremaining: 9.18s\n",
            "1123:\tlearn: 6.8298032\ttest: 10.1685896\tbest: 10.1685896 (1123)\ttotal: 27.4s\tremaining: 9.16s\n",
            "1124:\tlearn: 6.8297677\ttest: 10.1687440\tbest: 10.1685896 (1123)\ttotal: 27.4s\tremaining: 9.13s\n",
            "1125:\tlearn: 6.8297201\ttest: 10.1687538\tbest: 10.1685896 (1123)\ttotal: 27.4s\tremaining: 9.11s\n",
            "1126:\tlearn: 6.8296704\ttest: 10.1686644\tbest: 10.1685896 (1123)\ttotal: 27.5s\tremaining: 9.09s\n",
            "1127:\tlearn: 6.8296368\ttest: 10.1687138\tbest: 10.1685896 (1123)\ttotal: 27.5s\tremaining: 9.06s\n",
            "1128:\tlearn: 6.8295918\ttest: 10.1686437\tbest: 10.1685896 (1123)\ttotal: 27.5s\tremaining: 9.04s\n",
            "1129:\tlearn: 6.8295633\ttest: 10.1688443\tbest: 10.1685896 (1123)\ttotal: 27.5s\tremaining: 9.01s\n",
            "1130:\tlearn: 6.8294910\ttest: 10.1687241\tbest: 10.1685896 (1123)\ttotal: 27.5s\tremaining: 8.99s\n",
            "1131:\tlearn: 6.8294421\ttest: 10.1685899\tbest: 10.1685896 (1123)\ttotal: 27.6s\tremaining: 8.96s\n",
            "1132:\tlearn: 6.8293910\ttest: 10.1685858\tbest: 10.1685858 (1132)\ttotal: 27.6s\tremaining: 8.94s\n",
            "1133:\tlearn: 6.8293634\ttest: 10.1684253\tbest: 10.1684253 (1133)\ttotal: 27.6s\tremaining: 8.91s\n",
            "1134:\tlearn: 6.8293275\ttest: 10.1683254\tbest: 10.1683254 (1134)\ttotal: 27.6s\tremaining: 8.89s\n",
            "1135:\tlearn: 6.8292923\ttest: 10.1684799\tbest: 10.1683254 (1134)\ttotal: 27.7s\tremaining: 8.86s\n",
            "1136:\tlearn: 6.8292530\ttest: 10.1684672\tbest: 10.1683254 (1134)\ttotal: 27.7s\tremaining: 8.84s\n",
            "1137:\tlearn: 6.8291634\ttest: 10.1682605\tbest: 10.1682605 (1137)\ttotal: 27.7s\tremaining: 8.82s\n",
            "1138:\tlearn: 6.8291209\ttest: 10.1680821\tbest: 10.1680821 (1138)\ttotal: 27.7s\tremaining: 8.79s\n",
            "1139:\tlearn: 6.8290849\ttest: 10.1680604\tbest: 10.1680604 (1139)\ttotal: 27.8s\tremaining: 8.77s\n",
            "1140:\tlearn: 6.8290631\ttest: 10.1681526\tbest: 10.1680604 (1139)\ttotal: 27.8s\tremaining: 8.74s\n",
            "1141:\tlearn: 6.8290352\ttest: 10.1680810\tbest: 10.1680604 (1139)\ttotal: 27.8s\tremaining: 8.72s\n",
            "1142:\tlearn: 6.8290051\ttest: 10.1680344\tbest: 10.1680344 (1142)\ttotal: 27.8s\tremaining: 8.69s\n",
            "1143:\tlearn: 6.8289803\ttest: 10.1679664\tbest: 10.1679664 (1143)\ttotal: 27.9s\tremaining: 8.67s\n",
            "1144:\tlearn: 6.8289604\ttest: 10.1680132\tbest: 10.1679664 (1143)\ttotal: 27.9s\tremaining: 8.64s\n",
            "1145:\tlearn: 6.8289450\ttest: 10.1679016\tbest: 10.1679016 (1145)\ttotal: 27.9s\tremaining: 8.62s\n",
            "1146:\tlearn: 6.8288880\ttest: 10.1676874\tbest: 10.1676874 (1146)\ttotal: 27.9s\tremaining: 8.59s\n",
            "1147:\tlearn: 6.8288349\ttest: 10.1675623\tbest: 10.1675623 (1147)\ttotal: 27.9s\tremaining: 8.57s\n",
            "1148:\tlearn: 6.8287980\ttest: 10.1678097\tbest: 10.1675623 (1147)\ttotal: 28s\tremaining: 8.54s\n",
            "1149:\tlearn: 6.8287597\ttest: 10.1676124\tbest: 10.1675623 (1147)\ttotal: 28s\tremaining: 8.52s\n",
            "1150:\tlearn: 6.8287162\ttest: 10.1675294\tbest: 10.1675294 (1150)\ttotal: 28s\tremaining: 8.49s\n",
            "1151:\tlearn: 6.8286437\ttest: 10.1674635\tbest: 10.1674635 (1151)\ttotal: 28s\tremaining: 8.47s\n",
            "1152:\tlearn: 6.8285926\ttest: 10.1674046\tbest: 10.1674046 (1152)\ttotal: 28.1s\tremaining: 8.45s\n",
            "1153:\tlearn: 6.8285496\ttest: 10.1675201\tbest: 10.1674046 (1152)\ttotal: 28.1s\tremaining: 8.42s\n",
            "1154:\tlearn: 6.8284943\ttest: 10.1673387\tbest: 10.1673387 (1154)\ttotal: 28.1s\tremaining: 8.4s\n",
            "1155:\tlearn: 6.8284472\ttest: 10.1675004\tbest: 10.1673387 (1154)\ttotal: 28.1s\tremaining: 8.37s\n",
            "1156:\tlearn: 6.8283492\ttest: 10.1672485\tbest: 10.1672485 (1156)\ttotal: 28.2s\tremaining: 8.35s\n",
            "1157:\tlearn: 6.8282922\ttest: 10.1671197\tbest: 10.1671197 (1157)\ttotal: 28.2s\tremaining: 8.33s\n",
            "1158:\tlearn: 6.8281481\ttest: 10.1670274\tbest: 10.1670274 (1158)\ttotal: 28.2s\tremaining: 8.3s\n",
            "1159:\tlearn: 6.8281010\ttest: 10.1668919\tbest: 10.1668919 (1159)\ttotal: 28.3s\tremaining: 8.28s\n",
            "1160:\tlearn: 6.8280557\ttest: 10.1668871\tbest: 10.1668871 (1160)\ttotal: 28.3s\tremaining: 8.26s\n",
            "1161:\tlearn: 6.8280374\ttest: 10.1668520\tbest: 10.1668520 (1161)\ttotal: 28.3s\tremaining: 8.23s\n",
            "1162:\tlearn: 6.8279876\ttest: 10.1667594\tbest: 10.1667594 (1162)\ttotal: 28.3s\tremaining: 8.21s\n",
            "1163:\tlearn: 6.8279601\ttest: 10.1667247\tbest: 10.1667247 (1163)\ttotal: 28.3s\tremaining: 8.18s\n",
            "1164:\tlearn: 6.8279340\ttest: 10.1665878\tbest: 10.1665878 (1164)\ttotal: 28.4s\tremaining: 8.15s\n",
            "1165:\tlearn: 6.8279081\ttest: 10.1664651\tbest: 10.1664651 (1165)\ttotal: 28.4s\tremaining: 8.13s\n",
            "1166:\tlearn: 6.8278192\ttest: 10.1662290\tbest: 10.1662290 (1166)\ttotal: 28.4s\tremaining: 8.11s\n",
            "1167:\tlearn: 6.8277775\ttest: 10.1661416\tbest: 10.1661416 (1167)\ttotal: 28.4s\tremaining: 8.08s\n",
            "1168:\tlearn: 6.8277414\ttest: 10.1660619\tbest: 10.1660619 (1168)\ttotal: 28.5s\tremaining: 8.06s\n",
            "1169:\tlearn: 6.8277027\ttest: 10.1661115\tbest: 10.1660619 (1168)\ttotal: 28.5s\tremaining: 8.03s\n",
            "1170:\tlearn: 6.8276403\ttest: 10.1661575\tbest: 10.1660619 (1168)\ttotal: 28.5s\tremaining: 8.01s\n",
            "1171:\tlearn: 6.8275926\ttest: 10.1658947\tbest: 10.1658947 (1171)\ttotal: 28.5s\tremaining: 7.98s\n",
            "1172:\tlearn: 6.8275561\ttest: 10.1658287\tbest: 10.1658287 (1172)\ttotal: 28.6s\tremaining: 7.96s\n",
            "1173:\tlearn: 6.8275172\ttest: 10.1657666\tbest: 10.1657666 (1173)\ttotal: 28.6s\tremaining: 7.93s\n",
            "1174:\tlearn: 6.8274813\ttest: 10.1656272\tbest: 10.1656272 (1174)\ttotal: 28.6s\tremaining: 7.91s\n",
            "1175:\tlearn: 6.8273961\ttest: 10.1656196\tbest: 10.1656196 (1175)\ttotal: 28.6s\tremaining: 7.89s\n",
            "1176:\tlearn: 6.8273642\ttest: 10.1654838\tbest: 10.1654838 (1176)\ttotal: 28.6s\tremaining: 7.86s\n",
            "1177:\tlearn: 6.8273270\ttest: 10.1654166\tbest: 10.1654166 (1177)\ttotal: 28.7s\tremaining: 7.84s\n",
            "1178:\tlearn: 6.8272927\ttest: 10.1654117\tbest: 10.1654117 (1178)\ttotal: 28.7s\tremaining: 7.81s\n",
            "1179:\tlearn: 6.8272180\ttest: 10.1654202\tbest: 10.1654117 (1178)\ttotal: 28.7s\tremaining: 7.79s\n",
            "1180:\tlearn: 6.8271332\ttest: 10.1652854\tbest: 10.1652854 (1180)\ttotal: 28.7s\tremaining: 7.76s\n",
            "1181:\tlearn: 6.8270575\ttest: 10.1651118\tbest: 10.1651118 (1181)\ttotal: 28.8s\tremaining: 7.74s\n",
            "1182:\tlearn: 6.8269865\ttest: 10.1649320\tbest: 10.1649320 (1182)\ttotal: 28.8s\tremaining: 7.72s\n",
            "1183:\tlearn: 6.8269537\ttest: 10.1650179\tbest: 10.1649320 (1182)\ttotal: 28.8s\tremaining: 7.69s\n",
            "1184:\tlearn: 6.8269166\ttest: 10.1649639\tbest: 10.1649320 (1182)\ttotal: 28.8s\tremaining: 7.67s\n",
            "1185:\tlearn: 6.8268843\ttest: 10.1647619\tbest: 10.1647619 (1185)\ttotal: 28.9s\tremaining: 7.64s\n",
            "1186:\tlearn: 6.8268420\ttest: 10.1647329\tbest: 10.1647329 (1186)\ttotal: 28.9s\tremaining: 7.62s\n",
            "1187:\tlearn: 6.8268098\ttest: 10.1647067\tbest: 10.1647067 (1187)\ttotal: 28.9s\tremaining: 7.59s\n",
            "1188:\tlearn: 6.8267821\ttest: 10.1646330\tbest: 10.1646330 (1188)\ttotal: 28.9s\tremaining: 7.57s\n",
            "1189:\tlearn: 6.8267450\ttest: 10.1646538\tbest: 10.1646330 (1188)\ttotal: 29s\tremaining: 7.54s\n",
            "1190:\tlearn: 6.8266725\ttest: 10.1645241\tbest: 10.1645241 (1190)\ttotal: 29s\tremaining: 7.52s\n",
            "1191:\tlearn: 6.8266551\ttest: 10.1645296\tbest: 10.1645241 (1190)\ttotal: 29s\tremaining: 7.5s\n",
            "1192:\tlearn: 6.8266136\ttest: 10.1644349\tbest: 10.1644349 (1192)\ttotal: 29s\tremaining: 7.47s\n",
            "1193:\tlearn: 6.8265634\ttest: 10.1643652\tbest: 10.1643652 (1193)\ttotal: 29.1s\tremaining: 7.45s\n",
            "1194:\tlearn: 6.8265185\ttest: 10.1643637\tbest: 10.1643637 (1194)\ttotal: 29.1s\tremaining: 7.42s\n",
            "1195:\tlearn: 6.8264853\ttest: 10.1643501\tbest: 10.1643501 (1195)\ttotal: 29.1s\tremaining: 7.4s\n",
            "1196:\tlearn: 6.8264469\ttest: 10.1642740\tbest: 10.1642740 (1196)\ttotal: 29.1s\tremaining: 7.38s\n",
            "1197:\tlearn: 6.8264145\ttest: 10.1640950\tbest: 10.1640950 (1197)\ttotal: 29.2s\tremaining: 7.35s\n",
            "1198:\tlearn: 6.8263356\ttest: 10.1639469\tbest: 10.1639469 (1198)\ttotal: 29.2s\tremaining: 7.33s\n",
            "1199:\tlearn: 6.8262716\ttest: 10.1638186\tbest: 10.1638186 (1199)\ttotal: 29.2s\tremaining: 7.3s\n",
            "1200:\tlearn: 6.8262243\ttest: 10.1637482\tbest: 10.1637482 (1200)\ttotal: 29.2s\tremaining: 7.28s\n",
            "1201:\tlearn: 6.8261999\ttest: 10.1638817\tbest: 10.1637482 (1200)\ttotal: 29.3s\tremaining: 7.25s\n",
            "1202:\tlearn: 6.8261673\ttest: 10.1636393\tbest: 10.1636393 (1202)\ttotal: 29.3s\tremaining: 7.23s\n",
            "1203:\tlearn: 6.8261135\ttest: 10.1635588\tbest: 10.1635588 (1203)\ttotal: 29.3s\tremaining: 7.2s\n",
            "1204:\tlearn: 6.8260755\ttest: 10.1634627\tbest: 10.1634627 (1204)\ttotal: 29.3s\tremaining: 7.18s\n",
            "1205:\tlearn: 6.8260357\ttest: 10.1633965\tbest: 10.1633965 (1205)\ttotal: 29.4s\tremaining: 7.16s\n",
            "1206:\tlearn: 6.8260004\ttest: 10.1633176\tbest: 10.1633176 (1206)\ttotal: 29.4s\tremaining: 7.13s\n",
            "1207:\tlearn: 6.8259729\ttest: 10.1633061\tbest: 10.1633061 (1207)\ttotal: 29.4s\tremaining: 7.11s\n",
            "1208:\tlearn: 6.8259164\ttest: 10.1632758\tbest: 10.1632758 (1208)\ttotal: 29.4s\tremaining: 7.08s\n",
            "1209:\tlearn: 6.8259007\ttest: 10.1634413\tbest: 10.1632758 (1208)\ttotal: 29.4s\tremaining: 7.06s\n",
            "1210:\tlearn: 6.8258700\ttest: 10.1634181\tbest: 10.1632758 (1208)\ttotal: 29.5s\tremaining: 7.03s\n",
            "1211:\tlearn: 6.8258394\ttest: 10.1633701\tbest: 10.1632758 (1208)\ttotal: 29.5s\tremaining: 7.01s\n",
            "1212:\tlearn: 6.8258155\ttest: 10.1634563\tbest: 10.1632758 (1208)\ttotal: 29.5s\tremaining: 6.98s\n",
            "1213:\tlearn: 6.8257880\ttest: 10.1634170\tbest: 10.1632758 (1208)\ttotal: 29.5s\tremaining: 6.96s\n",
            "1214:\tlearn: 6.8257430\ttest: 10.1633144\tbest: 10.1632758 (1208)\ttotal: 29.6s\tremaining: 6.93s\n",
            "1215:\tlearn: 6.8256701\ttest: 10.1631657\tbest: 10.1631657 (1215)\ttotal: 29.6s\tremaining: 6.91s\n",
            "1216:\tlearn: 6.8256130\ttest: 10.1631110\tbest: 10.1631110 (1216)\ttotal: 29.6s\tremaining: 6.88s\n",
            "1217:\tlearn: 6.8255259\ttest: 10.1628856\tbest: 10.1628856 (1217)\ttotal: 29.6s\tremaining: 6.86s\n",
            "1218:\tlearn: 6.8254861\ttest: 10.1629987\tbest: 10.1628856 (1217)\ttotal: 29.7s\tremaining: 6.84s\n",
            "1219:\tlearn: 6.8254488\ttest: 10.1629861\tbest: 10.1628856 (1217)\ttotal: 29.7s\tremaining: 6.81s\n",
            "1220:\tlearn: 6.8254199\ttest: 10.1629190\tbest: 10.1628856 (1217)\ttotal: 29.7s\tremaining: 6.79s\n",
            "1221:\tlearn: 6.8253790\ttest: 10.1628584\tbest: 10.1628584 (1221)\ttotal: 29.7s\tremaining: 6.76s\n",
            "1222:\tlearn: 6.8253107\ttest: 10.1626994\tbest: 10.1626994 (1222)\ttotal: 29.8s\tremaining: 6.74s\n",
            "1223:\tlearn: 6.8252381\ttest: 10.1624451\tbest: 10.1624451 (1223)\ttotal: 29.8s\tremaining: 6.72s\n",
            "1224:\tlearn: 6.8251900\ttest: 10.1622450\tbest: 10.1622450 (1224)\ttotal: 29.8s\tremaining: 6.69s\n",
            "1225:\tlearn: 6.8251640\ttest: 10.1623383\tbest: 10.1622450 (1224)\ttotal: 29.8s\tremaining: 6.67s\n",
            "1226:\tlearn: 6.8251346\ttest: 10.1623732\tbest: 10.1622450 (1224)\ttotal: 29.9s\tremaining: 6.64s\n",
            "1227:\tlearn: 6.8251059\ttest: 10.1622847\tbest: 10.1622450 (1224)\ttotal: 29.9s\tremaining: 6.62s\n",
            "1228:\tlearn: 6.8250134\ttest: 10.1622575\tbest: 10.1622450 (1224)\ttotal: 29.9s\tremaining: 6.59s\n",
            "1229:\tlearn: 6.8248791\ttest: 10.1621718\tbest: 10.1621718 (1229)\ttotal: 29.9s\tremaining: 6.57s\n",
            "1230:\tlearn: 6.8248253\ttest: 10.1621897\tbest: 10.1621718 (1229)\ttotal: 30s\tremaining: 6.55s\n",
            "1231:\tlearn: 6.8247970\ttest: 10.1621246\tbest: 10.1621246 (1231)\ttotal: 30s\tremaining: 6.52s\n",
            "1232:\tlearn: 6.8247646\ttest: 10.1620746\tbest: 10.1620746 (1232)\ttotal: 30s\tremaining: 6.5s\n",
            "1233:\tlearn: 6.8247228\ttest: 10.1621116\tbest: 10.1620746 (1232)\ttotal: 30s\tremaining: 6.47s\n",
            "1234:\tlearn: 6.8246946\ttest: 10.1621420\tbest: 10.1620746 (1232)\ttotal: 30.1s\tremaining: 6.45s\n",
            "1235:\tlearn: 6.8246632\ttest: 10.1620327\tbest: 10.1620327 (1235)\ttotal: 30.1s\tremaining: 6.42s\n",
            "1236:\tlearn: 6.8246255\ttest: 10.1619047\tbest: 10.1619047 (1236)\ttotal: 30.1s\tremaining: 6.4s\n",
            "1237:\tlearn: 6.8245940\ttest: 10.1619091\tbest: 10.1619047 (1236)\ttotal: 30.1s\tremaining: 6.37s\n",
            "1238:\tlearn: 6.8245329\ttest: 10.1618977\tbest: 10.1618977 (1238)\ttotal: 30.1s\tremaining: 6.35s\n",
            "1239:\tlearn: 6.8244963\ttest: 10.1617147\tbest: 10.1617147 (1239)\ttotal: 30.2s\tremaining: 6.33s\n",
            "1240:\tlearn: 6.8244654\ttest: 10.1616941\tbest: 10.1616941 (1240)\ttotal: 30.2s\tremaining: 6.3s\n",
            "1241:\tlearn: 6.8244316\ttest: 10.1616797\tbest: 10.1616797 (1241)\ttotal: 30.2s\tremaining: 6.28s\n",
            "1242:\tlearn: 6.8243941\ttest: 10.1618968\tbest: 10.1616797 (1241)\ttotal: 30.2s\tremaining: 6.25s\n",
            "1243:\tlearn: 6.8243645\ttest: 10.1617895\tbest: 10.1616797 (1241)\ttotal: 30.3s\tremaining: 6.23s\n",
            "1244:\tlearn: 6.8243284\ttest: 10.1614026\tbest: 10.1614026 (1244)\ttotal: 30.3s\tremaining: 6.2s\n",
            "1245:\tlearn: 6.8243115\ttest: 10.1614322\tbest: 10.1614026 (1244)\ttotal: 30.3s\tremaining: 6.18s\n",
            "1246:\tlearn: 6.8242302\ttest: 10.1612960\tbest: 10.1612960 (1246)\ttotal: 30.3s\tremaining: 6.15s\n",
            "1247:\tlearn: 6.8241703\ttest: 10.1612037\tbest: 10.1612037 (1247)\ttotal: 30.4s\tremaining: 6.13s\n",
            "1248:\tlearn: 6.8241302\ttest: 10.1611639\tbest: 10.1611639 (1248)\ttotal: 30.4s\tremaining: 6.11s\n",
            "1249:\tlearn: 6.8240882\ttest: 10.1610397\tbest: 10.1610397 (1249)\ttotal: 30.4s\tremaining: 6.08s\n",
            "1250:\tlearn: 6.8240456\ttest: 10.1610454\tbest: 10.1610397 (1249)\ttotal: 30.4s\tremaining: 6.06s\n",
            "1251:\tlearn: 6.8239761\ttest: 10.1610560\tbest: 10.1610397 (1249)\ttotal: 30.5s\tremaining: 6.03s\n",
            "1252:\tlearn: 6.8239441\ttest: 10.1611569\tbest: 10.1610397 (1249)\ttotal: 30.5s\tremaining: 6.01s\n",
            "1253:\tlearn: 6.8238959\ttest: 10.1612229\tbest: 10.1610397 (1249)\ttotal: 30.5s\tremaining: 5.98s\n",
            "1254:\tlearn: 6.8238493\ttest: 10.1610553\tbest: 10.1610397 (1249)\ttotal: 30.5s\tremaining: 5.96s\n",
            "1255:\tlearn: 6.8238102\ttest: 10.1608890\tbest: 10.1608890 (1255)\ttotal: 30.6s\tremaining: 5.93s\n",
            "1256:\tlearn: 6.8237885\ttest: 10.1607873\tbest: 10.1607873 (1256)\ttotal: 30.6s\tremaining: 5.91s\n",
            "1257:\tlearn: 6.8237563\ttest: 10.1605770\tbest: 10.1605770 (1257)\ttotal: 30.6s\tremaining: 5.89s\n",
            "1258:\tlearn: 6.8237290\ttest: 10.1605806\tbest: 10.1605770 (1257)\ttotal: 30.6s\tremaining: 5.86s\n",
            "1259:\tlearn: 6.8236434\ttest: 10.1605190\tbest: 10.1605190 (1259)\ttotal: 30.6s\tremaining: 5.84s\n",
            "1260:\tlearn: 6.8236118\ttest: 10.1605171\tbest: 10.1605171 (1260)\ttotal: 30.7s\tremaining: 5.81s\n",
            "1261:\tlearn: 6.8235592\ttest: 10.1605821\tbest: 10.1605171 (1260)\ttotal: 30.7s\tremaining: 5.79s\n",
            "1262:\tlearn: 6.8235263\ttest: 10.1605882\tbest: 10.1605171 (1260)\ttotal: 30.7s\tremaining: 5.76s\n",
            "1263:\tlearn: 6.8234943\ttest: 10.1604816\tbest: 10.1604816 (1263)\ttotal: 30.7s\tremaining: 5.74s\n",
            "1264:\tlearn: 6.8234200\ttest: 10.1604308\tbest: 10.1604308 (1264)\ttotal: 30.8s\tremaining: 5.71s\n",
            "1265:\tlearn: 6.8233788\ttest: 10.1603815\tbest: 10.1603815 (1265)\ttotal: 30.8s\tremaining: 5.69s\n",
            "1266:\tlearn: 6.8233137\ttest: 10.1602146\tbest: 10.1602146 (1266)\ttotal: 30.8s\tremaining: 5.67s\n",
            "1267:\tlearn: 6.8232850\ttest: 10.1601712\tbest: 10.1601712 (1267)\ttotal: 30.8s\tremaining: 5.64s\n",
            "1268:\tlearn: 6.8232629\ttest: 10.1601579\tbest: 10.1601579 (1268)\ttotal: 30.9s\tremaining: 5.62s\n",
            "1269:\tlearn: 6.8232295\ttest: 10.1602385\tbest: 10.1601579 (1268)\ttotal: 30.9s\tremaining: 5.59s\n",
            "1270:\tlearn: 6.8231837\ttest: 10.1601958\tbest: 10.1601579 (1268)\ttotal: 30.9s\tremaining: 5.57s\n",
            "1271:\tlearn: 6.8231579\ttest: 10.1600501\tbest: 10.1600501 (1271)\ttotal: 30.9s\tremaining: 5.54s\n",
            "1272:\tlearn: 6.8231071\ttest: 10.1600491\tbest: 10.1600491 (1272)\ttotal: 31s\tremaining: 5.52s\n",
            "1273:\tlearn: 6.8230710\ttest: 10.1602413\tbest: 10.1600491 (1272)\ttotal: 31s\tremaining: 5.49s\n",
            "1274:\tlearn: 6.8230286\ttest: 10.1601059\tbest: 10.1600491 (1272)\ttotal: 31s\tremaining: 5.47s\n",
            "1275:\tlearn: 6.8229903\ttest: 10.1600801\tbest: 10.1600491 (1272)\ttotal: 31s\tremaining: 5.45s\n",
            "1276:\tlearn: 6.8229531\ttest: 10.1599567\tbest: 10.1599567 (1276)\ttotal: 31s\tremaining: 5.42s\n",
            "1277:\tlearn: 6.8229157\ttest: 10.1599256\tbest: 10.1599256 (1277)\ttotal: 31.1s\tremaining: 5.4s\n",
            "1278:\tlearn: 6.8228978\ttest: 10.1598916\tbest: 10.1598916 (1278)\ttotal: 31.1s\tremaining: 5.37s\n",
            "1279:\tlearn: 6.8228587\ttest: 10.1601491\tbest: 10.1598916 (1278)\ttotal: 31.1s\tremaining: 5.35s\n",
            "1280:\tlearn: 6.8228292\ttest: 10.1602303\tbest: 10.1598916 (1278)\ttotal: 31.1s\tremaining: 5.32s\n",
            "1281:\tlearn: 6.8227946\ttest: 10.1602121\tbest: 10.1598916 (1278)\ttotal: 31.2s\tremaining: 5.3s\n",
            "1282:\tlearn: 6.8227510\ttest: 10.1603594\tbest: 10.1598916 (1278)\ttotal: 31.2s\tremaining: 5.27s\n",
            "1283:\tlearn: 6.8227006\ttest: 10.1603659\tbest: 10.1598916 (1278)\ttotal: 31.2s\tremaining: 5.25s\n",
            "1284:\tlearn: 6.8226611\ttest: 10.1602460\tbest: 10.1598916 (1278)\ttotal: 31.2s\tremaining: 5.22s\n",
            "1285:\tlearn: 6.8226285\ttest: 10.1603402\tbest: 10.1598916 (1278)\ttotal: 31.3s\tremaining: 5.2s\n",
            "1286:\tlearn: 6.8226026\ttest: 10.1603398\tbest: 10.1598916 (1278)\ttotal: 31.3s\tremaining: 5.18s\n",
            "1287:\tlearn: 6.8225566\ttest: 10.1602508\tbest: 10.1598916 (1278)\ttotal: 31.3s\tremaining: 5.15s\n",
            "1288:\tlearn: 6.8225126\ttest: 10.1602539\tbest: 10.1598916 (1278)\ttotal: 31.3s\tremaining: 5.13s\n",
            "1289:\tlearn: 6.8224749\ttest: 10.1601372\tbest: 10.1598916 (1278)\ttotal: 31.3s\tremaining: 5.1s\n",
            "1290:\tlearn: 6.8224517\ttest: 10.1599789\tbest: 10.1598916 (1278)\ttotal: 31.4s\tremaining: 5.08s\n",
            "1291:\tlearn: 6.8224112\ttest: 10.1599462\tbest: 10.1598916 (1278)\ttotal: 31.4s\tremaining: 5.05s\n",
            "1292:\tlearn: 6.8223781\ttest: 10.1598298\tbest: 10.1598298 (1292)\ttotal: 31.4s\tremaining: 5.03s\n",
            "1293:\tlearn: 6.8223046\ttest: 10.1597328\tbest: 10.1597328 (1293)\ttotal: 31.4s\tremaining: 5s\n",
            "1294:\tlearn: 6.8222778\ttest: 10.1597465\tbest: 10.1597328 (1293)\ttotal: 31.5s\tremaining: 4.98s\n",
            "1295:\tlearn: 6.8222495\ttest: 10.1598147\tbest: 10.1597328 (1293)\ttotal: 31.5s\tremaining: 4.96s\n",
            "1296:\tlearn: 6.8222128\ttest: 10.1597500\tbest: 10.1597328 (1293)\ttotal: 31.5s\tremaining: 4.93s\n",
            "1297:\tlearn: 6.8221373\ttest: 10.1596506\tbest: 10.1596506 (1297)\ttotal: 31.5s\tremaining: 4.91s\n",
            "1298:\tlearn: 6.8221055\ttest: 10.1595956\tbest: 10.1595956 (1298)\ttotal: 31.6s\tremaining: 4.88s\n",
            "1299:\tlearn: 6.8220700\ttest: 10.1595427\tbest: 10.1595427 (1299)\ttotal: 31.6s\tremaining: 4.86s\n",
            "1300:\tlearn: 6.8219956\ttest: 10.1594655\tbest: 10.1594655 (1300)\ttotal: 31.6s\tremaining: 4.83s\n",
            "1301:\tlearn: 6.8219479\ttest: 10.1594260\tbest: 10.1594260 (1301)\ttotal: 31.6s\tremaining: 4.81s\n",
            "1302:\tlearn: 6.8219335\ttest: 10.1594047\tbest: 10.1594047 (1302)\ttotal: 31.6s\tremaining: 4.78s\n",
            "1303:\tlearn: 6.8218839\ttest: 10.1590704\tbest: 10.1590704 (1303)\ttotal: 31.7s\tremaining: 4.76s\n",
            "1304:\tlearn: 6.8218224\ttest: 10.1589103\tbest: 10.1589103 (1304)\ttotal: 31.7s\tremaining: 4.74s\n",
            "1305:\tlearn: 6.8217875\ttest: 10.1588778\tbest: 10.1588778 (1305)\ttotal: 31.7s\tremaining: 4.71s\n",
            "1306:\tlearn: 6.8217567\ttest: 10.1588261\tbest: 10.1588261 (1306)\ttotal: 31.7s\tremaining: 4.69s\n",
            "1307:\tlearn: 6.8217312\ttest: 10.1587836\tbest: 10.1587836 (1307)\ttotal: 31.8s\tremaining: 4.66s\n",
            "1308:\tlearn: 6.8216952\ttest: 10.1587243\tbest: 10.1587243 (1308)\ttotal: 31.8s\tremaining: 4.64s\n",
            "1309:\tlearn: 6.8216587\ttest: 10.1585665\tbest: 10.1585665 (1309)\ttotal: 31.8s\tremaining: 4.61s\n",
            "1310:\tlearn: 6.8216135\ttest: 10.1584564\tbest: 10.1584564 (1310)\ttotal: 31.8s\tremaining: 4.59s\n",
            "1311:\tlearn: 6.8215788\ttest: 10.1585992\tbest: 10.1584564 (1310)\ttotal: 31.9s\tremaining: 4.57s\n",
            "1312:\tlearn: 6.8215296\ttest: 10.1585387\tbest: 10.1584564 (1310)\ttotal: 31.9s\tremaining: 4.54s\n",
            "1313:\tlearn: 6.8213904\ttest: 10.1583978\tbest: 10.1583978 (1313)\ttotal: 31.9s\tremaining: 4.52s\n",
            "1314:\tlearn: 6.8213493\ttest: 10.1582599\tbest: 10.1582599 (1314)\ttotal: 31.9s\tremaining: 4.49s\n",
            "1315:\tlearn: 6.8213170\ttest: 10.1584302\tbest: 10.1582599 (1314)\ttotal: 32s\tremaining: 4.47s\n",
            "1316:\tlearn: 6.8212297\ttest: 10.1583791\tbest: 10.1582599 (1314)\ttotal: 32s\tremaining: 4.45s\n",
            "1317:\tlearn: 6.8212157\ttest: 10.1583468\tbest: 10.1582599 (1314)\ttotal: 32s\tremaining: 4.42s\n",
            "1318:\tlearn: 6.8211287\ttest: 10.1582474\tbest: 10.1582474 (1318)\ttotal: 32s\tremaining: 4.4s\n",
            "1319:\tlearn: 6.8210789\ttest: 10.1582131\tbest: 10.1582131 (1319)\ttotal: 32.1s\tremaining: 4.37s\n",
            "1320:\tlearn: 6.8210257\ttest: 10.1581118\tbest: 10.1581118 (1320)\ttotal: 32.1s\tremaining: 4.35s\n",
            "1321:\tlearn: 6.8210079\ttest: 10.1580106\tbest: 10.1580106 (1321)\ttotal: 32.1s\tremaining: 4.32s\n",
            "1322:\tlearn: 6.8209800\ttest: 10.1579614\tbest: 10.1579614 (1322)\ttotal: 32.1s\tremaining: 4.3s\n",
            "1323:\tlearn: 6.8209588\ttest: 10.1578445\tbest: 10.1578445 (1323)\ttotal: 32.2s\tremaining: 4.27s\n",
            "1324:\tlearn: 6.8209367\ttest: 10.1578206\tbest: 10.1578206 (1324)\ttotal: 32.2s\tremaining: 4.25s\n",
            "1325:\tlearn: 6.8208782\ttest: 10.1577699\tbest: 10.1577699 (1325)\ttotal: 32.2s\tremaining: 4.23s\n",
            "1326:\tlearn: 6.8208529\ttest: 10.1577561\tbest: 10.1577561 (1326)\ttotal: 32.2s\tremaining: 4.2s\n",
            "1327:\tlearn: 6.8207993\ttest: 10.1574632\tbest: 10.1574632 (1327)\ttotal: 32.3s\tremaining: 4.18s\n",
            "1328:\tlearn: 6.8207677\ttest: 10.1575538\tbest: 10.1574632 (1327)\ttotal: 32.3s\tremaining: 4.15s\n",
            "1329:\tlearn: 6.8206919\ttest: 10.1574718\tbest: 10.1574632 (1327)\ttotal: 32.3s\tremaining: 4.13s\n",
            "1330:\tlearn: 6.8205623\ttest: 10.1573359\tbest: 10.1573359 (1330)\ttotal: 32.3s\tremaining: 4.11s\n",
            "1331:\tlearn: 6.8205263\ttest: 10.1572850\tbest: 10.1572850 (1331)\ttotal: 32.4s\tremaining: 4.08s\n",
            "1332:\tlearn: 6.8204685\ttest: 10.1571224\tbest: 10.1571224 (1332)\ttotal: 32.4s\tremaining: 4.06s\n",
            "1333:\tlearn: 6.8204301\ttest: 10.1570255\tbest: 10.1570255 (1333)\ttotal: 32.4s\tremaining: 4.03s\n",
            "1334:\tlearn: 6.8204071\ttest: 10.1570399\tbest: 10.1570255 (1333)\ttotal: 32.4s\tremaining: 4.01s\n",
            "1335:\tlearn: 6.8203686\ttest: 10.1570906\tbest: 10.1570255 (1333)\ttotal: 32.5s\tremaining: 3.98s\n",
            "1336:\tlearn: 6.8203273\ttest: 10.1570867\tbest: 10.1570255 (1333)\ttotal: 32.5s\tremaining: 3.96s\n",
            "1337:\tlearn: 6.8203037\ttest: 10.1570840\tbest: 10.1570255 (1333)\ttotal: 32.5s\tremaining: 3.94s\n",
            "1338:\tlearn: 6.8202655\ttest: 10.1570624\tbest: 10.1570255 (1333)\ttotal: 32.5s\tremaining: 3.91s\n",
            "1339:\tlearn: 6.8202242\ttest: 10.1571370\tbest: 10.1570255 (1333)\ttotal: 32.5s\tremaining: 3.89s\n",
            "1340:\tlearn: 6.8201594\ttest: 10.1571477\tbest: 10.1570255 (1333)\ttotal: 32.6s\tremaining: 3.86s\n",
            "1341:\tlearn: 6.8200387\ttest: 10.1570201\tbest: 10.1570201 (1341)\ttotal: 32.6s\tremaining: 3.84s\n",
            "1342:\tlearn: 6.8199910\ttest: 10.1568674\tbest: 10.1568674 (1342)\ttotal: 32.6s\tremaining: 3.81s\n",
            "1343:\tlearn: 6.8199604\ttest: 10.1568422\tbest: 10.1568422 (1343)\ttotal: 32.7s\tremaining: 3.79s\n",
            "1344:\tlearn: 6.8199111\ttest: 10.1567473\tbest: 10.1567473 (1344)\ttotal: 32.7s\tremaining: 3.77s\n",
            "1345:\tlearn: 6.8198704\ttest: 10.1566035\tbest: 10.1566035 (1345)\ttotal: 32.7s\tremaining: 3.74s\n",
            "1346:\tlearn: 6.8198268\ttest: 10.1566467\tbest: 10.1566035 (1345)\ttotal: 32.7s\tremaining: 3.72s\n",
            "1347:\tlearn: 6.8197963\ttest: 10.1567932\tbest: 10.1566035 (1345)\ttotal: 32.8s\tremaining: 3.69s\n",
            "1348:\tlearn: 6.8196766\ttest: 10.1567157\tbest: 10.1566035 (1345)\ttotal: 32.8s\tremaining: 3.67s\n",
            "1349:\tlearn: 6.8196303\ttest: 10.1566528\tbest: 10.1566035 (1345)\ttotal: 32.8s\tremaining: 3.65s\n",
            "1350:\tlearn: 6.8195900\ttest: 10.1566206\tbest: 10.1566035 (1345)\ttotal: 32.8s\tremaining: 3.62s\n",
            "1351:\tlearn: 6.8195150\ttest: 10.1565456\tbest: 10.1565456 (1351)\ttotal: 32.9s\tremaining: 3.6s\n",
            "1352:\tlearn: 6.8194870\ttest: 10.1565041\tbest: 10.1565041 (1352)\ttotal: 32.9s\tremaining: 3.57s\n",
            "1353:\tlearn: 6.8194610\ttest: 10.1564381\tbest: 10.1564381 (1353)\ttotal: 32.9s\tremaining: 3.55s\n",
            "1354:\tlearn: 6.8194448\ttest: 10.1564433\tbest: 10.1564381 (1353)\ttotal: 32.9s\tremaining: 3.52s\n",
            "1355:\tlearn: 6.8194101\ttest: 10.1564479\tbest: 10.1564381 (1353)\ttotal: 33s\tremaining: 3.5s\n",
            "1356:\tlearn: 6.8193740\ttest: 10.1562571\tbest: 10.1562571 (1356)\ttotal: 33s\tremaining: 3.48s\n",
            "1357:\tlearn: 6.8193359\ttest: 10.1562045\tbest: 10.1562045 (1357)\ttotal: 33s\tremaining: 3.45s\n",
            "1358:\tlearn: 6.8193022\ttest: 10.1562858\tbest: 10.1562045 (1357)\ttotal: 33s\tremaining: 3.43s\n",
            "1359:\tlearn: 6.8192529\ttest: 10.1561516\tbest: 10.1561516 (1359)\ttotal: 33s\tremaining: 3.4s\n",
            "1360:\tlearn: 6.8192268\ttest: 10.1561423\tbest: 10.1561423 (1360)\ttotal: 33.1s\tremaining: 3.38s\n",
            "1361:\tlearn: 6.8192025\ttest: 10.1560947\tbest: 10.1560947 (1361)\ttotal: 33.1s\tremaining: 3.35s\n",
            "1362:\tlearn: 6.8191716\ttest: 10.1561764\tbest: 10.1560947 (1361)\ttotal: 33.1s\tremaining: 3.33s\n",
            "1363:\tlearn: 6.8191368\ttest: 10.1561045\tbest: 10.1560947 (1361)\ttotal: 33.1s\tremaining: 3.3s\n",
            "1364:\tlearn: 6.8191057\ttest: 10.1561008\tbest: 10.1560947 (1361)\ttotal: 33.2s\tremaining: 3.28s\n",
            "1365:\tlearn: 6.8190720\ttest: 10.1560690\tbest: 10.1560690 (1365)\ttotal: 33.2s\tremaining: 3.25s\n",
            "1366:\tlearn: 6.8190475\ttest: 10.1560063\tbest: 10.1560063 (1366)\ttotal: 33.2s\tremaining: 3.23s\n",
            "1367:\tlearn: 6.8190132\ttest: 10.1558845\tbest: 10.1558845 (1367)\ttotal: 33.2s\tremaining: 3.21s\n",
            "1368:\tlearn: 6.8189847\ttest: 10.1557971\tbest: 10.1557971 (1368)\ttotal: 33.3s\tremaining: 3.18s\n",
            "1369:\tlearn: 6.8189348\ttest: 10.1557692\tbest: 10.1557692 (1369)\ttotal: 33.3s\tremaining: 3.16s\n",
            "1370:\tlearn: 6.8188424\ttest: 10.1556993\tbest: 10.1556993 (1370)\ttotal: 33.3s\tremaining: 3.13s\n",
            "1371:\tlearn: 6.8188054\ttest: 10.1556485\tbest: 10.1556485 (1371)\ttotal: 33.3s\tremaining: 3.11s\n",
            "1372:\tlearn: 6.8187522\ttest: 10.1555895\tbest: 10.1555895 (1372)\ttotal: 33.4s\tremaining: 3.08s\n",
            "1373:\tlearn: 6.8187186\ttest: 10.1555628\tbest: 10.1555628 (1373)\ttotal: 33.4s\tremaining: 3.06s\n",
            "1374:\tlearn: 6.8186883\ttest: 10.1555774\tbest: 10.1555628 (1373)\ttotal: 33.4s\tremaining: 3.04s\n",
            "1375:\tlearn: 6.8186582\ttest: 10.1555104\tbest: 10.1555104 (1375)\ttotal: 33.4s\tremaining: 3.01s\n",
            "1376:\tlearn: 6.8185861\ttest: 10.1555123\tbest: 10.1555104 (1375)\ttotal: 33.5s\tremaining: 2.99s\n",
            "1377:\tlearn: 6.8185647\ttest: 10.1554735\tbest: 10.1554735 (1377)\ttotal: 33.5s\tremaining: 2.96s\n",
            "1378:\tlearn: 6.8185261\ttest: 10.1555496\tbest: 10.1554735 (1377)\ttotal: 33.5s\tremaining: 2.94s\n",
            "1379:\tlearn: 6.8184883\ttest: 10.1555508\tbest: 10.1554735 (1377)\ttotal: 33.5s\tremaining: 2.91s\n",
            "1380:\tlearn: 6.8184566\ttest: 10.1555203\tbest: 10.1554735 (1377)\ttotal: 33.5s\tremaining: 2.89s\n",
            "1381:\tlearn: 6.8184140\ttest: 10.1554331\tbest: 10.1554331 (1381)\ttotal: 33.6s\tremaining: 2.87s\n",
            "1382:\tlearn: 6.8183975\ttest: 10.1554112\tbest: 10.1554112 (1382)\ttotal: 33.6s\tremaining: 2.84s\n",
            "1383:\tlearn: 6.8183601\ttest: 10.1553800\tbest: 10.1553800 (1383)\ttotal: 33.6s\tremaining: 2.82s\n",
            "1384:\tlearn: 6.8183328\ttest: 10.1552727\tbest: 10.1552727 (1384)\ttotal: 33.6s\tremaining: 2.79s\n",
            "1385:\tlearn: 6.8183047\ttest: 10.1554569\tbest: 10.1552727 (1384)\ttotal: 33.7s\tremaining: 2.77s\n",
            "1386:\tlearn: 6.8182473\ttest: 10.1552750\tbest: 10.1552727 (1384)\ttotal: 33.7s\tremaining: 2.74s\n",
            "1387:\tlearn: 6.8182170\ttest: 10.1551276\tbest: 10.1551276 (1387)\ttotal: 33.7s\tremaining: 2.72s\n",
            "1388:\tlearn: 6.8181808\ttest: 10.1551795\tbest: 10.1551276 (1387)\ttotal: 33.7s\tremaining: 2.69s\n",
            "1389:\tlearn: 6.8181113\ttest: 10.1551476\tbest: 10.1551276 (1387)\ttotal: 33.8s\tremaining: 2.67s\n",
            "1390:\tlearn: 6.8180697\ttest: 10.1550076\tbest: 10.1550076 (1390)\ttotal: 33.8s\tremaining: 2.65s\n",
            "1391:\tlearn: 6.8179594\ttest: 10.1549317\tbest: 10.1549317 (1391)\ttotal: 33.8s\tremaining: 2.62s\n",
            "1392:\tlearn: 6.8179459\ttest: 10.1549950\tbest: 10.1549317 (1391)\ttotal: 33.8s\tremaining: 2.6s\n",
            "1393:\tlearn: 6.8179073\ttest: 10.1548820\tbest: 10.1548820 (1393)\ttotal: 33.9s\tremaining: 2.57s\n",
            "1394:\tlearn: 6.8178667\ttest: 10.1548689\tbest: 10.1548689 (1394)\ttotal: 33.9s\tremaining: 2.55s\n",
            "1395:\tlearn: 6.8178344\ttest: 10.1549522\tbest: 10.1548689 (1394)\ttotal: 33.9s\tremaining: 2.52s\n",
            "1396:\tlearn: 6.8177643\ttest: 10.1546904\tbest: 10.1546904 (1396)\ttotal: 33.9s\tremaining: 2.5s\n",
            "1397:\tlearn: 6.8177422\ttest: 10.1546799\tbest: 10.1546799 (1397)\ttotal: 33.9s\tremaining: 2.48s\n",
            "1398:\tlearn: 6.8177006\ttest: 10.1546276\tbest: 10.1546276 (1398)\ttotal: 34s\tremaining: 2.45s\n",
            "1399:\tlearn: 6.8176631\ttest: 10.1545972\tbest: 10.1545972 (1399)\ttotal: 34s\tremaining: 2.43s\n",
            "1400:\tlearn: 6.8176495\ttest: 10.1547277\tbest: 10.1545972 (1399)\ttotal: 34s\tremaining: 2.4s\n",
            "1401:\tlearn: 6.8176168\ttest: 10.1547037\tbest: 10.1545972 (1399)\ttotal: 34s\tremaining: 2.38s\n",
            "1402:\tlearn: 6.8175721\ttest: 10.1546537\tbest: 10.1545972 (1399)\ttotal: 34.1s\tremaining: 2.35s\n",
            "1403:\tlearn: 6.8175050\ttest: 10.1546278\tbest: 10.1545972 (1399)\ttotal: 34.1s\tremaining: 2.33s\n",
            "1404:\tlearn: 6.8174472\ttest: 10.1544981\tbest: 10.1544981 (1404)\ttotal: 34.1s\tremaining: 2.31s\n",
            "1405:\tlearn: 6.8174063\ttest: 10.1544227\tbest: 10.1544227 (1405)\ttotal: 34.1s\tremaining: 2.28s\n",
            "1406:\tlearn: 6.8173708\ttest: 10.1544898\tbest: 10.1544227 (1405)\ttotal: 34.2s\tremaining: 2.26s\n",
            "1407:\tlearn: 6.8173259\ttest: 10.1545154\tbest: 10.1544227 (1405)\ttotal: 34.2s\tremaining: 2.23s\n",
            "1408:\tlearn: 6.8172944\ttest: 10.1545442\tbest: 10.1544227 (1405)\ttotal: 34.2s\tremaining: 2.21s\n",
            "1409:\tlearn: 6.8172616\ttest: 10.1544617\tbest: 10.1544227 (1405)\ttotal: 34.2s\tremaining: 2.19s\n",
            "1410:\tlearn: 6.8172256\ttest: 10.1543410\tbest: 10.1543410 (1410)\ttotal: 34.3s\tremaining: 2.16s\n",
            "1411:\tlearn: 6.8171621\ttest: 10.1541339\tbest: 10.1541339 (1411)\ttotal: 34.3s\tremaining: 2.14s\n",
            "1412:\tlearn: 6.8171222\ttest: 10.1538992\tbest: 10.1538992 (1412)\ttotal: 34.3s\tremaining: 2.11s\n",
            "1413:\tlearn: 6.8170939\ttest: 10.1537402\tbest: 10.1537402 (1413)\ttotal: 34.3s\tremaining: 2.09s\n",
            "1414:\tlearn: 6.8170517\ttest: 10.1535956\tbest: 10.1535956 (1414)\ttotal: 34.4s\tremaining: 2.06s\n",
            "1415:\tlearn: 6.8170132\ttest: 10.1536144\tbest: 10.1535956 (1414)\ttotal: 34.4s\tremaining: 2.04s\n",
            "1416:\tlearn: 6.8169707\ttest: 10.1537216\tbest: 10.1535956 (1414)\ttotal: 34.4s\tremaining: 2.01s\n",
            "1417:\tlearn: 6.8169098\ttest: 10.1535775\tbest: 10.1535775 (1417)\ttotal: 34.4s\tremaining: 1.99s\n",
            "1418:\tlearn: 6.8168645\ttest: 10.1535993\tbest: 10.1535775 (1417)\ttotal: 34.5s\tremaining: 1.97s\n",
            "1419:\tlearn: 6.8168374\ttest: 10.1535653\tbest: 10.1535653 (1419)\ttotal: 34.5s\tremaining: 1.94s\n",
            "1420:\tlearn: 6.8168007\ttest: 10.1535934\tbest: 10.1535653 (1419)\ttotal: 34.5s\tremaining: 1.92s\n",
            "1421:\tlearn: 6.8167643\ttest: 10.1535861\tbest: 10.1535653 (1419)\ttotal: 34.5s\tremaining: 1.89s\n",
            "1422:\tlearn: 6.8167104\ttest: 10.1534327\tbest: 10.1534327 (1422)\ttotal: 34.6s\tremaining: 1.87s\n",
            "1423:\tlearn: 6.8166923\ttest: 10.1534758\tbest: 10.1534327 (1422)\ttotal: 34.6s\tremaining: 1.84s\n",
            "1424:\tlearn: 6.8166608\ttest: 10.1534042\tbest: 10.1534042 (1424)\ttotal: 34.6s\tremaining: 1.82s\n",
            "1425:\tlearn: 6.8166243\ttest: 10.1534280\tbest: 10.1534042 (1424)\ttotal: 34.6s\tremaining: 1.8s\n",
            "1426:\tlearn: 6.8165960\ttest: 10.1532657\tbest: 10.1532657 (1426)\ttotal: 34.6s\tremaining: 1.77s\n",
            "1427:\tlearn: 6.8165639\ttest: 10.1532608\tbest: 10.1532608 (1427)\ttotal: 34.7s\tremaining: 1.75s\n",
            "1428:\tlearn: 6.8165379\ttest: 10.1533710\tbest: 10.1532608 (1427)\ttotal: 34.7s\tremaining: 1.72s\n",
            "1429:\tlearn: 6.8164850\ttest: 10.1533329\tbest: 10.1532608 (1427)\ttotal: 34.7s\tremaining: 1.7s\n",
            "1430:\tlearn: 6.8164541\ttest: 10.1534477\tbest: 10.1532608 (1427)\ttotal: 34.7s\tremaining: 1.68s\n",
            "1431:\tlearn: 6.8164285\ttest: 10.1534286\tbest: 10.1532608 (1427)\ttotal: 34.8s\tremaining: 1.65s\n",
            "1432:\tlearn: 6.8164082\ttest: 10.1535419\tbest: 10.1532608 (1427)\ttotal: 34.8s\tremaining: 1.63s\n",
            "1433:\tlearn: 6.8163763\ttest: 10.1534944\tbest: 10.1532608 (1427)\ttotal: 34.8s\tremaining: 1.6s\n",
            "1434:\tlearn: 6.8163521\ttest: 10.1534700\tbest: 10.1532608 (1427)\ttotal: 34.8s\tremaining: 1.58s\n",
            "1435:\tlearn: 6.8163039\ttest: 10.1533351\tbest: 10.1532608 (1427)\ttotal: 34.9s\tremaining: 1.55s\n",
            "1436:\tlearn: 6.8162609\ttest: 10.1533760\tbest: 10.1532608 (1427)\ttotal: 34.9s\tremaining: 1.53s\n",
            "1437:\tlearn: 6.8162245\ttest: 10.1532419\tbest: 10.1532419 (1437)\ttotal: 34.9s\tremaining: 1.5s\n",
            "1438:\tlearn: 6.8161824\ttest: 10.1531848\tbest: 10.1531848 (1438)\ttotal: 34.9s\tremaining: 1.48s\n",
            "1439:\tlearn: 6.8161284\ttest: 10.1531814\tbest: 10.1531814 (1439)\ttotal: 35s\tremaining: 1.46s\n",
            "1440:\tlearn: 6.8160940\ttest: 10.1531074\tbest: 10.1531074 (1440)\ttotal: 35s\tremaining: 1.43s\n",
            "1441:\tlearn: 6.8160547\ttest: 10.1530671\tbest: 10.1530671 (1441)\ttotal: 35s\tremaining: 1.41s\n",
            "1442:\tlearn: 6.8160084\ttest: 10.1529966\tbest: 10.1529966 (1442)\ttotal: 35s\tremaining: 1.38s\n",
            "1443:\tlearn: 6.8159836\ttest: 10.1528832\tbest: 10.1528832 (1443)\ttotal: 35.1s\tremaining: 1.36s\n",
            "1444:\tlearn: 6.8159470\ttest: 10.1528838\tbest: 10.1528832 (1443)\ttotal: 35.1s\tremaining: 1.33s\n",
            "1445:\tlearn: 6.8159040\ttest: 10.1528382\tbest: 10.1528382 (1445)\ttotal: 35.1s\tremaining: 1.31s\n",
            "1446:\tlearn: 6.8158570\ttest: 10.1527477\tbest: 10.1527477 (1446)\ttotal: 35.1s\tremaining: 1.29s\n",
            "1447:\tlearn: 6.8158209\ttest: 10.1526638\tbest: 10.1526638 (1447)\ttotal: 35.2s\tremaining: 1.26s\n",
            "1448:\tlearn: 6.8157385\ttest: 10.1525989\tbest: 10.1525989 (1448)\ttotal: 35.2s\tremaining: 1.24s\n",
            "1449:\tlearn: 6.8156836\ttest: 10.1525343\tbest: 10.1525343 (1449)\ttotal: 35.2s\tremaining: 1.21s\n",
            "1450:\tlearn: 6.8156539\ttest: 10.1526138\tbest: 10.1525343 (1449)\ttotal: 35.2s\tremaining: 1.19s\n",
            "1451:\tlearn: 6.8155191\ttest: 10.1524764\tbest: 10.1524764 (1451)\ttotal: 35.3s\tremaining: 1.17s\n",
            "1452:\tlearn: 6.8154820\ttest: 10.1524096\tbest: 10.1524096 (1452)\ttotal: 35.3s\tremaining: 1.14s\n",
            "1453:\tlearn: 6.8154513\ttest: 10.1523471\tbest: 10.1523471 (1453)\ttotal: 35.3s\tremaining: 1.12s\n",
            "1454:\tlearn: 6.8154252\ttest: 10.1522553\tbest: 10.1522553 (1454)\ttotal: 35.3s\tremaining: 1.09s\n",
            "1455:\tlearn: 6.8153537\ttest: 10.1521814\tbest: 10.1521814 (1455)\ttotal: 35.4s\tremaining: 1.07s\n",
            "1456:\tlearn: 6.8153183\ttest: 10.1521636\tbest: 10.1521636 (1456)\ttotal: 35.4s\tremaining: 1.04s\n",
            "1457:\tlearn: 6.8152692\ttest: 10.1520680\tbest: 10.1520680 (1457)\ttotal: 35.4s\tremaining: 1.02s\n",
            "1458:\tlearn: 6.8152414\ttest: 10.1521547\tbest: 10.1520680 (1457)\ttotal: 35.4s\tremaining: 996ms\n",
            "1459:\tlearn: 6.8152085\ttest: 10.1521995\tbest: 10.1520680 (1457)\ttotal: 35.5s\tremaining: 972ms\n",
            "1460:\tlearn: 6.8151589\ttest: 10.1522103\tbest: 10.1520680 (1457)\ttotal: 35.5s\tremaining: 947ms\n",
            "1461:\tlearn: 6.8151308\ttest: 10.1522098\tbest: 10.1520680 (1457)\ttotal: 35.5s\tremaining: 923ms\n",
            "1462:\tlearn: 6.8150928\ttest: 10.1520559\tbest: 10.1520559 (1462)\ttotal: 35.5s\tremaining: 899ms\n",
            "1463:\tlearn: 6.8150637\ttest: 10.1520360\tbest: 10.1520360 (1463)\ttotal: 35.6s\tremaining: 874ms\n",
            "1464:\tlearn: 6.8149908\ttest: 10.1518443\tbest: 10.1518443 (1464)\ttotal: 35.6s\tremaining: 850ms\n",
            "1465:\tlearn: 6.8149511\ttest: 10.1518038\tbest: 10.1518038 (1465)\ttotal: 35.6s\tremaining: 826ms\n",
            "1466:\tlearn: 6.8149091\ttest: 10.1519108\tbest: 10.1518038 (1465)\ttotal: 35.6s\tremaining: 802ms\n",
            "1467:\tlearn: 6.8148461\ttest: 10.1517387\tbest: 10.1517387 (1467)\ttotal: 35.7s\tremaining: 777ms\n",
            "1468:\tlearn: 6.8148201\ttest: 10.1517807\tbest: 10.1517387 (1467)\ttotal: 35.7s\tremaining: 753ms\n",
            "1469:\tlearn: 6.8147964\ttest: 10.1517218\tbest: 10.1517218 (1469)\ttotal: 35.7s\tremaining: 729ms\n",
            "1470:\tlearn: 6.8147670\ttest: 10.1517276\tbest: 10.1517218 (1469)\ttotal: 35.7s\tremaining: 704ms\n",
            "1471:\tlearn: 6.8147417\ttest: 10.1516480\tbest: 10.1516480 (1471)\ttotal: 35.8s\tremaining: 680ms\n",
            "1472:\tlearn: 6.8147070\ttest: 10.1516697\tbest: 10.1516480 (1471)\ttotal: 35.8s\tremaining: 656ms\n",
            "1473:\tlearn: 6.8146846\ttest: 10.1516265\tbest: 10.1516265 (1473)\ttotal: 35.8s\tremaining: 631ms\n",
            "1474:\tlearn: 6.8146579\ttest: 10.1516003\tbest: 10.1516003 (1474)\ttotal: 35.8s\tremaining: 607ms\n",
            "1475:\tlearn: 6.8145585\ttest: 10.1514098\tbest: 10.1514098 (1475)\ttotal: 35.9s\tremaining: 583ms\n",
            "1476:\tlearn: 6.8145278\ttest: 10.1513434\tbest: 10.1513434 (1476)\ttotal: 35.9s\tremaining: 559ms\n",
            "1477:\tlearn: 6.8144963\ttest: 10.1515323\tbest: 10.1513434 (1476)\ttotal: 35.9s\tremaining: 534ms\n",
            "1478:\tlearn: 6.8144757\ttest: 10.1515352\tbest: 10.1513434 (1476)\ttotal: 35.9s\tremaining: 510ms\n",
            "1479:\tlearn: 6.8144423\ttest: 10.1516208\tbest: 10.1513434 (1476)\ttotal: 35.9s\tremaining: 486ms\n",
            "1480:\tlearn: 6.8143877\ttest: 10.1515808\tbest: 10.1513434 (1476)\ttotal: 36s\tremaining: 461ms\n",
            "1481:\tlearn: 6.8143611\ttest: 10.1515344\tbest: 10.1513434 (1476)\ttotal: 36s\tremaining: 437ms\n",
            "1482:\tlearn: 6.8143425\ttest: 10.1515613\tbest: 10.1513434 (1476)\ttotal: 36s\tremaining: 413ms\n",
            "1483:\tlearn: 6.8143137\ttest: 10.1518187\tbest: 10.1513434 (1476)\ttotal: 36s\tremaining: 389ms\n",
            "1484:\tlearn: 6.8142811\ttest: 10.1518397\tbest: 10.1513434 (1476)\ttotal: 36.1s\tremaining: 364ms\n",
            "1485:\tlearn: 6.8142525\ttest: 10.1517737\tbest: 10.1513434 (1476)\ttotal: 36.1s\tremaining: 340ms\n",
            "1486:\tlearn: 6.8142264\ttest: 10.1516411\tbest: 10.1513434 (1476)\ttotal: 36.1s\tremaining: 316ms\n",
            "1487:\tlearn: 6.8141624\ttest: 10.1515936\tbest: 10.1513434 (1476)\ttotal: 36.1s\tremaining: 291ms\n",
            "1488:\tlearn: 6.8141163\ttest: 10.1513443\tbest: 10.1513434 (1476)\ttotal: 36.2s\tremaining: 267ms\n",
            "1489:\tlearn: 6.8140366\ttest: 10.1512212\tbest: 10.1512212 (1489)\ttotal: 36.2s\tremaining: 243ms\n",
            "1490:\tlearn: 6.8139819\ttest: 10.1512708\tbest: 10.1512212 (1489)\ttotal: 36.2s\tremaining: 219ms\n",
            "1491:\tlearn: 6.8139631\ttest: 10.1512137\tbest: 10.1512137 (1491)\ttotal: 36.2s\tremaining: 194ms\n",
            "1492:\tlearn: 6.8139224\ttest: 10.1510704\tbest: 10.1510704 (1492)\ttotal: 36.3s\tremaining: 170ms\n",
            "1493:\tlearn: 6.8138807\ttest: 10.1511331\tbest: 10.1510704 (1492)\ttotal: 36.3s\tremaining: 146ms\n",
            "1494:\tlearn: 6.8138574\ttest: 10.1510232\tbest: 10.1510232 (1494)\ttotal: 36.3s\tremaining: 121ms\n",
            "1495:\tlearn: 6.8138389\ttest: 10.1508805\tbest: 10.1508805 (1495)\ttotal: 36.3s\tremaining: 97.2ms\n",
            "1496:\tlearn: 6.8137828\ttest: 10.1507599\tbest: 10.1507599 (1496)\ttotal: 36.4s\tremaining: 72.9ms\n",
            "1497:\tlearn: 6.8137561\ttest: 10.1508947\tbest: 10.1507599 (1496)\ttotal: 36.4s\tremaining: 48.6ms\n",
            "1498:\tlearn: 6.8137130\ttest: 10.1508056\tbest: 10.1507599 (1496)\ttotal: 36.4s\tremaining: 24.3ms\n",
            "1499:\tlearn: 6.8136702\ttest: 10.1505570\tbest: 10.1505570 (1499)\ttotal: 36.4s\tremaining: 0us\n",
            "\n",
            "bestTest = 10.150557\n",
            "bestIteration = 1499\n",
            "\n"
          ]
        },
        {
          "data": {
            "text/plain": [
              "<catboost.core.CatBoostRegressor at 0x7f5c0a92de10>"
            ]
          },
          "execution_count": 67,
          "metadata": {},
          "output_type": "execute_result"
        }
      ],
      "source": [
        "model_cb = CatBoostRegressor(**params)\n",
        "model_cb.fit(train_pool, eval_set=val_pool, plot=False, verbose=True, use_best_model=True)"
      ]
    },
    {
      "cell_type": "code",
      "execution_count": null,
      "metadata": {
        "colab": {
          "base_uri": "https://localhost:8080/"
        },
        "id": "MtI1sLWQI4J2",
        "outputId": "05d0d7ba-f018-4296-dd26-fefb178199f6"
      },
      "outputs": [
        {
          "name": "stdout",
          "output_type": "stream",
          "text": [
            "MAE на тестовом наборе: 7.58500788690543\n"
          ]
        }
      ],
      "source": [
        "from sklearn.metrics import mean_absolute_error, r2_score\n",
        "test_preds = model_cb.predict(val_df)\n",
        "\n",
        "mae = mean_absolute_error(val_labels, test_preds)\n",
        "r2 = r2_score(val_labels, test_preds)\n",
        "print(f'MAE на тестовом наборе: {mae}')"
      ]
    },
    {
      "cell_type": "code",
      "execution_count": null,
      "metadata": {
        "colab": {
          "base_uri": "https://localhost:8080/",
          "height": 206
        },
        "id": "4_Oe2V1zBwG9",
        "outputId": "7d33fa91-77df-4469-f8fa-8691325c1105"
      },
      "outputs": [
        {
          "data": {
            "text/html": [
              "<div>\n",
              "<style scoped>\n",
              "    .dataframe tbody tr th:only-of-type {\n",
              "        vertical-align: middle;\n",
              "    }\n",
              "\n",
              "    .dataframe tbody tr th {\n",
              "        vertical-align: top;\n",
              "    }\n",
              "\n",
              "    .dataframe thead th {\n",
              "        text-align: right;\n",
              "    }\n",
              "</style>\n",
              "<table border=\"1\" class=\"dataframe\">\n",
              "  <thead>\n",
              "    <tr style=\"text-align: right;\">\n",
              "      <th></th>\n",
              "      <th>Feature Id</th>\n",
              "      <th>Importances</th>\n",
              "    </tr>\n",
              "  </thead>\n",
              "  <tbody>\n",
              "    <tr>\n",
              "      <th>0</th>\n",
              "      <td>weight</td>\n",
              "      <td>35.613251</td>\n",
              "    </tr>\n",
              "    <tr>\n",
              "      <th>1</th>\n",
              "      <td>completion_percentage</td>\n",
              "      <td>13.017465</td>\n",
              "    </tr>\n",
              "    <tr>\n",
              "      <th>2</th>\n",
              "      <td>hight</td>\n",
              "      <td>9.982600</td>\n",
              "    </tr>\n",
              "    <tr>\n",
              "      <th>3</th>\n",
              "      <td>completed_level_of_education</td>\n",
              "      <td>8.087805</td>\n",
              "    </tr>\n",
              "    <tr>\n",
              "      <th>4</th>\n",
              "      <td>region</td>\n",
              "      <td>7.929263</td>\n",
              "    </tr>\n",
              "  </tbody>\n",
              "</table>\n",
              "</div>"
            ],
            "text/plain": [
              "                     Feature Id  Importances\n",
              "0                        weight    35.613251\n",
              "1         completion_percentage    13.017465\n",
              "2                         hight     9.982600\n",
              "3  completed_level_of_education     8.087805\n",
              "4                        region     7.929263"
            ]
          },
          "execution_count": 63,
          "metadata": {},
          "output_type": "execute_result"
        }
      ],
      "source": [
        "model_cb.get_feature_importance(prettified=True).head()"
      ]
    },
    {
      "cell_type": "code",
      "execution_count": null,
      "metadata": {
        "colab": {
          "base_uri": "https://localhost:8080/"
        },
        "id": "6ciiVB7mBxlT",
        "outputId": "901a9792-5bbb-4e46-b8f0-799d4d4f7bb8"
      },
      "outputs": [
        {
          "data": {
            "text/plain": [
              "10.129232073546214"
            ]
          },
          "execution_count": 64,
          "metadata": {},
          "output_type": "execute_result"
        }
      ],
      "source": [
        "np.min(model_cb.evals_result_['validation']['RMSE'])"
      ]
    },
    {
      "cell_type": "code",
      "execution_count": null,
      "metadata": {
        "id": "KSX1tPkw3HDx",
        "outputId": "6ace712f-2ef3-413c-c0d1-8f76b0e7f5cd"
      },
      "outputs": [
        {
          "data": {
            "text/plain": [
              "(0,)"
            ]
          },
          "execution_count": 65,
          "metadata": {},
          "output_type": "execute_result"
        }
      ],
      "source": [
        "node_labels[node_labels > 100].shape"
      ]
    },
    {
      "cell_type": "code",
      "execution_count": null,
      "metadata": {
        "id": "IgZwFtYcDUTT"
      },
      "outputs": [],
      "source": [
        "model_cb.save_model('catboost_model.cbm')"
      ]
    },
    {
      "cell_type": "markdown",
      "source": [
        "# Linreg"
      ],
      "metadata": {
        "id": "ck0y9tri3oZ5"
      }
    },
    {
      "cell_type": "code",
      "source": [
        "from sklearn.linear_model import LinearRegression\n",
        "\n",
        "lr = LinearRegression()\n",
        "lr.fit(train_df, train_labels)"
      ],
      "metadata": {
        "colab": {
          "base_uri": "https://localhost:8080/",
          "height": 80
        },
        "id": "Jv-cfHFZ4EmK",
        "outputId": "9b143a7e-72af-4061-b3bd-63bcf619f6ec"
      },
      "execution_count": 11,
      "outputs": [
        {
          "output_type": "execute_result",
          "data": {
            "text/plain": [
              "LinearRegression()"
            ],
            "text/html": [
              "<style>#sk-container-id-1 {\n",
              "  /* Definition of color scheme common for light and dark mode */\n",
              "  --sklearn-color-text: #000;\n",
              "  --sklearn-color-text-muted: #666;\n",
              "  --sklearn-color-line: gray;\n",
              "  /* Definition of color scheme for unfitted estimators */\n",
              "  --sklearn-color-unfitted-level-0: #fff5e6;\n",
              "  --sklearn-color-unfitted-level-1: #f6e4d2;\n",
              "  --sklearn-color-unfitted-level-2: #ffe0b3;\n",
              "  --sklearn-color-unfitted-level-3: chocolate;\n",
              "  /* Definition of color scheme for fitted estimators */\n",
              "  --sklearn-color-fitted-level-0: #f0f8ff;\n",
              "  --sklearn-color-fitted-level-1: #d4ebff;\n",
              "  --sklearn-color-fitted-level-2: #b3dbfd;\n",
              "  --sklearn-color-fitted-level-3: cornflowerblue;\n",
              "\n",
              "  /* Specific color for light theme */\n",
              "  --sklearn-color-text-on-default-background: var(--sg-text-color, var(--theme-code-foreground, var(--jp-content-font-color1, black)));\n",
              "  --sklearn-color-background: var(--sg-background-color, var(--theme-background, var(--jp-layout-color0, white)));\n",
              "  --sklearn-color-border-box: var(--sg-text-color, var(--theme-code-foreground, var(--jp-content-font-color1, black)));\n",
              "  --sklearn-color-icon: #696969;\n",
              "\n",
              "  @media (prefers-color-scheme: dark) {\n",
              "    /* Redefinition of color scheme for dark theme */\n",
              "    --sklearn-color-text-on-default-background: var(--sg-text-color, var(--theme-code-foreground, var(--jp-content-font-color1, white)));\n",
              "    --sklearn-color-background: var(--sg-background-color, var(--theme-background, var(--jp-layout-color0, #111)));\n",
              "    --sklearn-color-border-box: var(--sg-text-color, var(--theme-code-foreground, var(--jp-content-font-color1, white)));\n",
              "    --sklearn-color-icon: #878787;\n",
              "  }\n",
              "}\n",
              "\n",
              "#sk-container-id-1 {\n",
              "  color: var(--sklearn-color-text);\n",
              "}\n",
              "\n",
              "#sk-container-id-1 pre {\n",
              "  padding: 0;\n",
              "}\n",
              "\n",
              "#sk-container-id-1 input.sk-hidden--visually {\n",
              "  border: 0;\n",
              "  clip: rect(1px 1px 1px 1px);\n",
              "  clip: rect(1px, 1px, 1px, 1px);\n",
              "  height: 1px;\n",
              "  margin: -1px;\n",
              "  overflow: hidden;\n",
              "  padding: 0;\n",
              "  position: absolute;\n",
              "  width: 1px;\n",
              "}\n",
              "\n",
              "#sk-container-id-1 div.sk-dashed-wrapped {\n",
              "  border: 1px dashed var(--sklearn-color-line);\n",
              "  margin: 0 0.4em 0.5em 0.4em;\n",
              "  box-sizing: border-box;\n",
              "  padding-bottom: 0.4em;\n",
              "  background-color: var(--sklearn-color-background);\n",
              "}\n",
              "\n",
              "#sk-container-id-1 div.sk-container {\n",
              "  /* jupyter's `normalize.less` sets `[hidden] { display: none; }`\n",
              "     but bootstrap.min.css set `[hidden] { display: none !important; }`\n",
              "     so we also need the `!important` here to be able to override the\n",
              "     default hidden behavior on the sphinx rendered scikit-learn.org.\n",
              "     See: https://github.com/scikit-learn/scikit-learn/issues/21755 */\n",
              "  display: inline-block !important;\n",
              "  position: relative;\n",
              "}\n",
              "\n",
              "#sk-container-id-1 div.sk-text-repr-fallback {\n",
              "  display: none;\n",
              "}\n",
              "\n",
              "div.sk-parallel-item,\n",
              "div.sk-serial,\n",
              "div.sk-item {\n",
              "  /* draw centered vertical line to link estimators */\n",
              "  background-image: linear-gradient(var(--sklearn-color-text-on-default-background), var(--sklearn-color-text-on-default-background));\n",
              "  background-size: 2px 100%;\n",
              "  background-repeat: no-repeat;\n",
              "  background-position: center center;\n",
              "}\n",
              "\n",
              "/* Parallel-specific style estimator block */\n",
              "\n",
              "#sk-container-id-1 div.sk-parallel-item::after {\n",
              "  content: \"\";\n",
              "  width: 100%;\n",
              "  border-bottom: 2px solid var(--sklearn-color-text-on-default-background);\n",
              "  flex-grow: 1;\n",
              "}\n",
              "\n",
              "#sk-container-id-1 div.sk-parallel {\n",
              "  display: flex;\n",
              "  align-items: stretch;\n",
              "  justify-content: center;\n",
              "  background-color: var(--sklearn-color-background);\n",
              "  position: relative;\n",
              "}\n",
              "\n",
              "#sk-container-id-1 div.sk-parallel-item {\n",
              "  display: flex;\n",
              "  flex-direction: column;\n",
              "}\n",
              "\n",
              "#sk-container-id-1 div.sk-parallel-item:first-child::after {\n",
              "  align-self: flex-end;\n",
              "  width: 50%;\n",
              "}\n",
              "\n",
              "#sk-container-id-1 div.sk-parallel-item:last-child::after {\n",
              "  align-self: flex-start;\n",
              "  width: 50%;\n",
              "}\n",
              "\n",
              "#sk-container-id-1 div.sk-parallel-item:only-child::after {\n",
              "  width: 0;\n",
              "}\n",
              "\n",
              "/* Serial-specific style estimator block */\n",
              "\n",
              "#sk-container-id-1 div.sk-serial {\n",
              "  display: flex;\n",
              "  flex-direction: column;\n",
              "  align-items: center;\n",
              "  background-color: var(--sklearn-color-background);\n",
              "  padding-right: 1em;\n",
              "  padding-left: 1em;\n",
              "}\n",
              "\n",
              "\n",
              "/* Toggleable style: style used for estimator/Pipeline/ColumnTransformer box that is\n",
              "clickable and can be expanded/collapsed.\n",
              "- Pipeline and ColumnTransformer use this feature and define the default style\n",
              "- Estimators will overwrite some part of the style using the `sk-estimator` class\n",
              "*/\n",
              "\n",
              "/* Pipeline and ColumnTransformer style (default) */\n",
              "\n",
              "#sk-container-id-1 div.sk-toggleable {\n",
              "  /* Default theme specific background. It is overwritten whether we have a\n",
              "  specific estimator or a Pipeline/ColumnTransformer */\n",
              "  background-color: var(--sklearn-color-background);\n",
              "}\n",
              "\n",
              "/* Toggleable label */\n",
              "#sk-container-id-1 label.sk-toggleable__label {\n",
              "  cursor: pointer;\n",
              "  display: flex;\n",
              "  width: 100%;\n",
              "  margin-bottom: 0;\n",
              "  padding: 0.5em;\n",
              "  box-sizing: border-box;\n",
              "  text-align: center;\n",
              "  align-items: start;\n",
              "  justify-content: space-between;\n",
              "  gap: 0.5em;\n",
              "}\n",
              "\n",
              "#sk-container-id-1 label.sk-toggleable__label .caption {\n",
              "  font-size: 0.6rem;\n",
              "  font-weight: lighter;\n",
              "  color: var(--sklearn-color-text-muted);\n",
              "}\n",
              "\n",
              "#sk-container-id-1 label.sk-toggleable__label-arrow:before {\n",
              "  /* Arrow on the left of the label */\n",
              "  content: \"▸\";\n",
              "  float: left;\n",
              "  margin-right: 0.25em;\n",
              "  color: var(--sklearn-color-icon);\n",
              "}\n",
              "\n",
              "#sk-container-id-1 label.sk-toggleable__label-arrow:hover:before {\n",
              "  color: var(--sklearn-color-text);\n",
              "}\n",
              "\n",
              "/* Toggleable content - dropdown */\n",
              "\n",
              "#sk-container-id-1 div.sk-toggleable__content {\n",
              "  max-height: 0;\n",
              "  max-width: 0;\n",
              "  overflow: hidden;\n",
              "  text-align: left;\n",
              "  /* unfitted */\n",
              "  background-color: var(--sklearn-color-unfitted-level-0);\n",
              "}\n",
              "\n",
              "#sk-container-id-1 div.sk-toggleable__content.fitted {\n",
              "  /* fitted */\n",
              "  background-color: var(--sklearn-color-fitted-level-0);\n",
              "}\n",
              "\n",
              "#sk-container-id-1 div.sk-toggleable__content pre {\n",
              "  margin: 0.2em;\n",
              "  border-radius: 0.25em;\n",
              "  color: var(--sklearn-color-text);\n",
              "  /* unfitted */\n",
              "  background-color: var(--sklearn-color-unfitted-level-0);\n",
              "}\n",
              "\n",
              "#sk-container-id-1 div.sk-toggleable__content.fitted pre {\n",
              "  /* unfitted */\n",
              "  background-color: var(--sklearn-color-fitted-level-0);\n",
              "}\n",
              "\n",
              "#sk-container-id-1 input.sk-toggleable__control:checked~div.sk-toggleable__content {\n",
              "  /* Expand drop-down */\n",
              "  max-height: 200px;\n",
              "  max-width: 100%;\n",
              "  overflow: auto;\n",
              "}\n",
              "\n",
              "#sk-container-id-1 input.sk-toggleable__control:checked~label.sk-toggleable__label-arrow:before {\n",
              "  content: \"▾\";\n",
              "}\n",
              "\n",
              "/* Pipeline/ColumnTransformer-specific style */\n",
              "\n",
              "#sk-container-id-1 div.sk-label input.sk-toggleable__control:checked~label.sk-toggleable__label {\n",
              "  color: var(--sklearn-color-text);\n",
              "  background-color: var(--sklearn-color-unfitted-level-2);\n",
              "}\n",
              "\n",
              "#sk-container-id-1 div.sk-label.fitted input.sk-toggleable__control:checked~label.sk-toggleable__label {\n",
              "  background-color: var(--sklearn-color-fitted-level-2);\n",
              "}\n",
              "\n",
              "/* Estimator-specific style */\n",
              "\n",
              "/* Colorize estimator box */\n",
              "#sk-container-id-1 div.sk-estimator input.sk-toggleable__control:checked~label.sk-toggleable__label {\n",
              "  /* unfitted */\n",
              "  background-color: var(--sklearn-color-unfitted-level-2);\n",
              "}\n",
              "\n",
              "#sk-container-id-1 div.sk-estimator.fitted input.sk-toggleable__control:checked~label.sk-toggleable__label {\n",
              "  /* fitted */\n",
              "  background-color: var(--sklearn-color-fitted-level-2);\n",
              "}\n",
              "\n",
              "#sk-container-id-1 div.sk-label label.sk-toggleable__label,\n",
              "#sk-container-id-1 div.sk-label label {\n",
              "  /* The background is the default theme color */\n",
              "  color: var(--sklearn-color-text-on-default-background);\n",
              "}\n",
              "\n",
              "/* On hover, darken the color of the background */\n",
              "#sk-container-id-1 div.sk-label:hover label.sk-toggleable__label {\n",
              "  color: var(--sklearn-color-text);\n",
              "  background-color: var(--sklearn-color-unfitted-level-2);\n",
              "}\n",
              "\n",
              "/* Label box, darken color on hover, fitted */\n",
              "#sk-container-id-1 div.sk-label.fitted:hover label.sk-toggleable__label.fitted {\n",
              "  color: var(--sklearn-color-text);\n",
              "  background-color: var(--sklearn-color-fitted-level-2);\n",
              "}\n",
              "\n",
              "/* Estimator label */\n",
              "\n",
              "#sk-container-id-1 div.sk-label label {\n",
              "  font-family: monospace;\n",
              "  font-weight: bold;\n",
              "  display: inline-block;\n",
              "  line-height: 1.2em;\n",
              "}\n",
              "\n",
              "#sk-container-id-1 div.sk-label-container {\n",
              "  text-align: center;\n",
              "}\n",
              "\n",
              "/* Estimator-specific */\n",
              "#sk-container-id-1 div.sk-estimator {\n",
              "  font-family: monospace;\n",
              "  border: 1px dotted var(--sklearn-color-border-box);\n",
              "  border-radius: 0.25em;\n",
              "  box-sizing: border-box;\n",
              "  margin-bottom: 0.5em;\n",
              "  /* unfitted */\n",
              "  background-color: var(--sklearn-color-unfitted-level-0);\n",
              "}\n",
              "\n",
              "#sk-container-id-1 div.sk-estimator.fitted {\n",
              "  /* fitted */\n",
              "  background-color: var(--sklearn-color-fitted-level-0);\n",
              "}\n",
              "\n",
              "/* on hover */\n",
              "#sk-container-id-1 div.sk-estimator:hover {\n",
              "  /* unfitted */\n",
              "  background-color: var(--sklearn-color-unfitted-level-2);\n",
              "}\n",
              "\n",
              "#sk-container-id-1 div.sk-estimator.fitted:hover {\n",
              "  /* fitted */\n",
              "  background-color: var(--sklearn-color-fitted-level-2);\n",
              "}\n",
              "\n",
              "/* Specification for estimator info (e.g. \"i\" and \"?\") */\n",
              "\n",
              "/* Common style for \"i\" and \"?\" */\n",
              "\n",
              ".sk-estimator-doc-link,\n",
              "a:link.sk-estimator-doc-link,\n",
              "a:visited.sk-estimator-doc-link {\n",
              "  float: right;\n",
              "  font-size: smaller;\n",
              "  line-height: 1em;\n",
              "  font-family: monospace;\n",
              "  background-color: var(--sklearn-color-background);\n",
              "  border-radius: 1em;\n",
              "  height: 1em;\n",
              "  width: 1em;\n",
              "  text-decoration: none !important;\n",
              "  margin-left: 0.5em;\n",
              "  text-align: center;\n",
              "  /* unfitted */\n",
              "  border: var(--sklearn-color-unfitted-level-1) 1pt solid;\n",
              "  color: var(--sklearn-color-unfitted-level-1);\n",
              "}\n",
              "\n",
              ".sk-estimator-doc-link.fitted,\n",
              "a:link.sk-estimator-doc-link.fitted,\n",
              "a:visited.sk-estimator-doc-link.fitted {\n",
              "  /* fitted */\n",
              "  border: var(--sklearn-color-fitted-level-1) 1pt solid;\n",
              "  color: var(--sklearn-color-fitted-level-1);\n",
              "}\n",
              "\n",
              "/* On hover */\n",
              "div.sk-estimator:hover .sk-estimator-doc-link:hover,\n",
              ".sk-estimator-doc-link:hover,\n",
              "div.sk-label-container:hover .sk-estimator-doc-link:hover,\n",
              ".sk-estimator-doc-link:hover {\n",
              "  /* unfitted */\n",
              "  background-color: var(--sklearn-color-unfitted-level-3);\n",
              "  color: var(--sklearn-color-background);\n",
              "  text-decoration: none;\n",
              "}\n",
              "\n",
              "div.sk-estimator.fitted:hover .sk-estimator-doc-link.fitted:hover,\n",
              ".sk-estimator-doc-link.fitted:hover,\n",
              "div.sk-label-container:hover .sk-estimator-doc-link.fitted:hover,\n",
              ".sk-estimator-doc-link.fitted:hover {\n",
              "  /* fitted */\n",
              "  background-color: var(--sklearn-color-fitted-level-3);\n",
              "  color: var(--sklearn-color-background);\n",
              "  text-decoration: none;\n",
              "}\n",
              "\n",
              "/* Span, style for the box shown on hovering the info icon */\n",
              ".sk-estimator-doc-link span {\n",
              "  display: none;\n",
              "  z-index: 9999;\n",
              "  position: relative;\n",
              "  font-weight: normal;\n",
              "  right: .2ex;\n",
              "  padding: .5ex;\n",
              "  margin: .5ex;\n",
              "  width: min-content;\n",
              "  min-width: 20ex;\n",
              "  max-width: 50ex;\n",
              "  color: var(--sklearn-color-text);\n",
              "  box-shadow: 2pt 2pt 4pt #999;\n",
              "  /* unfitted */\n",
              "  background: var(--sklearn-color-unfitted-level-0);\n",
              "  border: .5pt solid var(--sklearn-color-unfitted-level-3);\n",
              "}\n",
              "\n",
              ".sk-estimator-doc-link.fitted span {\n",
              "  /* fitted */\n",
              "  background: var(--sklearn-color-fitted-level-0);\n",
              "  border: var(--sklearn-color-fitted-level-3);\n",
              "}\n",
              "\n",
              ".sk-estimator-doc-link:hover span {\n",
              "  display: block;\n",
              "}\n",
              "\n",
              "/* \"?\"-specific style due to the `<a>` HTML tag */\n",
              "\n",
              "#sk-container-id-1 a.estimator_doc_link {\n",
              "  float: right;\n",
              "  font-size: 1rem;\n",
              "  line-height: 1em;\n",
              "  font-family: monospace;\n",
              "  background-color: var(--sklearn-color-background);\n",
              "  border-radius: 1rem;\n",
              "  height: 1rem;\n",
              "  width: 1rem;\n",
              "  text-decoration: none;\n",
              "  /* unfitted */\n",
              "  color: var(--sklearn-color-unfitted-level-1);\n",
              "  border: var(--sklearn-color-unfitted-level-1) 1pt solid;\n",
              "}\n",
              "\n",
              "#sk-container-id-1 a.estimator_doc_link.fitted {\n",
              "  /* fitted */\n",
              "  border: var(--sklearn-color-fitted-level-1) 1pt solid;\n",
              "  color: var(--sklearn-color-fitted-level-1);\n",
              "}\n",
              "\n",
              "/* On hover */\n",
              "#sk-container-id-1 a.estimator_doc_link:hover {\n",
              "  /* unfitted */\n",
              "  background-color: var(--sklearn-color-unfitted-level-3);\n",
              "  color: var(--sklearn-color-background);\n",
              "  text-decoration: none;\n",
              "}\n",
              "\n",
              "#sk-container-id-1 a.estimator_doc_link.fitted:hover {\n",
              "  /* fitted */\n",
              "  background-color: var(--sklearn-color-fitted-level-3);\n",
              "}\n",
              "</style><div id=\"sk-container-id-1\" class=\"sk-top-container\"><div class=\"sk-text-repr-fallback\"><pre>LinearRegression()</pre><b>In a Jupyter environment, please rerun this cell to show the HTML representation or trust the notebook. <br />On GitHub, the HTML representation is unable to render, please try loading this page with nbviewer.org.</b></div><div class=\"sk-container\" hidden><div class=\"sk-item\"><div class=\"sk-estimator fitted sk-toggleable\"><input class=\"sk-toggleable__control sk-hidden--visually\" id=\"sk-estimator-id-1\" type=\"checkbox\" checked><label for=\"sk-estimator-id-1\" class=\"sk-toggleable__label fitted sk-toggleable__label-arrow\"><div><div>LinearRegression</div></div><div><a class=\"sk-estimator-doc-link fitted\" rel=\"noreferrer\" target=\"_blank\" href=\"https://scikit-learn.org/1.6/modules/generated/sklearn.linear_model.LinearRegression.html\">?<span>Documentation for LinearRegression</span></a><span class=\"sk-estimator-doc-link fitted\">i<span>Fitted</span></span></div></label><div class=\"sk-toggleable__content fitted\"><pre>LinearRegression()</pre></div> </div></div></div></div>"
            ]
          },
          "metadata": {},
          "execution_count": 11
        }
      ]
    },
    {
      "cell_type": "code",
      "source": [
        "from sklearn.metrics import mean_absolute_error, r2_score\n",
        "test_preds = lr.predict(val_df)\n",
        "\n",
        "mae = mean_absolute_error(val_labels, test_preds)\n",
        "r2 = r2_score(val_labels, test_preds)\n",
        "print(f'MAE на тестовом наборе: {mae}')"
      ],
      "metadata": {
        "colab": {
          "base_uri": "https://localhost:8080/"
        },
        "id": "pFhL3yxp4qV-",
        "outputId": "b5361221-1087-4142-bd63-82befcefd1d2"
      },
      "execution_count": 13,
      "outputs": [
        {
          "output_type": "stream",
          "name": "stdout",
          "text": [
            "MAE на тестовом наборе: 8.592285367525175\n"
          ]
        }
      ]
    },
    {
      "cell_type": "code",
      "source": [],
      "metadata": {
        "id": "gopD8s_K6Ajh"
      },
      "execution_count": null,
      "outputs": []
    }
  ],
  "metadata": {
    "colab": {
      "provenance": []
    },
    "kernelspec": {
      "display_name": "auto_tests",
      "language": "python",
      "name": "python3"
    },
    "language_info": {
      "codemirror_mode": {
        "name": "ipython",
        "version": 3
      },
      "file_extension": ".py",
      "mimetype": "text/x-python",
      "name": "python",
      "nbconvert_exporter": "python",
      "pygments_lexer": "ipython3",
      "version": "3.11.9"
    },
    "widgets": {
      "application/vnd.jupyter.widget-state+json": {
        "143ac01666b24c9083b2333cc5f45fb2": {
          "model_module": "@jupyter-widgets/base",
          "model_module_version": "1.2.0",
          "model_name": "LayoutModel",
          "state": {
            "_model_module": "@jupyter-widgets/base",
            "_model_module_version": "1.2.0",
            "_model_name": "LayoutModel",
            "_view_count": null,
            "_view_module": "@jupyter-widgets/base",
            "_view_module_version": "1.2.0",
            "_view_name": "LayoutView",
            "align_content": null,
            "align_items": null,
            "align_self": null,
            "border": null,
            "bottom": null,
            "display": null,
            "flex": null,
            "flex_flow": null,
            "grid_area": null,
            "grid_auto_columns": null,
            "grid_auto_flow": null,
            "grid_auto_rows": null,
            "grid_column": null,
            "grid_gap": null,
            "grid_row": null,
            "grid_template_areas": null,
            "grid_template_columns": null,
            "grid_template_rows": null,
            "height": null,
            "justify_content": null,
            "justify_items": null,
            "left": null,
            "margin": null,
            "max_height": null,
            "max_width": null,
            "min_height": null,
            "min_width": null,
            "object_fit": null,
            "object_position": null,
            "order": null,
            "overflow": null,
            "overflow_x": null,
            "overflow_y": null,
            "padding": null,
            "right": null,
            "top": null,
            "visibility": null,
            "width": null
          }
        },
        "193006c5474949c69bbc0cca8d972a31": {
          "model_module": "@jupyter-widgets/controls",
          "model_module_version": "1.5.0",
          "model_name": "FloatProgressModel",
          "state": {
            "_dom_classes": [],
            "_model_module": "@jupyter-widgets/controls",
            "_model_module_version": "1.5.0",
            "_model_name": "FloatProgressModel",
            "_view_count": null,
            "_view_module": "@jupyter-widgets/controls",
            "_view_module_version": "1.5.0",
            "_view_name": "ProgressView",
            "bar_style": "danger",
            "description": "",
            "description_tooltip": null,
            "layout": "IPY_MODEL_859f367d1ad04fe39ecf97e5f0746df1",
            "max": 1099121,
            "min": 0,
            "orientation": "horizontal",
            "style": "IPY_MODEL_e3f21d6adea74401b9752b4e9b7cb170",
            "value": 1182
          }
        },
        "242636873a68452cbae9bbfa360a686d": {
          "model_module": "@jupyter-widgets/base",
          "model_module_version": "1.2.0",
          "model_name": "LayoutModel",
          "state": {
            "_model_module": "@jupyter-widgets/base",
            "_model_module_version": "1.2.0",
            "_model_name": "LayoutModel",
            "_view_count": null,
            "_view_module": "@jupyter-widgets/base",
            "_view_module_version": "1.2.0",
            "_view_name": "LayoutView",
            "align_content": null,
            "align_items": null,
            "align_self": null,
            "border": null,
            "bottom": null,
            "display": null,
            "flex": null,
            "flex_flow": null,
            "grid_area": null,
            "grid_auto_columns": null,
            "grid_auto_flow": null,
            "grid_auto_rows": null,
            "grid_column": null,
            "grid_gap": null,
            "grid_row": null,
            "grid_template_areas": null,
            "grid_template_columns": null,
            "grid_template_rows": null,
            "height": null,
            "justify_content": null,
            "justify_items": null,
            "left": null,
            "margin": null,
            "max_height": null,
            "max_width": null,
            "min_height": null,
            "min_width": null,
            "object_fit": null,
            "object_position": null,
            "order": null,
            "overflow": null,
            "overflow_x": null,
            "overflow_y": null,
            "padding": null,
            "right": null,
            "top": null,
            "visibility": null,
            "width": null
          }
        },
        "276ce09ffa9f43489d45e8672ceaa107": {
          "model_module": "@jupyter-widgets/controls",
          "model_module_version": "1.5.0",
          "model_name": "HTMLModel",
          "state": {
            "_dom_classes": [],
            "_model_module": "@jupyter-widgets/controls",
            "_model_module_version": "1.5.0",
            "_model_name": "HTMLModel",
            "_view_count": null,
            "_view_module": "@jupyter-widgets/controls",
            "_view_module_version": "1.5.0",
            "_view_name": "HTMLView",
            "description": "",
            "description_tooltip": null,
            "layout": "IPY_MODEL_6e8429381ecf46ac9a3d4bb17ea47072",
            "placeholder": "​",
            "style": "IPY_MODEL_ad72fe4889df43819713f2a0230aa06b",
            "value": "  0%"
          }
        },
        "3def97596e854d8682f3229be2cf91c0": {
          "model_module": "catboost-widget",
          "model_module_version": "^1.0.0",
          "model_name": "CatboostWidgetModel",
          "state": {
            "_dom_classes": [],
            "_model_module": "catboost-widget",
            "_model_module_version": "^1.0.0",
            "_model_name": "CatboostWidgetModel",
            "_view_count": null,
            "_view_module": "catboost-widget",
            "_view_module_version": "^1.0.0",
            "_view_name": "CatboostWidgetView",
            "data": {
              "catboost_info": {
                "content": {
                  "data": {
                    "iterations": [
                      {
                        "iteration": 0,
                        "learn": [
                          2.763689702
                        ],
                        "passed_time": 0.003006650277,
                        "remaining_time": 0.8989884328,
                        "test": [
                          4.326702316
                        ]
                      },
                      {
                        "iteration": 1,
                        "learn": [
                          2.723156253
                        ],
                        "passed_time": 0.004867498829,
                        "remaining_time": 0.7252573256,
                        "test": [
                          4.329862122
                        ]
                      },
                      {
                        "iteration": 2,
                        "learn": [
                          2.686106811
                        ],
                        "passed_time": 0.005900617188,
                        "remaining_time": 0.5841611016,
                        "test": [
                          4.318468396
                        ]
                      },
                      {
                        "iteration": 3,
                        "learn": [
                          2.644260985
                        ],
                        "passed_time": 0.007342784987,
                        "remaining_time": 0.5433660891,
                        "test": [
                          4.313005561
                        ]
                      },
                      {
                        "iteration": 4,
                        "learn": [
                          2.598636768
                        ],
                        "passed_time": 0.00922019969,
                        "remaining_time": 0.5439917817,
                        "test": [
                          4.304715188
                        ]
                      },
                      {
                        "iteration": 5,
                        "learn": [
                          2.566694118
                        ],
                        "passed_time": 0.01065861779,
                        "remaining_time": 0.5222722715,
                        "test": [
                          4.300246324
                        ]
                      },
                      {
                        "iteration": 6,
                        "learn": [
                          2.536088278
                        ],
                        "passed_time": 0.01225422975,
                        "remaining_time": 0.5129270453,
                        "test": [
                          4.304606964
                        ]
                      },
                      {
                        "iteration": 7,
                        "learn": [
                          2.49798896
                        ],
                        "passed_time": 0.01333190816,
                        "remaining_time": 0.486614648,
                        "test": [
                          4.300190763
                        ]
                      },
                      {
                        "iteration": 8,
                        "learn": [
                          2.475790237
                        ],
                        "passed_time": 0.01507366035,
                        "remaining_time": 0.4873816848,
                        "test": [
                          4.299566067
                        ]
                      },
                      {
                        "iteration": 9,
                        "learn": [
                          2.454246506
                        ],
                        "passed_time": 0.01650875604,
                        "remaining_time": 0.4787539251,
                        "test": [
                          4.289741929
                        ]
                      },
                      {
                        "iteration": 10,
                        "learn": [
                          2.420672572
                        ],
                        "passed_time": 0.01786565571,
                        "remaining_time": 0.4693795001,
                        "test": [
                          4.29264718
                        ]
                      },
                      {
                        "iteration": 11,
                        "learn": [
                          2.397365356
                        ],
                        "passed_time": 0.01893095269,
                        "remaining_time": 0.4543428647,
                        "test": [
                          4.2863547
                        ]
                      },
                      {
                        "iteration": 12,
                        "learn": [
                          2.379751454
                        ],
                        "passed_time": 0.02053810469,
                        "remaining_time": 0.4534181574,
                        "test": [
                          4.285655212
                        ]
                      },
                      {
                        "iteration": 13,
                        "learn": [
                          2.348015949
                        ],
                        "passed_time": 0.0222419712,
                        "remaining_time": 0.4543716974,
                        "test": [
                          4.276352668
                        ]
                      },
                      {
                        "iteration": 14,
                        "learn": [
                          2.324304512
                        ],
                        "passed_time": 0.02396561445,
                        "remaining_time": 0.4553466745,
                        "test": [
                          4.278562547
                        ]
                      },
                      {
                        "iteration": 15,
                        "learn": [
                          2.297867396
                        ],
                        "passed_time": 0.02562270627,
                        "remaining_time": 0.4548030363,
                        "test": [
                          4.274004448
                        ]
                      },
                      {
                        "iteration": 16,
                        "learn": [
                          2.267582811
                        ],
                        "passed_time": 0.02680421995,
                        "remaining_time": 0.4462114262,
                        "test": [
                          4.279878238
                        ]
                      },
                      {
                        "iteration": 17,
                        "learn": [
                          2.237938766
                        ],
                        "passed_time": 0.0283411599,
                        "remaining_time": 0.4440115052,
                        "test": [
                          4.267311303
                        ]
                      },
                      {
                        "iteration": 18,
                        "learn": [
                          2.212399802
                        ],
                        "passed_time": 0.03005207307,
                        "remaining_time": 0.4444543439,
                        "test": [
                          4.270579537
                        ]
                      },
                      {
                        "iteration": 19,
                        "learn": [
                          2.196561163
                        ],
                        "passed_time": 0.0311737206,
                        "remaining_time": 0.4364320884,
                        "test": [
                          4.270506305
                        ]
                      },
                      {
                        "iteration": 20,
                        "learn": [
                          2.174952551
                        ],
                        "passed_time": 0.03268910466,
                        "remaining_time": 0.4342981047,
                        "test": [
                          4.26694939
                        ]
                      },
                      {
                        "iteration": 21,
                        "learn": [
                          2.152243796
                        ],
                        "passed_time": 0.0342617893,
                        "remaining_time": 0.4329444284,
                        "test": [
                          4.256096382
                        ]
                      },
                      {
                        "iteration": 22,
                        "learn": [
                          2.119514236
                        ],
                        "passed_time": 0.03539621782,
                        "remaining_time": 0.4262935798,
                        "test": [
                          4.256611545
                        ]
                      },
                      {
                        "iteration": 23,
                        "learn": [
                          2.104737554
                        ],
                        "passed_time": 0.03670399497,
                        "remaining_time": 0.4220959422,
                        "test": [
                          4.261426305
                        ]
                      },
                      {
                        "iteration": 24,
                        "learn": [
                          2.07968293
                        ],
                        "passed_time": 0.03794533207,
                        "remaining_time": 0.4173986528,
                        "test": [
                          4.251932058
                        ]
                      },
                      {
                        "iteration": 25,
                        "learn": [
                          2.05933025
                        ],
                        "passed_time": 0.03895702271,
                        "remaining_time": 0.4105470855,
                        "test": [
                          4.254826837
                        ]
                      },
                      {
                        "iteration": 26,
                        "learn": [
                          2.042435573
                        ],
                        "passed_time": 0.03985186891,
                        "remaining_time": 0.4029466745,
                        "test": [
                          4.252985531
                        ]
                      },
                      {
                        "iteration": 27,
                        "learn": [
                          2.025169587
                        ],
                        "passed_time": 0.04073504915,
                        "remaining_time": 0.3957119061,
                        "test": [
                          4.250827418
                        ]
                      },
                      {
                        "iteration": 28,
                        "learn": [
                          2.016034886
                        ],
                        "passed_time": 0.04164789656,
                        "remaining_time": 0.3891924126,
                        "test": [
                          4.255939306
                        ]
                      },
                      {
                        "iteration": 29,
                        "learn": [
                          1.982355347
                        ],
                        "passed_time": 0.04274113562,
                        "remaining_time": 0.3846702206,
                        "test": [
                          4.265928536
                        ]
                      },
                      {
                        "iteration": 30,
                        "learn": [
                          1.963500925
                        ],
                        "passed_time": 0.04370767346,
                        "remaining_time": 0.3792698116,
                        "test": [
                          4.268691479
                        ]
                      },
                      {
                        "iteration": 31,
                        "learn": [
                          1.938842401
                        ],
                        "passed_time": 0.04464055125,
                        "remaining_time": 0.3738646167,
                        "test": [
                          4.261937251
                        ]
                      },
                      {
                        "iteration": 32,
                        "learn": [
                          1.924001004
                        ],
                        "passed_time": 0.0456482199,
                        "remaining_time": 0.3693355974,
                        "test": [
                          4.258814749
                        ]
                      },
                      {
                        "iteration": 33,
                        "learn": [
                          1.909004571
                        ],
                        "passed_time": 0.04661992023,
                        "remaining_time": 0.3647323171,
                        "test": [
                          4.262513779
                        ]
                      },
                      {
                        "iteration": 34,
                        "learn": [
                          1.88964738
                        ],
                        "passed_time": 0.04761011224,
                        "remaining_time": 0.3604765641,
                        "test": [
                          4.265149897
                        ]
                      },
                      {
                        "iteration": 35,
                        "learn": [
                          1.874184247
                        ],
                        "passed_time": 0.04852259644,
                        "remaining_time": 0.3558323739,
                        "test": [
                          4.259664521
                        ]
                      },
                      {
                        "iteration": 36,
                        "learn": [
                          1.856645875
                        ],
                        "passed_time": 0.04945262366,
                        "remaining_time": 0.3515145952,
                        "test": [
                          4.259502063
                        ]
                      },
                      {
                        "iteration": 37,
                        "learn": [
                          1.841595083
                        ],
                        "passed_time": 0.05036636701,
                        "remaining_time": 0.3472628462,
                        "test": [
                          4.258102774
                        ]
                      },
                      {
                        "iteration": 38,
                        "learn": [
                          1.820048595
                        ],
                        "passed_time": 0.05130497958,
                        "remaining_time": 0.3433487095,
                        "test": [
                          4.248879143
                        ]
                      },
                      {
                        "iteration": 39,
                        "learn": [
                          1.79866604
                        ],
                        "passed_time": 0.0530590632,
                        "remaining_time": 0.3448839108,
                        "test": [
                          4.245596262
                        ]
                      },
                      {
                        "iteration": 40,
                        "learn": [
                          1.771856156
                        ],
                        "passed_time": 0.05561486819,
                        "remaining_time": 0.3513231917,
                        "test": [
                          4.234991667
                        ]
                      },
                      {
                        "iteration": 41,
                        "learn": [
                          1.758566067
                        ],
                        "passed_time": 0.05691159398,
                        "remaining_time": 0.3495997916,
                        "test": [
                          4.229606017
                        ]
                      },
                      {
                        "iteration": 42,
                        "learn": [
                          1.74730844
                        ],
                        "passed_time": 0.05801009053,
                        "remaining_time": 0.3467114713,
                        "test": [
                          4.230887229
                        ]
                      },
                      {
                        "iteration": 43,
                        "learn": [
                          1.721832625
                        ],
                        "passed_time": 0.05891849093,
                        "remaining_time": 0.3427984927,
                        "test": [
                          4.230693299
                        ]
                      },
                      {
                        "iteration": 44,
                        "learn": [
                          1.710743162
                        ],
                        "passed_time": 0.0600178798,
                        "remaining_time": 0.3401013189,
                        "test": [
                          4.228831363
                        ]
                      },
                      {
                        "iteration": 45,
                        "learn": [
                          1.688124031
                        ],
                        "passed_time": 0.06100257613,
                        "remaining_time": 0.3368403116,
                        "test": [
                          4.219949408
                        ]
                      },
                      {
                        "iteration": 46,
                        "learn": [
                          1.68039867
                        ],
                        "passed_time": 0.06196547699,
                        "remaining_time": 0.3335588442,
                        "test": [
                          4.217552988
                        ]
                      },
                      {
                        "iteration": 47,
                        "learn": [
                          1.671974618
                        ],
                        "passed_time": 0.06294813869,
                        "remaining_time": 0.3304777281,
                        "test": [
                          4.215249617
                        ]
                      },
                      {
                        "iteration": 48,
                        "learn": [
                          1.651596997
                        ],
                        "passed_time": 0.06380494692,
                        "remaining_time": 0.3268375852,
                        "test": [
                          4.216553581
                        ]
                      },
                      {
                        "iteration": 49,
                        "learn": [
                          1.641013251
                        ],
                        "passed_time": 0.06477302028,
                        "remaining_time": 0.3238651014,
                        "test": [
                          4.211454453
                        ]
                      },
                      {
                        "iteration": 50,
                        "learn": [
                          1.629824644
                        ],
                        "passed_time": 0.06559781535,
                        "remaining_time": 0.3202716867,
                        "test": [
                          4.210868668
                        ]
                      },
                      {
                        "iteration": 51,
                        "learn": [
                          1.625809231
                        ],
                        "passed_time": 0.06651707029,
                        "remaining_time": 0.3172352583,
                        "test": [
                          4.2098886
                        ]
                      },
                      {
                        "iteration": 52,
                        "learn": [
                          1.617268779
                        ],
                        "passed_time": 0.06741809538,
                        "remaining_time": 0.3141937653,
                        "test": [
                          4.209316482
                        ]
                      },
                      {
                        "iteration": 53,
                        "learn": [
                          1.60898648
                        ],
                        "passed_time": 0.06833062777,
                        "remaining_time": 0.3112839709,
                        "test": [
                          4.211148186
                        ]
                      },
                      {
                        "iteration": 54,
                        "learn": [
                          1.600769621
                        ],
                        "passed_time": 0.06914994033,
                        "remaining_time": 0.3080315524,
                        "test": [
                          4.20547685
                        ]
                      },
                      {
                        "iteration": 55,
                        "learn": [
                          1.583907007
                        ],
                        "passed_time": 0.06999851095,
                        "remaining_time": 0.304993512,
                        "test": [
                          4.203681638
                        ]
                      },
                      {
                        "iteration": 56,
                        "learn": [
                          1.574697077
                        ],
                        "passed_time": 0.07085222905,
                        "remaining_time": 0.3020542396,
                        "test": [
                          4.204165692
                        ]
                      },
                      {
                        "iteration": 57,
                        "learn": [
                          1.563025885
                        ],
                        "passed_time": 0.07181702181,
                        "remaining_time": 0.2996503324,
                        "test": [
                          4.201979291
                        ]
                      },
                      {
                        "iteration": 58,
                        "learn": [
                          1.538839229
                        ],
                        "passed_time": 0.07266650519,
                        "remaining_time": 0.2968241992,
                        "test": [
                          4.196961476
                        ]
                      },
                      {
                        "iteration": 59,
                        "learn": [
                          1.513327594
                        ],
                        "passed_time": 0.07350274665,
                        "remaining_time": 0.2940109866,
                        "test": [
                          4.190959804
                        ]
                      },
                      {
                        "iteration": 60,
                        "learn": [
                          1.497075541
                        ],
                        "passed_time": 0.07445685624,
                        "remaining_time": 0.291724404,
                        "test": [
                          4.197453367
                        ]
                      },
                      {
                        "iteration": 61,
                        "learn": [
                          1.487905379
                        ],
                        "passed_time": 0.07529843111,
                        "remaining_time": 0.2890488162,
                        "test": [
                          4.196827229
                        ]
                      },
                      {
                        "iteration": 62,
                        "learn": [
                          1.480202866
                        ],
                        "passed_time": 0.07708637387,
                        "remaining_time": 0.289991597,
                        "test": [
                          4.192136131
                        ]
                      },
                      {
                        "iteration": 63,
                        "learn": [
                          1.468722265
                        ],
                        "passed_time": 0.07884361399,
                        "remaining_time": 0.2907358266,
                        "test": [
                          4.190772804
                        ]
                      },
                      {
                        "iteration": 64,
                        "learn": [
                          1.456670352
                        ],
                        "passed_time": 0.08075904619,
                        "remaining_time": 0.2919750132,
                        "test": [
                          4.197159813
                        ]
                      },
                      {
                        "iteration": 65,
                        "learn": [
                          1.444588377
                        ],
                        "passed_time": 0.08264681269,
                        "remaining_time": 0.2930205177,
                        "test": [
                          4.192970429
                        ]
                      },
                      {
                        "iteration": 66,
                        "learn": [
                          1.429973149
                        ],
                        "passed_time": 0.08397435341,
                        "remaining_time": 0.2920302141,
                        "test": [
                          4.193763286
                        ]
                      },
                      {
                        "iteration": 67,
                        "learn": [
                          1.414859939
                        ],
                        "passed_time": 0.08495249537,
                        "remaining_time": 0.2898379254,
                        "test": [
                          4.194884937
                        ]
                      },
                      {
                        "iteration": 68,
                        "learn": [
                          1.398885269
                        ],
                        "passed_time": 0.08700551608,
                        "remaining_time": 0.2912793364,
                        "test": [
                          4.197585886
                        ]
                      },
                      {
                        "iteration": 69,
                        "learn": [
                          1.377258482
                        ],
                        "passed_time": 0.08797316578,
                        "remaining_time": 0.2890546876,
                        "test": [
                          4.199589928
                        ]
                      },
                      {
                        "iteration": 70,
                        "learn": [
                          1.357858694
                        ],
                        "passed_time": 0.08884411961,
                        "remaining_time": 0.2865535689,
                        "test": [
                          4.199464716
                        ]
                      },
                      {
                        "iteration": 71,
                        "learn": [
                          1.350150569
                        ],
                        "passed_time": 0.08971113009,
                        "remaining_time": 0.2840852453,
                        "test": [
                          4.199990561
                        ]
                      },
                      {
                        "iteration": 72,
                        "learn": [
                          1.343408923
                        ],
                        "passed_time": 0.09067383776,
                        "remaining_time": 0.2819583722,
                        "test": [
                          4.198323825
                        ]
                      },
                      {
                        "iteration": 73,
                        "learn": [
                          1.31965569
                        ],
                        "passed_time": 0.09155356514,
                        "remaining_time": 0.2796095368,
                        "test": [
                          4.199592478
                        ]
                      },
                      {
                        "iteration": 74,
                        "learn": [
                          1.300486875
                        ],
                        "passed_time": 0.09246840717,
                        "remaining_time": 0.2774052215,
                        "test": [
                          4.193949682
                        ]
                      },
                      {
                        "iteration": 75,
                        "learn": [
                          1.288298626
                        ],
                        "passed_time": 0.09332764187,
                        "remaining_time": 0.2750709444,
                        "test": [
                          4.197509524
                        ]
                      },
                      {
                        "iteration": 76,
                        "learn": [
                          1.27804997
                        ],
                        "passed_time": 0.09423647137,
                        "remaining_time": 0.2729186119,
                        "test": [
                          4.197803777
                        ]
                      },
                      {
                        "iteration": 77,
                        "learn": [
                          1.257920933
                        ],
                        "passed_time": 0.09524496233,
                        "remaining_time": 0.2710818159,
                        "test": [
                          4.194013396
                        ]
                      },
                      {
                        "iteration": 78,
                        "learn": [
                          1.244304411
                        ],
                        "passed_time": 0.0961096409,
                        "remaining_time": 0.268863679,
                        "test": [
                          4.193357762
                        ]
                      },
                      {
                        "iteration": 79,
                        "learn": [
                          1.238700976
                        ],
                        "passed_time": 0.09702777079,
                        "remaining_time": 0.2668263697,
                        "test": [
                          4.190600033
                        ]
                      },
                      {
                        "iteration": 80,
                        "learn": [
                          1.231099213
                        ],
                        "passed_time": 0.09789374805,
                        "remaining_time": 0.2646756892,
                        "test": [
                          4.188912894
                        ]
                      },
                      {
                        "iteration": 81,
                        "learn": [
                          1.220808313
                        ],
                        "passed_time": 0.09877165262,
                        "remaining_time": 0.2625880521,
                        "test": [
                          4.181601474
                        ]
                      },
                      {
                        "iteration": 82,
                        "learn": [
                          1.207407462
                        ],
                        "passed_time": 0.09969281173,
                        "remaining_time": 0.2606426524,
                        "test": [
                          4.182155143
                        ]
                      },
                      {
                        "iteration": 83,
                        "learn": [
                          1.204281494
                        ],
                        "passed_time": 0.1006114639,
                        "remaining_time": 0.2587151929,
                        "test": [
                          4.181164812
                        ]
                      },
                      {
                        "iteration": 84,
                        "learn": [
                          1.19543342
                        ],
                        "passed_time": 0.1015227272,
                        "remaining_time": 0.2567927805,
                        "test": [
                          4.180590689
                        ]
                      },
                      {
                        "iteration": 85,
                        "learn": [
                          1.182293887
                        ],
                        "passed_time": 0.1024056983,
                        "remaining_time": 0.2548234819,
                        "test": [
                          4.185241699
                        ]
                      },
                      {
                        "iteration": 86,
                        "learn": [
                          1.177168537
                        ],
                        "passed_time": 0.10331197,
                        "remaining_time": 0.2529362024,
                        "test": [
                          4.182348084
                        ]
                      },
                      {
                        "iteration": 87,
                        "learn": [
                          1.164036492
                        ],
                        "passed_time": 0.1042174366,
                        "remaining_time": 0.2510692791,
                        "test": [
                          4.18835233
                        ]
                      },
                      {
                        "iteration": 88,
                        "learn": [
                          1.155617171
                        ],
                        "passed_time": 0.1051188945,
                        "remaining_time": 0.2492144577,
                        "test": [
                          4.188269107
                        ]
                      },
                      {
                        "iteration": 89,
                        "learn": [
                          1.144801566
                        ],
                        "passed_time": 0.1060514745,
                        "remaining_time": 0.2474534405,
                        "test": [
                          4.188414128
                        ]
                      },
                      {
                        "iteration": 90,
                        "learn": [
                          1.1291162
                        ],
                        "passed_time": 0.1070166114,
                        "remaining_time": 0.2457854042,
                        "test": [
                          4.185352946
                        ]
                      },
                      {
                        "iteration": 91,
                        "learn": [
                          1.119889898
                        ],
                        "passed_time": 0.1079318025,
                        "remaining_time": 0.2440197274,
                        "test": [
                          4.182035199
                        ]
                      },
                      {
                        "iteration": 92,
                        "learn": [
                          1.109986232
                        ],
                        "passed_time": 0.1088403552,
                        "remaining_time": 0.2422575648,
                        "test": [
                          4.182297585
                        ]
                      },
                      {
                        "iteration": 93,
                        "learn": [
                          1.107002617
                        ],
                        "passed_time": 0.1096618688,
                        "remaining_time": 0.2403228188,
                        "test": [
                          4.184453496
                        ]
                      },
                      {
                        "iteration": 94,
                        "learn": [
                          1.10253443
                        ],
                        "passed_time": 0.1105875694,
                        "remaining_time": 0.238636334,
                        "test": [
                          4.185208092
                        ]
                      },
                      {
                        "iteration": 95,
                        "learn": [
                          1.099703781
                        ],
                        "passed_time": 0.1116305541,
                        "remaining_time": 0.2372149275,
                        "test": [
                          4.183937251
                        ]
                      },
                      {
                        "iteration": 96,
                        "learn": [
                          1.097538557
                        ],
                        "passed_time": 0.1130790349,
                        "remaining_time": 0.236649939,
                        "test": [
                          4.182482762
                        ]
                      },
                      {
                        "iteration": 97,
                        "learn": [
                          1.079992208
                        ],
                        "passed_time": 0.114069856,
                        "remaining_time": 0.2351235808,
                        "test": [
                          4.188645336
                        ]
                      },
                      {
                        "iteration": 98,
                        "learn": [
                          1.07792527
                        ],
                        "passed_time": 0.1150380744,
                        "remaining_time": 0.233562151,
                        "test": [
                          4.190290657
                        ]
                      },
                      {
                        "iteration": 99,
                        "learn": [
                          1.067328596
                        ],
                        "passed_time": 0.1159707944,
                        "remaining_time": 0.2319415889,
                        "test": [
                          4.18677001
                        ]
                      },
                      {
                        "iteration": 100,
                        "learn": [
                          1.050645805
                        ],
                        "passed_time": 0.116922568,
                        "remaining_time": 0.2303721885,
                        "test": [
                          4.187838718
                        ]
                      },
                      {
                        "iteration": 101,
                        "learn": [
                          1.041365543
                        ],
                        "passed_time": 0.117869505,
                        "remaining_time": 0.2288055098,
                        "test": [
                          4.183954689
                        ]
                      },
                      {
                        "iteration": 102,
                        "learn": [
                          1.030629769
                        ],
                        "passed_time": 0.1187638844,
                        "remaining_time": 0.227150342,
                        "test": [
                          4.184051778
                        ]
                      },
                      {
                        "iteration": 103,
                        "learn": [
                          1.02032357
                        ],
                        "passed_time": 0.1196809774,
                        "remaining_time": 0.2255526113,
                        "test": [
                          4.186429268
                        ]
                      },
                      {
                        "iteration": 104,
                        "learn": [
                          1.018377541
                        ],
                        "passed_time": 0.1206302923,
                        "remaining_time": 0.2240276857,
                        "test": [
                          4.185909627
                        ]
                      },
                      {
                        "iteration": 105,
                        "learn": [
                          1.015486164
                        ],
                        "passed_time": 0.1216301888,
                        "remaining_time": 0.2226061946,
                        "test": [
                          4.184386586
                        ]
                      },
                      {
                        "iteration": 106,
                        "learn": [
                          1.012191249
                        ],
                        "passed_time": 0.1226333182,
                        "remaining_time": 0.221198415,
                        "test": [
                          4.182920801
                        ]
                      },
                      {
                        "iteration": 107,
                        "learn": [
                          0.9999592193
                        ],
                        "passed_time": 0.1235554091,
                        "remaining_time": 0.2196540607,
                        "test": [
                          4.179312023
                        ]
                      },
                      {
                        "iteration": 108,
                        "learn": [
                          0.9941455312
                        ],
                        "passed_time": 0.124559774,
                        "remaining_time": 0.2182652921,
                        "test": [
                          4.177988673
                        ]
                      },
                      {
                        "iteration": 109,
                        "learn": [
                          0.992118142
                        ],
                        "passed_time": 0.1254630551,
                        "remaining_time": 0.2167089134,
                        "test": [
                          4.177134909
                        ]
                      },
                      {
                        "iteration": 110,
                        "learn": [
                          0.9893703421
                        ],
                        "passed_time": 0.1263641688,
                        "remaining_time": 0.2151606118,
                        "test": [
                          4.179491563
                        ]
                      },
                      {
                        "iteration": 111,
                        "learn": [
                          0.9750081626
                        ],
                        "passed_time": 0.1273074411,
                        "remaining_time": 0.2136946334,
                        "test": [
                          4.175972798
                        ]
                      },
                      {
                        "iteration": 112,
                        "learn": [
                          0.9579115469
                        ],
                        "passed_time": 0.1282760459,
                        "remaining_time": 0.2122798282,
                        "test": [
                          4.180265639
                        ]
                      },
                      {
                        "iteration": 113,
                        "learn": [
                          0.9559646524
                        ],
                        "passed_time": 0.1291862655,
                        "remaining_time": 0.210777591,
                        "test": [
                          4.179360452
                        ]
                      },
                      {
                        "iteration": 114,
                        "learn": [
                          0.9469430544
                        ],
                        "passed_time": 0.1301598486,
                        "remaining_time": 0.2093875825,
                        "test": [
                          4.180909359
                        ]
                      },
                      {
                        "iteration": 115,
                        "learn": [
                          0.9357756169
                        ],
                        "passed_time": 0.1310118598,
                        "remaining_time": 0.2078119155,
                        "test": [
                          4.179654818
                        ]
                      },
                      {
                        "iteration": 116,
                        "learn": [
                          0.9339289908
                        ],
                        "passed_time": 0.1318836668,
                        "remaining_time": 0.2062795815,
                        "test": [
                          4.179733168
                        ]
                      },
                      {
                        "iteration": 117,
                        "learn": [
                          0.9307251987
                        ],
                        "passed_time": 0.1328034427,
                        "remaining_time": 0.2048324286,
                        "test": [
                          4.180446713
                        ]
                      },
                      {
                        "iteration": 118,
                        "learn": [
                          0.9216922699
                        ],
                        "passed_time": 0.1337064665,
                        "remaining_time": 0.2033686592,
                        "test": [
                          4.181618982
                        ]
                      },
                      {
                        "iteration": 119,
                        "learn": [
                          0.9202926164
                        ],
                        "passed_time": 0.1345693068,
                        "remaining_time": 0.2018539602,
                        "test": [
                          4.180577007
                        ]
                      },
                      {
                        "iteration": 120,
                        "learn": [
                          0.906592269
                        ],
                        "passed_time": 0.1354628234,
                        "remaining_time": 0.2003954165,
                        "test": [
                          4.18502254
                        ]
                      },
                      {
                        "iteration": 121,
                        "learn": [
                          0.8992844406
                        ],
                        "passed_time": 0.1363972672,
                        "remaining_time": 0.1990058488,
                        "test": [
                          4.1854008
                        ]
                      },
                      {
                        "iteration": 122,
                        "learn": [
                          0.8886366755
                        ],
                        "passed_time": 0.1372311958,
                        "remaining_time": 0.1974790379,
                        "test": [
                          4.189920114
                        ]
                      },
                      {
                        "iteration": 123,
                        "learn": [
                          0.8804646895
                        ],
                        "passed_time": 0.1380730389,
                        "remaining_time": 0.1959746358,
                        "test": [
                          4.191373294
                        ]
                      },
                      {
                        "iteration": 124,
                        "learn": [
                          0.8791895622
                        ],
                        "passed_time": 0.1389216336,
                        "remaining_time": 0.194490287,
                        "test": [
                          4.190301278
                        ]
                      },
                      {
                        "iteration": 125,
                        "learn": [
                          0.8779326234
                        ],
                        "passed_time": 0.1398884592,
                        "remaining_time": 0.1931793007,
                        "test": [
                          4.189722288
                        ]
                      },
                      {
                        "iteration": 126,
                        "learn": [
                          0.8741129196
                        ],
                        "passed_time": 0.1408517919,
                        "remaining_time": 0.1918689763,
                        "test": [
                          4.188880393
                        ]
                      },
                      {
                        "iteration": 127,
                        "learn": [
                          0.8714523782
                        ],
                        "passed_time": 0.1416829104,
                        "remaining_time": 0.1903864108,
                        "test": [
                          4.19376265
                        ]
                      },
                      {
                        "iteration": 128,
                        "learn": [
                          0.8607254722
                        ],
                        "passed_time": 0.142620917,
                        "remaining_time": 0.1890556342,
                        "test": [
                          4.191708527
                        ]
                      },
                      {
                        "iteration": 129,
                        "learn": [
                          0.8509493455
                        ],
                        "passed_time": 0.14357981,
                        "remaining_time": 0.1877582131,
                        "test": [
                          4.185842309
                        ]
                      },
                      {
                        "iteration": 130,
                        "learn": [
                          0.839982544
                        ],
                        "passed_time": 0.144524866,
                        "remaining_time": 0.1864481096,
                        "test": [
                          4.189913048
                        ]
                      },
                      {
                        "iteration": 131,
                        "learn": [
                          0.8309344805
                        ],
                        "passed_time": 0.1454601639,
                        "remaining_time": 0.1851311177,
                        "test": [
                          4.187078797
                        ]
                      },
                      {
                        "iteration": 132,
                        "learn": [
                          0.8293464752
                        ],
                        "passed_time": 0.1463172008,
                        "remaining_time": 0.183721598,
                        "test": [
                          4.186462788
                        ]
                      },
                      {
                        "iteration": 133,
                        "learn": [
                          0.8195574719
                        ],
                        "passed_time": 0.1473171823,
                        "remaining_time": 0.1824974049,
                        "test": [
                          4.184416954
                        ]
                      },
                      {
                        "iteration": 134,
                        "learn": [
                          0.8182186539
                        ],
                        "passed_time": 0.1481965247,
                        "remaining_time": 0.1811290857,
                        "test": [
                          4.183411392
                        ]
                      },
                      {
                        "iteration": 135,
                        "learn": [
                          0.8071171906
                        ],
                        "passed_time": 0.1490927132,
                        "remaining_time": 0.1797882718,
                        "test": [
                          4.182003871
                        ]
                      },
                      {
                        "iteration": 136,
                        "learn": [
                          0.8051056506
                        ],
                        "passed_time": 0.1499598523,
                        "remaining_time": 0.1784193863,
                        "test": [
                          4.182826248
                        ]
                      },
                      {
                        "iteration": 137,
                        "learn": [
                          0.7932413395
                        ],
                        "passed_time": 0.1508706055,
                        "remaining_time": 0.1771089717,
                        "test": [
                          4.18466838
                        ]
                      },
                      {
                        "iteration": 138,
                        "learn": [
                          0.7804808697
                        ],
                        "passed_time": 0.1517149241,
                        "remaining_time": 0.1757273582,
                        "test": [
                          4.187661268
                        ]
                      },
                      {
                        "iteration": 139,
                        "learn": [
                          0.773461042
                        ],
                        "passed_time": 0.1527779024,
                        "remaining_time": 0.174603317,
                        "test": [
                          4.185978922
                        ]
                      },
                      {
                        "iteration": 140,
                        "learn": [
                          0.7648673767
                        ],
                        "passed_time": 0.1537521015,
                        "remaining_time": 0.1733800293,
                        "test": [
                          4.180111675
                        ]
                      },
                      {
                        "iteration": 141,
                        "learn": [
                          0.7546280243
                        ],
                        "passed_time": 0.1547201403,
                        "remaining_time": 0.1721533955,
                        "test": [
                          4.171139084
                        ]
                      },
                      {
                        "iteration": 142,
                        "learn": [
                          0.7428652587
                        ],
                        "passed_time": 0.1555608333,
                        "remaining_time": 0.1707905652,
                        "test": [
                          4.167269951
                        ]
                      },
                      {
                        "iteration": 143,
                        "learn": [
                          0.7314606426
                        ],
                        "passed_time": 0.1564823333,
                        "remaining_time": 0.1695225278,
                        "test": [
                          4.171592025
                        ]
                      },
                      {
                        "iteration": 144,
                        "learn": [
                          0.7210406531
                        ],
                        "passed_time": 0.1573700806,
                        "remaining_time": 0.1682231896,
                        "test": [
                          4.176491633
                        ]
                      },
                      {
                        "iteration": 145,
                        "learn": [
                          0.7201515449
                        ],
                        "passed_time": 0.1583163466,
                        "remaining_time": 0.166991215,
                        "test": [
                          4.175820865
                        ]
                      },
                      {
                        "iteration": 146,
                        "learn": [
                          0.7183808991
                        ],
                        "passed_time": 0.1592217251,
                        "remaining_time": 0.165720571,
                        "test": [
                          4.175918957
                        ]
                      },
                      {
                        "iteration": 147,
                        "learn": [
                          0.7123797472
                        ],
                        "passed_time": 0.1601559611,
                        "remaining_time": 0.1644845006,
                        "test": [
                          4.17632753
                        ]
                      },
                      {
                        "iteration": 148,
                        "learn": [
                          0.706548389
                        ],
                        "passed_time": 0.1610071091,
                        "remaining_time": 0.1631682784,
                        "test": [
                          4.176036717
                        ]
                      },
                      {
                        "iteration": 149,
                        "learn": [
                          0.6993784481
                        ],
                        "passed_time": 0.1619186524,
                        "remaining_time": 0.1619186524,
                        "test": [
                          4.175090028
                        ]
                      },
                      {
                        "iteration": 150,
                        "learn": [
                          0.6939065777
                        ],
                        "passed_time": 0.1628369386,
                        "remaining_time": 0.160680158,
                        "test": [
                          4.174358056
                        ]
                      },
                      {
                        "iteration": 151,
                        "learn": [
                          0.6866580444
                        ],
                        "passed_time": 0.1637980167,
                        "remaining_time": 0.1594875426,
                        "test": [
                          4.172266768
                        ]
                      },
                      {
                        "iteration": 152,
                        "learn": [
                          0.6837826511
                        ],
                        "passed_time": 0.1647266952,
                        "remaining_time": 0.1582668248,
                        "test": [
                          4.174531926
                        ]
                      },
                      {
                        "iteration": 153,
                        "learn": [
                          0.6729896714
                        ],
                        "passed_time": 0.1656082886,
                        "remaining_time": 0.1570052606,
                        "test": [
                          4.176427534
                        ]
                      },
                      {
                        "iteration": 154,
                        "learn": [
                          0.667041408
                        ],
                        "passed_time": 0.1664613585,
                        "remaining_time": 0.155721916,
                        "test": [
                          4.175801306
                        ]
                      },
                      {
                        "iteration": 155,
                        "learn": [
                          0.6549059699
                        ],
                        "passed_time": 0.1673865873,
                        "remaining_time": 0.154510696,
                        "test": [
                          4.17447921
                        ]
                      },
                      {
                        "iteration": 156,
                        "learn": [
                          0.6507524999
                        ],
                        "passed_time": 0.1684202907,
                        "remaining_time": 0.1534019208,
                        "test": [
                          4.170805101
                        ]
                      },
                      {
                        "iteration": 157,
                        "learn": [
                          0.6451592346
                        ],
                        "passed_time": 0.1695150616,
                        "remaining_time": 0.1523489795,
                        "test": [
                          4.169444176
                        ]
                      },
                      {
                        "iteration": 158,
                        "learn": [
                          0.6418030971
                        ],
                        "passed_time": 0.1707873732,
                        "remaining_time": 0.1514529536,
                        "test": [
                          4.169651656
                        ]
                      },
                      {
                        "iteration": 159,
                        "learn": [
                          0.632969371
                        ],
                        "passed_time": 0.1718096834,
                        "remaining_time": 0.150333473,
                        "test": [
                          4.163564624
                        ]
                      },
                      {
                        "iteration": 160,
                        "learn": [
                          0.6244863606
                        ],
                        "passed_time": 0.1726861247,
                        "remaining_time": 0.149089263,
                        "test": [
                          4.159177018
                        ]
                      },
                      {
                        "iteration": 161,
                        "learn": [
                          0.6207194918
                        ],
                        "passed_time": 0.1735779744,
                        "remaining_time": 0.147862719,
                        "test": [
                          4.15974747
                        ]
                      },
                      {
                        "iteration": 162,
                        "learn": [
                          0.6132162577
                        ],
                        "passed_time": 0.1744582509,
                        "remaining_time": 0.1466305545,
                        "test": [
                          4.154585641
                        ]
                      },
                      {
                        "iteration": 163,
                        "learn": [
                          0.6096920167
                        ],
                        "passed_time": 0.175392186,
                        "remaining_time": 0.1454471787,
                        "test": [
                          4.154862167
                        ]
                      },
                      {
                        "iteration": 164,
                        "learn": [
                          0.6081551187
                        ],
                        "passed_time": 0.1763379735,
                        "remaining_time": 0.1442765237,
                        "test": [
                          4.155436996
                        ]
                      },
                      {
                        "iteration": 165,
                        "learn": [
                          0.5993702029
                        ],
                        "passed_time": 0.1772892038,
                        "remaining_time": 0.1431129718,
                        "test": [
                          4.160240954
                        ]
                      },
                      {
                        "iteration": 166,
                        "learn": [
                          0.5938149223
                        ],
                        "passed_time": 0.1782593014,
                        "remaining_time": 0.1419669885,
                        "test": [
                          4.154860665
                        ]
                      },
                      {
                        "iteration": 167,
                        "learn": [
                          0.5928450194
                        ],
                        "passed_time": 0.1792109463,
                        "remaining_time": 0.1408086007,
                        "test": [
                          4.155434966
                        ]
                      },
                      {
                        "iteration": 168,
                        "learn": [
                          0.5904783264
                        ],
                        "passed_time": 0.1801792351,
                        "remaining_time": 0.139665561,
                        "test": [
                          4.157022906
                        ]
                      },
                      {
                        "iteration": 169,
                        "learn": [
                          0.5836695241
                        ],
                        "passed_time": 0.1810180594,
                        "remaining_time": 0.1384255748,
                        "test": [
                          4.156232221
                        ]
                      },
                      {
                        "iteration": 170,
                        "learn": [
                          0.5801154939
                        ],
                        "passed_time": 0.1819175285,
                        "remaining_time": 0.1372360303,
                        "test": [
                          4.159372783
                        ]
                      },
                      {
                        "iteration": 171,
                        "learn": [
                          0.5782020648
                        ],
                        "passed_time": 0.1828314169,
                        "remaining_time": 0.1360605893,
                        "test": [
                          4.15906981
                        ]
                      },
                      {
                        "iteration": 172,
                        "learn": [
                          0.5728768233
                        ],
                        "passed_time": 0.1837271104,
                        "remaining_time": 0.1348748151,
                        "test": [
                          4.161189561
                        ]
                      },
                      {
                        "iteration": 173,
                        "learn": [
                          0.5709300979
                        ],
                        "passed_time": 0.1846119639,
                        "remaining_time": 0.1336845256,
                        "test": [
                          4.161098856
                        ]
                      },
                      {
                        "iteration": 174,
                        "learn": [
                          0.5619543206
                        ],
                        "passed_time": 0.1854925322,
                        "remaining_time": 0.1324946659,
                        "test": [
                          4.16088674
                        ]
                      },
                      {
                        "iteration": 175,
                        "learn": [
                          0.553635393
                        ],
                        "passed_time": 0.1865859335,
                        "remaining_time": 0.1314582714,
                        "test": [
                          4.163405476
                        ]
                      },
                      {
                        "iteration": 176,
                        "learn": [
                          0.5480620537
                        ],
                        "passed_time": 0.1874497598,
                        "remaining_time": 0.1302616975,
                        "test": [
                          4.159816251
                        ]
                      },
                      {
                        "iteration": 177,
                        "learn": [
                          0.543719457
                        ],
                        "passed_time": 0.1882958535,
                        "remaining_time": 0.1290567086,
                        "test": [
                          4.159584775
                        ]
                      },
                      {
                        "iteration": 178,
                        "learn": [
                          0.5408793266
                        ],
                        "passed_time": 0.1892290045,
                        "remaining_time": 0.1279145784,
                        "test": [
                          4.159849731
                        ]
                      },
                      {
                        "iteration": 179,
                        "learn": [
                          0.5378379901
                        ],
                        "passed_time": 0.1901397718,
                        "remaining_time": 0.1267598479,
                        "test": [
                          4.159388384
                        ]
                      },
                      {
                        "iteration": 180,
                        "learn": [
                          0.5356656591
                        ],
                        "passed_time": 0.1910768334,
                        "remaining_time": 0.1256251004,
                        "test": [
                          4.159654692
                        ]
                      },
                      {
                        "iteration": 181,
                        "learn": [
                          0.5287725405
                        ],
                        "passed_time": 0.1919945119,
                        "remaining_time": 0.1244799583,
                        "test": [
                          4.161807218
                        ]
                      },
                      {
                        "iteration": 182,
                        "learn": [
                          0.5206702732
                        ],
                        "passed_time": 0.1928145313,
                        "remaining_time": 0.1232748643,
                        "test": [
                          4.160974761
                        ]
                      },
                      {
                        "iteration": 183,
                        "learn": [
                          0.5185251385
                        ],
                        "passed_time": 0.1936504487,
                        "remaining_time": 0.1220839785,
                        "test": [
                          4.159652857
                        ]
                      },
                      {
                        "iteration": 184,
                        "learn": [
                          0.5142445555
                        ],
                        "passed_time": 0.1944627546,
                        "remaining_time": 0.1208822529,
                        "test": [
                          4.159731627
                        ]
                      },
                      {
                        "iteration": 185,
                        "learn": [
                          0.5053724394
                        ],
                        "passed_time": 0.1953068464,
                        "remaining_time": 0.1197041962,
                        "test": [
                          4.160354968
                        ]
                      },
                      {
                        "iteration": 186,
                        "learn": [
                          0.4975258945
                        ],
                        "passed_time": 0.1962362358,
                        "remaining_time": 0.1185812548,
                        "test": [
                          4.157210869
                        ]
                      },
                      {
                        "iteration": 187,
                        "learn": [
                          0.4919826522
                        ],
                        "passed_time": 0.1971553044,
                        "remaining_time": 0.1174542239,
                        "test": [
                          4.156867969
                        ]
                      },
                      {
                        "iteration": 188,
                        "learn": [
                          0.491090044
                        ],
                        "passed_time": 0.1981118996,
                        "remaining_time": 0.1163514331,
                        "test": [
                          4.157387895
                        ]
                      },
                      {
                        "iteration": 189,
                        "learn": [
                          0.4838269123
                        ],
                        "passed_time": 0.1989797678,
                        "remaining_time": 0.1151988129,
                        "test": [
                          4.154045791
                        ]
                      },
                      {
                        "iteration": 190,
                        "learn": [
                          0.4826269393
                        ],
                        "passed_time": 0.1998852485,
                        "remaining_time": 0.1140706392,
                        "test": [
                          4.155577365
                        ]
                      },
                      {
                        "iteration": 191,
                        "learn": [
                          0.4794879204
                        ],
                        "passed_time": 0.2007699707,
                        "remaining_time": 0.1129331085,
                        "test": [
                          4.153843586
                        ]
                      },
                      {
                        "iteration": 192,
                        "learn": [
                          0.4718721867
                        ],
                        "passed_time": 0.2016791102,
                        "remaining_time": 0.1118117347,
                        "test": [
                          4.153720834
                        ]
                      },
                      {
                        "iteration": 193,
                        "learn": [
                          0.4680450641
                        ],
                        "passed_time": 0.2025636623,
                        "remaining_time": 0.1106791145,
                        "test": [
                          4.152295568
                        ]
                      },
                      {
                        "iteration": 194,
                        "learn": [
                          0.464534425
                        ],
                        "passed_time": 0.2034368571,
                        "remaining_time": 0.1095429231,
                        "test": [
                          4.152102094
                        ]
                      },
                      {
                        "iteration": 195,
                        "learn": [
                          0.4617501621
                        ],
                        "passed_time": 0.204324763,
                        "remaining_time": 0.1084172212,
                        "test": [
                          4.153683592
                        ]
                      },
                      {
                        "iteration": 196,
                        "learn": [
                          0.4556476475
                        ],
                        "passed_time": 0.2051832932,
                        "remaining_time": 0.1072785746,
                        "test": [
                          4.155937648
                        ]
                      },
                      {
                        "iteration": 197,
                        "learn": [
                          0.4524990348
                        ],
                        "passed_time": 0.2060373885,
                        "remaining_time": 0.1061404729,
                        "test": [
                          4.152821404
                        ]
                      },
                      {
                        "iteration": 198,
                        "learn": [
                          0.449168268
                        ],
                        "passed_time": 0.2068764097,
                        "remaining_time": 0.1049975748,
                        "test": [
                          4.152549329
                        ]
                      },
                      {
                        "iteration": 199,
                        "learn": [
                          0.4445119537
                        ],
                        "passed_time": 0.2077285836,
                        "remaining_time": 0.1038642918,
                        "test": [
                          4.153034955
                        ]
                      },
                      {
                        "iteration": 200,
                        "learn": [
                          0.4408734483
                        ],
                        "passed_time": 0.2086197401,
                        "remaining_time": 0.1027530063,
                        "test": [
                          4.151807498
                        ]
                      },
                      {
                        "iteration": 201,
                        "learn": [
                          0.4395708318
                        ],
                        "passed_time": 0.2095252036,
                        "remaining_time": 0.1016508413,
                        "test": [
                          4.151795281
                        ]
                      },
                      {
                        "iteration": 202,
                        "learn": [
                          0.4383464242
                        ],
                        "passed_time": 0.2103796149,
                        "remaining_time": 0.1005262199,
                        "test": [
                          4.152133499
                        ]
                      },
                      {
                        "iteration": 203,
                        "learn": [
                          0.4323246668
                        ],
                        "passed_time": 0.2113159724,
                        "remaining_time": 0.09944281052,
                        "test": [
                          4.151642642
                        ]
                      },
                      {
                        "iteration": 204,
                        "learn": [
                          0.4303074962
                        ],
                        "passed_time": 0.2121426152,
                        "remaining_time": 0.09830999242,
                        "test": [
                          4.155152642
                        ]
                      },
                      {
                        "iteration": 205,
                        "learn": [
                          0.428579326
                        ],
                        "passed_time": 0.2129935528,
                        "remaining_time": 0.09719123281,
                        "test": [
                          4.154111378
                        ]
                      },
                      {
                        "iteration": 206,
                        "learn": [
                          0.4266506932
                        ],
                        "passed_time": 0.2138201088,
                        "remaining_time": 0.09606410686,
                        "test": [
                          4.153775984
                        ]
                      },
                      {
                        "iteration": 207,
                        "learn": [
                          0.4222684468
                        ],
                        "passed_time": 0.214918819,
                        "remaining_time": 0.09506024687,
                        "test": [
                          4.155618946
                        ]
                      },
                      {
                        "iteration": 208,
                        "learn": [
                          0.4182719847
                        ],
                        "passed_time": 0.2159050895,
                        "remaining_time": 0.09400652222,
                        "test": [
                          4.156002903
                        ]
                      },
                      {
                        "iteration": 209,
                        "learn": [
                          0.4175514221
                        ],
                        "passed_time": 0.2167283345,
                        "remaining_time": 0.09288357193,
                        "test": [
                          4.15630257
                        ]
                      },
                      {
                        "iteration": 210,
                        "learn": [
                          0.4119555246
                        ],
                        "passed_time": 0.2176245708,
                        "remaining_time": 0.09179425022,
                        "test": [
                          4.151830904
                        ]
                      },
                      {
                        "iteration": 211,
                        "learn": [
                          0.4082191177
                        ],
                        "passed_time": 0.2185155295,
                        "remaining_time": 0.09070455942,
                        "test": [
                          4.151814318
                        ]
                      },
                      {
                        "iteration": 212,
                        "learn": [
                          0.4034535757
                        ],
                        "passed_time": 0.2193852206,
                        "remaining_time": 0.08960804783,
                        "test": [
                          4.151727596
                        ]
                      },
                      {
                        "iteration": 213,
                        "learn": [
                          0.3980755408
                        ],
                        "passed_time": 0.2202293555,
                        "remaining_time": 0.08850338587,
                        "test": [
                          4.150177959
                        ]
                      },
                      {
                        "iteration": 214,
                        "learn": [
                          0.395469411
                        ],
                        "passed_time": 0.2210784639,
                        "remaining_time": 0.08740311363,
                        "test": [
                          4.149253631
                        ]
                      },
                      {
                        "iteration": 215,
                        "learn": [
                          0.3897888501
                        ],
                        "passed_time": 0.2218915426,
                        "remaining_time": 0.08629115544,
                        "test": [
                          4.149882849
                        ]
                      },
                      {
                        "iteration": 216,
                        "learn": [
                          0.388049474
                        ],
                        "passed_time": 0.2228175801,
                        "remaining_time": 0.08522515735,
                        "test": [
                          4.150508267
                        ]
                      },
                      {
                        "iteration": 217,
                        "learn": [
                          0.384166921
                        ],
                        "passed_time": 0.2236800626,
                        "remaining_time": 0.08413653732,
                        "test": [
                          4.1522859
                        ]
                      },
                      {
                        "iteration": 218,
                        "learn": [
                          0.3793904708
                        ],
                        "passed_time": 0.2246118176,
                        "remaining_time": 0.08307560378,
                        "test": [
                          4.152306665
                        ]
                      },
                      {
                        "iteration": 219,
                        "learn": [
                          0.3756968919
                        ],
                        "passed_time": 0.2255716829,
                        "remaining_time": 0.08202606652,
                        "test": [
                          4.150518114
                        ]
                      },
                      {
                        "iteration": 220,
                        "learn": [
                          0.3741791215
                        ],
                        "passed_time": 0.2282554747,
                        "remaining_time": 0.08159358596,
                        "test": [
                          4.149340333
                        ]
                      },
                      {
                        "iteration": 221,
                        "learn": [
                          0.3700140179
                        ],
                        "passed_time": 0.2307988887,
                        "remaining_time": 0.08109150142,
                        "test": [
                          4.150233964
                        ]
                      },
                      {
                        "iteration": 222,
                        "learn": [
                          0.3678918272
                        ],
                        "passed_time": 0.232733819,
                        "remaining_time": 0.08036100476,
                        "test": [
                          4.150043499
                        ]
                      },
                      {
                        "iteration": 223,
                        "learn": [
                          0.3627015625
                        ],
                        "passed_time": 0.2345088966,
                        "remaining_time": 0.0795655185,
                        "test": [
                          4.149916231
                        ]
                      },
                      {
                        "iteration": 224,
                        "learn": [
                          0.3617214735
                        ],
                        "passed_time": 0.2369521942,
                        "remaining_time": 0.07898406473,
                        "test": [
                          4.15037544
                        ]
                      },
                      {
                        "iteration": 225,
                        "learn": [
                          0.3609554384
                        ],
                        "passed_time": 0.2378945583,
                        "remaining_time": 0.07789467838,
                        "test": [
                          4.151110565
                        ]
                      },
                      {
                        "iteration": 226,
                        "learn": [
                          0.360231306
                        ],
                        "passed_time": 0.2387985753,
                        "remaining_time": 0.0767942555,
                        "test": [
                          4.151326542
                        ]
                      },
                      {
                        "iteration": 227,
                        "learn": [
                          0.3567539067
                        ],
                        "passed_time": 0.2396804596,
                        "remaining_time": 0.07568856619,
                        "test": [
                          4.151775668
                        ]
                      },
                      {
                        "iteration": 228,
                        "learn": [
                          0.3527100594
                        ],
                        "passed_time": 0.2405450813,
                        "remaining_time": 0.07457947937,
                        "test": [
                          4.154354422
                        ]
                      },
                      {
                        "iteration": 229,
                        "learn": [
                          0.348939665
                        ],
                        "passed_time": 0.2414130155,
                        "remaining_time": 0.07347352646,
                        "test": [
                          4.155329115
                        ]
                      },
                      {
                        "iteration": 230,
                        "learn": [
                          0.3454019341
                        ],
                        "passed_time": 0.2423616226,
                        "remaining_time": 0.07239373142,
                        "test": [
                          4.155525289
                        ]
                      },
                      {
                        "iteration": 231,
                        "learn": [
                          0.3411121568
                        ],
                        "passed_time": 0.2432456897,
                        "remaining_time": 0.07129615042,
                        "test": [
                          4.155682186
                        ]
                      },
                      {
                        "iteration": 232,
                        "learn": [
                          0.338985696
                        ],
                        "passed_time": 0.2441097532,
                        "remaining_time": 0.07019465007,
                        "test": [
                          4.155435315
                        ]
                      },
                      {
                        "iteration": 233,
                        "learn": [
                          0.3353409253
                        ],
                        "passed_time": 0.2449522822,
                        "remaining_time": 0.06908910524,
                        "test": [
                          4.15552755
                        ]
                      },
                      {
                        "iteration": 234,
                        "learn": [
                          0.3332122511
                        ],
                        "passed_time": 0.2458084136,
                        "remaining_time": 0.06798956121,
                        "test": [
                          4.156910298
                        ]
                      },
                      {
                        "iteration": 235,
                        "learn": [
                          0.3326934248
                        ],
                        "passed_time": 0.246674685,
                        "remaining_time": 0.06689482982,
                        "test": [
                          4.157198796
                        ]
                      },
                      {
                        "iteration": 236,
                        "learn": [
                          0.3285601169
                        ],
                        "passed_time": 0.2476112188,
                        "remaining_time": 0.06582070373,
                        "test": [
                          4.157665858
                        ]
                      },
                      {
                        "iteration": 237,
                        "learn": [
                          0.3255160217
                        ],
                        "passed_time": 0.2485164273,
                        "remaining_time": 0.06473957349,
                        "test": [
                          4.157015329
                        ]
                      },
                      {
                        "iteration": 238,
                        "learn": [
                          0.3238910975
                        ],
                        "passed_time": 0.2494396446,
                        "remaining_time": 0.06366451181,
                        "test": [
                          4.157774364
                        ]
                      },
                      {
                        "iteration": 239,
                        "learn": [
                          0.3182328901
                        ],
                        "passed_time": 0.25039079,
                        "remaining_time": 0.0625976975,
                        "test": [
                          4.158114826
                        ]
                      },
                      {
                        "iteration": 240,
                        "learn": [
                          0.3134551275
                        ],
                        "passed_time": 0.2513151424,
                        "remaining_time": 0.06152528383,
                        "test": [
                          4.159250773
                        ]
                      },
                      {
                        "iteration": 241,
                        "learn": [
                          0.309352224
                        ],
                        "passed_time": 0.2521992718,
                        "remaining_time": 0.06044445358,
                        "test": [
                          4.159217448
                        ]
                      },
                      {
                        "iteration": 242,
                        "learn": [
                          0.3060330572
                        ],
                        "passed_time": 0.2531913466,
                        "remaining_time": 0.05939056279,
                        "test": [
                          4.158826241
                        ]
                      },
                      {
                        "iteration": 243,
                        "learn": [
                          0.3014237081
                        ],
                        "passed_time": 0.2540669848,
                        "remaining_time": 0.05831045552,
                        "test": [
                          4.161342232
                        ]
                      },
                      {
                        "iteration": 244,
                        "learn": [
                          0.2983293485
                        ],
                        "passed_time": 0.2550114612,
                        "remaining_time": 0.05724747088,
                        "test": [
                          4.162151706
                        ]
                      },
                      {
                        "iteration": 245,
                        "learn": [
                          0.2975098059
                        ],
                        "passed_time": 0.2559310221,
                        "remaining_time": 0.05617998046,
                        "test": [
                          4.162117262
                        ]
                      },
                      {
                        "iteration": 246,
                        "learn": [
                          0.293718977
                        ],
                        "passed_time": 0.2568719675,
                        "remaining_time": 0.05511827642,
                        "test": [
                          4.161493979
                        ]
                      },
                      {
                        "iteration": 247,
                        "learn": [
                          0.2902476831
                        ],
                        "passed_time": 0.2577367469,
                        "remaining_time": 0.05404157597,
                        "test": [
                          4.162721412
                        ]
                      },
                      {
                        "iteration": 248,
                        "learn": [
                          0.2867860499
                        ],
                        "passed_time": 0.2585739525,
                        "remaining_time": 0.05296093004,
                        "test": [
                          4.161340364
                        ]
                      },
                      {
                        "iteration": 249,
                        "learn": [
                          0.2820609887
                        ],
                        "passed_time": 0.2594325454,
                        "remaining_time": 0.05188650908,
                        "test": [
                          4.16291673
                        ]
                      },
                      {
                        "iteration": 250,
                        "learn": [
                          0.2772088822
                        ],
                        "passed_time": 0.2603170275,
                        "remaining_time": 0.05081886195,
                        "test": [
                          4.162354998
                        ]
                      },
                      {
                        "iteration": 251,
                        "learn": [
                          0.2735717928
                        ],
                        "passed_time": 0.2611985118,
                        "remaining_time": 0.04975209748,
                        "test": [
                          4.161533259
                        ]
                      },
                      {
                        "iteration": 252,
                        "learn": [
                          0.2716952623
                        ],
                        "passed_time": 0.2620745545,
                        "remaining_time": 0.0486857868,
                        "test": [
                          4.161399569
                        ]
                      },
                      {
                        "iteration": 253,
                        "learn": [
                          0.2683706248
                        ],
                        "passed_time": 0.263011372,
                        "remaining_time": 0.04763198075,
                        "test": [
                          4.16058331
                        ]
                      },
                      {
                        "iteration": 254,
                        "learn": [
                          0.2642687755
                        ],
                        "passed_time": 0.2638538082,
                        "remaining_time": 0.04656243675,
                        "test": [
                          4.161717011
                        ]
                      },
                      {
                        "iteration": 255,
                        "learn": [
                          0.2620151502
                        ],
                        "passed_time": 0.2646915616,
                        "remaining_time": 0.04549386214,
                        "test": [
                          4.160960047
                        ]
                      },
                      {
                        "iteration": 256,
                        "learn": [
                          0.2602133324
                        ],
                        "passed_time": 0.2656562684,
                        "remaining_time": 0.04444832507,
                        "test": [
                          4.160525658
                        ]
                      },
                      {
                        "iteration": 257,
                        "learn": [
                          0.2564207082
                        ],
                        "passed_time": 0.2665120775,
                        "remaining_time": 0.04338568704,
                        "test": [
                          4.159941581
                        ]
                      },
                      {
                        "iteration": 258,
                        "learn": [
                          0.2559087302
                        ],
                        "passed_time": 0.2673807067,
                        "remaining_time": 0.04232667558,
                        "test": [
                          4.160034882
                        ]
                      },
                      {
                        "iteration": 259,
                        "learn": [
                          0.2519442091
                        ],
                        "passed_time": 0.2682159904,
                        "remaining_time": 0.04126399852,
                        "test": [
                          4.157972957
                        ]
                      },
                      {
                        "iteration": 260,
                        "learn": [
                          0.2484641563
                        ],
                        "passed_time": 0.269050675,
                        "remaining_time": 0.04020297442,
                        "test": [
                          4.157257078
                        ]
                      },
                      {
                        "iteration": 261,
                        "learn": [
                          0.2464835475
                        ],
                        "passed_time": 0.2699195942,
                        "remaining_time": 0.03914864343,
                        "test": [
                          4.157670212
                        ]
                      },
                      {
                        "iteration": 262,
                        "learn": [
                          0.2447624969
                        ],
                        "passed_time": 0.2707736241,
                        "remaining_time": 0.03809362772,
                        "test": [
                          4.157246868
                        ]
                      },
                      {
                        "iteration": 263,
                        "learn": [
                          0.2418853882
                        ],
                        "passed_time": 0.2716676857,
                        "remaining_time": 0.03704559351,
                        "test": [
                          4.159020046
                        ]
                      },
                      {
                        "iteration": 264,
                        "learn": [
                          0.2390571226
                        ],
                        "passed_time": 0.2726400961,
                        "remaining_time": 0.03600906929,
                        "test": [
                          4.157558528
                        ]
                      },
                      {
                        "iteration": 265,
                        "learn": [
                          0.2361009498
                        ],
                        "passed_time": 0.27360065,
                        "remaining_time": 0.03497151166,
                        "test": [
                          4.156940838
                        ]
                      },
                      {
                        "iteration": 266,
                        "learn": [
                          0.2339447811
                        ],
                        "passed_time": 0.2744571669,
                        "remaining_time": 0.03392167231,
                        "test": [
                          4.157272694
                        ]
                      },
                      {
                        "iteration": 267,
                        "learn": [
                          0.232170489
                        ],
                        "passed_time": 0.2753183457,
                        "remaining_time": 0.03287383233,
                        "test": [
                          4.156602861
                        ]
                      },
                      {
                        "iteration": 268,
                        "learn": [
                          0.2313211824
                        ],
                        "passed_time": 0.2762864955,
                        "remaining_time": 0.03183970766,
                        "test": [
                          4.155997907
                        ]
                      },
                      {
                        "iteration": 269,
                        "learn": [
                          0.2291906989
                        ],
                        "passed_time": 0.2771852886,
                        "remaining_time": 0.0307983654,
                        "test": [
                          4.154668741
                        ]
                      },
                      {
                        "iteration": 270,
                        "learn": [
                          0.2287965771
                        ],
                        "passed_time": 0.2780215087,
                        "remaining_time": 0.02975137916,
                        "test": [
                          4.154786708
                        ]
                      },
                      {
                        "iteration": 271,
                        "learn": [
                          0.2271637858
                        ],
                        "passed_time": 0.27887433,
                        "remaining_time": 0.02870765162,
                        "test": [
                          4.155416575
                        ]
                      },
                      {
                        "iteration": 272,
                        "learn": [
                          0.226266803
                        ],
                        "passed_time": 0.2796987,
                        "remaining_time": 0.02766250879,
                        "test": [
                          4.155577219
                        ]
                      },
                      {
                        "iteration": 273,
                        "learn": [
                          0.2250156756
                        ],
                        "passed_time": 0.2805683565,
                        "remaining_time": 0.02662327471,
                        "test": [
                          4.156194702
                        ]
                      },
                      {
                        "iteration": 274,
                        "learn": [
                          0.2219848601
                        ],
                        "passed_time": 0.2814340538,
                        "remaining_time": 0.02558491398,
                        "test": [
                          4.156858053
                        ]
                      },
                      {
                        "iteration": 275,
                        "learn": [
                          0.2188905317
                        ],
                        "passed_time": 0.2823277636,
                        "remaining_time": 0.02455024031,
                        "test": [
                          4.157174247
                        ]
                      },
                      {
                        "iteration": 276,
                        "learn": [
                          0.218290271
                        ],
                        "passed_time": 0.2832305905,
                        "remaining_time": 0.02351734145,
                        "test": [
                          4.15637019
                        ]
                      },
                      {
                        "iteration": 277,
                        "learn": [
                          0.2148325281
                        ],
                        "passed_time": 0.284095975,
                        "remaining_time": 0.02248241529,
                        "test": [
                          4.155736728
                        ]
                      },
                      {
                        "iteration": 278,
                        "learn": [
                          0.2118695815
                        ],
                        "passed_time": 0.2851122645,
                        "remaining_time": 0.02146006292,
                        "test": [
                          4.156545561
                        ]
                      },
                      {
                        "iteration": 279,
                        "learn": [
                          0.2088276034
                        ],
                        "passed_time": 0.2860303494,
                        "remaining_time": 0.02043073924,
                        "test": [
                          4.15618011
                        ]
                      },
                      {
                        "iteration": 280,
                        "learn": [
                          0.2058894313
                        ],
                        "passed_time": 0.2868876845,
                        "remaining_time": 0.01939809966,
                        "test": [
                          4.156328978
                        ]
                      },
                      {
                        "iteration": 281,
                        "learn": [
                          0.2050462801
                        ],
                        "passed_time": 0.287788255,
                        "remaining_time": 0.01836946309,
                        "test": [
                          4.156724955
                        ]
                      },
                      {
                        "iteration": 282,
                        "learn": [
                          0.2025995379
                        ],
                        "passed_time": 0.2887034061,
                        "remaining_time": 0.01734260744,
                        "test": [
                          4.1566041
                        ]
                      },
                      {
                        "iteration": 283,
                        "learn": [
                          0.1998688695
                        ],
                        "passed_time": 0.2896332533,
                        "remaining_time": 0.01631736639,
                        "test": [
                          4.156976935
                        ]
                      },
                      {
                        "iteration": 284,
                        "learn": [
                          0.1975985876
                        ],
                        "passed_time": 0.2905044263,
                        "remaining_time": 0.01528970665,
                        "test": [
                          4.1576941
                        ]
                      },
                      {
                        "iteration": 285,
                        "learn": [
                          0.1957872127
                        ],
                        "passed_time": 0.2913621109,
                        "remaining_time": 0.01426248095,
                        "test": [
                          4.159551307
                        ]
                      },
                      {
                        "iteration": 286,
                        "learn": [
                          0.194310069
                        ],
                        "passed_time": 0.2923333821,
                        "remaining_time": 0.01324158177,
                        "test": [
                          4.159225916
                        ]
                      },
                      {
                        "iteration": 287,
                        "learn": [
                          0.1930146029
                        ],
                        "passed_time": 0.2932331031,
                        "remaining_time": 0.01221804596,
                        "test": [
                          4.159836924
                        ]
                      },
                      {
                        "iteration": 288,
                        "learn": [
                          0.1919758678
                        ],
                        "passed_time": 0.2941096776,
                        "remaining_time": 0.011194486,
                        "test": [
                          4.159514399
                        ]
                      },
                      {
                        "iteration": 289,
                        "learn": [
                          0.1918175765
                        ],
                        "passed_time": 0.2950012864,
                        "remaining_time": 0.01017245815,
                        "test": [
                          4.159638246
                        ]
                      },
                      {
                        "iteration": 290,
                        "learn": [
                          0.1897547542
                        ],
                        "passed_time": 0.2958745944,
                        "remaining_time": 0.009150760651,
                        "test": [
                          4.160813429
                        ]
                      },
                      {
                        "iteration": 291,
                        "learn": [
                          0.1869213464
                        ],
                        "passed_time": 0.2967893123,
                        "remaining_time": 0.008131214036,
                        "test": [
                          4.160768515
                        ]
                      },
                      {
                        "iteration": 292,
                        "learn": [
                          0.1855353865
                        ],
                        "passed_time": 0.2976808852,
                        "remaining_time": 0.007111830021,
                        "test": [
                          4.160486086
                        ]
                      },
                      {
                        "iteration": 293,
                        "learn": [
                          0.1827896559
                        ],
                        "passed_time": 0.298631696,
                        "remaining_time": 0.006094524408,
                        "test": [
                          4.162040311
                        ]
                      },
                      {
                        "iteration": 294,
                        "learn": [
                          0.1801422632
                        ],
                        "passed_time": 0.2995035358,
                        "remaining_time": 0.005076331115,
                        "test": [
                          4.161539962
                        ]
                      },
                      {
                        "iteration": 295,
                        "learn": [
                          0.1785014638
                        ],
                        "passed_time": 0.3005348759,
                        "remaining_time": 0.004061282106,
                        "test": [
                          4.162214382
                        ]
                      },
                      {
                        "iteration": 296,
                        "learn": [
                          0.1760479615
                        ],
                        "passed_time": 0.3014611234,
                        "remaining_time": 0.003045061852,
                        "test": [
                          4.161083825
                        ]
                      },
                      {
                        "iteration": 297,
                        "learn": [
                          0.1737227302
                        ],
                        "passed_time": 0.3024973137,
                        "remaining_time": 0.002030183313,
                        "test": [
                          4.16018653
                        ]
                      },
                      {
                        "iteration": 298,
                        "learn": [
                          0.1715552011
                        ],
                        "passed_time": 0.3033808358,
                        "remaining_time": 0.001014651625,
                        "test": [
                          4.159292501
                        ]
                      },
                      {
                        "iteration": 299,
                        "learn": [
                          0.1700065167
                        ],
                        "passed_time": 0.304314449,
                        "remaining_time": 0,
                        "test": [
                          4.159044914
                        ]
                      }
                    ],
                    "meta": {
                      "iteration_count": 300,
                      "launch_mode": "Train",
                      "learn_metrics": [
                        {
                          "best_value": "Min",
                          "name": "RMSE"
                        }
                      ],
                      "learn_sets": [
                        "learn"
                      ],
                      "name": "experiment",
                      "parameters": "",
                      "test_metrics": [
                        {
                          "best_value": "Min",
                          "name": "RMSE"
                        }
                      ],
                      "test_sets": [
                        "test"
                      ]
                    }
                  },
                  "passed_iterations": 299,
                  "total_iterations": 300
                },
                "name": "catboost_info",
                "path": "catboost_info"
              }
            },
            "layout": "IPY_MODEL_2a0e351fc6bb4cb88bf85ea6499e95e4"
          }
        },
        "4d8371979cae49298a014963f67cd01a": {
          "model_module": "@jupyter-widgets/base",
          "model_module_version": "1.2.0",
          "model_name": "LayoutModel",
          "state": {
            "_model_module": "@jupyter-widgets/base",
            "_model_module_version": "1.2.0",
            "_model_name": "LayoutModel",
            "_view_count": null,
            "_view_module": "@jupyter-widgets/base",
            "_view_module_version": "1.2.0",
            "_view_name": "LayoutView",
            "align_content": null,
            "align_items": null,
            "align_self": null,
            "border": null,
            "bottom": null,
            "display": null,
            "flex": null,
            "flex_flow": null,
            "grid_area": null,
            "grid_auto_columns": null,
            "grid_auto_flow": null,
            "grid_auto_rows": null,
            "grid_column": null,
            "grid_gap": null,
            "grid_row": null,
            "grid_template_areas": null,
            "grid_template_columns": null,
            "grid_template_rows": null,
            "height": null,
            "justify_content": null,
            "justify_items": null,
            "left": null,
            "margin": null,
            "max_height": null,
            "max_width": null,
            "min_height": null,
            "min_width": null,
            "object_fit": null,
            "object_position": null,
            "order": null,
            "overflow": null,
            "overflow_x": null,
            "overflow_y": null,
            "padding": null,
            "right": null,
            "top": null,
            "visibility": null,
            "width": null
          }
        },
        "59255daea6974a4d8c6ce4bd29ce2d45": {
          "model_module": "@jupyter-widgets/controls",
          "model_module_version": "1.5.0",
          "model_name": "HTMLModel",
          "state": {
            "_dom_classes": [],
            "_model_module": "@jupyter-widgets/controls",
            "_model_module_version": "1.5.0",
            "_model_name": "HTMLModel",
            "_view_count": null,
            "_view_module": "@jupyter-widgets/controls",
            "_view_module_version": "1.5.0",
            "_view_name": "HTMLView",
            "description": "",
            "description_tooltip": null,
            "layout": "IPY_MODEL_143ac01666b24c9083b2333cc5f45fb2",
            "placeholder": "​",
            "style": "IPY_MODEL_f1bef7d1e0d047fca23d06536eb1bb3f",
            "value": " 1182/1099121 [00:02&lt;41:48, 437.61it/s]"
          }
        },
        "6cc0d93005994319b5313423b76c5749": {
          "model_module": "@jupyter-widgets/controls",
          "model_module_version": "1.5.0",
          "model_name": "HTMLModel",
          "state": {
            "_dom_classes": [],
            "_model_module": "@jupyter-widgets/controls",
            "_model_module_version": "1.5.0",
            "_model_name": "HTMLModel",
            "_view_count": null,
            "_view_module": "@jupyter-widgets/controls",
            "_view_module_version": "1.5.0",
            "_view_name": "HTMLView",
            "description": "",
            "description_tooltip": null,
            "layout": "IPY_MODEL_9b292e7b88be45b2ba457b7ae687d6ee",
            "placeholder": "​",
            "style": "IPY_MODEL_e76677397acf4be49d029bf5e6508e97",
            "value": "  0%"
          }
        },
        "6e8429381ecf46ac9a3d4bb17ea47072": {
          "model_module": "@jupyter-widgets/base",
          "model_module_version": "1.2.0",
          "model_name": "LayoutModel",
          "state": {
            "_model_module": "@jupyter-widgets/base",
            "_model_module_version": "1.2.0",
            "_model_name": "LayoutModel",
            "_view_count": null,
            "_view_module": "@jupyter-widgets/base",
            "_view_module_version": "1.2.0",
            "_view_name": "LayoutView",
            "align_content": null,
            "align_items": null,
            "align_self": null,
            "border": null,
            "bottom": null,
            "display": null,
            "flex": null,
            "flex_flow": null,
            "grid_area": null,
            "grid_auto_columns": null,
            "grid_auto_flow": null,
            "grid_auto_rows": null,
            "grid_column": null,
            "grid_gap": null,
            "grid_row": null,
            "grid_template_areas": null,
            "grid_template_columns": null,
            "grid_template_rows": null,
            "height": null,
            "justify_content": null,
            "justify_items": null,
            "left": null,
            "margin": null,
            "max_height": null,
            "max_width": null,
            "min_height": null,
            "min_width": null,
            "object_fit": null,
            "object_position": null,
            "order": null,
            "overflow": null,
            "overflow_x": null,
            "overflow_y": null,
            "padding": null,
            "right": null,
            "top": null,
            "visibility": null,
            "width": null
          }
        },
        "70d80c0b576f42fd95eb1bbae3eb6037": {
          "model_module": "@jupyter-widgets/controls",
          "model_module_version": "1.5.0",
          "model_name": "FloatProgressModel",
          "state": {
            "_dom_classes": [],
            "_model_module": "@jupyter-widgets/controls",
            "_model_module_version": "1.5.0",
            "_model_name": "FloatProgressModel",
            "_view_count": null,
            "_view_module": "@jupyter-widgets/controls",
            "_view_module_version": "1.5.0",
            "_view_name": "ProgressView",
            "bar_style": "danger",
            "description": "",
            "description_tooltip": null,
            "layout": "IPY_MODEL_4d8371979cae49298a014963f67cd01a",
            "max": 1099121,
            "min": 0,
            "orientation": "horizontal",
            "style": "IPY_MODEL_9dcaad65d08d4e77983bbe3150bc3924",
            "value": 144
          }
        },
        "859f367d1ad04fe39ecf97e5f0746df1": {
          "model_module": "@jupyter-widgets/base",
          "model_module_version": "1.2.0",
          "model_name": "LayoutModel",
          "state": {
            "_model_module": "@jupyter-widgets/base",
            "_model_module_version": "1.2.0",
            "_model_name": "LayoutModel",
            "_view_count": null,
            "_view_module": "@jupyter-widgets/base",
            "_view_module_version": "1.2.0",
            "_view_name": "LayoutView",
            "align_content": null,
            "align_items": null,
            "align_self": null,
            "border": null,
            "bottom": null,
            "display": null,
            "flex": null,
            "flex_flow": null,
            "grid_area": null,
            "grid_auto_columns": null,
            "grid_auto_flow": null,
            "grid_auto_rows": null,
            "grid_column": null,
            "grid_gap": null,
            "grid_row": null,
            "grid_template_areas": null,
            "grid_template_columns": null,
            "grid_template_rows": null,
            "height": null,
            "justify_content": null,
            "justify_items": null,
            "left": null,
            "margin": null,
            "max_height": null,
            "max_width": null,
            "min_height": null,
            "min_width": null,
            "object_fit": null,
            "object_position": null,
            "order": null,
            "overflow": null,
            "overflow_x": null,
            "overflow_y": null,
            "padding": null,
            "right": null,
            "top": null,
            "visibility": null,
            "width": null
          }
        },
        "9718f0c3d5c64b65aa62268830731966": {
          "model_module": "@jupyter-widgets/controls",
          "model_module_version": "1.5.0",
          "model_name": "HBoxModel",
          "state": {
            "_dom_classes": [],
            "_model_module": "@jupyter-widgets/controls",
            "_model_module_version": "1.5.0",
            "_model_name": "HBoxModel",
            "_view_count": null,
            "_view_module": "@jupyter-widgets/controls",
            "_view_module_version": "1.5.0",
            "_view_name": "HBoxView",
            "box_style": "",
            "children": [
              "IPY_MODEL_6cc0d93005994319b5313423b76c5749",
              "IPY_MODEL_70d80c0b576f42fd95eb1bbae3eb6037",
              "IPY_MODEL_a749f675ab444029a4e3670b9ca66de0"
            ],
            "layout": "IPY_MODEL_a11baad9db88477781c34ee58720c850"
          }
        },
        "9b292e7b88be45b2ba457b7ae687d6ee": {
          "model_module": "@jupyter-widgets/base",
          "model_module_version": "1.2.0",
          "model_name": "LayoutModel",
          "state": {
            "_model_module": "@jupyter-widgets/base",
            "_model_module_version": "1.2.0",
            "_model_name": "LayoutModel",
            "_view_count": null,
            "_view_module": "@jupyter-widgets/base",
            "_view_module_version": "1.2.0",
            "_view_name": "LayoutView",
            "align_content": null,
            "align_items": null,
            "align_self": null,
            "border": null,
            "bottom": null,
            "display": null,
            "flex": null,
            "flex_flow": null,
            "grid_area": null,
            "grid_auto_columns": null,
            "grid_auto_flow": null,
            "grid_auto_rows": null,
            "grid_column": null,
            "grid_gap": null,
            "grid_row": null,
            "grid_template_areas": null,
            "grid_template_columns": null,
            "grid_template_rows": null,
            "height": null,
            "justify_content": null,
            "justify_items": null,
            "left": null,
            "margin": null,
            "max_height": null,
            "max_width": null,
            "min_height": null,
            "min_width": null,
            "object_fit": null,
            "object_position": null,
            "order": null,
            "overflow": null,
            "overflow_x": null,
            "overflow_y": null,
            "padding": null,
            "right": null,
            "top": null,
            "visibility": null,
            "width": null
          }
        },
        "9dcaad65d08d4e77983bbe3150bc3924": {
          "model_module": "@jupyter-widgets/controls",
          "model_module_version": "1.5.0",
          "model_name": "ProgressStyleModel",
          "state": {
            "_model_module": "@jupyter-widgets/controls",
            "_model_module_version": "1.5.0",
            "_model_name": "ProgressStyleModel",
            "_view_count": null,
            "_view_module": "@jupyter-widgets/base",
            "_view_module_version": "1.2.0",
            "_view_name": "StyleView",
            "bar_color": null,
            "description_width": ""
          }
        },
        "a11baad9db88477781c34ee58720c850": {
          "model_module": "@jupyter-widgets/base",
          "model_module_version": "1.2.0",
          "model_name": "LayoutModel",
          "state": {
            "_model_module": "@jupyter-widgets/base",
            "_model_module_version": "1.2.0",
            "_model_name": "LayoutModel",
            "_view_count": null,
            "_view_module": "@jupyter-widgets/base",
            "_view_module_version": "1.2.0",
            "_view_name": "LayoutView",
            "align_content": null,
            "align_items": null,
            "align_self": null,
            "border": null,
            "bottom": null,
            "display": null,
            "flex": null,
            "flex_flow": null,
            "grid_area": null,
            "grid_auto_columns": null,
            "grid_auto_flow": null,
            "grid_auto_rows": null,
            "grid_column": null,
            "grid_gap": null,
            "grid_row": null,
            "grid_template_areas": null,
            "grid_template_columns": null,
            "grid_template_rows": null,
            "height": null,
            "justify_content": null,
            "justify_items": null,
            "left": null,
            "margin": null,
            "max_height": null,
            "max_width": null,
            "min_height": null,
            "min_width": null,
            "object_fit": null,
            "object_position": null,
            "order": null,
            "overflow": null,
            "overflow_x": null,
            "overflow_y": null,
            "padding": null,
            "right": null,
            "top": null,
            "visibility": null,
            "width": null
          }
        },
        "a749f675ab444029a4e3670b9ca66de0": {
          "model_module": "@jupyter-widgets/controls",
          "model_module_version": "1.5.0",
          "model_name": "HTMLModel",
          "state": {
            "_dom_classes": [],
            "_model_module": "@jupyter-widgets/controls",
            "_model_module_version": "1.5.0",
            "_model_name": "HTMLModel",
            "_view_count": null,
            "_view_module": "@jupyter-widgets/controls",
            "_view_module_version": "1.5.0",
            "_view_name": "HTMLView",
            "description": "",
            "description_tooltip": null,
            "layout": "IPY_MODEL_d7c40694a2904695972b1a9f6321af79",
            "placeholder": "​",
            "style": "IPY_MODEL_f2a4a4691f9643c682226bdf4cbe8d7f",
            "value": " 144/1099121 [00:02&lt;4:36:31, 66.24it/s]"
          }
        },
        "ad72fe4889df43819713f2a0230aa06b": {
          "model_module": "@jupyter-widgets/controls",
          "model_module_version": "1.5.0",
          "model_name": "DescriptionStyleModel",
          "state": {
            "_model_module": "@jupyter-widgets/controls",
            "_model_module_version": "1.5.0",
            "_model_name": "DescriptionStyleModel",
            "_view_count": null,
            "_view_module": "@jupyter-widgets/base",
            "_view_module_version": "1.2.0",
            "_view_name": "StyleView",
            "description_width": ""
          }
        },
        "d10b97e28da74b859c151aa509e9eb10": {
          "model_module": "@jupyter-widgets/controls",
          "model_module_version": "1.5.0",
          "model_name": "HBoxModel",
          "state": {
            "_dom_classes": [],
            "_model_module": "@jupyter-widgets/controls",
            "_model_module_version": "1.5.0",
            "_model_name": "HBoxModel",
            "_view_count": null,
            "_view_module": "@jupyter-widgets/controls",
            "_view_module_version": "1.5.0",
            "_view_name": "HBoxView",
            "box_style": "",
            "children": [
              "IPY_MODEL_276ce09ffa9f43489d45e8672ceaa107",
              "IPY_MODEL_193006c5474949c69bbc0cca8d972a31",
              "IPY_MODEL_59255daea6974a4d8c6ce4bd29ce2d45"
            ],
            "layout": "IPY_MODEL_242636873a68452cbae9bbfa360a686d"
          }
        },
        "d7c40694a2904695972b1a9f6321af79": {
          "model_module": "@jupyter-widgets/base",
          "model_module_version": "1.2.0",
          "model_name": "LayoutModel",
          "state": {
            "_model_module": "@jupyter-widgets/base",
            "_model_module_version": "1.2.0",
            "_model_name": "LayoutModel",
            "_view_count": null,
            "_view_module": "@jupyter-widgets/base",
            "_view_module_version": "1.2.0",
            "_view_name": "LayoutView",
            "align_content": null,
            "align_items": null,
            "align_self": null,
            "border": null,
            "bottom": null,
            "display": null,
            "flex": null,
            "flex_flow": null,
            "grid_area": null,
            "grid_auto_columns": null,
            "grid_auto_flow": null,
            "grid_auto_rows": null,
            "grid_column": null,
            "grid_gap": null,
            "grid_row": null,
            "grid_template_areas": null,
            "grid_template_columns": null,
            "grid_template_rows": null,
            "height": null,
            "justify_content": null,
            "justify_items": null,
            "left": null,
            "margin": null,
            "max_height": null,
            "max_width": null,
            "min_height": null,
            "min_width": null,
            "object_fit": null,
            "object_position": null,
            "order": null,
            "overflow": null,
            "overflow_x": null,
            "overflow_y": null,
            "padding": null,
            "right": null,
            "top": null,
            "visibility": null,
            "width": null
          }
        },
        "e3f21d6adea74401b9752b4e9b7cb170": {
          "model_module": "@jupyter-widgets/controls",
          "model_module_version": "1.5.0",
          "model_name": "ProgressStyleModel",
          "state": {
            "_model_module": "@jupyter-widgets/controls",
            "_model_module_version": "1.5.0",
            "_model_name": "ProgressStyleModel",
            "_view_count": null,
            "_view_module": "@jupyter-widgets/base",
            "_view_module_version": "1.2.0",
            "_view_name": "StyleView",
            "bar_color": null,
            "description_width": ""
          }
        },
        "e76677397acf4be49d029bf5e6508e97": {
          "model_module": "@jupyter-widgets/controls",
          "model_module_version": "1.5.0",
          "model_name": "DescriptionStyleModel",
          "state": {
            "_model_module": "@jupyter-widgets/controls",
            "_model_module_version": "1.5.0",
            "_model_name": "DescriptionStyleModel",
            "_view_count": null,
            "_view_module": "@jupyter-widgets/base",
            "_view_module_version": "1.2.0",
            "_view_name": "StyleView",
            "description_width": ""
          }
        },
        "f1bef7d1e0d047fca23d06536eb1bb3f": {
          "model_module": "@jupyter-widgets/controls",
          "model_module_version": "1.5.0",
          "model_name": "DescriptionStyleModel",
          "state": {
            "_model_module": "@jupyter-widgets/controls",
            "_model_module_version": "1.5.0",
            "_model_name": "DescriptionStyleModel",
            "_view_count": null,
            "_view_module": "@jupyter-widgets/base",
            "_view_module_version": "1.2.0",
            "_view_name": "StyleView",
            "description_width": ""
          }
        },
        "f2a4a4691f9643c682226bdf4cbe8d7f": {
          "model_module": "@jupyter-widgets/controls",
          "model_module_version": "1.5.0",
          "model_name": "DescriptionStyleModel",
          "state": {
            "_model_module": "@jupyter-widgets/controls",
            "_model_module_version": "1.5.0",
            "_model_name": "DescriptionStyleModel",
            "_view_count": null,
            "_view_module": "@jupyter-widgets/base",
            "_view_module_version": "1.2.0",
            "_view_name": "StyleView",
            "description_width": ""
          }
        }
      }
    }
  },
  "nbformat": 4,
  "nbformat_minor": 0
}
