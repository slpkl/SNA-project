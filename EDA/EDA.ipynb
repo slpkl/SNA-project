{
 "cells": [
  {
   "cell_type": "code",
   "execution_count": 1,
   "metadata": {},
   "outputs": [],
   "source": [
    "import networkx as nx\n",
    "import matplotlib.pyplot as plt\n",
    "import tarfile\n",
    "import pandas as pd\n",
    "import numpy as np\n",
    "import igraph as ig"
   ]
  },
  {
   "cell_type": "code",
   "execution_count": 2,
   "metadata": {},
   "outputs": [],
   "source": [
    "G = nx.read_edgelist(\"soc-pokec-relationships.txt.gz\", create_using = nx.DiGraph())"
   ]
  },
  {
   "cell_type": "code",
   "execution_count": 3,
   "metadata": {},
   "outputs": [],
   "source": [
    "G_friends = G.to_undirected(reciprocal=True)"
   ]
  },
  {
   "cell_type": "code",
   "execution_count": 4,
   "metadata": {},
   "outputs": [
    {
     "data": {
      "text/plain": [
       "8320600"
      ]
     },
     "execution_count": 4,
     "metadata": {},
     "output_type": "execute_result"
    }
   ],
   "source": [
    "G_friends.number_of_edges()"
   ]
  },
  {
   "cell_type": "code",
   "execution_count": 3,
   "metadata": {},
   "outputs": [],
   "source": [
    "columns = [\n",
    "    \"user_id\", \"public\", \"completion_percentage\", \"gender\", \"region\", \"last_login\", \n",
    "    \"registration\", \"AGE\", \"body\", \"I_am_working_in_field\", \"spoken_languages\", \n",
    "    \"hobbies\", \"I_most_enjoy_good_food\", \"pets\", \"body_type\", \"my_eyesight\", \n",
    "    \"eye_color\", \"hair_color\", \"hair_type\", \"completed_level_of_education\", \n",
    "    \"favourite_color\", \"relation_to_smoking\", \"relation_to_alcohol\", \n",
    "    \"sign_in_zodiac\", \"on_pokec_i_am_looking_for\", \"love_is_for_me\", \n",
    "    \"relation_to_casual_sex\", \"my_partner_should_be\", \"marital_status\", \n",
    "    \"children\", \"relation_to_children\", \"I_like_movies\", \n",
    "    \"I_like_watching_movie\", \"I_like_music\", \n",
    "    \"I_mostly_like_listening_to_music\", \"the_idea_of_good_evening\", \n",
    "    \"I_like_specialties_from_kitchen\", \"fun\", \"I_am_going_to_concerts\", \n",
    "    \"my_active_sports\", \"my_passive_sports\", \"profession\", \n",
    "    \"I_like_books\", \"life_style\", \"music\", \"cars\", \n",
    "    \"politics\", \"relationships\", \"art_culture\", \n",
    "    \"hobbies_interests\", \"science_technologies\", \n",
    "    \"computers_internet\", \"education\", \"sport\", \n",
    "    \"movies\", \"travelling\", \"health\", \n",
    "    \"companies_brands\", \"more\"\n",
    "]"
   ]
  },
  {
   "cell_type": "code",
   "execution_count": 4,
   "metadata": {},
   "outputs": [],
   "source": [
    "df_all = pd.read_csv('soc-pokec-profiles.txt.gz', compression='gzip', sep='\\t', names=columns, encoding='utf-8', on_bad_lines='skip', index_col=False)"
   ]
  },
  {
   "cell_type": "code",
   "execution_count": 7,
   "metadata": {},
   "outputs": [],
   "source": [
    "pd.set_option('display.expand_frame_repr', False)"
   ]
  },
  {
   "cell_type": "code",
   "execution_count": 8,
   "metadata": {},
   "outputs": [
    {
     "name": "stdout",
     "output_type": "stream",
     "text": [
      "                                                    count\n",
      "region                                                   \n",
      "zahranicie, zahranicie - ostatne                    61571\n",
      "nitriansky kraj, nitra                              55215\n",
      "zilinsky kraj, zilina                               50053\n",
      "presovsky kraj, presov                              47928\n",
      "banskobystricky kraj, banska bystrica               46984\n",
      "kosicky kraj, kosice - okolie                       37124\n",
      "trnavsky kraj, trnava                               36953\n",
      "zahranicie, zahranicie - gb                         33376\n",
      "presovsky kraj, poprad                              30513\n",
      "trenciansky kraj, prievidza                         30332\n",
      "kosicky kraj, michalovce                            29911\n",
      "trenciansky kraj, trencin                           29567\n",
      "bratislavsky kraj, bratislava - petrzalka           27011\n",
      "nitriansky kraj, nove zamky                         26178\n",
      "zilinsky kraj, martin                               26021\n",
      "bratislavsky kraj, bratislava - okolie              25163\n",
      "kosicky kraj, spisska nova ves                      23213\n",
      "bratislavsky kraj, bratislava - ostatne             21515\n",
      "nitriansky kraj, levice                             21226\n",
      "nitriansky kraj, topolcany                          20307\n",
      "banskobystricky kraj, lucenec                       20298\n",
      "banskobystricky kraj, zvolen                        19488\n",
      "kosicky kraj, kosice - zapad                        19148\n",
      "zilinsky kraj, cadca                                18828\n",
      "presovsky kraj, bardejov                            18180\n",
      "zahranicie, zahranicie - usa                        18154\n",
      "zilinsky kraj, namestovo                            17607\n",
      "presovsky kraj, humenne                             17506\n",
      "presovsky kraj, vranov nad toplou                   16878\n",
      "banskobystricky kraj, brezno                        16190\n",
      "banskobystricky kraj, rimavska sobota               15736\n",
      "trenciansky kraj, povazska bystrica                 15596\n",
      "zilinsky kraj, ruzomberok                           15508\n",
      "kosicky kraj, trebisov                              14941\n",
      "zilinsky kraj, liptovsky mikulas                    14575\n",
      "kosicky kraj, kosice - ostatne                      14369\n",
      "bratislavsky kraj, bratislava - ruzinov             13902\n",
      "trnavsky kraj, senica                               13886\n",
      "trnavsky kraj, piestany                             13751\n",
      "kosicky kraj, roznava                               12885\n",
      "bratislavsky kraj, malacky                          12794\n",
      "nitriansky kraj, sala                               12162\n",
      "trenciansky kraj, partizanske                       11942\n",
      "presovsky kraj, stara lubovna                       11604\n",
      "trenciansky kraj, nove mesto nad vahom              11363\n",
      "presovsky kraj, kezmarok                            11251\n",
      "bratislavsky kraj, bratislava - stare mesto         11049\n",
      "trnavsky kraj, galanta                              11043\n",
      "nitriansky kraj, komarno                            10809\n",
      "trenciansky kraj, puchov                            10779\n",
      "zilinsky kraj, dolny kubin                          10450\n",
      "bratislavsky kraj, bratislava - nove mesto          10208\n",
      "ceska republika, cz - praha                          9980\n",
      "trenciansky kraj, banovce nad bebravou               9718\n",
      "banskobystricky kraj, velky krtis                    9646\n",
      "kosicky kraj, kosice - stare mesto                   9540\n",
      "nitriansky kraj, zlate moravce                       9366\n",
      "trnavsky kraj, hlohovec                              9309\n",
      "kosicky kraj, kosice - sidlisko tahanovce            9145\n",
      "banskobystricky kraj, ziar nad hronom                9067\n",
      "kosicky kraj, kosice - juh                           8785\n",
      "presovsky kraj, snina                                8728\n",
      "trnavsky kraj, dunajska streda                       8677\n",
      "bratislavsky kraj, bratislava - dubravka             8493\n",
      "trenciansky kraj, dubnica nad vahom                  8111\n",
      "kosicky kraj, kosice - dargovskych hrdinov           7899\n",
      "bratislavsky kraj, bratislava - karlova ves          7654\n",
      "banskobystricky kraj, revuca                         7538\n",
      "banskobystricky kraj, detva                          7381\n",
      "presovsky kraj, sabinov                              7320\n",
      "trnavsky kraj, sered                                 7292\n",
      "bratislavsky kraj, senec                             6849\n",
      "trnavsky kraj, skalica                               6792\n",
      "presovsky kraj, levoca                               6700\n",
      "banskobystricky kraj, banska stiavnica               6567\n",
      "zilinsky kraj, kysucke nove mesto                    6392\n",
      "bratislavsky kraj, bratislava - devinska nova ves    6175\n",
      "kosicky kraj, kosice - sever                         6077\n",
      "zahranicie, zahranicie - rakusko                     6052\n",
      "zahranicie, zahranicie - nemecko                     6020\n",
      "zilinsky kraj, bytca                                 5955\n",
      "bratislavsky kraj, pezinok                           5715\n",
      "banskobystricky kraj, filakovo                       5709\n",
      "presovsky kraj, svidnik                              5590\n",
      "banskobystricky kraj, krupina                        5101\n",
      "banskobystricky kraj, poltar                         4827\n",
      "bratislavsky kraj, bratislava - raca                 4791\n",
      "trnavsky kraj, holic                                 4688\n",
      "trenciansky kraj, handlova                           4626\n",
      "banskobystricky kraj, nova bana                      4596\n",
      "kosicky kraj, kralovsky chlmec                       4584\n",
      "zahranicie, zahranicie - francuzsko                  4582\n",
      "kosicky kraj, gelnica                                4530\n",
      "zilinsky kraj, trstena                               4505\n",
      "trenciansky kraj, ilava                              4407\n",
      "trenciansky kraj, myjava                             4397\n",
      "presovsky kraj, lipany                               4365\n",
      "zahranicie, zahranicie - kanada                      4224\n",
      "nitriansky kraj, surany                              4152\n",
      "zilinsky kraj, tvrdosin                              4131\n",
      "banskobystricky kraj, hnusta                         3957\n",
      "kosicky kraj, kosice - krasna nad hornadom           3927\n",
      "zahranicie, zahranicie - australia                   3911\n",
      "presovsky kraj, stropkov                             3885\n",
      "bratislavsky kraj, bratislava - vrakuna              3884\n",
      "kosicky kraj, sobrance                               3805\n",
      "nitriansky kraj, vrable                              3757\n",
      "kosicky kraj, velke kapusany                         3694\n",
      "nitriansky kraj, sturovo                             3647\n",
      "bratislavsky kraj, bratislava - podunaj. biskupice   3316\n",
      "kosicky kraj, krompachy                              3255\n",
      "zilinsky kraj, liptovsky hradok                      3201\n",
      "banskobystricky kraj, hrinova                        3187\n",
      "banskobystricky kraj, kremnica                       3169\n",
      "zilinsky kraj, turcianske teplice                    3131\n",
      "banskobystricky kraj, zarnovica                      3099\n",
      "ceska republika, cz - jihomoravsky kraj              3074\n",
      "ceska republika, cz - ostravsky kraj                 3044\n",
      "banskobystricky kraj, tornala                        2970\n",
      "kosicky kraj, moldava nad bodvou                     2951\n",
      "nitriansky kraj, sahy                                2847\n",
      "kosicky kraj, kosice - saca                          2842\n",
      "kosicky kraj, kosice - barca                         2819\n",
      "trenciansky kraj, bojnice                            2665\n",
      "banskobystricky kraj, jelsava                        2644\n",
      "trnavsky kraj, samorin                               2640\n",
      "nitriansky kraj, zeliezovce                          2563\n",
      "banskobystricky kraj, sliac                          2561\n",
      "banskobystricky kraj, dudince                        2503\n",
      "kosicky kraj, secovce                                2419\n",
      "zilinsky kraj, turzovka                              2416\n",
      "banskobystricky kraj, modry kamen                    2350\n",
      "trenciansky kraj, stara tura                         2288\n",
      "trenciansky kraj, nova dubnica                       2258\n",
      "ceska republika, cz - ustecky kraj                   2251\n",
      "bratislavsky kraj, bratislava - lamac                2248\n",
      "presovsky kraj, giraltovce                           2199\n",
      "nitriansky kraj, hurbanovo                           2196\n",
      "ceska republika, cz - plzensky kraj                  2183\n",
      "presovsky kraj, spisska bela                         2170\n",
      "zilinsky kraj, rajec                                 2158\n",
      "bratislavsky kraj, modra                             2103\n",
      "presovsky kraj, hanusovce nad toplou                 2040\n",
      "ceska republika, cz - stredni cechy                  1994\n",
      "trenciansky kraj, novaky                             1903\n",
      "presovsky kraj, medzilaborce                         1875\n",
      "trenciansky kraj, nemsova                            1721\n",
      "trnavsky kraj, gbely                                 1703\n",
      "kosicky kraj, cierna nad tisou                       1685\n",
      "nitriansky kraj, kolarovo                            1670\n",
      "trnavsky kraj, vrbove                                1572\n",
      "ceska republika, cz - zlinsky kraj                   1559\n",
      "presovsky kraj, svit                                 1490\n",
      "kosicky kraj, dobsina                                1453\n",
      "presovsky kraj, spisske podhradie                    1410\n",
      "zilinsky kraj, vrutky                                1370\n",
      "bratislavsky kraj, bratislava - vajnory              1361\n",
      "kosicky kraj, spisske vlachy                         1361\n",
      "trenciansky kraj, brezova pod bradlom                1353\n",
      "ceska republika, cz - pardubicky kraj                1326\n",
      "ceska republika, cz - liberecky kraj                 1304\n",
      "presovsky kraj, spisska stara ves                    1287\n",
      "banskobystricky kraj, tisovec                        1282\n",
      "trnavsky kraj, sladkovicovo                          1263\n",
      "kosicky kraj, strazske                               1254\n",
      "trenciansky kraj, trencianske teplice                1246\n",
      "bratislavsky kraj, stupava                           1211\n",
      "trnavsky kraj, leopoldov                             1211\n",
      "ceska republika, cz - budejovicky kraj               1170\n",
      "presovsky kraj, podolinec                            1165\n",
      "ceska republika, cz - olomoucky kraj                 1146\n",
      "zilinsky kraj, rajecke teplice                       1130\n",
      "trnavsky kraj, velky meder                           1101\n",
      "ceska republika, cz - kralovehradecky kraj            964\n",
      "ceska republika, cz - karlovarsky kraj                760\n",
      "bratislavsky kraj, svaty jur                          750\n",
      "nitriansky kraj, tlmace                               720\n",
      "kosicky kraj, medzev                                  702\n",
      "presovsky kraj, vysoke tatry                          649\n",
      "presovsky kraj, velky saris                           617\n",
      "ceska republika, cz - vysocina                        543\n",
      "trnavsky kraj, sastin-straze                          185\n",
      "zilinsky kraj, krasno nad kysucou                     154\n",
      "zahranicie, bratislava - stare mesto                    1\n",
      "kosicky kraj, brezova pod bradlom                       1\n",
      "zahranicie, bratislava - okolie                         1\n",
      "kosicky kraj,                                           1\n"
     ]
    }
   ],
   "source": [
    "with pd.option_context('display.max_rows', None, 'display.max_columns', None):\n",
    "    print (df_all['region'].value_counts().to_frame())"
   ]
  },
  {
   "cell_type": "code",
   "execution_count": 7,
   "metadata": {},
   "outputs": [],
   "source": [
    "df = df_all.loc[(df_all['region'] == 'nitriansky kraj, nitra') | (df_all['region'] == 'zilinsky kraj, zilina') | (df_all['region'] == 'zahranicie, zahranicie - ostatne')]"
   ]
  },
  {
   "cell_type": "code",
   "execution_count": 9,
   "metadata": {},
   "outputs": [
    {
     "data": {
      "text/html": [
       "<div>\n",
       "<style scoped>\n",
       "    .dataframe tbody tr th:only-of-type {\n",
       "        vertical-align: middle;\n",
       "    }\n",
       "\n",
       "    .dataframe tbody tr th {\n",
       "        vertical-align: top;\n",
       "    }\n",
       "\n",
       "    .dataframe thead th {\n",
       "        text-align: right;\n",
       "    }\n",
       "</style>\n",
       "<table border=\"1\" class=\"dataframe\">\n",
       "  <thead>\n",
       "    <tr style=\"text-align: right;\">\n",
       "      <th></th>\n",
       "      <th>user_id</th>\n",
       "      <th>public</th>\n",
       "      <th>completion_percentage</th>\n",
       "      <th>gender</th>\n",
       "      <th>region</th>\n",
       "      <th>last_login</th>\n",
       "      <th>registration</th>\n",
       "      <th>AGE</th>\n",
       "      <th>body</th>\n",
       "      <th>I_am_working_in_field</th>\n",
       "      <th>...</th>\n",
       "      <th>hobbies_interests</th>\n",
       "      <th>science_technologies</th>\n",
       "      <th>computers_internet</th>\n",
       "      <th>education</th>\n",
       "      <th>sport</th>\n",
       "      <th>movies</th>\n",
       "      <th>travelling</th>\n",
       "      <th>health</th>\n",
       "      <th>companies_brands</th>\n",
       "      <th>more</th>\n",
       "    </tr>\n",
       "  </thead>\n",
       "  <tbody>\n",
       "    <tr>\n",
       "      <th>0</th>\n",
       "      <td>1</td>\n",
       "      <td>1</td>\n",
       "      <td>14</td>\n",
       "      <td>1.0</td>\n",
       "      <td>zilinsky kraj, zilina</td>\n",
       "      <td>2012-05-25 11:20:00.0</td>\n",
       "      <td>2005-04-03 00:00:00.0</td>\n",
       "      <td>26.0</td>\n",
       "      <td>185 cm, 90 kg</td>\n",
       "      <td>it</td>\n",
       "      <td>...</td>\n",
       "      <td>NaN</td>\n",
       "      <td>NaN</td>\n",
       "      <td>NaN</td>\n",
       "      <td>NaN</td>\n",
       "      <td>NaN</td>\n",
       "      <td>NaN</td>\n",
       "      <td>NaN</td>\n",
       "      <td>NaN</td>\n",
       "      <td>NaN</td>\n",
       "      <td>NaN</td>\n",
       "    </tr>\n",
       "    <tr>\n",
       "      <th>6</th>\n",
       "      <td>5</td>\n",
       "      <td>1</td>\n",
       "      <td>66</td>\n",
       "      <td>1.0</td>\n",
       "      <td>zilinsky kraj, zilina</td>\n",
       "      <td>2012-05-25 01:10:00.0</td>\n",
       "      <td>2006-05-29 00:00:00.0</td>\n",
       "      <td>26.0</td>\n",
       "      <td>NaN</td>\n",
       "      <td>som nezamestnany</td>\n",
       "      <td>...</td>\n",
       "      <td>NaN</td>\n",
       "      <td>NaN</td>\n",
       "      <td>NaN</td>\n",
       "      <td>NaN</td>\n",
       "      <td>NaN</td>\n",
       "      <td>NaN</td>\n",
       "      <td>NaN</td>\n",
       "      <td>NaN</td>\n",
       "      <td>NaN</td>\n",
       "      <td>NaN</td>\n",
       "    </tr>\n",
       "    <tr>\n",
       "      <th>10</th>\n",
       "      <td>6</td>\n",
       "      <td>0</td>\n",
       "      <td>22</td>\n",
       "      <td>0.0</td>\n",
       "      <td>zilinsky kraj, zilina</td>\n",
       "      <td>2012-05-25 20:40:00.0</td>\n",
       "      <td>2007-12-15 00:00:00.0</td>\n",
       "      <td>38.0</td>\n",
       "      <td>160 cm, 57 kg</td>\n",
       "      <td>NaN</td>\n",
       "      <td>...</td>\n",
       "      <td>NaN</td>\n",
       "      <td>NaN</td>\n",
       "      <td>NaN</td>\n",
       "      <td>NaN</td>\n",
       "      <td>NaN</td>\n",
       "      <td>NaN</td>\n",
       "      <td>NaN</td>\n",
       "      <td>NaN</td>\n",
       "      <td>NaN</td>\n",
       "      <td>NaN</td>\n",
       "    </tr>\n",
       "    <tr>\n",
       "      <th>20</th>\n",
       "      <td>34</td>\n",
       "      <td>1</td>\n",
       "      <td>66</td>\n",
       "      <td>1.0</td>\n",
       "      <td>zilinsky kraj, zilina</td>\n",
       "      <td>2012-05-15 09:18:00.0</td>\n",
       "      <td>2007-01-24 00:00:00.0</td>\n",
       "      <td>23.0</td>\n",
       "      <td>180 cm, 70 kg, dost haluzne skoro ako mimozems...</td>\n",
       "      <td>tak to ani nechcite vediet je to ako o zivot</td>\n",
       "      <td>...</td>\n",
       "      <td>&lt;div&gt; &lt;a title=\"vstup do klubu\" href=\"/klub/ru...</td>\n",
       "      <td>NaN</td>\n",
       "      <td>NaN</td>\n",
       "      <td>NaN</td>\n",
       "      <td>NaN</td>\n",
       "      <td>NaN</td>\n",
       "      <td>NaN</td>\n",
       "      <td>NaN</td>\n",
       "      <td>NaN</td>\n",
       "      <td>NaN</td>\n",
       "    </tr>\n",
       "    <tr>\n",
       "      <th>28</th>\n",
       "      <td>61</td>\n",
       "      <td>1</td>\n",
       "      <td>12</td>\n",
       "      <td>0.0</td>\n",
       "      <td>zilinsky kraj, zilina</td>\n",
       "      <td>2012-04-11 23:40:00.0</td>\n",
       "      <td>2009-10-27 00:00:00.0</td>\n",
       "      <td>23.0</td>\n",
       "      <td>NaN</td>\n",
       "      <td>NaN</td>\n",
       "      <td>...</td>\n",
       "      <td>NaN</td>\n",
       "      <td>NaN</td>\n",
       "      <td>NaN</td>\n",
       "      <td>NaN</td>\n",
       "      <td>NaN</td>\n",
       "      <td>NaN</td>\n",
       "      <td>NaN</td>\n",
       "      <td>NaN</td>\n",
       "      <td>NaN</td>\n",
       "      <td>NaN</td>\n",
       "    </tr>\n",
       "    <tr>\n",
       "      <th>...</th>\n",
       "      <td>...</td>\n",
       "      <td>...</td>\n",
       "      <td>...</td>\n",
       "      <td>...</td>\n",
       "      <td>...</td>\n",
       "      <td>...</td>\n",
       "      <td>...</td>\n",
       "      <td>...</td>\n",
       "      <td>...</td>\n",
       "      <td>...</td>\n",
       "      <td>...</td>\n",
       "      <td>...</td>\n",
       "      <td>...</td>\n",
       "      <td>...</td>\n",
       "      <td>...</td>\n",
       "      <td>...</td>\n",
       "      <td>...</td>\n",
       "      <td>...</td>\n",
       "      <td>...</td>\n",
       "      <td>...</td>\n",
       "      <td>...</td>\n",
       "    </tr>\n",
       "    <tr>\n",
       "      <th>1632726</th>\n",
       "      <td>1632727</td>\n",
       "      <td>1</td>\n",
       "      <td>53</td>\n",
       "      <td>0.0</td>\n",
       "      <td>zahranicie, zahranicie - ostatne</td>\n",
       "      <td>2012-05-10 17:59:00.0</td>\n",
       "      <td>2012-05-08 00:00:00.0</td>\n",
       "      <td>0.0</td>\n",
       "      <td>173 cm, 60 kg</td>\n",
       "      <td>NaN</td>\n",
       "      <td>...</td>\n",
       "      <td>NaN</td>\n",
       "      <td>NaN</td>\n",
       "      <td>NaN</td>\n",
       "      <td>NaN</td>\n",
       "      <td>NaN</td>\n",
       "      <td>NaN</td>\n",
       "      <td>NaN</td>\n",
       "      <td>NaN</td>\n",
       "      <td>NaN</td>\n",
       "      <td>NaN</td>\n",
       "    </tr>\n",
       "    <tr>\n",
       "      <th>1632740</th>\n",
       "      <td>1632741</td>\n",
       "      <td>1</td>\n",
       "      <td>43</td>\n",
       "      <td>1.0</td>\n",
       "      <td>nitriansky kraj, nitra</td>\n",
       "      <td>2011-08-16 19:38:00.0</td>\n",
       "      <td>2008-12-20 00:00:00.0</td>\n",
       "      <td>49.0</td>\n",
       "      <td>191 cm, 92 kg</td>\n",
       "      <td>NaN</td>\n",
       "      <td>...</td>\n",
       "      <td>NaN</td>\n",
       "      <td>NaN</td>\n",
       "      <td>NaN</td>\n",
       "      <td>NaN</td>\n",
       "      <td>NaN</td>\n",
       "      <td>NaN</td>\n",
       "      <td>NaN</td>\n",
       "      <td>NaN</td>\n",
       "      <td>NaN</td>\n",
       "      <td>NaN</td>\n",
       "    </tr>\n",
       "    <tr>\n",
       "      <th>1632755</th>\n",
       "      <td>1632756</td>\n",
       "      <td>0</td>\n",
       "      <td>26</td>\n",
       "      <td>0.0</td>\n",
       "      <td>zilinsky kraj, zilina</td>\n",
       "      <td>2011-06-07 11:36:00.0</td>\n",
       "      <td>2010-01-11 00:00:00.0</td>\n",
       "      <td>0.0</td>\n",
       "      <td>175 cm, 68 kg</td>\n",
       "      <td>NaN</td>\n",
       "      <td>...</td>\n",
       "      <td>NaN</td>\n",
       "      <td>NaN</td>\n",
       "      <td>NaN</td>\n",
       "      <td>NaN</td>\n",
       "      <td>NaN</td>\n",
       "      <td>NaN</td>\n",
       "      <td>NaN</td>\n",
       "      <td>NaN</td>\n",
       "      <td>NaN</td>\n",
       "      <td>NaN</td>\n",
       "    </tr>\n",
       "    <tr>\n",
       "      <th>1632772</th>\n",
       "      <td>1632773</td>\n",
       "      <td>1</td>\n",
       "      <td>12</td>\n",
       "      <td>0.0</td>\n",
       "      <td>nitriansky kraj, nitra</td>\n",
       "      <td>2011-10-25 02:17:00.0</td>\n",
       "      <td>2004-02-10 00:00:00.0</td>\n",
       "      <td>45.0</td>\n",
       "      <td>NaN</td>\n",
       "      <td>NaN</td>\n",
       "      <td>...</td>\n",
       "      <td>NaN</td>\n",
       "      <td>NaN</td>\n",
       "      <td>NaN</td>\n",
       "      <td>NaN</td>\n",
       "      <td>NaN</td>\n",
       "      <td>NaN</td>\n",
       "      <td>NaN</td>\n",
       "      <td>NaN</td>\n",
       "      <td>NaN</td>\n",
       "      <td>NaN</td>\n",
       "    </tr>\n",
       "    <tr>\n",
       "      <th>1632795</th>\n",
       "      <td>1632796</td>\n",
       "      <td>0</td>\n",
       "      <td>28</td>\n",
       "      <td>1.0</td>\n",
       "      <td>zahranicie, zahranicie - ostatne</td>\n",
       "      <td>2012-05-26 09:36:00.0</td>\n",
       "      <td>2012-05-10 00:00:00.0</td>\n",
       "      <td>0.0</td>\n",
       "      <td>172 cm, 74 kg</td>\n",
       "      <td>vypoctovej techniky</td>\n",
       "      <td>...</td>\n",
       "      <td>NaN</td>\n",
       "      <td>NaN</td>\n",
       "      <td>NaN</td>\n",
       "      <td>NaN</td>\n",
       "      <td>NaN</td>\n",
       "      <td>NaN</td>\n",
       "      <td>NaN</td>\n",
       "      <td>NaN</td>\n",
       "      <td>NaN</td>\n",
       "      <td>NaN</td>\n",
       "    </tr>\n",
       "  </tbody>\n",
       "</table>\n",
       "<p>166839 rows × 59 columns</p>\n",
       "</div>"
      ],
      "text/plain": [
       "         user_id  public  completion_percentage  gender                            region             last_login           registration   AGE                                               body                         I_am_working_in_field  ...                                  hobbies_interests science_technologies computers_internet education sport movies travelling health companies_brands more\n",
       "0              1       1                     14     1.0             zilinsky kraj, zilina  2012-05-25 11:20:00.0  2005-04-03 00:00:00.0  26.0                                      185 cm, 90 kg                                            it  ...                                                NaN                  NaN                NaN       NaN   NaN    NaN        NaN    NaN              NaN  NaN\n",
       "6              5       1                     66     1.0             zilinsky kraj, zilina  2012-05-25 01:10:00.0  2006-05-29 00:00:00.0  26.0                                                NaN                              som nezamestnany  ...                                                NaN                  NaN                NaN       NaN   NaN    NaN        NaN    NaN              NaN  NaN\n",
       "10             6       0                     22     0.0             zilinsky kraj, zilina  2012-05-25 20:40:00.0  2007-12-15 00:00:00.0  38.0                                      160 cm, 57 kg                                           NaN  ...                                                NaN                  NaN                NaN       NaN   NaN    NaN        NaN    NaN              NaN  NaN\n",
       "20            34       1                     66     1.0             zilinsky kraj, zilina  2012-05-15 09:18:00.0  2007-01-24 00:00:00.0  23.0  180 cm, 70 kg, dost haluzne skoro ako mimozems...  tak to ani nechcite vediet je to ako o zivot  ...  <div> <a title=\"vstup do klubu\" href=\"/klub/ru...                  NaN                NaN       NaN   NaN    NaN        NaN    NaN              NaN  NaN\n",
       "28            61       1                     12     0.0             zilinsky kraj, zilina  2012-04-11 23:40:00.0  2009-10-27 00:00:00.0  23.0                                                NaN                                           NaN  ...                                                NaN                  NaN                NaN       NaN   NaN    NaN        NaN    NaN              NaN  NaN\n",
       "...          ...     ...                    ...     ...                               ...                    ...                    ...   ...                                                ...                                           ...  ...                                                ...                  ...                ...       ...   ...    ...        ...    ...              ...  ...\n",
       "1632726  1632727       1                     53     0.0  zahranicie, zahranicie - ostatne  2012-05-10 17:59:00.0  2012-05-08 00:00:00.0   0.0                                      173 cm, 60 kg                                           NaN  ...                                                NaN                  NaN                NaN       NaN   NaN    NaN        NaN    NaN              NaN  NaN\n",
       "1632740  1632741       1                     43     1.0            nitriansky kraj, nitra  2011-08-16 19:38:00.0  2008-12-20 00:00:00.0  49.0                                      191 cm, 92 kg                                           NaN  ...                                                NaN                  NaN                NaN       NaN   NaN    NaN        NaN    NaN              NaN  NaN\n",
       "1632755  1632756       0                     26     0.0             zilinsky kraj, zilina  2011-06-07 11:36:00.0  2010-01-11 00:00:00.0   0.0                                      175 cm, 68 kg                                           NaN  ...                                                NaN                  NaN                NaN       NaN   NaN    NaN        NaN    NaN              NaN  NaN\n",
       "1632772  1632773       1                     12     0.0            nitriansky kraj, nitra  2011-10-25 02:17:00.0  2004-02-10 00:00:00.0  45.0                                                NaN                                           NaN  ...                                                NaN                  NaN                NaN       NaN   NaN    NaN        NaN    NaN              NaN  NaN\n",
       "1632795  1632796       0                     28     1.0  zahranicie, zahranicie - ostatne  2012-05-26 09:36:00.0  2012-05-10 00:00:00.0   0.0                                      172 cm, 74 kg                           vypoctovej techniky  ...                                                NaN                  NaN                NaN       NaN   NaN    NaN        NaN    NaN              NaN  NaN\n",
       "\n",
       "[166839 rows x 59 columns]"
      ]
     },
     "execution_count": 9,
     "metadata": {},
     "output_type": "execute_result"
    }
   ],
   "source": [
    "df"
   ]
  },
  {
   "cell_type": "code",
   "execution_count": 10,
   "metadata": {},
   "outputs": [
    {
     "data": {
      "text/plain": [
       "(166839, 59)"
      ]
     },
     "execution_count": 10,
     "metadata": {},
     "output_type": "execute_result"
    }
   ],
   "source": [
    "df.shape"
   ]
  },
  {
   "cell_type": "code",
   "execution_count": 50,
   "metadata": {},
   "outputs": [],
   "source": [
    "G_sub = G.subgraph([str(n) for n in list(df['user_id'])])"
   ]
  },
  {
   "cell_type": "markdown",
   "metadata": {},
   "source": [
    "### Network description"
   ]
  },
  {
   "cell_type": "code",
   "execution_count": 13,
   "metadata": {},
   "outputs": [
    {
     "data": {
      "text/plain": [
       "30622564"
      ]
     },
     "execution_count": 13,
     "metadata": {},
     "output_type": "execute_result"
    }
   ],
   "source": [
    "G.number_of_edges()"
   ]
  },
  {
   "cell_type": "code",
   "execution_count": 14,
   "metadata": {},
   "outputs": [
    {
     "data": {
      "text/plain": [
       "1632803"
      ]
     },
     "execution_count": 14,
     "metadata": {},
     "output_type": "execute_result"
    }
   ],
   "source": [
    "G.number_of_nodes()"
   ]
  },
  {
   "cell_type": "code",
   "execution_count": 15,
   "metadata": {},
   "outputs": [
    {
     "data": {
      "text/plain": [
       "1171710"
      ]
     },
     "execution_count": 15,
     "metadata": {},
     "output_type": "execute_result"
    }
   ],
   "source": [
    "G_sub.number_of_edges()"
   ]
  },
  {
   "cell_type": "code",
   "execution_count": 16,
   "metadata": {},
   "outputs": [
    {
     "data": {
      "text/plain": [
       "166839"
      ]
     },
     "execution_count": 16,
     "metadata": {},
     "output_type": "execute_result"
    }
   ],
   "source": [
    "G_sub.number_of_nodes()"
   ]
  },
  {
   "cell_type": "markdown",
   "metadata": {},
   "source": [
    "Визуализация"
   ]
  },
  {
   "cell_type": "code",
   "execution_count": 5,
   "metadata": {},
   "outputs": [],
   "source": [
    "import graphistry"
   ]
  },
  {
   "cell_type": "code",
   "execution_count": 6,
   "metadata": {},
   "outputs": [],
   "source": [
    "graphistry.register(api=3, protocol=\"https\", server=\"hub.graphistry.com\", personal_key_id=\"IY321IFH8K\", personal_key_secret=\"JJ0XX3D5C9Q2GPU8\")"
   ]
  },
  {
   "cell_type": "code",
   "execution_count": null,
   "metadata": {},
   "outputs": [],
   "source": [
    "src = []\n",
    "dst = []\n",
    "for e in G_friends.edges:\n",
    "    src.append(e[0])\n",
    "    dst.append(e[1])\n",
    "edges = pd.DataFrame({\n",
    "    'source': src,\n",
    "    'destination': dst\n",
    "})"
   ]
  },
  {
   "cell_type": "code",
   "execution_count": null,
   "metadata": {},
   "outputs": [],
   "source": [
    "# np.savetxt('edges_friends.csv', [p for p in zip(src, dst)], delimiter=',', fmt='%s')\n",
    "#nodes = [n for n in G.nodes]\n",
    "#with open(\"nodes.tsv\", \"w\") as f:\n",
    "#  print(\"%s\" % (\"id\"), file=f)\n",
    "#  for n in nodes:\n",
    "#    print(\"%s\" % (n), file=f)"
   ]
  },
  {
   "cell_type": "code",
   "execution_count": null,
   "metadata": {},
   "outputs": [
    {
     "data": {
      "text/html": [
       "\n",
       "            <iframe id=\"d595319a-198e-4e33-9814-59b52efafe16\" src=\"https://hub.graphistry.com/graph/graph.html?dataset=5baeb94a63754257848ef96404d65d9a&type=arrow&viztoken=3af6a445-5b86-49c1-9da4-1228a1102a10&usertag=2e3da42b-pygraphistry-0.34.17&splashAfter=1730885712&info=true\"\n",
       "                    allowfullscreen=\"true\" webkitallowfullscreen=\"true\" mozallowfullscreen=\"true\"\n",
       "                    oallowfullscreen=\"true\" msallowfullscreen=\"true\"\n",
       "                    style=\"width:100%; height:500px; border: 1px solid #DDD; overflow: hidden\"\n",
       "                    \n",
       "            >\n",
       "            </iframe>\n",
       "        \n",
       "            <script>\n",
       "                try {\n",
       "                  $(\"#d595319a-198e-4e33-9814-59b52efafe16\").bind('mousewheel', function(e) { e.preventDefault(); });\n",
       "                } catch (e) { console.error('exn catching scroll', e); }\n",
       "            </script>\n",
       "        "
      ],
      "text/plain": [
       "<IPython.core.display.HTML object>"
      ]
     },
     "execution_count": 21,
     "metadata": {},
     "output_type": "execute_result"
    }
   ],
   "source": [
    "g = graphistry.edges(edges[:8_000_000], 'source', 'destination') # maximum number of edges = 8M\n",
    "g.plot()"
   ]
  },
  {
   "cell_type": "code",
   "execution_count": 51,
   "metadata": {},
   "outputs": [],
   "source": [
    "src = []\n",
    "dst = []\n",
    "for e in G_sub.edges:\n",
    "    src.append(e[0])\n",
    "    dst.append(e[1])\n",
    "edges = pd.DataFrame({\n",
    "    'source': src,\n",
    "    'destination': dst\n",
    "})\n",
    "nodes = pd.DataFrame({\n",
    "    'node_id': list(G_sub.nodes()),\n",
    "    'age': [df_all[df_all['user_id'] == int(x)]['AGE'].values[0] for x in list(G_sub.nodes())]\n",
    "})"
   ]
  },
  {
   "cell_type": "code",
   "execution_count": 52,
   "metadata": {},
   "outputs": [
    {
     "data": {
      "text/html": [
       "\n",
       "            <iframe id=\"60e09800-3e61-46d0-8646-0580fb4bdfc8\" src=\"https://hub.graphistry.com/graph/graph.html?dataset=c768bb8b35d34bd88ecc89b5d4495574&type=arrow&viztoken=bf48774d-ef92-4738-99e9-f07197547a72&usertag=2e3da42b-pygraphistry-0.34.17&splashAfter=1730987823&info=true\"\n",
       "                    allowfullscreen=\"true\" webkitallowfullscreen=\"true\" mozallowfullscreen=\"true\"\n",
       "                    oallowfullscreen=\"true\" msallowfullscreen=\"true\"\n",
       "                    style=\"width:100%; height:500px; border: 1px solid #DDD; overflow: hidden\"\n",
       "                    \n",
       "            >\n",
       "            </iframe>\n",
       "        \n",
       "            <script>\n",
       "                try {\n",
       "                  $(\"#60e09800-3e61-46d0-8646-0580fb4bdfc8\").bind('mousewheel', function(e) { e.preventDefault(); });\n",
       "                } catch (e) { console.error('exn catching scroll', e); }\n",
       "            </script>\n",
       "        "
      ],
      "text/plain": [
       "<IPython.core.display.HTML object>"
      ]
     },
     "execution_count": 52,
     "metadata": {},
     "output_type": "execute_result"
    }
   ],
   "source": [
    "g = graphistry.bind(source='source', destination='destination',\n",
    "           node='node_id', point_color='age')\n",
    "g.plot(edges, nodes)"
   ]
  },
  {
   "cell_type": "code",
   "execution_count": 23,
   "metadata": {},
   "outputs": [
    {
     "data": {
      "text/html": [
       "\n",
       "            <iframe id=\"45e6e24c-fc7f-4e83-b6a4-7ee8180cca06\" src=\"https://hub.graphistry.com/graph/graph.html?dataset=853b3617d33c4a8493d1665ca34444da&type=arrow&viztoken=fba034be-8f25-43f0-8714-961748c9a5de&usertag=2e3da42b-pygraphistry-0.34.17&splashAfter=1730886099&info=true\"\n",
       "                    allowfullscreen=\"true\" webkitallowfullscreen=\"true\" mozallowfullscreen=\"true\"\n",
       "                    oallowfullscreen=\"true\" msallowfullscreen=\"true\"\n",
       "                    style=\"width:100%; height:500px; border: 1px solid #DDD; overflow: hidden\"\n",
       "                    \n",
       "            >\n",
       "            </iframe>\n",
       "        \n",
       "            <script>\n",
       "                try {\n",
       "                  $(\"#45e6e24c-fc7f-4e83-b6a4-7ee8180cca06\").bind('mousewheel', function(e) { e.preventDefault(); });\n",
       "                } catch (e) { console.error('exn catching scroll', e); }\n",
       "            </script>\n",
       "        "
      ],
      "text/plain": [
       "<IPython.core.display.HTML object>"
      ]
     },
     "execution_count": 23,
     "metadata": {},
     "output_type": "execute_result"
    }
   ],
   "source": [
    "g = graphistry.edges(edges, 'source', 'destination')\n",
    "g.plot()"
   ]
  },
  {
   "cell_type": "markdown",
   "metadata": {},
   "source": [
    "Degree Analysis"
   ]
  },
  {
   "cell_type": "code",
   "execution_count": 24,
   "metadata": {},
   "outputs": [
    {
     "data": {
      "text/plain": [
       "Text(0, 0.5, 'Frequency')"
      ]
     },
     "execution_count": 24,
     "metadata": {},
     "output_type": "execute_result"
    },
    {
     "data": {
      "image/png": "[encoded data removed]",
      "text/plain": [
       "<Figure size 1200x800 with 1 Axes>"
      ]
     },
     "metadata": {},
     "output_type": "display_data"
    }
   ],
   "source": [
    "def degree_histogram_directed(G, in_degree=False, out_degree=False):\n",
    "    nodes = G.nodes()\n",
    "    if in_degree:\n",
    "        in_degree = dict(G.in_degree())\n",
    "        degseq=[in_degree.get(k,0) for k in nodes]\n",
    "    elif out_degree:\n",
    "        out_degree = dict(G.out_degree())\n",
    "        degseq=[out_degree.get(k,0) for k in nodes]\n",
    "    else:\n",
    "        degseq=[v for k, v in G.degree()]\n",
    "    dmax=max(degseq)+1\n",
    "    freq= [ 0 for d in range(dmax) ]\n",
    "    for d in degseq:\n",
    "        freq[d] += 1\n",
    "    return freq\n",
    "in_degree_freq = degree_histogram_directed(G, in_degree=True)\n",
    "out_degree_freq = degree_histogram_directed(G, out_degree=True)\n",
    "degrees = range(len(in_degree_freq))\n",
    "plt.figure(figsize=(12, 8)) \n",
    "plt.loglog(range(len(in_degree_freq)), in_degree_freq, 'go-', label='in-degree') \n",
    "plt.loglog(range(len(out_degree_freq)), out_degree_freq, 'bo-', label='out-degree')\n",
    "plt.xlabel('Degree')\n",
    "plt.ylabel('Frequency')"
   ]
  },
  {
   "cell_type": "markdown",
   "metadata": {},
   "source": [
    "Max degree"
   ]
  },
  {
   "cell_type": "markdown",
   "metadata": {},
   "source": [
    "Node with max in degree"
   ]
  },
  {
   "cell_type": "code",
   "execution_count": 57,
   "metadata": {},
   "outputs": [
    {
     "data": {
      "text/plain": [
       "13733"
      ]
     },
     "execution_count": 57,
     "metadata": {},
     "output_type": "execute_result"
    }
   ],
   "source": [
    "max(dict(G.in_degree()).values())"
   ]
  },
  {
   "cell_type": "code",
   "execution_count": 35,
   "metadata": {},
   "outputs": [
    {
     "data": {
      "text/plain": [
       "'5935'"
      ]
     },
     "execution_count": 35,
     "metadata": {},
     "output_type": "execute_result"
    }
   ],
   "source": [
    "max(dict(G.in_degree()), key=dict(G.in_degree()).get)"
   ]
  },
  {
   "cell_type": "markdown",
   "metadata": {},
   "source": [
    "Ego-graph"
   ]
  },
  {
   "cell_type": "code",
   "execution_count": 16,
   "metadata": {},
   "outputs": [],
   "source": [
    "ego_v = '5935'\n",
    "G_ego_max_in = nx.ego_graph(G, ego_v, undirected=True) # undirected=True for both directions"
   ]
  },
  {
   "cell_type": "code",
   "execution_count": 40,
   "metadata": {},
   "outputs": [],
   "source": [
    "src = []\n",
    "dst = []\n",
    "for e in G_ego_max_in.edges:\n",
    "    src.append(e[0])\n",
    "    dst.append(e[1])\n",
    "edges = pd.DataFrame({\n",
    "    'source': src,\n",
    "    'destination': dst\n",
    "})\n",
    "nodes = pd.DataFrame({\n",
    "    'node_id': list(G_ego_max_in.nodes()),\n",
    "    'age': [df_all[df_all['user_id'] == int(x)]['AGE'].values[0] for x in list(G_ego_max_in.nodes())]\n",
    "})"
   ]
  },
  {
   "cell_type": "code",
   "execution_count": 41,
   "metadata": {},
   "outputs": [
    {
     "data": {
      "text/html": [
       "\n",
       "            <iframe id=\"d2a38e1d-dc97-41e1-81ac-cc09ab166fe3\" src=\"https://hub.graphistry.com/graph/graph.html?dataset=d8fc2ff09de14e17ad5509d3d4082a22&type=arrow&viztoken=8e014338-e543-48e3-b7bd-c02b29ae9c58&usertag=2e3da42b-pygraphistry-0.34.17&splashAfter=1730986327&info=true\"\n",
       "                    allowfullscreen=\"true\" webkitallowfullscreen=\"true\" mozallowfullscreen=\"true\"\n",
       "                    oallowfullscreen=\"true\" msallowfullscreen=\"true\"\n",
       "                    style=\"width:100%; height:500px; border: 1px solid #DDD; overflow: hidden\"\n",
       "                    \n",
       "            >\n",
       "            </iframe>\n",
       "        \n",
       "            <script>\n",
       "                try {\n",
       "                  $(\"#d2a38e1d-dc97-41e1-81ac-cc09ab166fe3\").bind('mousewheel', function(e) { e.preventDefault(); });\n",
       "                } catch (e) { console.error('exn catching scroll', e); }\n",
       "            </script>\n",
       "        "
      ],
      "text/plain": [
       "<IPython.core.display.HTML object>"
      ]
     },
     "execution_count": 41,
     "metadata": {},
     "output_type": "execute_result"
    }
   ],
   "source": [
    "g = graphistry.bind(source='source', destination='destination',\n",
    "           node='node_id', point_color='age')\n",
    "g.plot(edges, nodes)"
   ]
  },
  {
   "cell_type": "markdown",
   "metadata": {},
   "source": [
    "Node with max out degree"
   ]
  },
  {
   "cell_type": "code",
   "execution_count": 31,
   "metadata": {},
   "outputs": [
    {
     "data": {
      "text/plain": [
       "8763"
      ]
     },
     "execution_count": 31,
     "metadata": {},
     "output_type": "execute_result"
    }
   ],
   "source": [
    "max(dict(G.out_degree()).values())"
   ]
  },
  {
   "cell_type": "code",
   "execution_count": 58,
   "metadata": {},
   "outputs": [
    {
     "data": {
      "text/plain": [
       "'5867'"
      ]
     },
     "execution_count": 58,
     "metadata": {},
     "output_type": "execute_result"
    }
   ],
   "source": [
    "max(dict(G.out_degree()), key=dict(G.out_degree()).get)"
   ]
  },
  {
   "cell_type": "markdown",
   "metadata": {},
   "source": [
    "Ego-graph"
   ]
  },
  {
   "cell_type": "code",
   "execution_count": 43,
   "metadata": {},
   "outputs": [],
   "source": [
    "ego_v = '5867'\n",
    "G_ego_max_out = nx.ego_graph(G, ego_v, undirected=True) # undirected=True for both directions"
   ]
  },
  {
   "cell_type": "code",
   "execution_count": 44,
   "metadata": {},
   "outputs": [],
   "source": [
    "src = []\n",
    "dst = []\n",
    "for e in G_ego_max_out.edges:\n",
    "    src.append(e[0])\n",
    "    dst.append(e[1])\n",
    "edges = pd.DataFrame({\n",
    "    'source': src,\n",
    "    'destination': dst\n",
    "})\n",
    "nodes = pd.DataFrame({\n",
    "    'node_id': list(G_ego_max_out.nodes()),\n",
    "    'age': [df_all[df_all['user_id'] == int(x)]['AGE'].values[0] for x in list(G_ego_max_out.nodes())]\n",
    "})"
   ]
  },
  {
   "cell_type": "code",
   "execution_count": 45,
   "metadata": {},
   "outputs": [
    {
     "data": {
      "text/html": [
       "\n",
       "            <iframe id=\"b490051c-67c5-4980-bdb2-ba1e76b4e1b0\" src=\"https://hub.graphistry.com/graph/graph.html?dataset=240a06f34a85480681bbec62d9ed99d9&type=arrow&viztoken=decb3f2a-1102-467d-90a5-90283f9fbf7f&usertag=2e3da42b-pygraphistry-0.34.17&splashAfter=1730987039&info=true\"\n",
       "                    allowfullscreen=\"true\" webkitallowfullscreen=\"true\" mozallowfullscreen=\"true\"\n",
       "                    oallowfullscreen=\"true\" msallowfullscreen=\"true\"\n",
       "                    style=\"width:100%; height:500px; border: 1px solid #DDD; overflow: hidden\"\n",
       "                    \n",
       "            >\n",
       "            </iframe>\n",
       "        \n",
       "            <script>\n",
       "                try {\n",
       "                  $(\"#b490051c-67c5-4980-bdb2-ba1e76b4e1b0\").bind('mousewheel', function(e) { e.preventDefault(); });\n",
       "                } catch (e) { console.error('exn catching scroll', e); }\n",
       "            </script>\n",
       "        "
      ],
      "text/plain": [
       "<IPython.core.display.HTML object>"
      ]
     },
     "execution_count": 45,
     "metadata": {},
     "output_type": "execute_result"
    }
   ],
   "source": [
    "g = graphistry.bind(source='source', destination='destination',\n",
    "           node='node_id', point_color='age')\n",
    "g.plot(edges, nodes)"
   ]
  },
  {
   "cell_type": "markdown",
   "metadata": {},
   "source": [
    "Average degree"
   ]
  },
  {
   "cell_type": "code",
   "execution_count": 25,
   "metadata": {},
   "outputs": [
    {
     "data": {
      "text/plain": [
       "18.754598074599325"
      ]
     },
     "execution_count": 25,
     "metadata": {},
     "output_type": "execute_result"
    }
   ],
   "source": [
    "sum(dict(G.in_degree()).values()) / G.number_of_nodes()"
   ]
  },
  {
   "cell_type": "code",
   "execution_count": 26,
   "metadata": {},
   "outputs": [
    {
     "data": {
      "text/plain": [
       "18.754598074599325"
      ]
     },
     "execution_count": 26,
     "metadata": {},
     "output_type": "execute_result"
    }
   ],
   "source": [
    "sum(dict(G.out_degree()).values()) / G.number_of_nodes()"
   ]
  },
  {
   "cell_type": "code",
   "execution_count": 27,
   "metadata": {},
   "outputs": [
    {
     "data": {
      "text/plain": [
       "37.50919614919865"
      ]
     },
     "execution_count": 27,
     "metadata": {},
     "output_type": "execute_result"
    }
   ],
   "source": [
    "sum(dict(G.degree()).values()) / G.number_of_nodes()"
   ]
  },
  {
   "cell_type": "markdown",
   "metadata": {},
   "source": [
    "Age distribution of vertices with the highest degrees"
   ]
  },
  {
   "cell_type": "code",
   "execution_count": 8,
   "metadata": {},
   "outputs": [],
   "source": [
    "biggest_in_degree = sorted(dict(G.in_degree()).items(), key=lambda item: item[1], reverse=True)"
   ]
  },
  {
   "cell_type": "code",
   "execution_count": 10,
   "metadata": {},
   "outputs": [
    {
     "data": {
      "text/plain": [
       "Text(0, 0.5, 'Age')"
      ]
     },
     "execution_count": 10,
     "metadata": {},
     "output_type": "execute_result"
    },
    {
     "data": {
      "image/png": "[encoded data removed]",
      "text/plain": [
       "<Figure size 640x480 with 1 Axes>"
      ]
     },
     "metadata": {},
     "output_type": "display_data"
    }
   ],
   "source": [
    "cnt = 40\n",
    "deg = [i[1] for i in biggest_in_degree[:cnt]]\n",
    "ages = [int(df_all[df_all['user_id'] == int(i[0])]['AGE'].values[0]) for i in biggest_in_degree[:cnt]]\n",
    "plt.axhline(2011 - 2000, color='r') # граница зумеров и милениалов\n",
    "plt.axhline(2011 - 1984, color='r') # граница милениалов и поколения X\n",
    "plt.scatter(deg, ages)\n",
    "plt.xlabel('Degree')\n",
    "plt.ylabel('Age')"
   ]
  },
  {
   "cell_type": "code",
   "execution_count": 11,
   "metadata": {},
   "outputs": [],
   "source": [
    "biggest_out_degree = sorted(dict(G.out_degree()).items(), key=lambda item: item[1], reverse=True)"
   ]
  },
  {
   "cell_type": "code",
   "execution_count": 13,
   "metadata": {},
   "outputs": [
    {
     "data": {
      "text/plain": [
       "Text(0, 0.5, 'Age')"
      ]
     },
     "execution_count": 13,
     "metadata": {},
     "output_type": "execute_result"
    },
    {
     "data": {
      "image/png": "[encoded data removed]",
      "text/plain": [
       "<Figure size 640x480 with 1 Axes>"
      ]
     },
     "metadata": {},
     "output_type": "display_data"
    }
   ],
   "source": [
    "cnt = 40\n",
    "deg = [i[1] for i in biggest_out_degree[:cnt]]\n",
    "ages = [int(df_all[df_all['user_id'] == int(i[0])]['AGE'].values[0]) for i in biggest_out_degree[:cnt]]\n",
    "plt.axhline(2011 - 2000, color='r') # граница зумеров и милениалов\n",
    "plt.axhline(2011 - 1984, color='r') # граница милениалов и поколения X\n",
    "plt.scatter(deg, ages)\n",
    "plt.xlabel('Degree')\n",
    "plt.ylabel('Age')"
   ]
  },
  {
   "cell_type": "markdown",
   "metadata": {},
   "source": [
    "Friends degree"
   ]
  },
  {
   "cell_type": "code",
   "execution_count": 14,
   "metadata": {},
   "outputs": [],
   "source": [
    "biggest_friend_degree = sorted(dict(G_friends.degree()).items(), key=lambda item: item[1], reverse=True)"
   ]
  },
  {
   "cell_type": "code",
   "execution_count": 15,
   "metadata": {},
   "outputs": [
    {
     "data": {
      "text/plain": [
       "Text(0, 0.5, 'Age')"
      ]
     },
     "execution_count": 15,
     "metadata": {},
     "output_type": "execute_result"
    },
    {
     "data": {
      "image/png": "[encoded data removed]",
      "text/plain": [
       "<Figure size 640x480 with 1 Axes>"
      ]
     },
     "metadata": {},
     "output_type": "display_data"
    }
   ],
   "source": [
    "cnt = 40\n",
    "deg = [i[1] for i in biggest_friend_degree[:cnt]]\n",
    "ages = [int(df_all[df_all['user_id'] == int(i[0])]['AGE'].values[0]) for i in biggest_friend_degree[:cnt]]\n",
    "plt.axhline(2011 - 2000, color='r') # граница зумеров и милениалов\n",
    "plt.axhline(2011 - 1984, color='r') # граница милениалов и поколения X\n",
    "plt.scatter(deg, ages)\n",
    "plt.xlabel('Degree')\n",
    "plt.ylabel('Age')"
   ]
  },
  {
   "cell_type": "markdown",
   "metadata": {},
   "source": [
    "Сильно связные компоненты"
   ]
  },
  {
   "cell_type": "code",
   "execution_count": 113,
   "metadata": {},
   "outputs": [],
   "source": [
    "# наибольшая компонента сильной связности для подсчета характеристик\n",
    "largest = max(nx.strongly_connected_components(G_sub), key=len)\n",
    "G_LSCC = G_sub.subgraph(largest)"
   ]
  },
  {
   "cell_type": "code",
   "execution_count": 114,
   "metadata": {},
   "outputs": [
    {
     "name": "stdout",
     "output_type": "stream",
     "text": [
      "number_of_nodes in largest CSS =  86327 ; number_of_edges in largest CSS =  1068600\n"
     ]
    }
   ],
   "source": [
    "print(\"number_of_nodes in largest CSS = \", G_LSCC.number_of_nodes(), \"; number_of_edges in largest CSS = \", G_LSCC.number_of_edges())"
   ]
  },
  {
   "cell_type": "markdown",
   "metadata": {},
   "source": [
    "Density"
   ]
  },
  {
   "cell_type": "code",
   "execution_count": 18,
   "metadata": {},
   "outputs": [
    {
     "name": "stdout",
     "output_type": "stream",
     "text": [
      "dencity of G =  1.148614349725155e-05\n",
      "dencity of largest SCC in G_sub =  0.00014339265405487813\n"
     ]
    }
   ],
   "source": [
    "print(\"dencity of G = \", nx.density(G))\n",
    "print(\"dencity of largest SCC in G_sub = \", nx.density(G_LSCC))"
   ]
  },
  {
   "cell_type": "markdown",
   "metadata": {},
   "source": [
    "Distance"
   ]
  },
  {
   "cell_type": "code",
   "execution_count": 116,
   "metadata": {},
   "outputs": [
    {
     "name": "stdout",
     "output_type": "stream",
     "text": [
      "diameter - maximum between every pair of nodes in largest SCC in G_sub (approximation) =  23\n"
     ]
    }
   ],
   "source": [
    "print(\"diameter - maximum between every pair of nodes in largest SCC in G_sub (approximation) = \", nx.approximation.diameter(G_LSCC))"
   ]
  },
  {
   "cell_type": "code",
   "execution_count": 12,
   "metadata": {},
   "outputs": [],
   "source": [
    "largest = max(nx.strongly_connected_components(G), key=len)\n",
    "G_LSCC_all = G.subgraph(largest)"
   ]
  },
  {
   "cell_type": "code",
   "execution_count": 118,
   "metadata": {},
   "outputs": [
    {
     "name": "stdout",
     "output_type": "stream",
     "text": [
      "diameter - maximum between every pair of nodes in largest SCC (approximation) =  17\n"
     ]
    }
   ],
   "source": [
    "print(\"diameter - maximum between every pair of nodes in largest SCC (approximation) = \", nx.approximation.diameter(G_LSCC_all))"
   ]
  },
  {
   "cell_type": "code",
   "execution_count": 50,
   "metadata": {},
   "outputs": [],
   "source": [
    "import igraph as ig"
   ]
  },
  {
   "cell_type": "code",
   "execution_count": 64,
   "metadata": {},
   "outputs": [],
   "source": [
    "G_ig = ig.Graph.from_networkx(G)"
   ]
  },
  {
   "cell_type": "code",
   "execution_count": 51,
   "metadata": {},
   "outputs": [],
   "source": [
    "G_sub_ig = ig.Graph.from_networkx(G_sub)"
   ]
  },
  {
   "cell_type": "code",
   "execution_count": null,
   "metadata": {},
   "outputs": [],
   "source": [
    "G_ig.diameter(directed=True, unconn=True, weights=None)"
   ]
  },
  {
   "cell_type": "code",
   "execution_count": null,
   "metadata": {},
   "outputs": [],
   "source": [
    "#print(\"average distance between every pair of nodes in largest SCC = \", nx.average_shortest_path_length(G_LSCC))\n",
    "#print(\"eccentricity - largest distance between a node and all the other nodes\", nx.eccentricity(G_LSCC_all))\n",
    "#print(\"periphery - set of nodes that have eccentricity equal to the diameter\", nx.periphery(G_LSCC_all))\n",
    "#print(\"center - set of nodes that have eccetricity equal to the radius (minimum eccentricity)\", nx.center(G_LSCC_all))"
   ]
  },
  {
   "cell_type": "markdown",
   "metadata": {},
   "source": [
    "Clustering"
   ]
  },
  {
   "cell_type": "code",
   "execution_count": null,
   "metadata": {},
   "outputs": [
    {
     "data": {
      "text/plain": [
       "0.077"
      ]
     },
     "execution_count": 9,
     "metadata": {},
     "output_type": "execute_result"
    }
   ],
   "source": [
    "nx.approximation.average_clustering(G_friends) # only for not directed graphs\n",
    "#clustering = print(\"clustering = \", nx.clustering(G))\n",
    "#transitivity = nx.transitivity(G_LSCC)"
   ]
  },
  {
   "cell_type": "markdown",
   "metadata": {},
   "source": [
    "Network Centrality"
   ]
  },
  {
   "cell_type": "code",
   "execution_count": 10,
   "metadata": {},
   "outputs": [],
   "source": [
    "in_degree_centrality_G = nx.in_degree_centrality(G)"
   ]
  },
  {
   "cell_type": "code",
   "execution_count": 30,
   "metadata": {},
   "outputs": [
    {
     "data": {
      "image/png": "[encoded data removed]",
      "text/plain": [
       "<Figure size 640x480 with 1 Axes>"
      ]
     },
     "metadata": {},
     "output_type": "display_data"
    }
   ],
   "source": [
    "plt.hist(list(in_degree_centrality_G.values()), bins=300)\n",
    "plt.xscale('log')\n",
    "plt.show()"
   ]
  },
  {
   "cell_type": "code",
   "execution_count": 24,
   "metadata": {},
   "outputs": [],
   "source": [
    "out_degree_centrality_G = nx.out_degree_centrality(G)"
   ]
  },
  {
   "cell_type": "code",
   "execution_count": 29,
   "metadata": {},
   "outputs": [
    {
     "data": {
      "image/png": "[encoded data removed]",
      "text/plain": [
       "<Figure size 640x480 with 1 Axes>"
      ]
     },
     "metadata": {},
     "output_type": "display_data"
    }
   ],
   "source": [
    "plt.hist(list(out_degree_centrality_G.values()), bins=300)\n",
    "plt.xscale('log')\n",
    "plt.show()"
   ]
  },
  {
   "cell_type": "code",
   "execution_count": null,
   "metadata": {},
   "outputs": [],
   "source": [
    "betweenness_cen_sub = G_sub_ig.betweenness(directed=True, weights=None)"
   ]
  },
  {
   "cell_type": "code",
   "execution_count": 32,
   "metadata": {},
   "outputs": [],
   "source": [
    "import csv"
   ]
  },
  {
   "cell_type": "code",
   "execution_count": null,
   "metadata": {},
   "outputs": [],
   "source": [
    "with open('betweenness_cen_sub.csv', 'w', newline='') as csv_file:\n",
    "    csv_writer = csv.writer(csv_file)\n",
    "    for item in betweenness_cen_sub:\n",
    "        csv_writer.writerow([item])"
   ]
  },
  {
   "cell_type": "code",
   "execution_count": 43,
   "metadata": {},
   "outputs": [],
   "source": [
    "betweenness_cen_sub = []\n",
    "with open('betweenness_cen_sub.csv', newline='') as f:\n",
    "    reader = csv.reader(f)\n",
    "    for n in reader:\n",
    "        betweenness_cen_sub.append(float(n[0]))"
   ]
  },
  {
   "cell_type": "code",
   "execution_count": 45,
   "metadata": {},
   "outputs": [
    {
     "data": {
      "text/plain": [
       "[515427.3290390275,\n",
       " 122071.44725663798,\n",
       " 3553.3809725439046,\n",
       " 0.0,\n",
       " 2170028.856652906,\n",
       " 0.0,\n",
       " 0.0,\n",
       " 428694.78945246513,\n",
       " 0.0,\n",
       " 6511.16429138542]"
      ]
     },
     "execution_count": 45,
     "metadata": {},
     "output_type": "execute_result"
    }
   ],
   "source": [
    "betweenness_cen_sub[0:10]"
   ]
  },
  {
   "cell_type": "code",
   "execution_count": 49,
   "metadata": {},
   "outputs": [
    {
     "data": {
      "image/png": "[encoded data removed]",
      "text/plain": [
       "<Figure size 640x480 with 1 Axes>"
      ]
     },
     "metadata": {},
     "output_type": "display_data"
    }
   ],
   "source": [
    "plt.hist(betweenness_cen_sub, bins=400)\n",
    "plt.xscale('log')\n",
    "plt.show()"
   ]
  },
  {
   "cell_type": "code",
   "execution_count": 53,
   "metadata": {},
   "outputs": [],
   "source": [
    "closeness_cen_sub = G_sub_ig.closeness()"
   ]
  },
  {
   "cell_type": "code",
   "execution_count": 55,
   "metadata": {},
   "outputs": [],
   "source": [
    "with open('closeness_cen_sub.csv', 'w', newline='') as csv_file:\n",
    "    csv_writer = csv.writer(csv_file)\n",
    "    for item in closeness_cen_sub:\n",
    "        csv_writer.writerow([item])"
   ]
  },
  {
   "cell_type": "code",
   "execution_count": 56,
   "metadata": {},
   "outputs": [
    {
     "data": {
      "image/png": "[encoded data removed]",
      "text/plain": [
       "<Figure size 640x480 with 1 Axes>"
      ]
     },
     "metadata": {},
     "output_type": "display_data"
    }
   ],
   "source": [
    "plt.hist(closeness_cen_sub, bins=400)\n",
    "plt.xscale('log')\n",
    "plt.show()"
   ]
  },
  {
   "cell_type": "code",
   "execution_count": null,
   "metadata": {},
   "outputs": [],
   "source": [
    "closeness_cen = G_ig.closeness()"
   ]
  },
  {
   "cell_type": "code",
   "execution_count": 69,
   "metadata": {},
   "outputs": [],
   "source": [
    "eigenvector_cen = G_ig.eigenvector_centrality()"
   ]
  },
  {
   "cell_type": "code",
   "execution_count": 70,
   "metadata": {},
   "outputs": [
    {
     "data": {
      "image/png": "[encoded data removed]",
      "text/plain": [
       "<Figure size 640x480 with 1 Axes>"
      ]
     },
     "metadata": {},
     "output_type": "display_data"
    }
   ],
   "source": [
    "plt.hist(eigenvector_cen, bins=400)\n",
    "plt.xscale('log')\n",
    "plt.show()"
   ]
  }
 ],
 "metadata": {
  "kernelspec": {
   "display_name": "Python 3",
   "language": "python",
   "name": "python3"
  },
  "language_info": {
   "codemirror_mode": {
    "name": "ipython",
    "version": 3
   },
   "file_extension": ".py",
   "mimetype": "text/x-python",
   "name": "python",
   "nbconvert_exporter": "python",
   "pygments_lexer": "ipython3",
   "version": "3.11.8"
  }
 },
 "nbformat": 4,
 "nbformat_minor": 2
}
