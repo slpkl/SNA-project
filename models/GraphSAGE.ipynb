{
 "cells": [
  {
   "cell_type": "code",
   "execution_count": 2,
   "metadata": {},
   "outputs": [],
   "source": [
    "import networkx as nx\n",
    "import matplotlib.pyplot as plt\n",
    "import tarfile\n",
    "import pandas as pd\n",
    "import numpy as np\n",
    "import igraph as ig\n",
    "import torch\n",
    "import numpy as np\n",
    "import dgl\n",
    "import tqdm\n",
    "import sklearn.metrics"
   ]
  },
  {
   "cell_type": "markdown",
   "metadata": {},
   "source": [
    "## Работа с данными"
   ]
  },
  {
   "cell_type": "code",
   "execution_count": 3,
   "metadata": {},
   "outputs": [],
   "source": [
    "columns = [\n",
    "            \"public\",\n",
    "            \"completion_percentage\",\n",
    "            \"gender\",\n",
    "            \"region\",\n",
    "            \"last_login\",\n",
    "            \"registration\",\n",
    "            \"AGE\",\n",
    "            \"body\",\n",
    "            \"I_am_working_in_field\",\n",
    "            \"spoken_languages\",\n",
    "            \"hobbies\",\n",
    "            \"I_most_enjoy_good_food\",\n",
    "            \"pets\",\n",
    "            \"body_type\",\n",
    "            \"my_eyesight\",\n",
    "            \"eye_color\",\n",
    "            \"hair_color\",\n",
    "            \"hair_type\",\n",
    "            \"completed_level_of_education\",\n",
    "            \"favourite_color\",\n",
    "            \"relation_to_smoking\",\n",
    "            \"relation_to_alcohol\",\n",
    "            \"sign_in_zodiac\",\n",
    "            \"on_pokec_i_am_looking_for\",\n",
    "            \"love_is_for_me\",\n",
    "            \"relation_to_casual_sex\",\n",
    "            \"my_partner_should_be\",\n",
    "            \"marital_status\",\n",
    "            \"children\",\n",
    "            \"relation_to_children\",\n",
    "            \"I_like_movies\",\n",
    "            \"I_like_watching_movie\",\n",
    "            \"I_like_music\",\n",
    "            \"I_mostly_like_listening_to_music\",\n",
    "            \"the_idea_of_good_evening\",\n",
    "            \"I_like_specialties_from_kitchen\",\n",
    "            \"fun\",\n",
    "            \"I_am_going_to_concerts\",\n",
    "            \"my_active_sports\",\n",
    "            \"my_passive_sports\",\n",
    "            \"profession\",\n",
    "            \"I_like_books\",\n",
    "            \"life_style\",\n",
    "            \"music\",\n",
    "            \"cars\",\n",
    "            \"politics\",\n",
    "            \"relationships\",\n",
    "            \"art_culture\",\n",
    "            \"hobbies_interests\",\n",
    "            \"science_technologies\",\n",
    "            \"computers_internet\",\n",
    "            \"education\",\n",
    "            \"sport\",\n",
    "            \"movies\",\n",
    "            \"travelling\",\n",
    "            \"health\",\n",
    "            \"companies_brands\",\n",
    "            \"more\",\n",
    "            \"\"\n",
    "        ]"
   ]
  },
  {
   "cell_type": "code",
   "execution_count": 3,
   "metadata": {},
   "outputs": [],
   "source": [
    "df_all = pd.read_csv('soc-pokec-profiles.txt.gz', compression='gzip', sep='\\t', names=columns, encoding='utf-8', on_bad_lines='skip', index_col=None)"
   ]
  },
  {
   "cell_type": "code",
   "execution_count": 4,
   "metadata": {},
   "outputs": [
    {
     "data": {
      "text/html": [
       "<div>\n",
       "<style scoped>\n",
       "    .dataframe tbody tr th:only-of-type {\n",
       "        vertical-align: middle;\n",
       "    }\n",
       "\n",
       "    .dataframe tbody tr th {\n",
       "        vertical-align: top;\n",
       "    }\n",
       "\n",
       "    .dataframe thead th {\n",
       "        text-align: right;\n",
       "    }\n",
       "</style>\n",
       "<table border=\"1\" class=\"dataframe\">\n",
       "  <thead>\n",
       "    <tr style=\"text-align: right;\">\n",
       "      <th></th>\n",
       "      <th>public</th>\n",
       "      <th>completion_percentage</th>\n",
       "      <th>gender</th>\n",
       "      <th>region</th>\n",
       "      <th>last_login</th>\n",
       "      <th>registration</th>\n",
       "      <th>AGE</th>\n",
       "      <th>body</th>\n",
       "      <th>I_am_working_in_field</th>\n",
       "      <th>spoken_languages</th>\n",
       "      <th>...</th>\n",
       "      <th>science_technologies</th>\n",
       "      <th>computers_internet</th>\n",
       "      <th>education</th>\n",
       "      <th>sport</th>\n",
       "      <th>movies</th>\n",
       "      <th>travelling</th>\n",
       "      <th>health</th>\n",
       "      <th>companies_brands</th>\n",
       "      <th>more</th>\n",
       "      <th></th>\n",
       "    </tr>\n",
       "  </thead>\n",
       "  <tbody>\n",
       "    <tr>\n",
       "      <th>1</th>\n",
       "      <td>1</td>\n",
       "      <td>14</td>\n",
       "      <td>1.0</td>\n",
       "      <td>zilinsky kraj, zilina</td>\n",
       "      <td>2012-05-25 11:20:00.0</td>\n",
       "      <td>2005-04-03 00:00:00.0</td>\n",
       "      <td>26.0</td>\n",
       "      <td>185 cm, 90 kg</td>\n",
       "      <td>it</td>\n",
       "      <td>anglicky</td>\n",
       "      <td>...</td>\n",
       "      <td>NaN</td>\n",
       "      <td>NaN</td>\n",
       "      <td>NaN</td>\n",
       "      <td>NaN</td>\n",
       "      <td>NaN</td>\n",
       "      <td>NaN</td>\n",
       "      <td>NaN</td>\n",
       "      <td>NaN</td>\n",
       "      <td>NaN</td>\n",
       "      <td>NaN</td>\n",
       "    </tr>\n",
       "    <tr>\n",
       "      <th>2</th>\n",
       "      <td>1</td>\n",
       "      <td>62</td>\n",
       "      <td>0.0</td>\n",
       "      <td>zilinsky kraj, kysucke nove mesto</td>\n",
       "      <td>2012-05-25 23:08:00.0</td>\n",
       "      <td>2007-11-30 00:00:00.0</td>\n",
       "      <td>0.0</td>\n",
       "      <td>166 cm, 58 kg</td>\n",
       "      <td>NaN</td>\n",
       "      <td>nemecky</td>\n",
       "      <td>...</td>\n",
       "      <td>NaN</td>\n",
       "      <td>NaN</td>\n",
       "      <td>NaN</td>\n",
       "      <td>NaN</td>\n",
       "      <td>NaN</td>\n",
       "      <td>NaN</td>\n",
       "      <td>NaN</td>\n",
       "      <td>NaN</td>\n",
       "      <td>NaN</td>\n",
       "      <td>NaN</td>\n",
       "    </tr>\n",
       "    <tr>\n",
       "      <th>16</th>\n",
       "      <td>1</td>\n",
       "      <td>64</td>\n",
       "      <td>1.0</td>\n",
       "      <td>zilinsky kraj, kysucke nove mesto</td>\n",
       "      <td>2012-05-25 23:19:40.0</td>\n",
       "      <td>2008-05-18 00:00:00.0</td>\n",
       "      <td>23.0</td>\n",
       "      <td>173 cm, 70 kg</td>\n",
       "      <td>najvatcsej firme na svete urad prace</td>\n",
       "      <td>no predsa svoj :d a najlepsie druhy</td>\n",
       "      <td>...</td>\n",
       "      <td>NaN</td>\n",
       "      <td>NaN</td>\n",
       "      <td>NaN</td>\n",
       "      <td>NaN</td>\n",
       "      <td>NaN</td>\n",
       "      <td>NaN</td>\n",
       "      <td>NaN</td>\n",
       "      <td>NaN</td>\n",
       "      <td>NaN</td>\n",
       "      <td>NaN</td>\n",
       "    </tr>\n",
       "    <tr>\n",
       "      <th>3</th>\n",
       "      <td>0</td>\n",
       "      <td>38</td>\n",
       "      <td>1.0</td>\n",
       "      <td>bratislavsky kraj, bratislava - karlova ves</td>\n",
       "      <td>2012-05-10 18:05:00.0</td>\n",
       "      <td>2010-05-23 00:00:00.0</td>\n",
       "      <td>29.0</td>\n",
       "      <td>NaN</td>\n",
       "      <td>reklamy a medii, sluzieb a obchodu</td>\n",
       "      <td>anglicky, nemecky</td>\n",
       "      <td>...</td>\n",
       "      <td>NaN</td>\n",
       "      <td>NaN</td>\n",
       "      <td>NaN</td>\n",
       "      <td>NaN</td>\n",
       "      <td>NaN</td>\n",
       "      <td>NaN</td>\n",
       "      <td>NaN</td>\n",
       "      <td>NaN</td>\n",
       "      <td>NaN</td>\n",
       "      <td>NaN</td>\n",
       "    </tr>\n",
       "    <tr>\n",
       "      <th>4</th>\n",
       "      <td>1</td>\n",
       "      <td>12</td>\n",
       "      <td>0.0</td>\n",
       "      <td>banskobystricky kraj, brezno</td>\n",
       "      <td>2011-12-29 12:25:00.0</td>\n",
       "      <td>2011-12-29 00:00:00.0</td>\n",
       "      <td>26.0</td>\n",
       "      <td>NaN</td>\n",
       "      <td>NaN</td>\n",
       "      <td>NaN</td>\n",
       "      <td>...</td>\n",
       "      <td>NaN</td>\n",
       "      <td>NaN</td>\n",
       "      <td>NaN</td>\n",
       "      <td>NaN</td>\n",
       "      <td>NaN</td>\n",
       "      <td>NaN</td>\n",
       "      <td>NaN</td>\n",
       "      <td>NaN</td>\n",
       "      <td>NaN</td>\n",
       "      <td>NaN</td>\n",
       "    </tr>\n",
       "  </tbody>\n",
       "</table>\n",
       "<p>5 rows × 59 columns</p>\n",
       "</div>"
      ],
      "text/plain": [
       "    public  completion_percentage  gender  \\\n",
       "1        1                     14     1.0   \n",
       "2        1                     62     0.0   \n",
       "16       1                     64     1.0   \n",
       "3        0                     38     1.0   \n",
       "4        1                     12     0.0   \n",
       "\n",
       "                                         region             last_login  \\\n",
       "1                         zilinsky kraj, zilina  2012-05-25 11:20:00.0   \n",
       "2             zilinsky kraj, kysucke nove mesto  2012-05-25 23:08:00.0   \n",
       "16            zilinsky kraj, kysucke nove mesto  2012-05-25 23:19:40.0   \n",
       "3   bratislavsky kraj, bratislava - karlova ves  2012-05-10 18:05:00.0   \n",
       "4                  banskobystricky kraj, brezno  2011-12-29 12:25:00.0   \n",
       "\n",
       "             registration   AGE           body  \\\n",
       "1   2005-04-03 00:00:00.0  26.0  185 cm, 90 kg   \n",
       "2   2007-11-30 00:00:00.0   0.0  166 cm, 58 kg   \n",
       "16  2008-05-18 00:00:00.0  23.0  173 cm, 70 kg   \n",
       "3   2010-05-23 00:00:00.0  29.0            NaN   \n",
       "4   2011-12-29 00:00:00.0  26.0            NaN   \n",
       "\n",
       "                   I_am_working_in_field                     spoken_languages  \\\n",
       "1                                     it                             anglicky   \n",
       "2                                    NaN                              nemecky   \n",
       "16  najvatcsej firme na svete urad prace  no predsa svoj :d a najlepsie druhy   \n",
       "3     reklamy a medii, sluzieb a obchodu                    anglicky, nemecky   \n",
       "4                                    NaN                                  NaN   \n",
       "\n",
       "    ... science_technologies computers_internet education sport movies  \\\n",
       "1   ...                  NaN                NaN       NaN   NaN    NaN   \n",
       "2   ...                  NaN                NaN       NaN   NaN    NaN   \n",
       "16  ...                  NaN                NaN       NaN   NaN    NaN   \n",
       "3   ...                  NaN                NaN       NaN   NaN    NaN   \n",
       "4   ...                  NaN                NaN       NaN   NaN    NaN   \n",
       "\n",
       "   travelling health companies_brands more      \n",
       "1         NaN    NaN              NaN  NaN NaN  \n",
       "2         NaN    NaN              NaN  NaN NaN  \n",
       "16        NaN    NaN              NaN  NaN NaN  \n",
       "3         NaN    NaN              NaN  NaN NaN  \n",
       "4         NaN    NaN              NaN  NaN NaN  \n",
       "\n",
       "[5 rows x 59 columns]"
      ]
     },
     "execution_count": 4,
     "metadata": {},
     "output_type": "execute_result"
    }
   ],
   "source": [
    "df_all.head()"
   ]
  },
  {
   "cell_type": "markdown",
   "metadata": {},
   "source": [
    "### Предобработка данных"
   ]
  },
  {
   "cell_type": "code",
   "execution_count": 5,
   "metadata": {},
   "outputs": [],
   "source": [
    "from sklearn.preprocessing import LabelEncoder"
   ]
  },
  {
   "cell_type": "markdown",
   "metadata": {},
   "source": [
    "Работа с профилями, в которых заполнен возраст"
   ]
  },
  {
   "cell_type": "code",
   "execution_count": 6,
   "metadata": {},
   "outputs": [],
   "source": [
    "df_known = df_all.copy()\n",
    "df_known = df_known[~df_known.AGE.isnull()]\n",
    "df_known = df_known[df_known.AGE != 0]\n",
    "df_known = df_known[df_known.AGE < 100]"
   ]
  },
  {
   "cell_type": "code",
   "execution_count": 7,
   "metadata": {},
   "outputs": [],
   "source": [
    "edges = pd.read_csv('soc-pokec-relationships.txt.gz', compression='gzip', sep='\\t', names=[\"from\", \"to\"], encoding='utf-8', on_bad_lines='skip', index_col=False)"
   ]
  },
  {
   "cell_type": "markdown",
   "metadata": {},
   "source": [
    "Индексы к 0...len"
   ]
  },
  {
   "cell_type": "code",
   "execution_count": 8,
   "metadata": {},
   "outputs": [],
   "source": [
    "ids = list(df_known.index)\n",
    "edges = edges[(edges['from'].isin(ids) & edges['to'].isin(ids))]"
   ]
  },
  {
   "cell_type": "code",
   "execution_count": 9,
   "metadata": {},
   "outputs": [],
   "source": [
    "df_known.index = list(range(df_known.shape[0]))"
   ]
  },
  {
   "cell_type": "code",
   "execution_count": 10,
   "metadata": {},
   "outputs": [],
   "source": [
    "transform_indexes = {}\n",
    "for i in range(len(ids)):\n",
    "    transform_indexes[ids[i]] = i"
   ]
  },
  {
   "cell_type": "code",
   "execution_count": 11,
   "metadata": {},
   "outputs": [],
   "source": [
    "edges['from'] = edges['from'].apply(lambda x : transform_indexes[x])\n",
    "edges['to'] = edges['to'].apply(lambda x : transform_indexes[x])"
   ]
  },
  {
   "cell_type": "code",
   "execution_count": 12,
   "metadata": {},
   "outputs": [
    {
     "data": {
      "text/html": [
       "<div>\n",
       "<style scoped>\n",
       "    .dataframe tbody tr th:only-of-type {\n",
       "        vertical-align: middle;\n",
       "    }\n",
       "\n",
       "    .dataframe tbody tr th {\n",
       "        vertical-align: top;\n",
       "    }\n",
       "\n",
       "    .dataframe thead th {\n",
       "        text-align: right;\n",
       "    }\n",
       "</style>\n",
       "<table border=\"1\" class=\"dataframe\">\n",
       "  <thead>\n",
       "    <tr style=\"text-align: right;\">\n",
       "      <th></th>\n",
       "      <th>from</th>\n",
       "      <th>to</th>\n",
       "    </tr>\n",
       "  </thead>\n",
       "  <tbody>\n",
       "    <tr>\n",
       "      <th>1</th>\n",
       "      <td>0</td>\n",
       "      <td>19</td>\n",
       "    </tr>\n",
       "    <tr>\n",
       "      <th>2</th>\n",
       "      <td>0</td>\n",
       "      <td>9</td>\n",
       "    </tr>\n",
       "    <tr>\n",
       "      <th>3</th>\n",
       "      <td>0</td>\n",
       "      <td>2</td>\n",
       "    </tr>\n",
       "    <tr>\n",
       "      <th>4</th>\n",
       "      <td>0</td>\n",
       "      <td>3</td>\n",
       "    </tr>\n",
       "    <tr>\n",
       "      <th>5</th>\n",
       "      <td>0</td>\n",
       "      <td>5</td>\n",
       "    </tr>\n",
       "  </tbody>\n",
       "</table>\n",
       "</div>"
      ],
      "text/plain": [
       "   from  to\n",
       "1     0  19\n",
       "2     0   9\n",
       "3     0   2\n",
       "4     0   3\n",
       "5     0   5"
      ]
     },
     "execution_count": 12,
     "metadata": {},
     "output_type": "execute_result"
    }
   ],
   "source": [
    "edges.head(5)"
   ]
  },
  {
   "cell_type": "markdown",
   "metadata": {},
   "source": [
    "Обработка признаков"
   ]
  },
  {
   "cell_type": "code",
   "execution_count": 15,
   "metadata": {},
   "outputs": [],
   "source": [
    "df = df_known[[\"public\", \"completion_percentage\", \"gender\", \"region\", \"AGE\", \"last_login\", \"completed_level_of_education\"]]"
   ]
  },
  {
   "cell_type": "code",
   "execution_count": 16,
   "metadata": {},
   "outputs": [],
   "source": [
    "# регион\n",
    "le = LabelEncoder()\n",
    "df.loc[:, 'region'] = le.fit_transform(df['region'])\n",
    "df.loc[:, 'region'] = df['region'].apply(lambda x : int(x))"
   ]
  },
  {
   "cell_type": "code",
   "execution_count": 17,
   "metadata": {},
   "outputs": [],
   "source": [
    "import string\n",
    "translator = str.maketrans(string.punctuation, ' '*len(string.punctuation))\n",
    "\n",
    "def get_words(text):\n",
    "    res = text.translate(translator).split()\n",
    "    #res = re.sub('['+string.punctuation+']', ' ', text).split()\n",
    "    for i in range(0, len(res)):\n",
    "        res[i] = res[i].strip()\n",
    "    return res"
   ]
  },
  {
   "cell_type": "code",
   "execution_count": 18,
   "metadata": {},
   "outputs": [],
   "source": [
    "import math\n",
    "def transform(val, transformer):\n",
    "    if val is None or val == \" \" or (type(val) is float and math.isnan(val)):\n",
    "        return 0\n",
    "    return transformer(val)\n",
    "def relable_transformer(val, keywords, no_hit_to_null=True):\n",
    "    if val == 0:\n",
    "        return 0\n",
    "    val_clean = ' '.join(get_words(val))\n",
    "    for keyword, repl in keywords:\n",
    "        if keyword in val_clean:\n",
    "            return repl\n",
    "    if no_hit_to_null:\n",
    "        return 0\n",
    "    else:\n",
    "        return val"
   ]
  },
  {
   "cell_type": "code",
   "execution_count": 19,
   "metadata": {},
   "outputs": [],
   "source": [
    "# ключевые слова в completed_level_of_education для сопоставления с уровнем образования\n",
    "edu_keywords = [('stredoskolske', 1), ('zakladne', 1), # среднее и основное образование\n",
    "                ('vysokoskolske', 2), # колледж\n",
    "                ('ucnovske', 3), # стажировка\n",
    "                ('studujem', 4), ('student', 3), # студент\n",
    "                ('pracuje', 5), # практика\n",
    "                ('bakalarske', 6)] # бакалавриат\n",
    "df.loc[:, 'completed_level_of_education'] = df['completed_level_of_education'].apply(lambda x: transform(x, lambda v: relable_transformer(v, edu_keywords)))"
   ]
  },
  {
   "cell_type": "code",
   "execution_count": 20,
   "metadata": {},
   "outputs": [],
   "source": [
    "# время последнего захода в сеть\n",
    "import datetime\n",
    "df.loc[:, \"last_login\"] = df[\"last_login\"].apply(lambda x : int(datetime.datetime.strptime(x.split()[0],  '%Y-%m-%d').timestamp()))"
   ]
  },
  {
   "cell_type": "code",
   "execution_count": 21,
   "metadata": {},
   "outputs": [],
   "source": [
    "from sklearn import preprocessing\n",
    "df.loc[:, 'last_login'] = preprocessing.normalize([df['last_login']])[0]"
   ]
  },
  {
   "cell_type": "code",
   "execution_count": 22,
   "metadata": {},
   "outputs": [],
   "source": [
    "# функция для обработки информации о теле (рост, вес)\n",
    "import re\n",
    "def transform_body(val):\n",
    "    if val is None or (type(val) is float and math.isnan(val)):\n",
    "        return 0, 0\n",
    "    height_program = re.compile(r\"[0-9]+(\\s*)cm\")\n",
    "    weight_program = re.compile(r\"[0-9]+(\\s*)kg\")\n",
    "    h = re.search(height_program, val)\n",
    "    if h is None:\n",
    "        h = 0\n",
    "    else:\n",
    "        h = re.sub(r'(\\s*)cm', '', h.group(0))\n",
    "    w = re.search(weight_program, val)\n",
    "    if w is None:\n",
    "        w = 0\n",
    "    else:\n",
    "        w = re.sub(r'(\\s*)kg', '', w.group(0))\n",
    "    if int(h) > 10000:\n",
    "        h = 0\n",
    "    if int(w) > 10000:\n",
    "        w = 0\n",
    "    return int(h), int(w)"
   ]
  },
  {
   "cell_type": "code",
   "execution_count": 24,
   "metadata": {},
   "outputs": [],
   "source": [
    "df.loc[:, \"hight\"] = df_known[\"body\"].apply(lambda x : transform_body(x)[0])\n",
    "df.loc[:, \"weight\"] = df_known[\"body\"].apply(lambda x : transform_body(x)[1])"
   ]
  },
  {
   "cell_type": "code",
   "execution_count": 25,
   "metadata": {},
   "outputs": [],
   "source": [
    "df = df.astype({'region': 'int64', 'completed_level_of_education': 'int64', 'hight' : 'int64', 'weight' : 'int64', 'last_login' : 'float64'})"
   ]
  },
  {
   "cell_type": "code",
   "execution_count": 93,
   "metadata": {},
   "outputs": [],
   "source": [
    "df.to_csv(\"pokec-df-processed2.csv\")"
   ]
  },
  {
   "cell_type": "code",
   "execution_count": 94,
   "metadata": {},
   "outputs": [],
   "source": [
    "edges.to_csv(\"pokec-edges-processed2.csv\")"
   ]
  },
  {
   "cell_type": "code",
   "execution_count": 26,
   "metadata": {},
   "outputs": [],
   "source": [
    "# фичи и возраст\n",
    "node_features = df.loc[:, df.columns != 'AGE'].values\n",
    "node_labels = df.loc[:, df.columns == 'AGE'].values.flatten()\n",
    "node_features = torch.FloatTensor(node_features)\n",
    "node_labels = torch.LongTensor(node_labels)"
   ]
  },
  {
   "cell_type": "code",
   "execution_count": 27,
   "metadata": {},
   "outputs": [],
   "source": [
    "num_features = node_features.shape[1]\n",
    "num_classes = (node_labels.max() + 1).item()"
   ]
  },
  {
   "cell_type": "code",
   "execution_count": 28,
   "metadata": {},
   "outputs": [],
   "source": [
    "graph = dgl.graph((edges.values[:, 0], edges.values[:, 1]))"
   ]
  },
  {
   "cell_type": "code",
   "execution_count": 99,
   "metadata": {},
   "outputs": [],
   "source": [
    "# разделение на обучающую, валидационную и тестовую выборку\n",
    "ind = df.index.values\n",
    "np.random.shuffle(ind)\n",
    "train_nids = ind[0:int(len(ind)*0.9)]\n",
    "test_nids = ind[int(len(ind)*0.9):]"
   ]
  },
  {
   "cell_type": "code",
   "execution_count": 100,
   "metadata": {},
   "outputs": [],
   "source": [
    "with open('train2.txt', 'w') as f:\n",
    "    for line in train_nids:\n",
    "        f.write(f\"{line}\\n\")"
   ]
  },
  {
   "cell_type": "code",
   "execution_count": 101,
   "metadata": {},
   "outputs": [],
   "source": [
    "with open('test2.txt', 'w') as f:\n",
    "    for line in test_nids:\n",
    "        f.write(f\"{line}\\n\")"
   ]
  },
  {
   "cell_type": "markdown",
   "metadata": {},
   "source": [
    "## GraphSAGE"
   ]
  },
  {
   "cell_type": "code",
   "execution_count": 30,
   "metadata": {},
   "outputs": [],
   "source": [
    "import torch.nn as nn\n",
    "import torch.nn.functional as F\n",
    "import dgl.nn as dglnn\n",
    "\n",
    "class SAGE(nn.Module):\n",
    "    def __init__(self, in_feats, n_hidden, n_classes, n_layers):\n",
    "        super().__init__()\n",
    "        self.n_layers = n_layers\n",
    "        self.n_hidden = n_hidden\n",
    "        self.n_classes = n_classes\n",
    "        self.layers = nn.ModuleList()\n",
    "        self.layers.append(dglnn.SAGEConv(in_feats, n_hidden, 'mean'))\n",
    "        for i in range(1, n_layers - 1):\n",
    "            self.layers.append(dglnn.SAGEConv(n_hidden, n_hidden, 'mean'))\n",
    "        self.layers.append(dglnn.SAGEConv(n_hidden, n_classes, 'mean'))\n",
    "        \n",
    "    def forward(self, bipartites, x):\n",
    "        for l, (layer, bipartite) in enumerate(zip(self.layers, bipartites)):\n",
    "            x = layer(bipartite, x)\n",
    "            if l != self.n_layers - 1:\n",
    "                x = F.relu(x)\n",
    "        return x"
   ]
  },
  {
   "cell_type": "code",
   "execution_count": 36,
   "metadata": {},
   "outputs": [],
   "source": [
    "model = SAGE(num_features, 9, num_classes, 2)\n",
    "opt = torch.optim.Adam(model.parameters())"
   ]
  },
  {
   "cell_type": "code",
   "execution_count": 32,
   "metadata": {},
   "outputs": [],
   "source": [
    "sampler = dgl.dataloading.MultiLayerNeighborSampler([7, 7])\n",
    "train_dataloader = dgl.dataloading.DataLoader(\n",
    "    graph, train_nids, sampler,\n",
    "    batch_size=1024,\n",
    "    shuffle=True,\n",
    "    drop_last=False,\n",
    "    num_workers=0\n",
    ")"
   ]
  },
  {
   "cell_type": "code",
   "execution_count": 34,
   "metadata": {},
   "outputs": [],
   "source": [
    "best_model_path = 'GraphSAGE_model.pt'"
   ]
  },
  {
   "cell_type": "code",
   "execution_count": 38,
   "metadata": {},
   "outputs": [
    {
     "name": "stderr",
     "output_type": "stream",
     "text": [
      "100%|██████████| 1000/1000 [00:07<00:00, 137.39it/s, loss=3.759, mae=7.736]\n"
     ]
    },
    {
     "name": "stdout",
     "output_type": "stream",
     "text": [
      "Epoch 0 MAE 7.736111111111111\n"
     ]
    },
    {
     "name": "stderr",
     "output_type": "stream",
     "text": [
      "100%|██████████| 1000/1000 [00:07<00:00, 138.61it/s, loss=3.924, mae=7.569]\n"
     ]
    },
    {
     "name": "stdout",
     "output_type": "stream",
     "text": [
      "Epoch 1 MAE 7.569444444444445\n"
     ]
    },
    {
     "name": "stderr",
     "output_type": "stream",
     "text": [
      "100%|██████████| 1000/1000 [00:06<00:00, 144.76it/s, loss=3.521, mae=6.417]\n"
     ]
    },
    {
     "name": "stdout",
     "output_type": "stream",
     "text": [
      "Epoch 2 MAE 6.416666666666667\n"
     ]
    },
    {
     "name": "stderr",
     "output_type": "stream",
     "text": [
      "100%|██████████| 1000/1000 [00:07<00:00, 140.79it/s, loss=3.541, mae=7.361]\n"
     ]
    },
    {
     "name": "stdout",
     "output_type": "stream",
     "text": [
      "Epoch 3 MAE 7.361111111111111\n"
     ]
    },
    {
     "name": "stderr",
     "output_type": "stream",
     "text": [
      "100%|██████████| 1000/1000 [00:07<00:00, 131.47it/s, loss=3.515, mae=7.069]\n"
     ]
    },
    {
     "name": "stdout",
     "output_type": "stream",
     "text": [
      "Epoch 4 MAE 7.069444444444445\n"
     ]
    },
    {
     "name": "stderr",
     "output_type": "stream",
     "text": [
      "100%|██████████| 1000/1000 [00:07<00:00, 131.38it/s, loss=3.567, mae=7.194]\n"
     ]
    },
    {
     "name": "stdout",
     "output_type": "stream",
     "text": [
      "Epoch 5 MAE 7.194444444444445\n"
     ]
    },
    {
     "name": "stderr",
     "output_type": "stream",
     "text": [
      "100%|██████████| 1000/1000 [00:07<00:00, 140.46it/s, loss=3.623, mae=7.958]\n"
     ]
    },
    {
     "name": "stdout",
     "output_type": "stream",
     "text": [
      "Epoch 6 MAE 7.958333333333333\n"
     ]
    },
    {
     "name": "stderr",
     "output_type": "stream",
     "text": [
      "100%|██████████| 1000/1000 [00:06<00:00, 147.98it/s, loss=3.365, mae=6.319]\n"
     ]
    },
    {
     "name": "stdout",
     "output_type": "stream",
     "text": [
      "Epoch 7 MAE 6.319444444444445\n"
     ]
    },
    {
     "name": "stderr",
     "output_type": "stream",
     "text": [
      "100%|██████████| 1000/1000 [00:07<00:00, 135.31it/s, loss=3.409, mae=6.153]\n"
     ]
    },
    {
     "name": "stdout",
     "output_type": "stream",
     "text": [
      "Epoch 8 MAE 6.152777777777778\n"
     ]
    },
    {
     "name": "stderr",
     "output_type": "stream",
     "text": [
      "100%|██████████| 1000/1000 [00:07<00:00, 134.02it/s, loss=3.474, mae=6.792]\n"
     ]
    },
    {
     "name": "stdout",
     "output_type": "stream",
     "text": [
      "Epoch 9 MAE 6.791666666666667\n"
     ]
    },
    {
     "name": "stderr",
     "output_type": "stream",
     "text": [
      "100%|██████████| 1000/1000 [00:07<00:00, 140.62it/s, loss=3.203, mae=5.097]\n"
     ]
    },
    {
     "name": "stdout",
     "output_type": "stream",
     "text": [
      "Epoch 10 MAE 5.097222222222222\n"
     ]
    },
    {
     "name": "stderr",
     "output_type": "stream",
     "text": [
      "100%|██████████| 1000/1000 [00:07<00:00, 139.08it/s, loss=3.304, mae=5.444]\n"
     ]
    },
    {
     "name": "stdout",
     "output_type": "stream",
     "text": [
      "Epoch 11 MAE 5.444444444444445\n"
     ]
    },
    {
     "name": "stderr",
     "output_type": "stream",
     "text": [
      "100%|██████████| 1000/1000 [00:06<00:00, 146.01it/s, loss=3.414, mae=7.097]\n"
     ]
    },
    {
     "name": "stdout",
     "output_type": "stream",
     "text": [
      "Epoch 12 MAE 7.097222222222222\n"
     ]
    },
    {
     "name": "stderr",
     "output_type": "stream",
     "text": [
      "100%|██████████| 1000/1000 [00:07<00:00, 139.54it/s, loss=3.208, mae=5.778]\n"
     ]
    },
    {
     "name": "stdout",
     "output_type": "stream",
     "text": [
      "Epoch 13 MAE 5.777777777777778\n"
     ]
    },
    {
     "name": "stderr",
     "output_type": "stream",
     "text": [
      "100%|██████████| 1000/1000 [00:07<00:00, 139.34it/s, loss=3.156, mae=5.125]\n"
     ]
    },
    {
     "name": "stdout",
     "output_type": "stream",
     "text": [
      "Epoch 14 MAE 5.125\n"
     ]
    },
    {
     "name": "stderr",
     "output_type": "stream",
     "text": [
      "100%|██████████| 1000/1000 [00:06<00:00, 144.53it/s, loss=3.395, mae=6.208]\n"
     ]
    },
    {
     "name": "stdout",
     "output_type": "stream",
     "text": [
      "Epoch 15 MAE 6.208333333333333\n"
     ]
    },
    {
     "name": "stderr",
     "output_type": "stream",
     "text": [
      "100%|██████████| 1000/1000 [00:06<00:00, 145.66it/s, loss=3.405, mae=6.722]\n"
     ]
    },
    {
     "name": "stdout",
     "output_type": "stream",
     "text": [
      "Epoch 16 MAE 6.722222222222222\n"
     ]
    },
    {
     "name": "stderr",
     "output_type": "stream",
     "text": [
      "100%|██████████| 1000/1000 [00:07<00:00, 140.20it/s, loss=3.299, mae=5.764]\n"
     ]
    },
    {
     "name": "stdout",
     "output_type": "stream",
     "text": [
      "Epoch 17 MAE 5.763888888888889\n"
     ]
    },
    {
     "name": "stderr",
     "output_type": "stream",
     "text": [
      "100%|██████████| 1000/1000 [00:07<00:00, 137.87it/s, loss=3.275, mae=6.139]\n"
     ]
    },
    {
     "name": "stdout",
     "output_type": "stream",
     "text": [
      "Epoch 18 MAE 6.138888888888889\n"
     ]
    },
    {
     "name": "stderr",
     "output_type": "stream",
     "text": [
      "100%|██████████| 1000/1000 [00:07<00:00, 135.19it/s, loss=3.191, mae=5.542]\n"
     ]
    },
    {
     "name": "stdout",
     "output_type": "stream",
     "text": [
      "Epoch 19 MAE 5.541666666666667\n"
     ]
    },
    {
     "name": "stderr",
     "output_type": "stream",
     "text": [
      "100%|██████████| 1000/1000 [00:07<00:00, 136.13it/s, loss=3.237, mae=5.083]\n"
     ]
    },
    {
     "name": "stdout",
     "output_type": "stream",
     "text": [
      "Epoch 20 MAE 5.083333333333333\n"
     ]
    },
    {
     "name": "stderr",
     "output_type": "stream",
     "text": [
      "100%|██████████| 1000/1000 [00:07<00:00, 140.16it/s, loss=3.159, mae=5.500]\n"
     ]
    },
    {
     "name": "stdout",
     "output_type": "stream",
     "text": [
      "Epoch 21 MAE 5.5\n"
     ]
    },
    {
     "name": "stderr",
     "output_type": "stream",
     "text": [
      "100%|██████████| 1000/1000 [00:07<00:00, 141.95it/s, loss=3.367, mae=6.153]\n"
     ]
    },
    {
     "name": "stdout",
     "output_type": "stream",
     "text": [
      "Epoch 22 MAE 6.152777777777778\n"
     ]
    },
    {
     "name": "stderr",
     "output_type": "stream",
     "text": [
      "100%|██████████| 1000/1000 [00:06<00:00, 143.28it/s, loss=3.155, mae=4.806]\n"
     ]
    },
    {
     "name": "stdout",
     "output_type": "stream",
     "text": [
      "Epoch 23 MAE 4.805555555555555\n"
     ]
    },
    {
     "name": "stderr",
     "output_type": "stream",
     "text": [
      "100%|██████████| 1000/1000 [00:06<00:00, 144.16it/s, loss=3.070, mae=4.931]\n"
     ]
    },
    {
     "name": "stdout",
     "output_type": "stream",
     "text": [
      "Epoch 24 MAE 4.930555555555555\n"
     ]
    },
    {
     "name": "stderr",
     "output_type": "stream",
     "text": [
      "100%|██████████| 1000/1000 [00:07<00:00, 141.08it/s, loss=3.192, mae=5.431]\n"
     ]
    },
    {
     "name": "stdout",
     "output_type": "stream",
     "text": [
      "Epoch 25 MAE 5.430555555555555\n"
     ]
    },
    {
     "name": "stderr",
     "output_type": "stream",
     "text": [
      "100%|██████████| 1000/1000 [00:06<00:00, 145.65it/s, loss=3.222, mae=5.667]\n"
     ]
    },
    {
     "name": "stdout",
     "output_type": "stream",
     "text": [
      "Epoch 26 MAE 5.666666666666667\n"
     ]
    },
    {
     "name": "stderr",
     "output_type": "stream",
     "text": [
      "100%|██████████| 1000/1000 [00:07<00:00, 140.10it/s, loss=3.480, mae=6.556]\n"
     ]
    },
    {
     "name": "stdout",
     "output_type": "stream",
     "text": [
      "Epoch 27 MAE 6.555555555555555\n"
     ]
    },
    {
     "name": "stderr",
     "output_type": "stream",
     "text": [
      "100%|██████████| 1000/1000 [00:06<00:00, 146.13it/s, loss=3.188, mae=5.625]\n"
     ]
    },
    {
     "name": "stdout",
     "output_type": "stream",
     "text": [
      "Epoch 28 MAE 5.625\n"
     ]
    },
    {
     "name": "stderr",
     "output_type": "stream",
     "text": [
      "100%|██████████| 1000/1000 [00:06<00:00, 148.75it/s, loss=3.332, mae=6.569]\n"
     ]
    },
    {
     "name": "stdout",
     "output_type": "stream",
     "text": [
      "Epoch 29 MAE 6.569444444444445\n"
     ]
    },
    {
     "name": "stderr",
     "output_type": "stream",
     "text": [
      "100%|██████████| 1000/1000 [00:06<00:00, 150.20it/s, loss=3.210, mae=5.083]\n"
     ]
    },
    {
     "name": "stdout",
     "output_type": "stream",
     "text": [
      "Epoch 30 MAE 5.083333333333333\n"
     ]
    },
    {
     "name": "stderr",
     "output_type": "stream",
     "text": [
      "100%|██████████| 1000/1000 [00:06<00:00, 149.30it/s, loss=3.316, mae=5.681]\n"
     ]
    },
    {
     "name": "stdout",
     "output_type": "stream",
     "text": [
      "Epoch 31 MAE 5.680555555555555\n"
     ]
    },
    {
     "name": "stderr",
     "output_type": "stream",
     "text": [
      "100%|██████████| 1000/1000 [00:06<00:00, 158.75it/s, loss=3.316, mae=5.958]\n"
     ]
    },
    {
     "name": "stdout",
     "output_type": "stream",
     "text": [
      "Epoch 32 MAE 5.958333333333333\n"
     ]
    },
    {
     "name": "stderr",
     "output_type": "stream",
     "text": [
      "100%|██████████| 1000/1000 [00:06<00:00, 147.45it/s, loss=3.359, mae=7.236]\n"
     ]
    },
    {
     "name": "stdout",
     "output_type": "stream",
     "text": [
      "Epoch 33 MAE 7.236111111111111\n"
     ]
    },
    {
     "name": "stderr",
     "output_type": "stream",
     "text": [
      "100%|██████████| 1000/1000 [00:06<00:00, 146.54it/s, loss=3.219, mae=6.361]\n"
     ]
    },
    {
     "name": "stdout",
     "output_type": "stream",
     "text": [
      "Epoch 34 MAE 6.361111111111111\n"
     ]
    },
    {
     "name": "stderr",
     "output_type": "stream",
     "text": [
      "100%|██████████| 1000/1000 [00:06<00:00, 151.31it/s, loss=3.248, mae=5.736]\n"
     ]
    },
    {
     "name": "stdout",
     "output_type": "stream",
     "text": [
      "Epoch 35 MAE 5.736111111111111\n"
     ]
    },
    {
     "name": "stderr",
     "output_type": "stream",
     "text": [
      "100%|██████████| 1000/1000 [00:06<00:00, 150.86it/s, loss=3.271, mae=6.333]\n"
     ]
    },
    {
     "name": "stdout",
     "output_type": "stream",
     "text": [
      "Epoch 36 MAE 6.333333333333333\n"
     ]
    },
    {
     "name": "stderr",
     "output_type": "stream",
     "text": [
      "100%|██████████| 1000/1000 [00:06<00:00, 150.54it/s, loss=3.336, mae=6.194]\n"
     ]
    },
    {
     "name": "stdout",
     "output_type": "stream",
     "text": [
      "Epoch 37 MAE 6.194444444444445\n"
     ]
    },
    {
     "name": "stderr",
     "output_type": "stream",
     "text": [
      "100%|██████████| 1000/1000 [00:06<00:00, 149.15it/s, loss=2.930, mae=4.361]\n"
     ]
    },
    {
     "name": "stdout",
     "output_type": "stream",
     "text": [
      "Epoch 38 MAE 4.361111111111111\n"
     ]
    },
    {
     "name": "stderr",
     "output_type": "stream",
     "text": [
      "100%|██████████| 1000/1000 [00:06<00:00, 145.47it/s, loss=3.288, mae=6.042]\n"
     ]
    },
    {
     "name": "stdout",
     "output_type": "stream",
     "text": [
      "Epoch 39 MAE 6.041666666666667\n"
     ]
    },
    {
     "name": "stderr",
     "output_type": "stream",
     "text": [
      "100%|██████████| 1000/1000 [00:06<00:00, 148.34it/s, loss=3.201, mae=5.431]\n"
     ]
    },
    {
     "name": "stdout",
     "output_type": "stream",
     "text": [
      "Epoch 40 MAE 5.430555555555555\n"
     ]
    },
    {
     "name": "stderr",
     "output_type": "stream",
     "text": [
      "100%|██████████| 1000/1000 [00:06<00:00, 152.88it/s, loss=3.117, mae=5.250]\n"
     ]
    },
    {
     "name": "stdout",
     "output_type": "stream",
     "text": [
      "Epoch 41 MAE 5.25\n"
     ]
    },
    {
     "name": "stderr",
     "output_type": "stream",
     "text": [
      "100%|██████████| 1000/1000 [00:06<00:00, 147.51it/s, loss=3.220, mae=5.875]\n"
     ]
    },
    {
     "name": "stdout",
     "output_type": "stream",
     "text": [
      "Epoch 42 MAE 5.875\n"
     ]
    },
    {
     "name": "stderr",
     "output_type": "stream",
     "text": [
      "100%|██████████| 1000/1000 [00:06<00:00, 147.69it/s, loss=3.543, mae=8.236]\n"
     ]
    },
    {
     "name": "stdout",
     "output_type": "stream",
     "text": [
      "Epoch 43 MAE 8.23611111111111\n"
     ]
    },
    {
     "name": "stderr",
     "output_type": "stream",
     "text": [
      "100%|██████████| 1000/1000 [00:06<00:00, 148.69it/s, loss=3.150, mae=5.056]\n"
     ]
    },
    {
     "name": "stdout",
     "output_type": "stream",
     "text": [
      "Epoch 44 MAE 5.055555555555555\n"
     ]
    },
    {
     "name": "stderr",
     "output_type": "stream",
     "text": [
      "100%|██████████| 1000/1000 [00:06<00:00, 152.43it/s, loss=3.247, mae=5.264]\n"
     ]
    },
    {
     "name": "stdout",
     "output_type": "stream",
     "text": [
      "Epoch 45 MAE 5.263888888888889\n"
     ]
    },
    {
     "name": "stderr",
     "output_type": "stream",
     "text": [
      "100%|██████████| 1000/1000 [00:06<00:00, 150.78it/s, loss=2.967, mae=4.986]\n"
     ]
    },
    {
     "name": "stdout",
     "output_type": "stream",
     "text": [
      "Epoch 46 MAE 4.986111111111111\n"
     ]
    },
    {
     "name": "stderr",
     "output_type": "stream",
     "text": [
      "100%|██████████| 1000/1000 [00:06<00:00, 148.89it/s, loss=3.044, mae=4.306]\n"
     ]
    },
    {
     "name": "stdout",
     "output_type": "stream",
     "text": [
      "Epoch 47 MAE 4.305555555555555\n"
     ]
    },
    {
     "name": "stderr",
     "output_type": "stream",
     "text": [
      "100%|██████████| 1000/1000 [00:06<00:00, 150.15it/s, loss=3.115, mae=4.958]\n"
     ]
    },
    {
     "name": "stdout",
     "output_type": "stream",
     "text": [
      "Epoch 48 MAE 4.958333333333333\n"
     ]
    },
    {
     "name": "stderr",
     "output_type": "stream",
     "text": [
      "100%|██████████| 1000/1000 [00:06<00:00, 148.62it/s, loss=3.215, mae=6.139]\n"
     ]
    },
    {
     "name": "stdout",
     "output_type": "stream",
     "text": [
      "Epoch 49 MAE 6.138888888888889\n"
     ]
    },
    {
     "data": {
      "image/png": "[encoded data removed]",
      "text/plain": [
       "<Figure size 640x480 with 1 Axes>"
      ]
     },
     "metadata": {},
     "output_type": "display_data"
    },
    {
     "data": {
      "image/png": "[encoded data removed]",
      "text/plain": [
       "<Figure size 640x480 with 1 Axes>"
      ]
     },
     "metadata": {},
     "output_type": "display_data"
    }
   ],
   "source": [
    "num_epochs = 50\n",
    "best_mae = 10**10\n",
    "train_loss = []\n",
    "train_mae = []\n",
    "for epoch in range(num_epochs):\n",
    "    model.train()\n",
    "    \n",
    "    with tqdm.tqdm(train_dataloader) as tq:\n",
    "        train_loss_list = []\n",
    "        for step, (input_nodes, output_nodes, bipartites) in enumerate(tq):\n",
    "            inputs = node_features[input_nodes]\n",
    "            labels = node_labels[output_nodes]\n",
    "            predictions = model(bipartites, inputs)\n",
    "\n",
    "            loss = F.cross_entropy(predictions, labels)\n",
    "            opt.zero_grad()\n",
    "            loss.backward()\n",
    "            opt.step()\n",
    "\n",
    "            mae = sklearn.metrics.mean_absolute_error(labels.cpu().numpy(), predictions.argmax(1).detach().cpu().numpy())\n",
    "\n",
    "            train_loss_list.append(loss.item())\n",
    "            \n",
    "            tq.set_postfix({'loss': '%.03f' % loss.item(), 'mae': '%.03f' % mae}, refresh=False)\n",
    "    train_loss.append(np.mean(train_loss_list))\n",
    "    train_mae.append(mae)\n",
    "    print('Epoch {} MAE {}'.format(epoch, train_mae[-1]))\n",
    "    if best_mae > train_mae[-1]:\n",
    "        best_mae = train_mae[-1]\n",
    "        torch.save(model.state_dict(), best_model_path)\n",
    "    model.eval()\n",
    "# plot loss\n",
    "plt.plot(train_loss)\n",
    "plt.title('GraphSAGE loss')\n",
    "plt.ylabel('loss')\n",
    "plt.xlabel('epoch')\n",
    "plt.show()\n",
    "# plot accuracy\n",
    "plt.plot(train_mae)\n",
    "plt.title('GraphSAGE mae')\n",
    "plt.ylabel('mae')\n",
    "plt.xlabel('epoch')\n",
    "plt.show()"
   ]
  },
  {
   "cell_type": "code",
   "execution_count": 39,
   "metadata": {},
   "outputs": [],
   "source": [
    "def inference(model, graph, input_features, batch_size):\n",
    "    nodes = torch.arange(graph.number_of_nodes())\n",
    "    sampler = dgl.dataloading.MultiLayerFullNeighborSampler(1)\n",
    "    dataloader = dgl.dataloading.DataLoader(\n",
    "        graph, nodes, sampler,\n",
    "        batch_size=batch_size,\n",
    "        shuffle=False,\n",
    "        drop_last=False,\n",
    "        num_workers=0)\n",
    "    \n",
    "    with torch.no_grad():\n",
    "        for l, layer in enumerate(model.layers):\n",
    "            output_features = torch.zeros(\n",
    "                graph.number_of_nodes(), model.n_hidden if l != model.n_layers - 1 else model.n_classes)\n",
    "\n",
    "            for input_nodes, output_nodes, bipartites in tqdm.tqdm(dataloader):\n",
    "                bipartite = bipartites[0]\n",
    "\n",
    "                x = input_features[input_nodes]\n",
    "\n",
    "                x = layer(bipartite, x)\n",
    "                if l != model.n_layers - 1:\n",
    "                    x = F.relu(x)\n",
    "\n",
    "                output_features[output_nodes] = x.cpu()\n",
    "            input_features = output_features\n",
    "    return output_features"
   ]
  },
  {
   "cell_type": "code",
   "execution_count": 45,
   "metadata": {},
   "outputs": [
    {
     "data": {
      "text/plain": [
       "<All keys matched successfully>"
      ]
     },
     "execution_count": 45,
     "metadata": {},
     "output_type": "execute_result"
    }
   ],
   "source": [
    "model.load_state_dict(torch.load(best_model_path))"
   ]
  },
  {
   "cell_type": "code",
   "execution_count": 46,
   "metadata": {},
   "outputs": [
    {
     "name": "stderr",
     "output_type": "stream",
     "text": [
      "100%|██████████| 139/139 [00:01<00:00, 115.64it/s]\n",
      "100%|██████████| 139/139 [00:01<00:00, 110.67it/s]"
     ]
    },
    {
     "name": "stdout",
     "output_type": "stream",
     "text": [
      "Test MAE: 5.778828559363784\n"
     ]
    },
    {
     "name": "stderr",
     "output_type": "stream",
     "text": [
      "\n"
     ]
    }
   ],
   "source": [
    "all_predictions = inference(model, graph, node_features, 8192)\n",
    "test_predictions = all_predictions[test_nids].argmax(1)\n",
    "test_labels = node_labels[test_nids]\n",
    "test_mae = sklearn.metrics.mean_absolute_error(test_predictions.numpy(), test_labels.numpy())\n",
    "print('Test MAE:', test_mae)"
   ]
  },
  {
   "cell_type": "code",
   "execution_count": 47,
   "metadata": {},
   "outputs": [],
   "source": [
    "result = pd.DataFrame([[int(x) for x in abs(test_predictions - test_labels)], [int(x) for x in test_predictions], [int(x) for x in test_labels]]).T\n",
    "result.columns = ['abs', 'predict', 'test']"
   ]
  },
  {
   "cell_type": "code",
   "execution_count": 48,
   "metadata": {},
   "outputs": [],
   "source": [
    "result.index = test_nids"
   ]
  },
  {
   "cell_type": "code",
   "execution_count": 49,
   "metadata": {},
   "outputs": [],
   "source": [
    "result.sort_values(\"abs\", ascending=False, inplace=True)"
   ]
  },
  {
   "cell_type": "code",
   "execution_count": 50,
   "metadata": {},
   "outputs": [],
   "source": [
    "result[\"in_degree\"] = list(result.index.map(lambda x : graph.in_degrees(x)))\n",
    "result[\"out_degree\"] = list(result.index.map(lambda x : graph.out_degrees(x)))"
   ]
  },
  {
   "cell_type": "code",
   "execution_count": 51,
   "metadata": {},
   "outputs": [
    {
     "data": {
      "text/html": [
       "<div>\n",
       "<style scoped>\n",
       "    .dataframe tbody tr th:only-of-type {\n",
       "        vertical-align: middle;\n",
       "    }\n",
       "\n",
       "    .dataframe tbody tr th {\n",
       "        vertical-align: top;\n",
       "    }\n",
       "\n",
       "    .dataframe thead th {\n",
       "        text-align: right;\n",
       "    }\n",
       "</style>\n",
       "<table border=\"1\" class=\"dataframe\">\n",
       "  <thead>\n",
       "    <tr style=\"text-align: right;\">\n",
       "      <th></th>\n",
       "      <th>abs</th>\n",
       "      <th>predict</th>\n",
       "      <th>test</th>\n",
       "      <th>in_degree</th>\n",
       "      <th>out_degree</th>\n",
       "    </tr>\n",
       "  </thead>\n",
       "  <tbody>\n",
       "    <tr>\n",
       "      <th>661585</th>\n",
       "      <td>81</td>\n",
       "      <td>18</td>\n",
       "      <td>99</td>\n",
       "      <td>1</td>\n",
       "      <td>0</td>\n",
       "    </tr>\n",
       "    <tr>\n",
       "      <th>368120</th>\n",
       "      <td>81</td>\n",
       "      <td>16</td>\n",
       "      <td>97</td>\n",
       "      <td>2</td>\n",
       "      <td>4</td>\n",
       "    </tr>\n",
       "    <tr>\n",
       "      <th>1064525</th>\n",
       "      <td>81</td>\n",
       "      <td>18</td>\n",
       "      <td>99</td>\n",
       "      <td>1</td>\n",
       "      <td>0</td>\n",
       "    </tr>\n",
       "    <tr>\n",
       "      <th>417129</th>\n",
       "      <td>81</td>\n",
       "      <td>18</td>\n",
       "      <td>99</td>\n",
       "      <td>23</td>\n",
       "      <td>39</td>\n",
       "    </tr>\n",
       "    <tr>\n",
       "      <th>631102</th>\n",
       "      <td>81</td>\n",
       "      <td>18</td>\n",
       "      <td>99</td>\n",
       "      <td>7</td>\n",
       "      <td>15</td>\n",
       "    </tr>\n",
       "    <tr>\n",
       "      <th>156447</th>\n",
       "      <td>80</td>\n",
       "      <td>18</td>\n",
       "      <td>98</td>\n",
       "      <td>3</td>\n",
       "      <td>3</td>\n",
       "    </tr>\n",
       "    <tr>\n",
       "      <th>145205</th>\n",
       "      <td>80</td>\n",
       "      <td>18</td>\n",
       "      <td>98</td>\n",
       "      <td>18</td>\n",
       "      <td>19</td>\n",
       "    </tr>\n",
       "    <tr>\n",
       "      <th>717906</th>\n",
       "      <td>78</td>\n",
       "      <td>19</td>\n",
       "      <td>97</td>\n",
       "      <td>1</td>\n",
       "      <td>0</td>\n",
       "    </tr>\n",
       "    <tr>\n",
       "      <th>601393</th>\n",
       "      <td>77</td>\n",
       "      <td>20</td>\n",
       "      <td>97</td>\n",
       "      <td>4</td>\n",
       "      <td>9</td>\n",
       "    </tr>\n",
       "    <tr>\n",
       "      <th>1044916</th>\n",
       "      <td>76</td>\n",
       "      <td>16</td>\n",
       "      <td>92</td>\n",
       "      <td>2</td>\n",
       "      <td>2</td>\n",
       "    </tr>\n",
       "    <tr>\n",
       "      <th>283699</th>\n",
       "      <td>76</td>\n",
       "      <td>16</td>\n",
       "      <td>92</td>\n",
       "      <td>0</td>\n",
       "      <td>2</td>\n",
       "    </tr>\n",
       "    <tr>\n",
       "      <th>1076459</th>\n",
       "      <td>76</td>\n",
       "      <td>23</td>\n",
       "      <td>99</td>\n",
       "      <td>5</td>\n",
       "      <td>2</td>\n",
       "    </tr>\n",
       "    <tr>\n",
       "      <th>806042</th>\n",
       "      <td>75</td>\n",
       "      <td>14</td>\n",
       "      <td>89</td>\n",
       "      <td>1</td>\n",
       "      <td>0</td>\n",
       "    </tr>\n",
       "    <tr>\n",
       "      <th>481282</th>\n",
       "      <td>74</td>\n",
       "      <td>25</td>\n",
       "      <td>99</td>\n",
       "      <td>4</td>\n",
       "      <td>4</td>\n",
       "    </tr>\n",
       "    <tr>\n",
       "      <th>1031165</th>\n",
       "      <td>74</td>\n",
       "      <td>16</td>\n",
       "      <td>90</td>\n",
       "      <td>0</td>\n",
       "      <td>0</td>\n",
       "    </tr>\n",
       "    <tr>\n",
       "      <th>721199</th>\n",
       "      <td>74</td>\n",
       "      <td>16</td>\n",
       "      <td>90</td>\n",
       "      <td>2</td>\n",
       "      <td>0</td>\n",
       "    </tr>\n",
       "    <tr>\n",
       "      <th>18080</th>\n",
       "      <td>73</td>\n",
       "      <td>18</td>\n",
       "      <td>91</td>\n",
       "      <td>6</td>\n",
       "      <td>15</td>\n",
       "    </tr>\n",
       "    <tr>\n",
       "      <th>114035</th>\n",
       "      <td>73</td>\n",
       "      <td>20</td>\n",
       "      <td>93</td>\n",
       "      <td>1</td>\n",
       "      <td>3</td>\n",
       "    </tr>\n",
       "    <tr>\n",
       "      <th>1031144</th>\n",
       "      <td>73</td>\n",
       "      <td>18</td>\n",
       "      <td>91</td>\n",
       "      <td>1</td>\n",
       "      <td>0</td>\n",
       "    </tr>\n",
       "    <tr>\n",
       "      <th>692716</th>\n",
       "      <td>73</td>\n",
       "      <td>20</td>\n",
       "      <td>93</td>\n",
       "      <td>2</td>\n",
       "      <td>4</td>\n",
       "    </tr>\n",
       "    <tr>\n",
       "      <th>880105</th>\n",
       "      <td>72</td>\n",
       "      <td>21</td>\n",
       "      <td>93</td>\n",
       "      <td>1</td>\n",
       "      <td>0</td>\n",
       "    </tr>\n",
       "    <tr>\n",
       "      <th>193086</th>\n",
       "      <td>72</td>\n",
       "      <td>18</td>\n",
       "      <td>90</td>\n",
       "      <td>39</td>\n",
       "      <td>52</td>\n",
       "    </tr>\n",
       "    <tr>\n",
       "      <th>456871</th>\n",
       "      <td>72</td>\n",
       "      <td>20</td>\n",
       "      <td>92</td>\n",
       "      <td>15</td>\n",
       "      <td>24</td>\n",
       "    </tr>\n",
       "    <tr>\n",
       "      <th>602336</th>\n",
       "      <td>72</td>\n",
       "      <td>23</td>\n",
       "      <td>95</td>\n",
       "      <td>7</td>\n",
       "      <td>1</td>\n",
       "    </tr>\n",
       "    <tr>\n",
       "      <th>742706</th>\n",
       "      <td>72</td>\n",
       "      <td>21</td>\n",
       "      <td>93</td>\n",
       "      <td>1</td>\n",
       "      <td>0</td>\n",
       "    </tr>\n",
       "    <tr>\n",
       "      <th>797865</th>\n",
       "      <td>72</td>\n",
       "      <td>23</td>\n",
       "      <td>95</td>\n",
       "      <td>1</td>\n",
       "      <td>0</td>\n",
       "    </tr>\n",
       "    <tr>\n",
       "      <th>4454</th>\n",
       "      <td>72</td>\n",
       "      <td>18</td>\n",
       "      <td>90</td>\n",
       "      <td>10</td>\n",
       "      <td>0</td>\n",
       "    </tr>\n",
       "    <tr>\n",
       "      <th>971502</th>\n",
       "      <td>72</td>\n",
       "      <td>25</td>\n",
       "      <td>97</td>\n",
       "      <td>3</td>\n",
       "      <td>0</td>\n",
       "    </tr>\n",
       "    <tr>\n",
       "      <th>1056460</th>\n",
       "      <td>71</td>\n",
       "      <td>21</td>\n",
       "      <td>92</td>\n",
       "      <td>2</td>\n",
       "      <td>1</td>\n",
       "    </tr>\n",
       "    <tr>\n",
       "      <th>412901</th>\n",
       "      <td>71</td>\n",
       "      <td>25</td>\n",
       "      <td>96</td>\n",
       "      <td>4</td>\n",
       "      <td>6</td>\n",
       "    </tr>\n",
       "    <tr>\n",
       "      <th>963100</th>\n",
       "      <td>71</td>\n",
       "      <td>25</td>\n",
       "      <td>96</td>\n",
       "      <td>7</td>\n",
       "      <td>0</td>\n",
       "    </tr>\n",
       "    <tr>\n",
       "      <th>535816</th>\n",
       "      <td>71</td>\n",
       "      <td>16</td>\n",
       "      <td>87</td>\n",
       "      <td>1</td>\n",
       "      <td>0</td>\n",
       "    </tr>\n",
       "    <tr>\n",
       "      <th>368704</th>\n",
       "      <td>71</td>\n",
       "      <td>20</td>\n",
       "      <td>91</td>\n",
       "      <td>17</td>\n",
       "      <td>1</td>\n",
       "    </tr>\n",
       "    <tr>\n",
       "      <th>870849</th>\n",
       "      <td>71</td>\n",
       "      <td>21</td>\n",
       "      <td>92</td>\n",
       "      <td>4</td>\n",
       "      <td>2</td>\n",
       "    </tr>\n",
       "    <tr>\n",
       "      <th>809011</th>\n",
       "      <td>71</td>\n",
       "      <td>18</td>\n",
       "      <td>89</td>\n",
       "      <td>4</td>\n",
       "      <td>4</td>\n",
       "    </tr>\n",
       "    <tr>\n",
       "      <th>793081</th>\n",
       "      <td>71</td>\n",
       "      <td>22</td>\n",
       "      <td>93</td>\n",
       "      <td>2</td>\n",
       "      <td>2</td>\n",
       "    </tr>\n",
       "    <tr>\n",
       "      <th>65949</th>\n",
       "      <td>70</td>\n",
       "      <td>18</td>\n",
       "      <td>88</td>\n",
       "      <td>5</td>\n",
       "      <td>101</td>\n",
       "    </tr>\n",
       "    <tr>\n",
       "      <th>1014593</th>\n",
       "      <td>70</td>\n",
       "      <td>18</td>\n",
       "      <td>88</td>\n",
       "      <td>1</td>\n",
       "      <td>1</td>\n",
       "    </tr>\n",
       "    <tr>\n",
       "      <th>104793</th>\n",
       "      <td>69</td>\n",
       "      <td>22</td>\n",
       "      <td>91</td>\n",
       "      <td>10</td>\n",
       "      <td>6</td>\n",
       "    </tr>\n",
       "    <tr>\n",
       "      <th>1091571</th>\n",
       "      <td>69</td>\n",
       "      <td>16</td>\n",
       "      <td>85</td>\n",
       "      <td>1</td>\n",
       "      <td>0</td>\n",
       "    </tr>\n",
       "    <tr>\n",
       "      <th>882401</th>\n",
       "      <td>69</td>\n",
       "      <td>23</td>\n",
       "      <td>92</td>\n",
       "      <td>2</td>\n",
       "      <td>0</td>\n",
       "    </tr>\n",
       "    <tr>\n",
       "      <th>961470</th>\n",
       "      <td>68</td>\n",
       "      <td>31</td>\n",
       "      <td>99</td>\n",
       "      <td>1</td>\n",
       "      <td>2</td>\n",
       "    </tr>\n",
       "    <tr>\n",
       "      <th>455798</th>\n",
       "      <td>68</td>\n",
       "      <td>20</td>\n",
       "      <td>88</td>\n",
       "      <td>9</td>\n",
       "      <td>8</td>\n",
       "    </tr>\n",
       "    <tr>\n",
       "      <th>295364</th>\n",
       "      <td>67</td>\n",
       "      <td>23</td>\n",
       "      <td>90</td>\n",
       "      <td>4</td>\n",
       "      <td>7</td>\n",
       "    </tr>\n",
       "    <tr>\n",
       "      <th>623012</th>\n",
       "      <td>66</td>\n",
       "      <td>23</td>\n",
       "      <td>89</td>\n",
       "      <td>5</td>\n",
       "      <td>0</td>\n",
       "    </tr>\n",
       "    <tr>\n",
       "      <th>652902</th>\n",
       "      <td>65</td>\n",
       "      <td>20</td>\n",
       "      <td>85</td>\n",
       "      <td>18</td>\n",
       "      <td>0</td>\n",
       "    </tr>\n",
       "    <tr>\n",
       "      <th>401973</th>\n",
       "      <td>65</td>\n",
       "      <td>14</td>\n",
       "      <td>79</td>\n",
       "      <td>10</td>\n",
       "      <td>12</td>\n",
       "    </tr>\n",
       "    <tr>\n",
       "      <th>160312</th>\n",
       "      <td>64</td>\n",
       "      <td>23</td>\n",
       "      <td>87</td>\n",
       "      <td>7</td>\n",
       "      <td>6</td>\n",
       "    </tr>\n",
       "    <tr>\n",
       "      <th>210250</th>\n",
       "      <td>63</td>\n",
       "      <td>18</td>\n",
       "      <td>81</td>\n",
       "      <td>8</td>\n",
       "      <td>6</td>\n",
       "    </tr>\n",
       "    <tr>\n",
       "      <th>590827</th>\n",
       "      <td>63</td>\n",
       "      <td>25</td>\n",
       "      <td>88</td>\n",
       "      <td>4</td>\n",
       "      <td>4</td>\n",
       "    </tr>\n",
       "  </tbody>\n",
       "</table>\n",
       "</div>"
      ],
      "text/plain": [
       "         abs  predict  test  in_degree  out_degree\n",
       "661585    81       18    99          1           0\n",
       "368120    81       16    97          2           4\n",
       "1064525   81       18    99          1           0\n",
       "417129    81       18    99         23          39\n",
       "631102    81       18    99          7          15\n",
       "156447    80       18    98          3           3\n",
       "145205    80       18    98         18          19\n",
       "717906    78       19    97          1           0\n",
       "601393    77       20    97          4           9\n",
       "1044916   76       16    92          2           2\n",
       "283699    76       16    92          0           2\n",
       "1076459   76       23    99          5           2\n",
       "806042    75       14    89          1           0\n",
       "481282    74       25    99          4           4\n",
       "1031165   74       16    90          0           0\n",
       "721199    74       16    90          2           0\n",
       "18080     73       18    91          6          15\n",
       "114035    73       20    93          1           3\n",
       "1031144   73       18    91          1           0\n",
       "692716    73       20    93          2           4\n",
       "880105    72       21    93          1           0\n",
       "193086    72       18    90         39          52\n",
       "456871    72       20    92         15          24\n",
       "602336    72       23    95          7           1\n",
       "742706    72       21    93          1           0\n",
       "797865    72       23    95          1           0\n",
       "4454      72       18    90         10           0\n",
       "971502    72       25    97          3           0\n",
       "1056460   71       21    92          2           1\n",
       "412901    71       25    96          4           6\n",
       "963100    71       25    96          7           0\n",
       "535816    71       16    87          1           0\n",
       "368704    71       20    91         17           1\n",
       "870849    71       21    92          4           2\n",
       "809011    71       18    89          4           4\n",
       "793081    71       22    93          2           2\n",
       "65949     70       18    88          5         101\n",
       "1014593   70       18    88          1           1\n",
       "104793    69       22    91         10           6\n",
       "1091571   69       16    85          1           0\n",
       "882401    69       23    92          2           0\n",
       "961470    68       31    99          1           2\n",
       "455798    68       20    88          9           8\n",
       "295364    67       23    90          4           7\n",
       "623012    66       23    89          5           0\n",
       "652902    65       20    85         18           0\n",
       "401973    65       14    79         10          12\n",
       "160312    64       23    87          7           6\n",
       "210250    63       18    81          8           6\n",
       "590827    63       25    88          4           4"
      ]
     },
     "execution_count": 51,
     "metadata": {},
     "output_type": "execute_result"
    }
   ],
   "source": [
    "result.head(50)"
   ]
  },
  {
   "cell_type": "code",
   "execution_count": 57,
   "metadata": {},
   "outputs": [
    {
     "data": {
      "text/html": [
       "<div>\n",
       "<style scoped>\n",
       "    .dataframe tbody tr th:only-of-type {\n",
       "        vertical-align: middle;\n",
       "    }\n",
       "\n",
       "    .dataframe tbody tr th {\n",
       "        vertical-align: top;\n",
       "    }\n",
       "\n",
       "    .dataframe thead th {\n",
       "        text-align: right;\n",
       "    }\n",
       "</style>\n",
       "<table border=\"1\" class=\"dataframe\">\n",
       "  <thead>\n",
       "    <tr style=\"text-align: right;\">\n",
       "      <th></th>\n",
       "      <th>abs</th>\n",
       "      <th>predict</th>\n",
       "      <th>test</th>\n",
       "      <th>in_degree</th>\n",
       "      <th>out_degree</th>\n",
       "    </tr>\n",
       "  </thead>\n",
       "  <tbody>\n",
       "    <tr>\n",
       "      <th>606859</th>\n",
       "      <td>52</td>\n",
       "      <td>63</td>\n",
       "      <td>11</td>\n",
       "      <td>4</td>\n",
       "      <td>3</td>\n",
       "    </tr>\n",
       "    <tr>\n",
       "      <th>1127909</th>\n",
       "      <td>49</td>\n",
       "      <td>68</td>\n",
       "      <td>19</td>\n",
       "      <td>1</td>\n",
       "      <td>1</td>\n",
       "    </tr>\n",
       "    <tr>\n",
       "      <th>1051732</th>\n",
       "      <td>45</td>\n",
       "      <td>14</td>\n",
       "      <td>59</td>\n",
       "      <td>0</td>\n",
       "      <td>1</td>\n",
       "    </tr>\n",
       "    <tr>\n",
       "      <th>1109713</th>\n",
       "      <td>45</td>\n",
       "      <td>14</td>\n",
       "      <td>59</td>\n",
       "      <td>0</td>\n",
       "      <td>1</td>\n",
       "    </tr>\n",
       "    <tr>\n",
       "      <th>709888</th>\n",
       "      <td>45</td>\n",
       "      <td>14</td>\n",
       "      <td>59</td>\n",
       "      <td>1</td>\n",
       "      <td>0</td>\n",
       "    </tr>\n",
       "    <tr>\n",
       "      <th>1126203</th>\n",
       "      <td>43</td>\n",
       "      <td>16</td>\n",
       "      <td>59</td>\n",
       "      <td>0</td>\n",
       "      <td>0</td>\n",
       "    </tr>\n",
       "    <tr>\n",
       "      <th>1067327</th>\n",
       "      <td>43</td>\n",
       "      <td>16</td>\n",
       "      <td>59</td>\n",
       "      <td>1</td>\n",
       "      <td>0</td>\n",
       "    </tr>\n",
       "    <tr>\n",
       "      <th>857385</th>\n",
       "      <td>43</td>\n",
       "      <td>12</td>\n",
       "      <td>55</td>\n",
       "      <td>1</td>\n",
       "      <td>1</td>\n",
       "    </tr>\n",
       "    <tr>\n",
       "      <th>855842</th>\n",
       "      <td>43</td>\n",
       "      <td>16</td>\n",
       "      <td>59</td>\n",
       "      <td>1</td>\n",
       "      <td>1</td>\n",
       "    </tr>\n",
       "    <tr>\n",
       "      <th>1109555</th>\n",
       "      <td>43</td>\n",
       "      <td>16</td>\n",
       "      <td>59</td>\n",
       "      <td>0</td>\n",
       "      <td>1</td>\n",
       "    </tr>\n",
       "    <tr>\n",
       "      <th>1041698</th>\n",
       "      <td>43</td>\n",
       "      <td>16</td>\n",
       "      <td>59</td>\n",
       "      <td>1</td>\n",
       "      <td>0</td>\n",
       "    </tr>\n",
       "    <tr>\n",
       "      <th>786390</th>\n",
       "      <td>43</td>\n",
       "      <td>16</td>\n",
       "      <td>59</td>\n",
       "      <td>0</td>\n",
       "      <td>2</td>\n",
       "    </tr>\n",
       "    <tr>\n",
       "      <th>419016</th>\n",
       "      <td>42</td>\n",
       "      <td>16</td>\n",
       "      <td>58</td>\n",
       "      <td>0</td>\n",
       "      <td>4</td>\n",
       "    </tr>\n",
       "    <tr>\n",
       "      <th>614513</th>\n",
       "      <td>42</td>\n",
       "      <td>16</td>\n",
       "      <td>58</td>\n",
       "      <td>0</td>\n",
       "      <td>2</td>\n",
       "    </tr>\n",
       "    <tr>\n",
       "      <th>1014569</th>\n",
       "      <td>42</td>\n",
       "      <td>14</td>\n",
       "      <td>56</td>\n",
       "      <td>1</td>\n",
       "      <td>0</td>\n",
       "    </tr>\n",
       "    <tr>\n",
       "      <th>987645</th>\n",
       "      <td>42</td>\n",
       "      <td>16</td>\n",
       "      <td>58</td>\n",
       "      <td>8</td>\n",
       "      <td>1</td>\n",
       "    </tr>\n",
       "    <tr>\n",
       "      <th>1092872</th>\n",
       "      <td>42</td>\n",
       "      <td>16</td>\n",
       "      <td>58</td>\n",
       "      <td>0</td>\n",
       "      <td>0</td>\n",
       "    </tr>\n",
       "    <tr>\n",
       "      <th>483149</th>\n",
       "      <td>42</td>\n",
       "      <td>16</td>\n",
       "      <td>58</td>\n",
       "      <td>1</td>\n",
       "      <td>1</td>\n",
       "    </tr>\n",
       "    <tr>\n",
       "      <th>1027939</th>\n",
       "      <td>42</td>\n",
       "      <td>16</td>\n",
       "      <td>58</td>\n",
       "      <td>0</td>\n",
       "      <td>0</td>\n",
       "    </tr>\n",
       "    <tr>\n",
       "      <th>678410</th>\n",
       "      <td>42</td>\n",
       "      <td>16</td>\n",
       "      <td>58</td>\n",
       "      <td>2</td>\n",
       "      <td>8</td>\n",
       "    </tr>\n",
       "  </tbody>\n",
       "</table>\n",
       "</div>"
      ],
      "text/plain": [
       "         abs  predict  test  in_degree  out_degree\n",
       "606859    52       63    11          4           3\n",
       "1127909   49       68    19          1           1\n",
       "1051732   45       14    59          0           1\n",
       "1109713   45       14    59          0           1\n",
       "709888    45       14    59          1           0\n",
       "1126203   43       16    59          0           0\n",
       "1067327   43       16    59          1           0\n",
       "857385    43       12    55          1           1\n",
       "855842    43       16    59          1           1\n",
       "1109555   43       16    59          0           1\n",
       "1041698   43       16    59          1           0\n",
       "786390    43       16    59          0           2\n",
       "419016    42       16    58          0           4\n",
       "614513    42       16    58          0           2\n",
       "1014569   42       14    56          1           0\n",
       "987645    42       16    58          8           1\n",
       "1092872   42       16    58          0           0\n",
       "483149    42       16    58          1           1\n",
       "1027939   42       16    58          0           0\n",
       "678410    42       16    58          2           8"
      ]
     },
     "execution_count": 57,
     "metadata": {},
     "output_type": "execute_result"
    }
   ],
   "source": [
    "result[result[\"test\"] < 60].head(20)"
   ]
  }
 ],
 "metadata": {
  "kernelspec": {
   "display_name": "sna_env",
   "language": "python",
   "name": "python3"
  },
  "language_info": {
   "codemirror_mode": {
    "name": "ipython",
    "version": 3
   },
   "file_extension": ".py",
   "mimetype": "text/x-python",
   "name": "python",
   "nbconvert_exporter": "python",
   "pygments_lexer": "ipython3",
   "version": "3.9.6"
  }
 },
 "nbformat": 4,
 "nbformat_minor": 2
}
