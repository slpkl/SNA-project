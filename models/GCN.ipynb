{
 "cells": [
  {
   "cell_type": "code",
   "execution_count": 3,
   "metadata": {},
   "outputs": [],
   "source": [
    "import dgl\n",
    "import dgl.function as fn\n",
    "import torch as th\n",
    "import torch.nn as nn\n",
    "import torch.nn.functional as F\n",
    "from dgl import DGLGraph\n",
    "import pandas as pd\n",
    "import torch\n",
    "import sklearn.metrics\n",
    "import matplotlib.pyplot as plt"
   ]
  },
  {
   "cell_type": "code",
   "execution_count": 2,
   "metadata": {},
   "outputs": [],
   "source": [
    "df = pd.read_csv(\"pokec-df-processed2.csv\", index_col=0)"
   ]
  },
  {
   "cell_type": "code",
   "execution_count": 4,
   "metadata": {},
   "outputs": [],
   "source": [
    "edges = pd.read_csv(\"pokec-edges-processed2.csv\", index_col=0)"
   ]
  },
  {
   "cell_type": "code",
   "execution_count": 5,
   "metadata": {},
   "outputs": [],
   "source": [
    "# фичи и возраст\n",
    "node_features = df.loc[:, df.columns != 'AGE'].values\n",
    "node_labels = df.loc[:, df.columns == 'AGE'].values.flatten()\n",
    "node_features = torch.FloatTensor(node_features)\n",
    "node_labels = torch.LongTensor(node_labels)"
   ]
  },
  {
   "cell_type": "code",
   "execution_count": 6,
   "metadata": {},
   "outputs": [],
   "source": [
    "num_features = node_features.shape[1]\n",
    "num_classes = (node_labels.max() + 1).item()"
   ]
  },
  {
   "cell_type": "code",
   "execution_count": 7,
   "metadata": {},
   "outputs": [],
   "source": [
    "graph = dgl.graph((edges.values[:, 0], edges.values[:, 1]))"
   ]
  },
  {
   "cell_type": "code",
   "execution_count": 8,
   "metadata": {},
   "outputs": [],
   "source": [
    "ind = df.index.values\n",
    "with open('train2.txt', 'r') as file:\n",
    "    train_nids = [int(x) for x in file]\n",
    "with open('test2.txt', 'r') as file:\n",
    "    test_nids = [int(x) for x in file]"
   ]
  },
  {
   "cell_type": "code",
   "execution_count": 24,
   "metadata": {},
   "outputs": [],
   "source": [
    "gcn_msg = fn.copy_u(u=\"h\", out=\"m\")\n",
    "gcn_reduce = fn.sum(msg=\"m\", out=\"h\")"
   ]
  },
  {
   "cell_type": "code",
   "execution_count": 10,
   "metadata": {},
   "outputs": [],
   "source": [
    "class GCNLayer(nn.Module):\n",
    "    def __init__(self, in_feats, out_feats):\n",
    "        super(GCNLayer, self).__init__()\n",
    "        self.linear = nn.Linear(in_feats, out_feats)\n",
    "\n",
    "    def forward(self, g, feature):\n",
    "        with g.local_scope():\n",
    "            g.ndata[\"h\"] = feature\n",
    "            g.update_all(gcn_msg, gcn_reduce)\n",
    "            h = g.ndata[\"h\"]\n",
    "            return self.linear(h)"
   ]
  },
  {
   "cell_type": "code",
   "execution_count": 25,
   "metadata": {},
   "outputs": [],
   "source": [
    "class Net(nn.Module):\n",
    "    def __init__(self, in_size, hid_size, out_size):\n",
    "        super(Net, self).__init__()\n",
    "        self.layer1 = GCNLayer(in_size, hid_size)\n",
    "        self.layer2 = GCNLayer(hid_size, out_size)\n",
    "        self.dropout = nn.Dropout(p=0.2)\n",
    "\n",
    "    def forward(self, g, features):\n",
    "        x = F.relu(self.layer1(g, features))\n",
    "        x = self.dropout(x)\n",
    "        x = self.layer2(g, x)\n",
    "        return x"
   ]
  },
  {
   "cell_type": "code",
   "execution_count": 13,
   "metadata": {},
   "outputs": [],
   "source": [
    "def predict(g, features, labels, mask, model):\n",
    "    model.eval()\n",
    "    with torch.no_grad():\n",
    "        logits = model(g, features)\n",
    "        logits = logits[mask]\n",
    "        labels = labels[mask]\n",
    "        _, indices = torch.max(logits, dim=1)\n",
    "        return indices"
   ]
  },
  {
   "cell_type": "code",
   "execution_count": 30,
   "metadata": {},
   "outputs": [],
   "source": [
    "best_model_path = 'GCN_model.pt'"
   ]
  },
  {
   "cell_type": "code",
   "execution_count": 38,
   "metadata": {},
   "outputs": [
    {
     "name": "stdout",
     "output_type": "stream",
     "text": [
      "Epoch 00000 | Loss 31252.4355 | mae 38.1905 | Time(s) 2.9623\n",
      "Epoch 00001 | Loss 26519.2754 | mae 38.7325 | Time(s) 2.5661\n",
      "Epoch 00002 | Loss 22206.9180 | mae 39.6604 | Time(s) 2.4394\n",
      "Epoch 00003 | Loss 18231.3906 | mae 37.2262 | Time(s) 2.4927\n",
      "Epoch 00004 | Loss 15035.2207 | mae 16.6954 | Time(s) 2.4614\n",
      "Epoch 00005 | Loss 12846.8193 | mae 12.7884 | Time(s) 2.4426\n",
      "Epoch 00006 | Loss 11417.4023 | mae 8.8483 | Time(s) 2.7084\n",
      "Epoch 00007 | Loss 10200.7871 | mae 8.1893 | Time(s) 2.5184\n",
      "Epoch 00008 | Loss 8972.3193 | mae 9.7725 | Time(s) 2.3188\n",
      "Epoch 00009 | Loss 7743.6021 | mae 8.2032 | Time(s) 2.4762\n",
      "Epoch 00010 | Loss 6528.7476 | mae 9.0822 | Time(s) 2.4726\n",
      "Epoch 00011 | Loss 5493.1616 | mae 10.3627 | Time(s) 2.7871\n",
      "Epoch 00012 | Loss 4682.0679 | mae 9.2072 | Time(s) 2.2487\n",
      "Epoch 00013 | Loss 4129.1362 | mae 10.1282 | Time(s) 2.3365\n",
      "Epoch 00014 | Loss 3576.8989 | mae 9.5219 | Time(s) 2.2840\n",
      "Epoch 00015 | Loss 3085.9968 | mae 9.0877 | Time(s) 2.3614\n",
      "Epoch 00016 | Loss 2734.6907 | mae 10.7417 | Time(s) 2.3764\n",
      "Epoch 00017 | Loss 2504.9641 | mae 8.2872 | Time(s) 2.3887\n",
      "Epoch 00018 | Loss 2359.7620 | mae 8.3783 | Time(s) 2.3145\n",
      "Epoch 00019 | Loss 2149.2710 | mae 8.3521 | Time(s) 2.4573\n",
      "Epoch 00020 | Loss 1904.9353 | mae 8.4180 | Time(s) 2.2296\n",
      "Epoch 00021 | Loss 1661.3138 | mae 10.4788 | Time(s) 2.4168\n",
      "Epoch 00022 | Loss 1435.8334 | mae 8.8090 | Time(s) 2.2292\n",
      "Epoch 00023 | Loss 1250.8400 | mae 8.8680 | Time(s) 2.3159\n",
      "Epoch 00024 | Loss 1125.6223 | mae 8.7842 | Time(s) 2.6808\n",
      "Epoch 00025 | Loss 1040.3855 | mae 8.0968 | Time(s) 2.2531\n",
      "Epoch 00026 | Loss 957.6891 | mae 8.0478 | Time(s) 2.2999\n",
      "Epoch 00027 | Loss 868.3102 | mae 7.9456 | Time(s) 2.3278\n",
      "Epoch 00028 | Loss 781.3373 | mae 7.7847 | Time(s) 2.4928\n",
      "Epoch 00029 | Loss 690.0819 | mae 7.6041 | Time(s) 2.3168\n",
      "Epoch 00030 | Loss 611.4539 | mae 7.6404 | Time(s) 2.4452\n",
      "Epoch 00031 | Loss 541.3132 | mae 7.6297 | Time(s) 2.2982\n",
      "Epoch 00032 | Loss 469.9393 | mae 7.7096 | Time(s) 2.3501\n",
      "Epoch 00033 | Loss 395.2470 | mae 7.8177 | Time(s) 2.3157\n",
      "Epoch 00034 | Loss 323.9837 | mae 7.9091 | Time(s) 2.5013\n",
      "Epoch 00035 | Loss 258.8219 | mae 8.0669 | Time(s) 2.3414\n",
      "Epoch 00036 | Loss 204.7798 | mae 8.2754 | Time(s) 2.4808\n",
      "Epoch 00037 | Loss 162.2495 | mae 8.5211 | Time(s) 2.6168\n",
      "Epoch 00038 | Loss 131.6865 | mae 8.7487 | Time(s) 2.2592\n",
      "Epoch 00039 | Loss 110.9018 | mae 8.9621 | Time(s) 2.4212\n",
      "Epoch 00040 | Loss 92.6600 | mae 9.2350 | Time(s) 2.3010\n",
      "Epoch 00041 | Loss 81.1202 | mae 9.5381 | Time(s) 2.4741\n",
      "Epoch 00042 | Loss 72.9627 | mae 9.8754 | Time(s) 2.3332\n",
      "Epoch 00043 | Loss 64.7598 | mae 10.1306 | Time(s) 2.4055\n",
      "Epoch 00044 | Loss 58.9776 | mae 10.3161 | Time(s) 2.4025\n",
      "Epoch 00045 | Loss 54.6533 | mae 10.4461 | Time(s) 2.2413\n",
      "Epoch 00046 | Loss 50.2667 | mae 10.6088 | Time(s) 2.2634\n",
      "Epoch 00047 | Loss 47.0496 | mae 10.7170 | Time(s) 2.4763\n",
      "Epoch 00048 | Loss 43.2303 | mae 10.7984 | Time(s) 2.2760\n",
      "Epoch 00049 | Loss 41.1172 | mae 10.8241 | Time(s) 2.5225\n",
      "Epoch 00050 | Loss 38.0103 | mae 10.8761 | Time(s) 2.4027\n",
      "Epoch 00051 | Loss 36.6959 | mae 10.9353 | Time(s) 2.3298\n",
      "Epoch 00052 | Loss 34.4084 | mae 11.0073 | Time(s) 2.3385\n",
      "Epoch 00053 | Loss 32.5205 | mae 11.0629 | Time(s) 2.2352\n",
      "Epoch 00054 | Loss 31.0391 | mae 11.1314 | Time(s) 2.4259\n",
      "Epoch 00055 | Loss 30.5215 | mae 11.1872 | Time(s) 2.3071\n",
      "Epoch 00056 | Loss 28.9648 | mae 11.2482 | Time(s) 2.3543\n",
      "Epoch 00057 | Loss 27.8388 | mae 11.2928 | Time(s) 2.4647\n",
      "Epoch 00058 | Loss 26.6157 | mae 11.3184 | Time(s) 2.4014\n",
      "Epoch 00059 | Loss 25.9662 | mae 11.3284 | Time(s) 2.3286\n",
      "Epoch 00060 | Loss 24.6995 | mae 11.3362 | Time(s) 2.4892\n",
      "Epoch 00061 | Loss 24.0988 | mae 11.0818 | Time(s) 2.2577\n",
      "Epoch 00062 | Loss 23.6953 | mae 10.8456 | Time(s) 2.5377\n",
      "Epoch 00063 | Loss 22.6572 | mae 10.8586 | Time(s) 2.3247\n",
      "Epoch 00064 | Loss 22.1777 | mae 10.8775 | Time(s) 2.2875\n",
      "Epoch 00065 | Loss 21.6014 | mae 10.8894 | Time(s) 2.2955\n",
      "Epoch 00066 | Loss 20.5938 | mae 10.8940 | Time(s) 2.2366\n",
      "Epoch 00067 | Loss 20.0225 | mae 10.9083 | Time(s) 2.4356\n",
      "Epoch 00068 | Loss 19.7682 | mae 10.9164 | Time(s) 2.2615\n",
      "Epoch 00069 | Loss 18.8195 | mae 10.9194 | Time(s) 2.3436\n",
      "Epoch 00070 | Loss 18.6743 | mae 10.9283 | Time(s) 2.3455\n",
      "Epoch 00071 | Loss 18.3807 | mae 10.9378 | Time(s) 2.1978\n",
      "Epoch 00072 | Loss 18.2319 | mae 10.9447 | Time(s) 2.2681\n",
      "Epoch 00073 | Loss 17.4663 | mae 10.9530 | Time(s) 2.4214\n",
      "Epoch 00074 | Loss 17.0993 | mae 10.9632 | Time(s) 2.2634\n",
      "Epoch 00075 | Loss 17.0201 | mae 10.9793 | Time(s) 2.4995\n",
      "Epoch 00076 | Loss 16.7266 | mae 10.9845 | Time(s) 2.3501\n",
      "Epoch 00077 | Loss 16.2374 | mae 10.9853 | Time(s) 2.3017\n",
      "Epoch 00078 | Loss 15.9945 | mae 10.9901 | Time(s) 2.2970\n",
      "Epoch 00079 | Loss 15.5878 | mae 10.9990 | Time(s) 2.2357\n",
      "Epoch 00080 | Loss 15.3653 | mae 10.9929 | Time(s) 2.4242\n",
      "Epoch 00081 | Loss 15.1289 | mae 10.9916 | Time(s) 2.2588\n",
      "Epoch 00082 | Loss 14.7796 | mae 10.9926 | Time(s) 2.3451\n",
      "Epoch 00083 | Loss 14.5248 | mae 10.9850 | Time(s) 2.3371\n",
      "Epoch 00084 | Loss 13.9321 | mae 10.9857 | Time(s) 2.1931\n",
      "Epoch 00085 | Loss 14.0917 | mae 10.9926 | Time(s) 2.2317\n",
      "Epoch 00086 | Loss 13.6655 | mae 10.9966 | Time(s) 2.4216\n",
      "Epoch 00087 | Loss 13.5734 | mae 11.0041 | Time(s) 2.2360\n",
      "Epoch 00088 | Loss 13.5734 | mae 11.0076 | Time(s) 2.4254\n",
      "Epoch 00089 | Loss 13.3709 | mae 11.0084 | Time(s) 2.4429\n",
      "Epoch 00090 | Loss 13.0103 | mae 7.3671 | Time(s) 2.3262\n",
      "Epoch 00091 | Loss 12.7351 | mae 7.3613 | Time(s) 2.3416\n",
      "Epoch 00092 | Loss 12.4007 | mae 7.3463 | Time(s) 2.2429\n",
      "Epoch 00093 | Loss 12.6107 | mae 7.3375 | Time(s) 2.4000\n",
      "Epoch 00094 | Loss 12.0985 | mae 7.3235 | Time(s) 2.2583\n",
      "Epoch 00095 | Loss 11.6636 | mae 7.3059 | Time(s) 2.3751\n",
      "Epoch 00096 | Loss 12.0268 | mae 7.2951 | Time(s) 2.3410\n",
      "Epoch 00097 | Loss 11.8400 | mae 7.2785 | Time(s) 2.3957\n",
      "Epoch 00098 | Loss 11.5243 | mae 7.2509 | Time(s) 2.2904\n",
      "Epoch 00099 | Loss 11.2471 | mae 7.2322 | Time(s) 2.4595\n"
     ]
    },
    {
     "data": {
      "image/png": "[encoded data removed]",
      "text/plain": [
       "<Figure size 640x480 with 1 Axes>"
      ]
     },
     "metadata": {},
     "output_type": "display_data"
    },
    {
     "data": {
      "image/png": "[encoded data removed]",
      "text/plain": [
       "<Figure size 640x480 with 1 Axes>"
      ]
     },
     "metadata": {},
     "output_type": "display_data"
    }
   ],
   "source": [
    "import time\n",
    "\n",
    "import numpy as np\n",
    "model = Net(num_features, 9, num_classes)\n",
    "g = graph\n",
    "features = node_features\n",
    "labels = node_labels\n",
    "train_mask = torch.BoolTensor(np.isin(ind, train_nids))\n",
    "test_mask = torch.BoolTensor(np.isin(ind, test_nids))\n",
    "# Add edges between each node and itself to preserve old node representations\n",
    "g.add_edges(g.nodes(), g.nodes())\n",
    "optimizer = th.optim.Adam(model.parameters(), lr=1e-2)\n",
    "train_loss = []\n",
    "train_mae = []\n",
    "num_epochs = 100\n",
    "best_mae = 10**10\n",
    "for epoch in range(num_epochs):\n",
    "    t0 = time.time()\n",
    "    model.train()\n",
    "    logits = model(g, features)\n",
    "    logp = F.log_softmax(logits, 1)\n",
    "    loss = F.nll_loss(logp[train_mask], labels[train_mask])\n",
    "    train_loss.append(loss.item())\n",
    "    train_mae.append(sklearn.metrics.mean_absolute_error(predict(g, features, labels, train_mask, model).numpy(), labels[train_mask].numpy()))\n",
    "    optimizer.zero_grad()\n",
    "    loss.backward()\n",
    "    optimizer.step()\n",
    "    print(\n",
    "        \"Epoch {:05d} | Loss {:.4f} | mae {:.4f} | Time(s) {:.4f}\".format(\n",
    "            epoch, loss.item(), train_mae[-1], time.time() - t0\n",
    "        )\n",
    "    )\n",
    "    if best_mae > train_mae[-1]:\n",
    "        best_mae = train_mae[-1]\n",
    "        torch.save(model.state_dict(), best_model_path)\n",
    "# plot loss\n",
    "plt.plot(train_loss)\n",
    "plt.title('GCN loss')\n",
    "plt.ylabel('loss')\n",
    "plt.xlabel('epoch')\n",
    "plt.show()\n",
    "# plot accuracy\n",
    "plt.plot(train_mae)\n",
    "plt.title('GCN mae')\n",
    "plt.ylabel('mae')\n",
    "plt.xlabel('epoch')\n",
    "plt.show()"
   ]
  },
  {
   "cell_type": "code",
   "execution_count": 40,
   "metadata": {},
   "outputs": [
    {
     "data": {
      "text/plain": [
       "<All keys matched successfully>"
      ]
     },
     "execution_count": 40,
     "metadata": {},
     "output_type": "execute_result"
    }
   ],
   "source": [
    "model.load_state_dict(torch.load(best_model_path))"
   ]
  },
  {
   "cell_type": "code",
   "execution_count": 41,
   "metadata": {},
   "outputs": [
    {
     "name": "stdout",
     "output_type": "stream",
     "text": [
      "Test MAE: 7.242944612569498\n"
     ]
    }
   ],
   "source": [
    "test_predictions = predict(g, features, labels, test_mask, model)\n",
    "test_labels = node_labels[test_nids]\n",
    "test_mae = sklearn.metrics.mean_absolute_error(test_predictions.numpy(), test_labels.numpy())\n",
    "print('Test MAE:', test_mae)"
   ]
  }
 ],
 "metadata": {
  "kernelspec": {
   "display_name": "sna_env",
   "language": "python",
   "name": "python3"
  },
  "language_info": {
   "codemirror_mode": {
    "name": "ipython",
    "version": 3
   },
   "file_extension": ".py",
   "mimetype": "text/x-python",
   "name": "python",
   "nbconvert_exporter": "python",
   "pygments_lexer": "ipython3",
   "version": "3.9.6"
  }
 },
 "nbformat": 4,
 "nbformat_minor": 2
}
