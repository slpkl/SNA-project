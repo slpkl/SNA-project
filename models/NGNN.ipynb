{
 "cells": [
  {
   "cell_type": "code",
   "execution_count": 2,
   "metadata": {},
   "outputs": [],
   "source": [
    "import dgl\n",
    "import dgl.function as fn\n",
    "import torch as th\n",
    "import torch.nn as nn\n",
    "import torch.nn.functional as F\n",
    "from dgl import DGLGraph\n",
    "import pandas as pd\n",
    "import torch\n",
    "import sklearn.metrics\n",
    "import matplotlib.pyplot as plt\n",
    "import torch.nn as nn\n",
    "import torch.nn.functional as F\n",
    "import torch.nn.init as init"
   ]
  },
  {
   "cell_type": "code",
   "execution_count": 3,
   "metadata": {},
   "outputs": [],
   "source": [
    "df = pd.read_csv(\"pokec-df-processed2.csv\", index_col=0)"
   ]
  },
  {
   "cell_type": "code",
   "execution_count": 4,
   "metadata": {},
   "outputs": [],
   "source": [
    "edges = pd.read_csv(\"pokec-edges-processed2.csv\", index_col=0)"
   ]
  },
  {
   "cell_type": "code",
   "execution_count": 5,
   "metadata": {},
   "outputs": [],
   "source": [
    "# фичи и возраст\n",
    "node_features = df.loc[:, df.columns != 'AGE'].values\n",
    "node_labels = df.loc[:, df.columns == 'AGE'].values.flatten()\n",
    "node_features = torch.FloatTensor(node_features)\n",
    "node_labels = torch.LongTensor(node_labels)"
   ]
  },
  {
   "cell_type": "code",
   "execution_count": 6,
   "metadata": {},
   "outputs": [],
   "source": [
    "num_features = node_features.shape[1]\n",
    "num_classes = (node_labels.max() + 1).item()"
   ]
  },
  {
   "cell_type": "code",
   "execution_count": 7,
   "metadata": {},
   "outputs": [],
   "source": [
    "graph = dgl.graph((edges.values[:, 0], edges.values[:, 1]))"
   ]
  },
  {
   "cell_type": "code",
   "execution_count": 8,
   "metadata": {},
   "outputs": [],
   "source": [
    "ind = df.index.values\n",
    "with open('train2.txt', 'r') as file:\n",
    "    train_nids = [int(x) for x in file]\n",
    "with open('test2.txt', 'r') as file:\n",
    "    test_nids = [int(x) for x in file]"
   ]
  },
  {
   "cell_type": "code",
   "execution_count": 9,
   "metadata": {},
   "outputs": [],
   "source": [
    "from dgl.nn import GraphConv\n",
    "\n",
    "class NGNN_GCNConv(torch.nn.Module):\n",
    "    def __init__(self, input_channels, hidden_channels, output_channels):\n",
    "        super(NGNN_GCNConv, self).__init__()\n",
    "        self.conv = GraphConv(input_channels, hidden_channels)\n",
    "        self.fc = nn.Linear(hidden_channels, output_channels)\n",
    "\n",
    "    def forward(self, g, x, edge_weight=None):\n",
    "        x = self.conv(g, x, edge_weight)\n",
    "        x = F.relu(x)\n",
    "        x = self.fc(x)\n",
    "        return x"
   ]
  },
  {
   "cell_type": "code",
   "execution_count": 10,
   "metadata": {},
   "outputs": [],
   "source": [
    "class NGNN_GCN(nn.Module):\n",
    "    def __init__(self, input_channels, hidden_channels, output_channels):\n",
    "        super(NGNN_GCN, self).__init__()\n",
    "        self.conv1 = NGNN_GCNConv(input_channels, hidden_channels, hidden_channels)\n",
    "        self.conv2 = GraphConv(hidden_channels, output_channels)\n",
    "        self.dropout = nn.Dropout(p=0.5)\n",
    "\n",
    "    def forward(self, g, input_channels):\n",
    "        h = self.conv1(g, input_channels)\n",
    "        h = F.relu(h)\n",
    "        h = self.dropout(h)\n",
    "        h = self.conv2(g, h)\n",
    "        return h"
   ]
  },
  {
   "cell_type": "code",
   "execution_count": 11,
   "metadata": {},
   "outputs": [],
   "source": [
    "def predict(g, features, labels, mask, model):\n",
    "    model.eval()\n",
    "    with torch.no_grad():\n",
    "        logits = model(g, features)\n",
    "        logits = logits[mask]\n",
    "        labels = labels[mask]\n",
    "        _, indices = torch.max(logits, dim=1)\n",
    "        return indices"
   ]
  },
  {
   "cell_type": "code",
   "execution_count": 13,
   "metadata": {},
   "outputs": [],
   "source": [
    "best_model_path = 'NGNN_model.pt'"
   ]
  },
  {
   "cell_type": "code",
   "execution_count": 14,
   "metadata": {},
   "outputs": [
    {
     "name": "stdout",
     "output_type": "stream",
     "text": [
      "Epoch 00000 | Loss 10.0369 | mae 48.8254 | Time(s) 2.8040\n",
      "Epoch 00001 | Loss 8.3020 | mae 47.6258 | Time(s) 2.3045\n",
      "Epoch 00002 | Loss 7.0572 | mae 44.3575 | Time(s) 2.5688\n",
      "Epoch 00003 | Loss 6.1926 | mae 40.9284 | Time(s) 2.3872\n",
      "Epoch 00004 | Loss 5.5950 | mae 36.9534 | Time(s) 2.3536\n",
      "Epoch 00005 | Loss 5.1695 | mae 32.0145 | Time(s) 2.3112\n",
      "Epoch 00006 | Loss 4.8687 | mae 25.7758 | Time(s) 2.4619\n",
      "Epoch 00007 | Loss 4.6507 | mae 7.9018 | Time(s) 2.2220\n",
      "Epoch 00008 | Loss 4.4886 | mae 7.4268 | Time(s) 2.2861\n",
      "Epoch 00009 | Loss 4.3753 | mae 7.3476 | Time(s) 2.7439\n",
      "Epoch 00010 | Loss 4.2850 | mae 7.2480 | Time(s) 2.3420\n",
      "Epoch 00011 | Loss 4.2112 | mae 7.1152 | Time(s) 2.3666\n",
      "Epoch 00012 | Loss 4.1435 | mae 7.0480 | Time(s) 2.2680\n",
      "Epoch 00013 | Loss 4.0803 | mae 6.9616 | Time(s) 2.3277\n",
      "Epoch 00014 | Loss 4.0194 | mae 6.9247 | Time(s) 2.4540\n",
      "Epoch 00015 | Loss 3.9681 | mae 6.9247 | Time(s) 2.2907\n",
      "Epoch 00016 | Loss 3.9267 | mae 6.9388 | Time(s) 2.3758\n",
      "Epoch 00017 | Loss 3.8831 | mae 6.9680 | Time(s) 2.3082\n",
      "Epoch 00018 | Loss 3.8412 | mae 7.0437 | Time(s) 2.1727\n",
      "Epoch 00019 | Loss 3.8054 | mae 7.0829 | Time(s) 2.3137\n",
      "Epoch 00020 | Loss 3.7748 | mae 7.0837 | Time(s) 2.4617\n",
      "Epoch 00021 | Loss 3.7534 | mae 7.0741 | Time(s) 2.2585\n",
      "Epoch 00022 | Loss 3.7392 | mae 7.1332 | Time(s) 2.4902\n",
      "Epoch 00023 | Loss 3.7266 | mae 7.2508 | Time(s) 2.4410\n",
      "Epoch 00024 | Loss 3.7161 | mae 7.2637 | Time(s) 2.3454\n",
      "Epoch 00025 | Loss 3.7090 | mae 7.2605 | Time(s) 2.5615\n",
      "Epoch 00026 | Loss 3.6990 | mae 7.2478 | Time(s) 2.3547\n",
      "Epoch 00027 | Loss 3.6875 | mae 7.2274 | Time(s) 2.5954\n",
      "Epoch 00028 | Loss 3.6796 | mae 7.1975 | Time(s) 2.3829\n",
      "Epoch 00029 | Loss 3.6712 | mae 7.1602 | Time(s) 2.6935\n",
      "Epoch 00030 | Loss 3.6636 | mae 7.1371 | Time(s) 2.3237\n",
      "Epoch 00031 | Loss 3.6563 | mae 7.1716 | Time(s) 2.2516\n",
      "Epoch 00032 | Loss 3.6488 | mae 7.0620 | Time(s) 2.2376\n",
      "Epoch 00033 | Loss 3.6427 | mae 7.0562 | Time(s) 2.5261\n",
      "Epoch 00034 | Loss 3.6376 | mae 7.0531 | Time(s) 2.2505\n",
      "Epoch 00035 | Loss 3.6312 | mae 7.0440 | Time(s) 2.2928\n",
      "Epoch 00036 | Loss 3.6264 | mae 7.0288 | Time(s) 2.5912\n",
      "Epoch 00037 | Loss 3.6201 | mae 7.0133 | Time(s) 2.0856\n",
      "Epoch 00038 | Loss 3.6152 | mae 7.0236 | Time(s) 2.2791\n",
      "Epoch 00039 | Loss 3.6107 | mae 7.0389 | Time(s) 2.2005\n",
      "Epoch 00040 | Loss 3.6062 | mae 7.0529 | Time(s) 2.0937\n",
      "Epoch 00041 | Loss 3.6036 | mae 7.1099 | Time(s) 2.3152\n",
      "Epoch 00042 | Loss 3.6005 | mae 7.1867 | Time(s) 2.1627\n",
      "Epoch 00043 | Loss 3.5984 | mae 7.2531 | Time(s) 2.2059\n",
      "Epoch 00044 | Loss 3.5953 | mae 7.2767 | Time(s) 2.1227\n",
      "Epoch 00045 | Loss 3.5926 | mae 7.2725 | Time(s) 2.2101\n",
      "Epoch 00046 | Loss 3.5906 | mae 7.2474 | Time(s) 2.2324\n",
      "Epoch 00047 | Loss 3.5881 | mae 7.2045 | Time(s) 2.7014\n",
      "Epoch 00048 | Loss 3.5853 | mae 7.1598 | Time(s) 2.2797\n",
      "Epoch 00049 | Loss 3.5830 | mae 7.1364 | Time(s) 2.5218\n",
      "Epoch 00050 | Loss 3.5807 | mae 7.1114 | Time(s) 2.6079\n",
      "Epoch 00051 | Loss 3.5792 | mae 7.1025 | Time(s) 2.2933\n",
      "Epoch 00052 | Loss 3.5770 | mae 7.1021 | Time(s) 2.2529\n",
      "Epoch 00053 | Loss 3.5756 | mae 7.1091 | Time(s) 2.2356\n",
      "Epoch 00054 | Loss 3.5739 | mae 7.1197 | Time(s) 2.2725\n",
      "Epoch 00055 | Loss 3.5727 | mae 7.1348 | Time(s) 2.3375\n",
      "Epoch 00056 | Loss 3.5714 | mae 7.1656 | Time(s) 2.2200\n",
      "Epoch 00057 | Loss 3.5700 | mae 7.1965 | Time(s) 2.3933\n",
      "Epoch 00058 | Loss 3.5681 | mae 7.2251 | Time(s) 2.3913\n",
      "Epoch 00059 | Loss 3.5678 | mae 7.2482 | Time(s) 2.3064\n",
      "Epoch 00060 | Loss 3.5666 | mae 7.2623 | Time(s) 2.2538\n",
      "Epoch 00061 | Loss 3.5654 | mae 7.2576 | Time(s) 2.4321\n",
      "Epoch 00062 | Loss 3.5650 | mae 7.2403 | Time(s) 2.2209\n",
      "Epoch 00063 | Loss 3.5641 | mae 7.2183 | Time(s) 2.5405\n",
      "Epoch 00064 | Loss 3.5628 | mae 7.1960 | Time(s) 2.4087\n",
      "Epoch 00065 | Loss 3.5615 | mae 7.1763 | Time(s) 2.1997\n",
      "Epoch 00066 | Loss 3.5615 | mae 7.1586 | Time(s) 2.3668\n",
      "Epoch 00067 | Loss 3.5601 | mae 7.1433 | Time(s) 2.2038\n",
      "Epoch 00068 | Loss 3.5594 | mae 7.1329 | Time(s) 2.4364\n",
      "Epoch 00069 | Loss 3.5586 | mae 7.1281 | Time(s) 2.2296\n",
      "Epoch 00070 | Loss 3.5576 | mae 7.1291 | Time(s) 2.3542\n",
      "Epoch 00071 | Loss 3.5578 | mae 7.1365 | Time(s) 2.2012\n",
      "Epoch 00072 | Loss 3.5571 | mae 7.1480 | Time(s) 2.2921\n",
      "Epoch 00073 | Loss 3.5562 | mae 7.1613 | Time(s) 2.1646\n",
      "Epoch 00074 | Loss 3.5552 | mae 7.1743 | Time(s) 2.3815\n",
      "Epoch 00075 | Loss 3.5549 | mae 7.1849 | Time(s) 2.2015\n",
      "Epoch 00076 | Loss 3.5543 | mae 7.1927 | Time(s) 2.2588\n",
      "Epoch 00077 | Loss 3.5533 | mae 7.1965 | Time(s) 2.6194\n",
      "Epoch 00078 | Loss 3.5534 | mae 7.1957 | Time(s) 2.2074\n",
      "Epoch 00079 | Loss 3.5529 | mae 7.1903 | Time(s) 2.2871\n",
      "Epoch 00080 | Loss 3.5524 | mae 7.1821 | Time(s) 2.4163\n",
      "Epoch 00081 | Loss 3.5517 | mae 7.1711 | Time(s) 2.1398\n",
      "Epoch 00082 | Loss 3.5518 | mae 7.1592 | Time(s) 2.4945\n",
      "Epoch 00083 | Loss 3.5509 | mae 7.1488 | Time(s) 2.3044\n",
      "Epoch 00084 | Loss 3.5503 | mae 7.1419 | Time(s) 2.3046\n",
      "Epoch 00085 | Loss 3.5501 | mae 7.1384 | Time(s) 2.2690\n",
      "Epoch 00086 | Loss 3.5491 | mae 7.1380 | Time(s) 2.1497\n",
      "Epoch 00087 | Loss 3.5494 | mae 7.1401 | Time(s) 2.1744\n",
      "Epoch 00088 | Loss 3.5491 | mae 7.1429 | Time(s) 2.3816\n",
      "Epoch 00089 | Loss 3.5485 | mae 7.1453 | Time(s) 2.1926\n",
      "Epoch 00090 | Loss 3.5487 | mae 7.1462 | Time(s) 2.4121\n",
      "Epoch 00091 | Loss 3.5474 | mae 7.1450 | Time(s) 2.4320\n",
      "Epoch 00092 | Loss 3.5468 | mae 7.1428 | Time(s) 2.1508\n",
      "Epoch 00093 | Loss 3.5464 | mae 7.1401 | Time(s) 2.2544\n",
      "Epoch 00094 | Loss 3.5465 | mae 7.1361 | Time(s) 2.2142\n",
      "Epoch 00095 | Loss 3.5452 | mae 7.1313 | Time(s) 2.3517\n",
      "Epoch 00096 | Loss 3.5451 | mae 7.1251 | Time(s) 2.2263\n",
      "Epoch 00097 | Loss 3.5450 | mae 7.1178 | Time(s) 2.2677\n",
      "Epoch 00098 | Loss 3.5440 | mae 7.1088 | Time(s) 2.2113\n",
      "Epoch 00099 | Loss 3.5440 | mae 7.1000 | Time(s) 2.2810\n"
     ]
    },
    {
     "data": {
      "image/png": "[encoded data removed]",
      "text/plain": [
       "<Figure size 640x480 with 1 Axes>"
      ]
     },
     "metadata": {},
     "output_type": "display_data"
    },
    {
     "data": {
      "image/png": "[encoded data removed]",
      "text/plain": [
       "<Figure size 640x480 with 1 Axes>"
      ]
     },
     "metadata": {},
     "output_type": "display_data"
    }
   ],
   "source": [
    "import time\n",
    "\n",
    "import numpy as np\n",
    "model = NGNN_GCN(num_features, 9, num_classes)\n",
    "g = graph\n",
    "features = node_features\n",
    "labels = node_labels\n",
    "train_mask = torch.BoolTensor(np.isin(ind, train_nids))\n",
    "test_mask = torch.BoolTensor(np.isin(ind, test_nids))\n",
    "best_mae = 10**10\n",
    "# Add edges between each node and itself to preserve old node representations\n",
    "g.add_edges(g.nodes(), g.nodes())\n",
    "optimizer = th.optim.Adam(model.parameters(), lr=1e-2)\n",
    "train_loss = []\n",
    "train_mae = []\n",
    "num_epochs = 100\n",
    "for epoch in range(num_epochs):\n",
    "    t0 = time.time()\n",
    "    model.train()\n",
    "    logits = model(g, features)\n",
    "    logp = F.log_softmax(logits, 1)\n",
    "    loss = F.nll_loss(logp[train_mask], labels[train_mask])\n",
    "    train_loss.append(loss.item())\n",
    "    train_mae.append(sklearn.metrics.mean_absolute_error(predict(g, features, labels, train_mask, model).numpy(), labels[train_mask].numpy()))\n",
    "    optimizer.zero_grad()\n",
    "    loss.backward()\n",
    "    optimizer.step()\n",
    "    print(\n",
    "        \"Epoch {:05d} | Loss {:.4f} | mae {:.4f} | Time(s) {:.4f}\".format(\n",
    "            epoch, loss.item(), train_mae[-1], time.time() - t0\n",
    "        )\n",
    "    )\n",
    "    if best_mae > train_mae[-1]:\n",
    "        best_mae = train_mae[-1]\n",
    "        torch.save(model.state_dict(), best_model_path)\n",
    "# plot loss\n",
    "plt.plot(train_loss)\n",
    "plt.title('NGNN loss')\n",
    "plt.ylabel('loss')\n",
    "plt.xlabel('epoch')\n",
    "plt.show()\n",
    "# plot accuracy\n",
    "plt.plot(train_mae)\n",
    "plt.title('NGNN mae')\n",
    "plt.ylabel('mae')\n",
    "plt.xlabel('epoch')\n",
    "plt.show()"
   ]
  },
  {
   "cell_type": "code",
   "execution_count": 17,
   "metadata": {},
   "outputs": [
    {
     "data": {
      "text/plain": [
       "<All keys matched successfully>"
      ]
     },
     "execution_count": 17,
     "metadata": {},
     "output_type": "execute_result"
    }
   ],
   "source": [
    "model.load_state_dict(torch.load(best_model_path))"
   ]
  },
  {
   "cell_type": "code",
   "execution_count": 18,
   "metadata": {},
   "outputs": [
    {
     "name": "stdout",
     "output_type": "stream",
     "text": [
      "Test MAE: 6.930888873249349\n"
     ]
    }
   ],
   "source": [
    "test_predictions = predict(g, features, labels, test_mask, model)\n",
    "test_labels = node_labels[test_nids]\n",
    "test_mae = sklearn.metrics.mean_absolute_error(test_predictions.numpy(), test_labels.numpy())\n",
    "print('Test MAE:', test_mae)"
   ]
  }
 ],
 "metadata": {
  "kernelspec": {
   "display_name": "sna_env",
   "language": "python",
   "name": "python3"
  },
  "language_info": {
   "codemirror_mode": {
    "name": "ipython",
    "version": 3
   },
   "file_extension": ".py",
   "mimetype": "text/x-python",
   "name": "python",
   "nbconvert_exporter": "python",
   "pygments_lexer": "ipython3",
   "version": "3.9.6"
  }
 },
 "nbformat": 4,
 "nbformat_minor": 2
}
